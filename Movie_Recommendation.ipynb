{
  "nbformat": 4,
  "nbformat_minor": 0,
  "metadata": {
    "colab": {
      "provenance": [],
      "toc_visible": true
    },
    "kernelspec": {
      "name": "python3",
      "display_name": "Python 3"
    },
    "language_info": {
      "name": "python"
    }
  },
  "cells": [
    {
      "cell_type": "markdown",
      "source": [
        "# **Movie Recommendation System**"
      ],
      "metadata": {
        "id": "dqZ-nhxiganh"
      }
    },
    {
      "cell_type": "markdown",
      "source": [
        "-------------"
      ],
      "metadata": {
        "id": "gScHkw6jjrLo"
      }
    },
    {
      "cell_type": "markdown",
      "source": [
        "## **Objective**"
      ],
      "metadata": {
        "id": "Xns_rCdhh-vZ"
      }
    },
    {
      "cell_type": "markdown",
      "source": [
        "Recommender System is a system that seeks to predict or filter preferences according to the user's choices. Recommender systems are\n",
        "utilized in a variety of areas including movies, music, news, books, research articles, search queries, social tags, and products in general.Recommender systems produce a list of recommendations in any of the two ways-\n",
        "\n",
        "Collaborative filtering: Collaborative filtering approaches build a model from the user's past behavior (i.e. items purchased or searched by the user) as well as similar decisions made by other users. This model is then used to predict items (or ratings for items) that users may have an interest in.\n",
        "\n",
        "Content-based filtering: Content-based filtering approaches uses a series of discrete characteristics of an item in order to recommend additional items with similar properties. Content-based filtering methods are totally based on a description of the item and a profile of the user's preferences. It recommends items based on the user's past preferences. Let's develop a basic recommendation system using Python and Pandas.\n",
        "\n",
        "Let's develop a basic recommendation system by suggesting items that are most similar to a particular item, in this case, movies. It just tells what movies/items are most similar to the user's movie choice.\n",
        "\n",
        "\n"
      ],
      "metadata": {
        "id": "9sPvnFM1iI9l"
      }
    },
    {
      "cell_type": "markdown",
      "source": [
        "## **Data Source**"
      ],
      "metadata": {
        "id": "-Vbnt9CciKJP"
      }
    },
    {
      "cell_type": "markdown",
      "source": [
        "https://github.com/YBI-Foundation/Dataset/raw/main/Movies%20Recommendation.csv"
      ],
      "metadata": {
        "id": "sGcv5WqQiNyl"
      }
    },
    {
      "cell_type": "markdown",
      "source": [
        "## **Import Library**"
      ],
      "metadata": {
        "id": "r7GrZzX0iTlV"
      }
    },
    {
      "cell_type": "code",
      "source": [
        "import pandas as pd"
      ],
      "metadata": {
        "id": "UkK6NH9DiW-X"
      },
      "execution_count": 1,
      "outputs": []
    },
    {
      "cell_type": "code",
      "source": [
        "import numpy as np"
      ],
      "metadata": {
        "id": "4s27f75_BpPi"
      },
      "execution_count": 2,
      "outputs": []
    },
    {
      "cell_type": "markdown",
      "source": [
        "## **Import Data**"
      ],
      "metadata": {
        "id": "9lHPQj1XiOUc"
      }
    },
    {
      "cell_type": "code",
      "source": [
        "movie_df = pd.read_csv(r'https://github.com/YBI-Foundation/Dataset/raw/main/Movies%20Recommendation.csv')"
      ],
      "metadata": {
        "id": "zcU1fdnGho6M"
      },
      "execution_count": 3,
      "outputs": []
    },
    {
      "cell_type": "markdown",
      "source": [
        "## **Describe Data**"
      ],
      "metadata": {
        "id": "7PUnimBoiX-x"
      }
    },
    {
      "cell_type": "code",
      "source": [
        "movie_df.describe()"
      ],
      "metadata": {
        "id": "kG15arusiZ8Z",
        "colab": {
          "base_uri": "https://localhost:8080/",
          "height": 300
        },
        "outputId": "304a2a49-c08d-4365-d898-278c4966fc07"
      },
      "execution_count": 5,
      "outputs": [
        {
          "output_type": "execute_result",
          "data": {
            "text/plain": [
              "          Movie_ID  Movie_Budget  Movie_Popularity  Movie_Revenue  \\\n",
              "count  4760.000000  4.760000e+03       4760.000000   4.760000e+03   \n",
              "mean   2382.566387  2.920129e+07         21.599510   8.263743e+07   \n",
              "std    1377.270159  4.075620e+07         31.887919   1.630554e+08   \n",
              "min       1.000000  0.000000e+00          0.000372   0.000000e+00   \n",
              "25%    1190.750000  9.257500e+05          4.807074   0.000000e+00   \n",
              "50%    2380.500000  1.500000e+07         13.119058   1.944716e+07   \n",
              "75%    3572.250000  4.000000e+07         28.411929   9.341276e+07   \n",
              "max    4788.000000  3.800000e+08        875.581305   2.787965e+09   \n",
              "\n",
              "       Movie_Runtime   Movie_Vote  Movie_Vote_Count  \n",
              "count    4758.000000  4760.000000       4760.000000  \n",
              "mean      107.184111     6.113866        692.508403  \n",
              "std        21.960332     1.141294       1235.007337  \n",
              "min         0.000000     0.000000          0.000000  \n",
              "25%        94.000000     5.600000         55.000000  \n",
              "50%       104.000000     6.200000        238.000000  \n",
              "75%       118.000000     6.800000        740.250000  \n",
              "max       338.000000    10.000000      13752.000000  "
            ],
            "text/html": [
              "\n",
              "  <div id=\"df-29b65a90-f796-47c7-81b2-21632fdf831b\" class=\"colab-df-container\">\n",
              "    <div>\n",
              "<style scoped>\n",
              "    .dataframe tbody tr th:only-of-type {\n",
              "        vertical-align: middle;\n",
              "    }\n",
              "\n",
              "    .dataframe tbody tr th {\n",
              "        vertical-align: top;\n",
              "    }\n",
              "\n",
              "    .dataframe thead th {\n",
              "        text-align: right;\n",
              "    }\n",
              "</style>\n",
              "<table border=\"1\" class=\"dataframe\">\n",
              "  <thead>\n",
              "    <tr style=\"text-align: right;\">\n",
              "      <th></th>\n",
              "      <th>Movie_ID</th>\n",
              "      <th>Movie_Budget</th>\n",
              "      <th>Movie_Popularity</th>\n",
              "      <th>Movie_Revenue</th>\n",
              "      <th>Movie_Runtime</th>\n",
              "      <th>Movie_Vote</th>\n",
              "      <th>Movie_Vote_Count</th>\n",
              "    </tr>\n",
              "  </thead>\n",
              "  <tbody>\n",
              "    <tr>\n",
              "      <th>count</th>\n",
              "      <td>4760.000000</td>\n",
              "      <td>4.760000e+03</td>\n",
              "      <td>4760.000000</td>\n",
              "      <td>4.760000e+03</td>\n",
              "      <td>4758.000000</td>\n",
              "      <td>4760.000000</td>\n",
              "      <td>4760.000000</td>\n",
              "    </tr>\n",
              "    <tr>\n",
              "      <th>mean</th>\n",
              "      <td>2382.566387</td>\n",
              "      <td>2.920129e+07</td>\n",
              "      <td>21.599510</td>\n",
              "      <td>8.263743e+07</td>\n",
              "      <td>107.184111</td>\n",
              "      <td>6.113866</td>\n",
              "      <td>692.508403</td>\n",
              "    </tr>\n",
              "    <tr>\n",
              "      <th>std</th>\n",
              "      <td>1377.270159</td>\n",
              "      <td>4.075620e+07</td>\n",
              "      <td>31.887919</td>\n",
              "      <td>1.630554e+08</td>\n",
              "      <td>21.960332</td>\n",
              "      <td>1.141294</td>\n",
              "      <td>1235.007337</td>\n",
              "    </tr>\n",
              "    <tr>\n",
              "      <th>min</th>\n",
              "      <td>1.000000</td>\n",
              "      <td>0.000000e+00</td>\n",
              "      <td>0.000372</td>\n",
              "      <td>0.000000e+00</td>\n",
              "      <td>0.000000</td>\n",
              "      <td>0.000000</td>\n",
              "      <td>0.000000</td>\n",
              "    </tr>\n",
              "    <tr>\n",
              "      <th>25%</th>\n",
              "      <td>1190.750000</td>\n",
              "      <td>9.257500e+05</td>\n",
              "      <td>4.807074</td>\n",
              "      <td>0.000000e+00</td>\n",
              "      <td>94.000000</td>\n",
              "      <td>5.600000</td>\n",
              "      <td>55.000000</td>\n",
              "    </tr>\n",
              "    <tr>\n",
              "      <th>50%</th>\n",
              "      <td>2380.500000</td>\n",
              "      <td>1.500000e+07</td>\n",
              "      <td>13.119058</td>\n",
              "      <td>1.944716e+07</td>\n",
              "      <td>104.000000</td>\n",
              "      <td>6.200000</td>\n",
              "      <td>238.000000</td>\n",
              "    </tr>\n",
              "    <tr>\n",
              "      <th>75%</th>\n",
              "      <td>3572.250000</td>\n",
              "      <td>4.000000e+07</td>\n",
              "      <td>28.411929</td>\n",
              "      <td>9.341276e+07</td>\n",
              "      <td>118.000000</td>\n",
              "      <td>6.800000</td>\n",
              "      <td>740.250000</td>\n",
              "    </tr>\n",
              "    <tr>\n",
              "      <th>max</th>\n",
              "      <td>4788.000000</td>\n",
              "      <td>3.800000e+08</td>\n",
              "      <td>875.581305</td>\n",
              "      <td>2.787965e+09</td>\n",
              "      <td>338.000000</td>\n",
              "      <td>10.000000</td>\n",
              "      <td>13752.000000</td>\n",
              "    </tr>\n",
              "  </tbody>\n",
              "</table>\n",
              "</div>\n",
              "    <div class=\"colab-df-buttons\">\n",
              "\n",
              "  <div class=\"colab-df-container\">\n",
              "    <button class=\"colab-df-convert\" onclick=\"convertToInteractive('df-29b65a90-f796-47c7-81b2-21632fdf831b')\"\n",
              "            title=\"Convert this dataframe to an interactive table.\"\n",
              "            style=\"display:none;\">\n",
              "\n",
              "  <svg xmlns=\"http://www.w3.org/2000/svg\" height=\"24px\" viewBox=\"0 -960 960 960\">\n",
              "    <path d=\"M120-120v-720h720v720H120Zm60-500h600v-160H180v160Zm220 220h160v-160H400v160Zm0 220h160v-160H400v160ZM180-400h160v-160H180v160Zm440 0h160v-160H620v160ZM180-180h160v-160H180v160Zm440 0h160v-160H620v160Z\"/>\n",
              "  </svg>\n",
              "    </button>\n",
              "\n",
              "  <style>\n",
              "    .colab-df-container {\n",
              "      display:flex;\n",
              "      gap: 12px;\n",
              "    }\n",
              "\n",
              "    .colab-df-convert {\n",
              "      background-color: #E8F0FE;\n",
              "      border: none;\n",
              "      border-radius: 50%;\n",
              "      cursor: pointer;\n",
              "      display: none;\n",
              "      fill: #1967D2;\n",
              "      height: 32px;\n",
              "      padding: 0 0 0 0;\n",
              "      width: 32px;\n",
              "    }\n",
              "\n",
              "    .colab-df-convert:hover {\n",
              "      background-color: #E2EBFA;\n",
              "      box-shadow: 0px 1px 2px rgba(60, 64, 67, 0.3), 0px 1px 3px 1px rgba(60, 64, 67, 0.15);\n",
              "      fill: #174EA6;\n",
              "    }\n",
              "\n",
              "    .colab-df-buttons div {\n",
              "      margin-bottom: 4px;\n",
              "    }\n",
              "\n",
              "    [theme=dark] .colab-df-convert {\n",
              "      background-color: #3B4455;\n",
              "      fill: #D2E3FC;\n",
              "    }\n",
              "\n",
              "    [theme=dark] .colab-df-convert:hover {\n",
              "      background-color: #434B5C;\n",
              "      box-shadow: 0px 1px 3px 1px rgba(0, 0, 0, 0.15);\n",
              "      filter: drop-shadow(0px 1px 2px rgba(0, 0, 0, 0.3));\n",
              "      fill: #FFFFFF;\n",
              "    }\n",
              "  </style>\n",
              "\n",
              "    <script>\n",
              "      const buttonEl =\n",
              "        document.querySelector('#df-29b65a90-f796-47c7-81b2-21632fdf831b button.colab-df-convert');\n",
              "      buttonEl.style.display =\n",
              "        google.colab.kernel.accessAllowed ? 'block' : 'none';\n",
              "\n",
              "      async function convertToInteractive(key) {\n",
              "        const element = document.querySelector('#df-29b65a90-f796-47c7-81b2-21632fdf831b');\n",
              "        const dataTable =\n",
              "          await google.colab.kernel.invokeFunction('convertToInteractive',\n",
              "                                                    [key], {});\n",
              "        if (!dataTable) return;\n",
              "\n",
              "        const docLinkHtml = 'Like what you see? Visit the ' +\n",
              "          '<a target=\"_blank\" href=https://colab.research.google.com/notebooks/data_table.ipynb>data table notebook</a>'\n",
              "          + ' to learn more about interactive tables.';\n",
              "        element.innerHTML = '';\n",
              "        dataTable['output_type'] = 'display_data';\n",
              "        await google.colab.output.renderOutput(dataTable, element);\n",
              "        const docLink = document.createElement('div');\n",
              "        docLink.innerHTML = docLinkHtml;\n",
              "        element.appendChild(docLink);\n",
              "      }\n",
              "    </script>\n",
              "  </div>\n",
              "\n",
              "\n",
              "<div id=\"df-8bdb1d9b-a257-4673-abeb-79c0e1603fe5\">\n",
              "  <button class=\"colab-df-quickchart\" onclick=\"quickchart('df-8bdb1d9b-a257-4673-abeb-79c0e1603fe5')\"\n",
              "            title=\"Suggest charts\"\n",
              "            style=\"display:none;\">\n",
              "\n",
              "<svg xmlns=\"http://www.w3.org/2000/svg\" height=\"24px\"viewBox=\"0 0 24 24\"\n",
              "     width=\"24px\">\n",
              "    <g>\n",
              "        <path d=\"M19 3H5c-1.1 0-2 .9-2 2v14c0 1.1.9 2 2 2h14c1.1 0 2-.9 2-2V5c0-1.1-.9-2-2-2zM9 17H7v-7h2v7zm4 0h-2V7h2v10zm4 0h-2v-4h2v4z\"/>\n",
              "    </g>\n",
              "</svg>\n",
              "  </button>\n",
              "\n",
              "<style>\n",
              "  .colab-df-quickchart {\n",
              "      --bg-color: #E8F0FE;\n",
              "      --fill-color: #1967D2;\n",
              "      --hover-bg-color: #E2EBFA;\n",
              "      --hover-fill-color: #174EA6;\n",
              "      --disabled-fill-color: #AAA;\n",
              "      --disabled-bg-color: #DDD;\n",
              "  }\n",
              "\n",
              "  [theme=dark] .colab-df-quickchart {\n",
              "      --bg-color: #3B4455;\n",
              "      --fill-color: #D2E3FC;\n",
              "      --hover-bg-color: #434B5C;\n",
              "      --hover-fill-color: #FFFFFF;\n",
              "      --disabled-bg-color: #3B4455;\n",
              "      --disabled-fill-color: #666;\n",
              "  }\n",
              "\n",
              "  .colab-df-quickchart {\n",
              "    background-color: var(--bg-color);\n",
              "    border: none;\n",
              "    border-radius: 50%;\n",
              "    cursor: pointer;\n",
              "    display: none;\n",
              "    fill: var(--fill-color);\n",
              "    height: 32px;\n",
              "    padding: 0;\n",
              "    width: 32px;\n",
              "  }\n",
              "\n",
              "  .colab-df-quickchart:hover {\n",
              "    background-color: var(--hover-bg-color);\n",
              "    box-shadow: 0 1px 2px rgba(60, 64, 67, 0.3), 0 1px 3px 1px rgba(60, 64, 67, 0.15);\n",
              "    fill: var(--button-hover-fill-color);\n",
              "  }\n",
              "\n",
              "  .colab-df-quickchart-complete:disabled,\n",
              "  .colab-df-quickchart-complete:disabled:hover {\n",
              "    background-color: var(--disabled-bg-color);\n",
              "    fill: var(--disabled-fill-color);\n",
              "    box-shadow: none;\n",
              "  }\n",
              "\n",
              "  .colab-df-spinner {\n",
              "    border: 2px solid var(--fill-color);\n",
              "    border-color: transparent;\n",
              "    border-bottom-color: var(--fill-color);\n",
              "    animation:\n",
              "      spin 1s steps(1) infinite;\n",
              "  }\n",
              "\n",
              "  @keyframes spin {\n",
              "    0% {\n",
              "      border-color: transparent;\n",
              "      border-bottom-color: var(--fill-color);\n",
              "      border-left-color: var(--fill-color);\n",
              "    }\n",
              "    20% {\n",
              "      border-color: transparent;\n",
              "      border-left-color: var(--fill-color);\n",
              "      border-top-color: var(--fill-color);\n",
              "    }\n",
              "    30% {\n",
              "      border-color: transparent;\n",
              "      border-left-color: var(--fill-color);\n",
              "      border-top-color: var(--fill-color);\n",
              "      border-right-color: var(--fill-color);\n",
              "    }\n",
              "    40% {\n",
              "      border-color: transparent;\n",
              "      border-right-color: var(--fill-color);\n",
              "      border-top-color: var(--fill-color);\n",
              "    }\n",
              "    60% {\n",
              "      border-color: transparent;\n",
              "      border-right-color: var(--fill-color);\n",
              "    }\n",
              "    80% {\n",
              "      border-color: transparent;\n",
              "      border-right-color: var(--fill-color);\n",
              "      border-bottom-color: var(--fill-color);\n",
              "    }\n",
              "    90% {\n",
              "      border-color: transparent;\n",
              "      border-bottom-color: var(--fill-color);\n",
              "    }\n",
              "  }\n",
              "</style>\n",
              "\n",
              "  <script>\n",
              "    async function quickchart(key) {\n",
              "      const quickchartButtonEl =\n",
              "        document.querySelector('#' + key + ' button');\n",
              "      quickchartButtonEl.disabled = true;  // To prevent multiple clicks.\n",
              "      quickchartButtonEl.classList.add('colab-df-spinner');\n",
              "      try {\n",
              "        const charts = await google.colab.kernel.invokeFunction(\n",
              "            'suggestCharts', [key], {});\n",
              "      } catch (error) {\n",
              "        console.error('Error during call to suggestCharts:', error);\n",
              "      }\n",
              "      quickchartButtonEl.classList.remove('colab-df-spinner');\n",
              "      quickchartButtonEl.classList.add('colab-df-quickchart-complete');\n",
              "    }\n",
              "    (() => {\n",
              "      let quickchartButtonEl =\n",
              "        document.querySelector('#df-8bdb1d9b-a257-4673-abeb-79c0e1603fe5 button');\n",
              "      quickchartButtonEl.style.display =\n",
              "        google.colab.kernel.accessAllowed ? 'block' : 'none';\n",
              "    })();\n",
              "  </script>\n",
              "</div>\n",
              "\n",
              "    </div>\n",
              "  </div>\n"
            ],
            "application/vnd.google.colaboratory.intrinsic+json": {
              "type": "dataframe",
              "summary": "{\n  \"name\": \"movie_df\",\n  \"rows\": 8,\n  \"fields\": [\n    {\n      \"column\": \"Movie_ID\",\n      \"properties\": {\n        \"dtype\": \"number\",\n        \"std\": 1720.2332807214548,\n        \"min\": 1.0,\n        \"max\": 4788.0,\n        \"num_unique_values\": 8,\n        \"samples\": [\n          2382.5663865546217,\n          2380.5,\n          4760.0\n        ],\n        \"semantic_type\": \"\",\n        \"description\": \"\"\n      }\n    },\n    {\n      \"column\": \"Movie_Budget\",\n      \"properties\": {\n        \"dtype\": \"number\",\n        \"std\": 129145160.11869688,\n        \"min\": 0.0,\n        \"max\": 380000000.0,\n        \"num_unique_values\": 8,\n        \"samples\": [\n          29201287.084033612,\n          15000000.0,\n          4760.0\n        ],\n        \"semantic_type\": \"\",\n        \"description\": \"\"\n      }\n    },\n    {\n      \"column\": \"Movie_Popularity\",\n      \"properties\": {\n        \"dtype\": \"number\",\n        \"std\": 1661.1040447605237,\n        \"min\": 0.000372,\n        \"max\": 4760.0,\n        \"num_unique_values\": 8,\n        \"samples\": [\n          21.599509934663867,\n          13.119057999999999,\n          4760.0\n        ],\n        \"semantic_type\": \"\",\n        \"description\": \"\"\n      }\n    },\n    {\n      \"column\": \"Movie_Revenue\",\n      \"properties\": {\n        \"dtype\": \"number\",\n        \"std\": 969366059.9423022,\n        \"min\": 0.0,\n        \"max\": 2787965087.0,\n        \"num_unique_values\": 7,\n        \"samples\": [\n          4760.0,\n          82637425.44285715,\n          93412759.75\n        ],\n        \"semantic_type\": \"\",\n        \"description\": \"\"\n      }\n    },\n    {\n      \"column\": \"Movie_Runtime\",\n      \"properties\": {\n        \"dtype\": \"number\",\n        \"std\": 1645.7876738678387,\n        \"min\": 0.0,\n        \"max\": 4758.0,\n        \"num_unique_values\": 8,\n        \"samples\": [\n          107.18411097099622,\n          104.0,\n          4758.0\n        ],\n        \"semantic_type\": \"\",\n        \"description\": \"\"\n      }\n    },\n    {\n      \"column\": \"Movie_Vote\",\n      \"properties\": {\n        \"dtype\": \"number\",\n        \"std\": 1681.106199712945,\n        \"min\": 0.0,\n        \"max\": 4760.0,\n        \"num_unique_values\": 8,\n        \"samples\": [\n          6.113865546218487,\n          6.2,\n          4760.0\n        ],\n        \"semantic_type\": \"\",\n        \"description\": \"\"\n      }\n    },\n    {\n      \"column\": \"Movie_Vote_Count\",\n      \"properties\": {\n        \"dtype\": \"number\",\n        \"std\": 4732.148341860835,\n        \"min\": 0.0,\n        \"max\": 13752.0,\n        \"num_unique_values\": 8,\n        \"samples\": [\n          692.5084033613446,\n          238.0,\n          4760.0\n        ],\n        \"semantic_type\": \"\",\n        \"description\": \"\"\n      }\n    }\n  ]\n}"
            }
          },
          "metadata": {},
          "execution_count": 5
        }
      ]
    },
    {
      "cell_type": "markdown",
      "source": [
        "## **Data Visualization**"
      ],
      "metadata": {
        "id": "oBGX4Ekniriz"
      }
    },
    {
      "cell_type": "code",
      "source": [
        "movie_df.head()"
      ],
      "metadata": {
        "colab": {
          "base_uri": "https://localhost:8080/",
          "height": 672
        },
        "id": "ny7n7P0GDFe_",
        "outputId": "e21e2d45-d61b-4c7e-9919-a2008d018565"
      },
      "execution_count": 7,
      "outputs": [
        {
          "output_type": "execute_result",
          "data": {
            "text/plain": [
              "   Movie_ID      Movie_Title                       Movie_Genre Movie_Language  \\\n",
              "0         1       Four Rooms                      Crime Comedy             en   \n",
              "1         2        Star Wars  Adventure Action Science Fiction             en   \n",
              "2         3     Finding Nemo                  Animation Family             en   \n",
              "3         4     Forrest Gump              Comedy Drama Romance             en   \n",
              "4         5  American Beauty                             Drama             en   \n",
              "\n",
              "   Movie_Budget  Movie_Popularity Movie_Release_Date  Movie_Revenue  \\\n",
              "0       4000000         22.876230         09-12-1995        4300000   \n",
              "1      11000000        126.393695         25-05-1977      775398007   \n",
              "2      94000000         85.688789         30-05-2003      940335536   \n",
              "3      55000000        138.133331         06-07-1994      677945399   \n",
              "4      15000000         80.878605         15-09-1999      356296601   \n",
              "\n",
              "   Movie_Runtime  Movie_Vote  ...  \\\n",
              "0           98.0         6.5  ...   \n",
              "1          121.0         8.1  ...   \n",
              "2          100.0         7.6  ...   \n",
              "3          142.0         8.2  ...   \n",
              "4          122.0         7.9  ...   \n",
              "\n",
              "                                      Movie_Homepage  \\\n",
              "0                                                NaN   \n",
              "1  http://www.starwars.com/films/star-wars-episod...   \n",
              "2              http://movies.disney.com/finding-nemo   \n",
              "3                                                NaN   \n",
              "4                      http://www.dreamworks.com/ab/   \n",
              "\n",
              "                                      Movie_Keywords  \\\n",
              "0          hotel new year's eve witch bet hotel room   \n",
              "1        android galaxy hermit death star lightsaber   \n",
              "2  father son relationship harbor underwater fish...   \n",
              "3  vietnam veteran hippie mentally disabled runni...   \n",
              "4  male nudity female nudity adultery midlife cri...   \n",
              "\n",
              "                                      Movie_Overview  \\\n",
              "0  It's Ted the Bellhop's first night on the job....   \n",
              "1  Princess Leia is captured and held hostage by ...   \n",
              "2  Nemo, an adventurous young clownfish, is unexp...   \n",
              "3  A man with a low IQ has accomplished great thi...   \n",
              "4  Lester Burnham, a depressed suburban father in...   \n",
              "\n",
              "                              Movie_Production_House  \\\n",
              "0  [{\"name\": \"Miramax Films\", \"id\": 14}, {\"name\":...   \n",
              "1  [{\"name\": \"Lucasfilm\", \"id\": 1}, {\"name\": \"Twe...   \n",
              "2     [{\"name\": \"Pixar Animation Studios\", \"id\": 3}]   \n",
              "3          [{\"name\": \"Paramount Pictures\", \"id\": 4}]   \n",
              "4  [{\"name\": \"DreamWorks SKG\", \"id\": 27}, {\"name\"...   \n",
              "\n",
              "                            Movie_Production_Country  \\\n",
              "0  [{\"iso_3166_1\": \"US\", \"name\": \"United States o...   \n",
              "1  [{\"iso_3166_1\": \"US\", \"name\": \"United States o...   \n",
              "2  [{\"iso_3166_1\": \"US\", \"name\": \"United States o...   \n",
              "3  [{\"iso_3166_1\": \"US\", \"name\": \"United States o...   \n",
              "4  [{\"iso_3166_1\": \"US\", \"name\": \"United States o...   \n",
              "\n",
              "                      Movie_Spoken_Language  \\\n",
              "0  [{\"iso_639_1\": \"en\", \"name\": \"English\"}]   \n",
              "1  [{\"iso_639_1\": \"en\", \"name\": \"English\"}]   \n",
              "2  [{\"iso_639_1\": \"en\", \"name\": \"English\"}]   \n",
              "3  [{\"iso_639_1\": \"en\", \"name\": \"English\"}]   \n",
              "4  [{\"iso_639_1\": \"en\", \"name\": \"English\"}]   \n",
              "\n",
              "                                       Movie_Tagline  \\\n",
              "0  Twelve outrageous guests. Four scandalous requ...   \n",
              "1       A long time ago in a galaxy far, far away...   \n",
              "2  There are 3.7 trillion fish in the ocean, they...   \n",
              "3  The world will never be the same, once you've ...   \n",
              "4                                       Look closer.   \n",
              "\n",
              "                                          Movie_Cast  \\\n",
              "0  Tim Roth Antonio Banderas Jennifer Beals Madon...   \n",
              "1  Mark Hamill Harrison Ford Carrie Fisher Peter ...   \n",
              "2  Albert Brooks Ellen DeGeneres Alexander Gould ...   \n",
              "3  Tom Hanks Robin Wright Gary Sinise Mykelti Wil...   \n",
              "4  Kevin Spacey Annette Bening Thora Birch Wes Be...   \n",
              "\n",
              "                                          Movie_Crew   Movie_Director  \n",
              "0  [{'name': 'Allison Anders', 'gender': 1, 'depa...   Allison Anders  \n",
              "1  [{'name': 'George Lucas', 'gender': 2, 'depart...     George Lucas  \n",
              "2  [{'name': 'Andrew Stanton', 'gender': 2, 'depa...   Andrew Stanton  \n",
              "3  [{'name': 'Alan Silvestri', 'gender': 2, 'depa...  Robert Zemeckis  \n",
              "4  [{'name': 'Thomas Newman', 'gender': 2, 'depar...       Sam Mendes  \n",
              "\n",
              "[5 rows x 21 columns]"
            ],
            "text/html": [
              "\n",
              "  <div id=\"df-f45ce800-47c3-49fa-97de-8fbd6824ca1d\" class=\"colab-df-container\">\n",
              "    <div>\n",
              "<style scoped>\n",
              "    .dataframe tbody tr th:only-of-type {\n",
              "        vertical-align: middle;\n",
              "    }\n",
              "\n",
              "    .dataframe tbody tr th {\n",
              "        vertical-align: top;\n",
              "    }\n",
              "\n",
              "    .dataframe thead th {\n",
              "        text-align: right;\n",
              "    }\n",
              "</style>\n",
              "<table border=\"1\" class=\"dataframe\">\n",
              "  <thead>\n",
              "    <tr style=\"text-align: right;\">\n",
              "      <th></th>\n",
              "      <th>Movie_ID</th>\n",
              "      <th>Movie_Title</th>\n",
              "      <th>Movie_Genre</th>\n",
              "      <th>Movie_Language</th>\n",
              "      <th>Movie_Budget</th>\n",
              "      <th>Movie_Popularity</th>\n",
              "      <th>Movie_Release_Date</th>\n",
              "      <th>Movie_Revenue</th>\n",
              "      <th>Movie_Runtime</th>\n",
              "      <th>Movie_Vote</th>\n",
              "      <th>...</th>\n",
              "      <th>Movie_Homepage</th>\n",
              "      <th>Movie_Keywords</th>\n",
              "      <th>Movie_Overview</th>\n",
              "      <th>Movie_Production_House</th>\n",
              "      <th>Movie_Production_Country</th>\n",
              "      <th>Movie_Spoken_Language</th>\n",
              "      <th>Movie_Tagline</th>\n",
              "      <th>Movie_Cast</th>\n",
              "      <th>Movie_Crew</th>\n",
              "      <th>Movie_Director</th>\n",
              "    </tr>\n",
              "  </thead>\n",
              "  <tbody>\n",
              "    <tr>\n",
              "      <th>0</th>\n",
              "      <td>1</td>\n",
              "      <td>Four Rooms</td>\n",
              "      <td>Crime Comedy</td>\n",
              "      <td>en</td>\n",
              "      <td>4000000</td>\n",
              "      <td>22.876230</td>\n",
              "      <td>09-12-1995</td>\n",
              "      <td>4300000</td>\n",
              "      <td>98.0</td>\n",
              "      <td>6.5</td>\n",
              "      <td>...</td>\n",
              "      <td>NaN</td>\n",
              "      <td>hotel new year's eve witch bet hotel room</td>\n",
              "      <td>It's Ted the Bellhop's first night on the job....</td>\n",
              "      <td>[{\"name\": \"Miramax Films\", \"id\": 14}, {\"name\":...</td>\n",
              "      <td>[{\"iso_3166_1\": \"US\", \"name\": \"United States o...</td>\n",
              "      <td>[{\"iso_639_1\": \"en\", \"name\": \"English\"}]</td>\n",
              "      <td>Twelve outrageous guests. Four scandalous requ...</td>\n",
              "      <td>Tim Roth Antonio Banderas Jennifer Beals Madon...</td>\n",
              "      <td>[{'name': 'Allison Anders', 'gender': 1, 'depa...</td>\n",
              "      <td>Allison Anders</td>\n",
              "    </tr>\n",
              "    <tr>\n",
              "      <th>1</th>\n",
              "      <td>2</td>\n",
              "      <td>Star Wars</td>\n",
              "      <td>Adventure Action Science Fiction</td>\n",
              "      <td>en</td>\n",
              "      <td>11000000</td>\n",
              "      <td>126.393695</td>\n",
              "      <td>25-05-1977</td>\n",
              "      <td>775398007</td>\n",
              "      <td>121.0</td>\n",
              "      <td>8.1</td>\n",
              "      <td>...</td>\n",
              "      <td>http://www.starwars.com/films/star-wars-episod...</td>\n",
              "      <td>android galaxy hermit death star lightsaber</td>\n",
              "      <td>Princess Leia is captured and held hostage by ...</td>\n",
              "      <td>[{\"name\": \"Lucasfilm\", \"id\": 1}, {\"name\": \"Twe...</td>\n",
              "      <td>[{\"iso_3166_1\": \"US\", \"name\": \"United States o...</td>\n",
              "      <td>[{\"iso_639_1\": \"en\", \"name\": \"English\"}]</td>\n",
              "      <td>A long time ago in a galaxy far, far away...</td>\n",
              "      <td>Mark Hamill Harrison Ford Carrie Fisher Peter ...</td>\n",
              "      <td>[{'name': 'George Lucas', 'gender': 2, 'depart...</td>\n",
              "      <td>George Lucas</td>\n",
              "    </tr>\n",
              "    <tr>\n",
              "      <th>2</th>\n",
              "      <td>3</td>\n",
              "      <td>Finding Nemo</td>\n",
              "      <td>Animation Family</td>\n",
              "      <td>en</td>\n",
              "      <td>94000000</td>\n",
              "      <td>85.688789</td>\n",
              "      <td>30-05-2003</td>\n",
              "      <td>940335536</td>\n",
              "      <td>100.0</td>\n",
              "      <td>7.6</td>\n",
              "      <td>...</td>\n",
              "      <td>http://movies.disney.com/finding-nemo</td>\n",
              "      <td>father son relationship harbor underwater fish...</td>\n",
              "      <td>Nemo, an adventurous young clownfish, is unexp...</td>\n",
              "      <td>[{\"name\": \"Pixar Animation Studios\", \"id\": 3}]</td>\n",
              "      <td>[{\"iso_3166_1\": \"US\", \"name\": \"United States o...</td>\n",
              "      <td>[{\"iso_639_1\": \"en\", \"name\": \"English\"}]</td>\n",
              "      <td>There are 3.7 trillion fish in the ocean, they...</td>\n",
              "      <td>Albert Brooks Ellen DeGeneres Alexander Gould ...</td>\n",
              "      <td>[{'name': 'Andrew Stanton', 'gender': 2, 'depa...</td>\n",
              "      <td>Andrew Stanton</td>\n",
              "    </tr>\n",
              "    <tr>\n",
              "      <th>3</th>\n",
              "      <td>4</td>\n",
              "      <td>Forrest Gump</td>\n",
              "      <td>Comedy Drama Romance</td>\n",
              "      <td>en</td>\n",
              "      <td>55000000</td>\n",
              "      <td>138.133331</td>\n",
              "      <td>06-07-1994</td>\n",
              "      <td>677945399</td>\n",
              "      <td>142.0</td>\n",
              "      <td>8.2</td>\n",
              "      <td>...</td>\n",
              "      <td>NaN</td>\n",
              "      <td>vietnam veteran hippie mentally disabled runni...</td>\n",
              "      <td>A man with a low IQ has accomplished great thi...</td>\n",
              "      <td>[{\"name\": \"Paramount Pictures\", \"id\": 4}]</td>\n",
              "      <td>[{\"iso_3166_1\": \"US\", \"name\": \"United States o...</td>\n",
              "      <td>[{\"iso_639_1\": \"en\", \"name\": \"English\"}]</td>\n",
              "      <td>The world will never be the same, once you've ...</td>\n",
              "      <td>Tom Hanks Robin Wright Gary Sinise Mykelti Wil...</td>\n",
              "      <td>[{'name': 'Alan Silvestri', 'gender': 2, 'depa...</td>\n",
              "      <td>Robert Zemeckis</td>\n",
              "    </tr>\n",
              "    <tr>\n",
              "      <th>4</th>\n",
              "      <td>5</td>\n",
              "      <td>American Beauty</td>\n",
              "      <td>Drama</td>\n",
              "      <td>en</td>\n",
              "      <td>15000000</td>\n",
              "      <td>80.878605</td>\n",
              "      <td>15-09-1999</td>\n",
              "      <td>356296601</td>\n",
              "      <td>122.0</td>\n",
              "      <td>7.9</td>\n",
              "      <td>...</td>\n",
              "      <td>http://www.dreamworks.com/ab/</td>\n",
              "      <td>male nudity female nudity adultery midlife cri...</td>\n",
              "      <td>Lester Burnham, a depressed suburban father in...</td>\n",
              "      <td>[{\"name\": \"DreamWorks SKG\", \"id\": 27}, {\"name\"...</td>\n",
              "      <td>[{\"iso_3166_1\": \"US\", \"name\": \"United States o...</td>\n",
              "      <td>[{\"iso_639_1\": \"en\", \"name\": \"English\"}]</td>\n",
              "      <td>Look closer.</td>\n",
              "      <td>Kevin Spacey Annette Bening Thora Birch Wes Be...</td>\n",
              "      <td>[{'name': 'Thomas Newman', 'gender': 2, 'depar...</td>\n",
              "      <td>Sam Mendes</td>\n",
              "    </tr>\n",
              "  </tbody>\n",
              "</table>\n",
              "<p>5 rows × 21 columns</p>\n",
              "</div>\n",
              "    <div class=\"colab-df-buttons\">\n",
              "\n",
              "  <div class=\"colab-df-container\">\n",
              "    <button class=\"colab-df-convert\" onclick=\"convertToInteractive('df-f45ce800-47c3-49fa-97de-8fbd6824ca1d')\"\n",
              "            title=\"Convert this dataframe to an interactive table.\"\n",
              "            style=\"display:none;\">\n",
              "\n",
              "  <svg xmlns=\"http://www.w3.org/2000/svg\" height=\"24px\" viewBox=\"0 -960 960 960\">\n",
              "    <path d=\"M120-120v-720h720v720H120Zm60-500h600v-160H180v160Zm220 220h160v-160H400v160Zm0 220h160v-160H400v160ZM180-400h160v-160H180v160Zm440 0h160v-160H620v160ZM180-180h160v-160H180v160Zm440 0h160v-160H620v160Z\"/>\n",
              "  </svg>\n",
              "    </button>\n",
              "\n",
              "  <style>\n",
              "    .colab-df-container {\n",
              "      display:flex;\n",
              "      gap: 12px;\n",
              "    }\n",
              "\n",
              "    .colab-df-convert {\n",
              "      background-color: #E8F0FE;\n",
              "      border: none;\n",
              "      border-radius: 50%;\n",
              "      cursor: pointer;\n",
              "      display: none;\n",
              "      fill: #1967D2;\n",
              "      height: 32px;\n",
              "      padding: 0 0 0 0;\n",
              "      width: 32px;\n",
              "    }\n",
              "\n",
              "    .colab-df-convert:hover {\n",
              "      background-color: #E2EBFA;\n",
              "      box-shadow: 0px 1px 2px rgba(60, 64, 67, 0.3), 0px 1px 3px 1px rgba(60, 64, 67, 0.15);\n",
              "      fill: #174EA6;\n",
              "    }\n",
              "\n",
              "    .colab-df-buttons div {\n",
              "      margin-bottom: 4px;\n",
              "    }\n",
              "\n",
              "    [theme=dark] .colab-df-convert {\n",
              "      background-color: #3B4455;\n",
              "      fill: #D2E3FC;\n",
              "    }\n",
              "\n",
              "    [theme=dark] .colab-df-convert:hover {\n",
              "      background-color: #434B5C;\n",
              "      box-shadow: 0px 1px 3px 1px rgba(0, 0, 0, 0.15);\n",
              "      filter: drop-shadow(0px 1px 2px rgba(0, 0, 0, 0.3));\n",
              "      fill: #FFFFFF;\n",
              "    }\n",
              "  </style>\n",
              "\n",
              "    <script>\n",
              "      const buttonEl =\n",
              "        document.querySelector('#df-f45ce800-47c3-49fa-97de-8fbd6824ca1d button.colab-df-convert');\n",
              "      buttonEl.style.display =\n",
              "        google.colab.kernel.accessAllowed ? 'block' : 'none';\n",
              "\n",
              "      async function convertToInteractive(key) {\n",
              "        const element = document.querySelector('#df-f45ce800-47c3-49fa-97de-8fbd6824ca1d');\n",
              "        const dataTable =\n",
              "          await google.colab.kernel.invokeFunction('convertToInteractive',\n",
              "                                                    [key], {});\n",
              "        if (!dataTable) return;\n",
              "\n",
              "        const docLinkHtml = 'Like what you see? Visit the ' +\n",
              "          '<a target=\"_blank\" href=https://colab.research.google.com/notebooks/data_table.ipynb>data table notebook</a>'\n",
              "          + ' to learn more about interactive tables.';\n",
              "        element.innerHTML = '';\n",
              "        dataTable['output_type'] = 'display_data';\n",
              "        await google.colab.output.renderOutput(dataTable, element);\n",
              "        const docLink = document.createElement('div');\n",
              "        docLink.innerHTML = docLinkHtml;\n",
              "        element.appendChild(docLink);\n",
              "      }\n",
              "    </script>\n",
              "  </div>\n",
              "\n",
              "\n",
              "<div id=\"df-a5af7fd8-5154-4d34-972e-ff0997ecec9b\">\n",
              "  <button class=\"colab-df-quickchart\" onclick=\"quickchart('df-a5af7fd8-5154-4d34-972e-ff0997ecec9b')\"\n",
              "            title=\"Suggest charts\"\n",
              "            style=\"display:none;\">\n",
              "\n",
              "<svg xmlns=\"http://www.w3.org/2000/svg\" height=\"24px\"viewBox=\"0 0 24 24\"\n",
              "     width=\"24px\">\n",
              "    <g>\n",
              "        <path d=\"M19 3H5c-1.1 0-2 .9-2 2v14c0 1.1.9 2 2 2h14c1.1 0 2-.9 2-2V5c0-1.1-.9-2-2-2zM9 17H7v-7h2v7zm4 0h-2V7h2v10zm4 0h-2v-4h2v4z\"/>\n",
              "    </g>\n",
              "</svg>\n",
              "  </button>\n",
              "\n",
              "<style>\n",
              "  .colab-df-quickchart {\n",
              "      --bg-color: #E8F0FE;\n",
              "      --fill-color: #1967D2;\n",
              "      --hover-bg-color: #E2EBFA;\n",
              "      --hover-fill-color: #174EA6;\n",
              "      --disabled-fill-color: #AAA;\n",
              "      --disabled-bg-color: #DDD;\n",
              "  }\n",
              "\n",
              "  [theme=dark] .colab-df-quickchart {\n",
              "      --bg-color: #3B4455;\n",
              "      --fill-color: #D2E3FC;\n",
              "      --hover-bg-color: #434B5C;\n",
              "      --hover-fill-color: #FFFFFF;\n",
              "      --disabled-bg-color: #3B4455;\n",
              "      --disabled-fill-color: #666;\n",
              "  }\n",
              "\n",
              "  .colab-df-quickchart {\n",
              "    background-color: var(--bg-color);\n",
              "    border: none;\n",
              "    border-radius: 50%;\n",
              "    cursor: pointer;\n",
              "    display: none;\n",
              "    fill: var(--fill-color);\n",
              "    height: 32px;\n",
              "    padding: 0;\n",
              "    width: 32px;\n",
              "  }\n",
              "\n",
              "  .colab-df-quickchart:hover {\n",
              "    background-color: var(--hover-bg-color);\n",
              "    box-shadow: 0 1px 2px rgba(60, 64, 67, 0.3), 0 1px 3px 1px rgba(60, 64, 67, 0.15);\n",
              "    fill: var(--button-hover-fill-color);\n",
              "  }\n",
              "\n",
              "  .colab-df-quickchart-complete:disabled,\n",
              "  .colab-df-quickchart-complete:disabled:hover {\n",
              "    background-color: var(--disabled-bg-color);\n",
              "    fill: var(--disabled-fill-color);\n",
              "    box-shadow: none;\n",
              "  }\n",
              "\n",
              "  .colab-df-spinner {\n",
              "    border: 2px solid var(--fill-color);\n",
              "    border-color: transparent;\n",
              "    border-bottom-color: var(--fill-color);\n",
              "    animation:\n",
              "      spin 1s steps(1) infinite;\n",
              "  }\n",
              "\n",
              "  @keyframes spin {\n",
              "    0% {\n",
              "      border-color: transparent;\n",
              "      border-bottom-color: var(--fill-color);\n",
              "      border-left-color: var(--fill-color);\n",
              "    }\n",
              "    20% {\n",
              "      border-color: transparent;\n",
              "      border-left-color: var(--fill-color);\n",
              "      border-top-color: var(--fill-color);\n",
              "    }\n",
              "    30% {\n",
              "      border-color: transparent;\n",
              "      border-left-color: var(--fill-color);\n",
              "      border-top-color: var(--fill-color);\n",
              "      border-right-color: var(--fill-color);\n",
              "    }\n",
              "    40% {\n",
              "      border-color: transparent;\n",
              "      border-right-color: var(--fill-color);\n",
              "      border-top-color: var(--fill-color);\n",
              "    }\n",
              "    60% {\n",
              "      border-color: transparent;\n",
              "      border-right-color: var(--fill-color);\n",
              "    }\n",
              "    80% {\n",
              "      border-color: transparent;\n",
              "      border-right-color: var(--fill-color);\n",
              "      border-bottom-color: var(--fill-color);\n",
              "    }\n",
              "    90% {\n",
              "      border-color: transparent;\n",
              "      border-bottom-color: var(--fill-color);\n",
              "    }\n",
              "  }\n",
              "</style>\n",
              "\n",
              "  <script>\n",
              "    async function quickchart(key) {\n",
              "      const quickchartButtonEl =\n",
              "        document.querySelector('#' + key + ' button');\n",
              "      quickchartButtonEl.disabled = true;  // To prevent multiple clicks.\n",
              "      quickchartButtonEl.classList.add('colab-df-spinner');\n",
              "      try {\n",
              "        const charts = await google.colab.kernel.invokeFunction(\n",
              "            'suggestCharts', [key], {});\n",
              "      } catch (error) {\n",
              "        console.error('Error during call to suggestCharts:', error);\n",
              "      }\n",
              "      quickchartButtonEl.classList.remove('colab-df-spinner');\n",
              "      quickchartButtonEl.classList.add('colab-df-quickchart-complete');\n",
              "    }\n",
              "    (() => {\n",
              "      let quickchartButtonEl =\n",
              "        document.querySelector('#df-a5af7fd8-5154-4d34-972e-ff0997ecec9b button');\n",
              "      quickchartButtonEl.style.display =\n",
              "        google.colab.kernel.accessAllowed ? 'block' : 'none';\n",
              "    })();\n",
              "  </script>\n",
              "</div>\n",
              "\n",
              "    </div>\n",
              "  </div>\n"
            ],
            "application/vnd.google.colaboratory.intrinsic+json": {
              "type": "dataframe",
              "variable_name": "movie_df"
            }
          },
          "metadata": {},
          "execution_count": 7
        }
      ]
    },
    {
      "cell_type": "code",
      "source": [
        "movie_df.info()"
      ],
      "metadata": {
        "id": "lW-OIRK0iuzO",
        "colab": {
          "base_uri": "https://localhost:8080/"
        },
        "outputId": "c6ae3782-73de-4680-84b2-698e78e51e97"
      },
      "execution_count": 6,
      "outputs": [
        {
          "output_type": "stream",
          "name": "stdout",
          "text": [
            "<class 'pandas.core.frame.DataFrame'>\n",
            "RangeIndex: 4760 entries, 0 to 4759\n",
            "Data columns (total 21 columns):\n",
            " #   Column                    Non-Null Count  Dtype  \n",
            "---  ------                    --------------  -----  \n",
            " 0   Movie_ID                  4760 non-null   int64  \n",
            " 1   Movie_Title               4760 non-null   object \n",
            " 2   Movie_Genre               4760 non-null   object \n",
            " 3   Movie_Language            4760 non-null   object \n",
            " 4   Movie_Budget              4760 non-null   int64  \n",
            " 5   Movie_Popularity          4760 non-null   float64\n",
            " 6   Movie_Release_Date        4760 non-null   object \n",
            " 7   Movie_Revenue             4760 non-null   int64  \n",
            " 8   Movie_Runtime             4758 non-null   float64\n",
            " 9   Movie_Vote                4760 non-null   float64\n",
            " 10  Movie_Vote_Count          4760 non-null   int64  \n",
            " 11  Movie_Homepage            1699 non-null   object \n",
            " 12  Movie_Keywords            4373 non-null   object \n",
            " 13  Movie_Overview            4757 non-null   object \n",
            " 14  Movie_Production_House    4760 non-null   object \n",
            " 15  Movie_Production_Country  4760 non-null   object \n",
            " 16  Movie_Spoken_Language     4760 non-null   object \n",
            " 17  Movie_Tagline             3942 non-null   object \n",
            " 18  Movie_Cast                4733 non-null   object \n",
            " 19  Movie_Crew                4760 non-null   object \n",
            " 20  Movie_Director            4738 non-null   object \n",
            "dtypes: float64(3), int64(4), object(14)\n",
            "memory usage: 781.1+ KB\n"
          ]
        }
      ]
    },
    {
      "cell_type": "markdown",
      "source": [
        "## **Data Preprocessing**"
      ],
      "metadata": {
        "id": "UqfyPOCYiiww"
      }
    },
    {
      "cell_type": "code",
      "source": [
        "movie_df.isna().sum()"
      ],
      "metadata": {
        "id": "3cyr3fbGin0A",
        "colab": {
          "base_uri": "https://localhost:8080/",
          "height": 742
        },
        "outputId": "10e445c9-d890-42ed-81ba-5e89d53af270"
      },
      "execution_count": 8,
      "outputs": [
        {
          "output_type": "execute_result",
          "data": {
            "text/plain": [
              "Movie_ID                       0\n",
              "Movie_Title                    0\n",
              "Movie_Genre                    0\n",
              "Movie_Language                 0\n",
              "Movie_Budget                   0\n",
              "Movie_Popularity               0\n",
              "Movie_Release_Date             0\n",
              "Movie_Revenue                  0\n",
              "Movie_Runtime                  2\n",
              "Movie_Vote                     0\n",
              "Movie_Vote_Count               0\n",
              "Movie_Homepage              3061\n",
              "Movie_Keywords               387\n",
              "Movie_Overview                 3\n",
              "Movie_Production_House         0\n",
              "Movie_Production_Country       0\n",
              "Movie_Spoken_Language          0\n",
              "Movie_Tagline                818\n",
              "Movie_Cast                    27\n",
              "Movie_Crew                     0\n",
              "Movie_Director                22\n",
              "dtype: int64"
            ],
            "text/html": [
              "<div>\n",
              "<style scoped>\n",
              "    .dataframe tbody tr th:only-of-type {\n",
              "        vertical-align: middle;\n",
              "    }\n",
              "\n",
              "    .dataframe tbody tr th {\n",
              "        vertical-align: top;\n",
              "    }\n",
              "\n",
              "    .dataframe thead th {\n",
              "        text-align: right;\n",
              "    }\n",
              "</style>\n",
              "<table border=\"1\" class=\"dataframe\">\n",
              "  <thead>\n",
              "    <tr style=\"text-align: right;\">\n",
              "      <th></th>\n",
              "      <th>0</th>\n",
              "    </tr>\n",
              "  </thead>\n",
              "  <tbody>\n",
              "    <tr>\n",
              "      <th>Movie_ID</th>\n",
              "      <td>0</td>\n",
              "    </tr>\n",
              "    <tr>\n",
              "      <th>Movie_Title</th>\n",
              "      <td>0</td>\n",
              "    </tr>\n",
              "    <tr>\n",
              "      <th>Movie_Genre</th>\n",
              "      <td>0</td>\n",
              "    </tr>\n",
              "    <tr>\n",
              "      <th>Movie_Language</th>\n",
              "      <td>0</td>\n",
              "    </tr>\n",
              "    <tr>\n",
              "      <th>Movie_Budget</th>\n",
              "      <td>0</td>\n",
              "    </tr>\n",
              "    <tr>\n",
              "      <th>Movie_Popularity</th>\n",
              "      <td>0</td>\n",
              "    </tr>\n",
              "    <tr>\n",
              "      <th>Movie_Release_Date</th>\n",
              "      <td>0</td>\n",
              "    </tr>\n",
              "    <tr>\n",
              "      <th>Movie_Revenue</th>\n",
              "      <td>0</td>\n",
              "    </tr>\n",
              "    <tr>\n",
              "      <th>Movie_Runtime</th>\n",
              "      <td>2</td>\n",
              "    </tr>\n",
              "    <tr>\n",
              "      <th>Movie_Vote</th>\n",
              "      <td>0</td>\n",
              "    </tr>\n",
              "    <tr>\n",
              "      <th>Movie_Vote_Count</th>\n",
              "      <td>0</td>\n",
              "    </tr>\n",
              "    <tr>\n",
              "      <th>Movie_Homepage</th>\n",
              "      <td>3061</td>\n",
              "    </tr>\n",
              "    <tr>\n",
              "      <th>Movie_Keywords</th>\n",
              "      <td>387</td>\n",
              "    </tr>\n",
              "    <tr>\n",
              "      <th>Movie_Overview</th>\n",
              "      <td>3</td>\n",
              "    </tr>\n",
              "    <tr>\n",
              "      <th>Movie_Production_House</th>\n",
              "      <td>0</td>\n",
              "    </tr>\n",
              "    <tr>\n",
              "      <th>Movie_Production_Country</th>\n",
              "      <td>0</td>\n",
              "    </tr>\n",
              "    <tr>\n",
              "      <th>Movie_Spoken_Language</th>\n",
              "      <td>0</td>\n",
              "    </tr>\n",
              "    <tr>\n",
              "      <th>Movie_Tagline</th>\n",
              "      <td>818</td>\n",
              "    </tr>\n",
              "    <tr>\n",
              "      <th>Movie_Cast</th>\n",
              "      <td>27</td>\n",
              "    </tr>\n",
              "    <tr>\n",
              "      <th>Movie_Crew</th>\n",
              "      <td>0</td>\n",
              "    </tr>\n",
              "    <tr>\n",
              "      <th>Movie_Director</th>\n",
              "      <td>22</td>\n",
              "    </tr>\n",
              "  </tbody>\n",
              "</table>\n",
              "</div><br><label><b>dtype:</b> int64</label>"
            ]
          },
          "metadata": {},
          "execution_count": 8
        }
      ]
    },
    {
      "cell_type": "code",
      "source": [
        "movie_df.duplicated().sum()"
      ],
      "metadata": {
        "colab": {
          "base_uri": "https://localhost:8080/"
        },
        "id": "B3lL_lr4DU4x",
        "outputId": "426adf0d-05d3-4195-aa51-1e4df32da959"
      },
      "execution_count": 9,
      "outputs": [
        {
          "output_type": "execute_result",
          "data": {
            "text/plain": [
              "0"
            ]
          },
          "metadata": {},
          "execution_count": 9
        }
      ]
    },
    {
      "cell_type": "code",
      "source": [
        "movie_df.shape"
      ],
      "metadata": {
        "colab": {
          "base_uri": "https://localhost:8080/"
        },
        "id": "OncLHNetDZog",
        "outputId": "e874e252-02d7-4a16-f7a9-d5c672563dde"
      },
      "execution_count": 11,
      "outputs": [
        {
          "output_type": "execute_result",
          "data": {
            "text/plain": [
              "(4760, 21)"
            ]
          },
          "metadata": {},
          "execution_count": 11
        }
      ]
    },
    {
      "cell_type": "code",
      "source": [
        "movie_df.columns"
      ],
      "metadata": {
        "colab": {
          "base_uri": "https://localhost:8080/"
        },
        "id": "V_U1EJEIDhVT",
        "outputId": "1556d75f-f562-4513-8176-4a9be23a861b"
      },
      "execution_count": 12,
      "outputs": [
        {
          "output_type": "execute_result",
          "data": {
            "text/plain": [
              "Index(['Movie_ID', 'Movie_Title', 'Movie_Genre', 'Movie_Language',\n",
              "       'Movie_Budget', 'Movie_Popularity', 'Movie_Release_Date',\n",
              "       'Movie_Revenue', 'Movie_Runtime', 'Movie_Vote', 'Movie_Vote_Count',\n",
              "       'Movie_Homepage', 'Movie_Keywords', 'Movie_Overview',\n",
              "       'Movie_Production_House', 'Movie_Production_Country',\n",
              "       'Movie_Spoken_Language', 'Movie_Tagline', 'Movie_Cast', 'Movie_Crew',\n",
              "       'Movie_Director'],\n",
              "      dtype='object')"
            ]
          },
          "metadata": {},
          "execution_count": 12
        }
      ]
    },
    {
      "cell_type": "markdown",
      "source": [
        "## **Define Target Variable (y) and Feature Variables (X)**"
      ],
      "metadata": {
        "id": "2jXJpdAuiwYW"
      }
    },
    {
      "cell_type": "code",
      "source": [
        "movie_df_features = movie_df[['Movie_Genre', 'Movie_Keywords', 'Movie_Tagline', 'Movie_Cast', 'Movie_Director', 'Movie_Overview',\n",
        "         'Movie_Spoken_Language', 'Movie_Vote', 'Movie_Vote_Count']].fillna('')"
      ],
      "metadata": {
        "id": "QBCakTuli57t"
      },
      "execution_count": 13,
      "outputs": []
    },
    {
      "cell_type": "code",
      "source": [
        "movie_df_features.shape"
      ],
      "metadata": {
        "colab": {
          "base_uri": "https://localhost:8080/"
        },
        "id": "ss-T5ZP0EP7Q",
        "outputId": "943ce23e-fc8e-4e28-8e32-e97ff3c3414d"
      },
      "execution_count": 14,
      "outputs": [
        {
          "output_type": "execute_result",
          "data": {
            "text/plain": [
              "(4760, 9)"
            ]
          },
          "metadata": {},
          "execution_count": 14
        }
      ]
    },
    {
      "cell_type": "code",
      "source": [
        "movie_df_features"
      ],
      "metadata": {
        "colab": {
          "base_uri": "https://localhost:8080/",
          "height": 1000
        },
        "id": "5_QOiTCBEVks",
        "outputId": "c5b2167f-8bac-4a1c-d106-1282de129efa"
      },
      "execution_count": 15,
      "outputs": [
        {
          "output_type": "execute_result",
          "data": {
            "text/plain": [
              "                           Movie_Genre  \\\n",
              "0                         Crime Comedy   \n",
              "1     Adventure Action Science Fiction   \n",
              "2                     Animation Family   \n",
              "3                 Comedy Drama Romance   \n",
              "4                                Drama   \n",
              "...                                ...   \n",
              "4755                            Horror   \n",
              "4756               Comedy Family Drama   \n",
              "4757                    Thriller Drama   \n",
              "4758                            Family   \n",
              "4759                       Documentary   \n",
              "\n",
              "                                         Movie_Keywords  \\\n",
              "0             hotel new year's eve witch bet hotel room   \n",
              "1           android galaxy hermit death star lightsaber   \n",
              "2     father son relationship harbor underwater fish...   \n",
              "3     vietnam veteran hippie mentally disabled runni...   \n",
              "4     male nudity female nudity adultery midlife cri...   \n",
              "...                                                 ...   \n",
              "4755                                                      \n",
              "4756                                                      \n",
              "4757                     christian film sex trafficking   \n",
              "4758                                                      \n",
              "4759  music actors legendary perfomer classic hollyw...   \n",
              "\n",
              "                                          Movie_Tagline  \\\n",
              "0     Twelve outrageous guests. Four scandalous requ...   \n",
              "1          A long time ago in a galaxy far, far away...   \n",
              "2     There are 3.7 trillion fish in the ocean, they...   \n",
              "3     The world will never be the same, once you've ...   \n",
              "4                                          Look closer.   \n",
              "...                                                 ...   \n",
              "4755                The hot spot where Satan's waitin'.   \n",
              "4756           It’s better to stand out than to fit in.   \n",
              "4757           She never knew it could happen to her...   \n",
              "4758                                                      \n",
              "4759                                                      \n",
              "\n",
              "                                             Movie_Cast     Movie_Director  \\\n",
              "0     Tim Roth Antonio Banderas Jennifer Beals Madon...     Allison Anders   \n",
              "1     Mark Hamill Harrison Ford Carrie Fisher Peter ...       George Lucas   \n",
              "2     Albert Brooks Ellen DeGeneres Alexander Gould ...     Andrew Stanton   \n",
              "3     Tom Hanks Robin Wright Gary Sinise Mykelti Wil...    Robert Zemeckis   \n",
              "4     Kevin Spacey Annette Bening Thora Birch Wes Be...         Sam Mendes   \n",
              "...                                                 ...                ...   \n",
              "4755  Lisa Hart Carroll Michael Des Barres Paul Drak...         Pece Dingo   \n",
              "4756  Roni Akurati Brighton Sharbino Jason Lee Anjul...       Frank Lotito   \n",
              "4757  Nicole Smolen Kim Baldwin Ariana Stephens Brys...       Jaco Booyens   \n",
              "4758                                                                         \n",
              "4759                                    Tony Oppedisano  Simon Napier-Bell   \n",
              "\n",
              "                                         Movie_Overview  \\\n",
              "0     It's Ted the Bellhop's first night on the job....   \n",
              "1     Princess Leia is captured and held hostage by ...   \n",
              "2     Nemo, an adventurous young clownfish, is unexp...   \n",
              "3     A man with a low IQ has accomplished great thi...   \n",
              "4     Lester Burnham, a depressed suburban father in...   \n",
              "...                                                 ...   \n",
              "4755  A Broadway producer puts on a play with a Devi...   \n",
              "4756  In 1979, an Indian family moves to America wit...   \n",
              "4757  After sneaking to a party with her friends, 16...   \n",
              "4758  After being estranged since her mother's death...   \n",
              "4759                                                      \n",
              "\n",
              "                         Movie_Spoken_Language  Movie_Vote  Movie_Vote_Count  \n",
              "0     [{\"iso_639_1\": \"en\", \"name\": \"English\"}]         6.5               530  \n",
              "1     [{\"iso_639_1\": \"en\", \"name\": \"English\"}]         8.1              6624  \n",
              "2     [{\"iso_639_1\": \"en\", \"name\": \"English\"}]         7.6              6122  \n",
              "3     [{\"iso_639_1\": \"en\", \"name\": \"English\"}]         8.2              7927  \n",
              "4     [{\"iso_639_1\": \"en\", \"name\": \"English\"}]         7.9              3313  \n",
              "...                                        ...         ...               ...  \n",
              "4755  [{\"iso_639_1\": \"en\", \"name\": \"English\"}]         0.0                 0  \n",
              "4756  [{\"iso_639_1\": \"en\", \"name\": \"English\"}]         7.4                 7  \n",
              "4757  [{\"iso_639_1\": \"en\", \"name\": \"English\"}]         0.0                 0  \n",
              "4758                                        []         0.0                 0  \n",
              "4759                                        []         0.0                 0  \n",
              "\n",
              "[4760 rows x 9 columns]"
            ],
            "text/html": [
              "\n",
              "  <div id=\"df-dc000718-c988-4e99-a9b8-b632b8b3271b\" class=\"colab-df-container\">\n",
              "    <div>\n",
              "<style scoped>\n",
              "    .dataframe tbody tr th:only-of-type {\n",
              "        vertical-align: middle;\n",
              "    }\n",
              "\n",
              "    .dataframe tbody tr th {\n",
              "        vertical-align: top;\n",
              "    }\n",
              "\n",
              "    .dataframe thead th {\n",
              "        text-align: right;\n",
              "    }\n",
              "</style>\n",
              "<table border=\"1\" class=\"dataframe\">\n",
              "  <thead>\n",
              "    <tr style=\"text-align: right;\">\n",
              "      <th></th>\n",
              "      <th>Movie_Genre</th>\n",
              "      <th>Movie_Keywords</th>\n",
              "      <th>Movie_Tagline</th>\n",
              "      <th>Movie_Cast</th>\n",
              "      <th>Movie_Director</th>\n",
              "      <th>Movie_Overview</th>\n",
              "      <th>Movie_Spoken_Language</th>\n",
              "      <th>Movie_Vote</th>\n",
              "      <th>Movie_Vote_Count</th>\n",
              "    </tr>\n",
              "  </thead>\n",
              "  <tbody>\n",
              "    <tr>\n",
              "      <th>0</th>\n",
              "      <td>Crime Comedy</td>\n",
              "      <td>hotel new year's eve witch bet hotel room</td>\n",
              "      <td>Twelve outrageous guests. Four scandalous requ...</td>\n",
              "      <td>Tim Roth Antonio Banderas Jennifer Beals Madon...</td>\n",
              "      <td>Allison Anders</td>\n",
              "      <td>It's Ted the Bellhop's first night on the job....</td>\n",
              "      <td>[{\"iso_639_1\": \"en\", \"name\": \"English\"}]</td>\n",
              "      <td>6.5</td>\n",
              "      <td>530</td>\n",
              "    </tr>\n",
              "    <tr>\n",
              "      <th>1</th>\n",
              "      <td>Adventure Action Science Fiction</td>\n",
              "      <td>android galaxy hermit death star lightsaber</td>\n",
              "      <td>A long time ago in a galaxy far, far away...</td>\n",
              "      <td>Mark Hamill Harrison Ford Carrie Fisher Peter ...</td>\n",
              "      <td>George Lucas</td>\n",
              "      <td>Princess Leia is captured and held hostage by ...</td>\n",
              "      <td>[{\"iso_639_1\": \"en\", \"name\": \"English\"}]</td>\n",
              "      <td>8.1</td>\n",
              "      <td>6624</td>\n",
              "    </tr>\n",
              "    <tr>\n",
              "      <th>2</th>\n",
              "      <td>Animation Family</td>\n",
              "      <td>father son relationship harbor underwater fish...</td>\n",
              "      <td>There are 3.7 trillion fish in the ocean, they...</td>\n",
              "      <td>Albert Brooks Ellen DeGeneres Alexander Gould ...</td>\n",
              "      <td>Andrew Stanton</td>\n",
              "      <td>Nemo, an adventurous young clownfish, is unexp...</td>\n",
              "      <td>[{\"iso_639_1\": \"en\", \"name\": \"English\"}]</td>\n",
              "      <td>7.6</td>\n",
              "      <td>6122</td>\n",
              "    </tr>\n",
              "    <tr>\n",
              "      <th>3</th>\n",
              "      <td>Comedy Drama Romance</td>\n",
              "      <td>vietnam veteran hippie mentally disabled runni...</td>\n",
              "      <td>The world will never be the same, once you've ...</td>\n",
              "      <td>Tom Hanks Robin Wright Gary Sinise Mykelti Wil...</td>\n",
              "      <td>Robert Zemeckis</td>\n",
              "      <td>A man with a low IQ has accomplished great thi...</td>\n",
              "      <td>[{\"iso_639_1\": \"en\", \"name\": \"English\"}]</td>\n",
              "      <td>8.2</td>\n",
              "      <td>7927</td>\n",
              "    </tr>\n",
              "    <tr>\n",
              "      <th>4</th>\n",
              "      <td>Drama</td>\n",
              "      <td>male nudity female nudity adultery midlife cri...</td>\n",
              "      <td>Look closer.</td>\n",
              "      <td>Kevin Spacey Annette Bening Thora Birch Wes Be...</td>\n",
              "      <td>Sam Mendes</td>\n",
              "      <td>Lester Burnham, a depressed suburban father in...</td>\n",
              "      <td>[{\"iso_639_1\": \"en\", \"name\": \"English\"}]</td>\n",
              "      <td>7.9</td>\n",
              "      <td>3313</td>\n",
              "    </tr>\n",
              "    <tr>\n",
              "      <th>...</th>\n",
              "      <td>...</td>\n",
              "      <td>...</td>\n",
              "      <td>...</td>\n",
              "      <td>...</td>\n",
              "      <td>...</td>\n",
              "      <td>...</td>\n",
              "      <td>...</td>\n",
              "      <td>...</td>\n",
              "      <td>...</td>\n",
              "    </tr>\n",
              "    <tr>\n",
              "      <th>4755</th>\n",
              "      <td>Horror</td>\n",
              "      <td></td>\n",
              "      <td>The hot spot where Satan's waitin'.</td>\n",
              "      <td>Lisa Hart Carroll Michael Des Barres Paul Drak...</td>\n",
              "      <td>Pece Dingo</td>\n",
              "      <td>A Broadway producer puts on a play with a Devi...</td>\n",
              "      <td>[{\"iso_639_1\": \"en\", \"name\": \"English\"}]</td>\n",
              "      <td>0.0</td>\n",
              "      <td>0</td>\n",
              "    </tr>\n",
              "    <tr>\n",
              "      <th>4756</th>\n",
              "      <td>Comedy Family Drama</td>\n",
              "      <td></td>\n",
              "      <td>It’s better to stand out than to fit in.</td>\n",
              "      <td>Roni Akurati Brighton Sharbino Jason Lee Anjul...</td>\n",
              "      <td>Frank Lotito</td>\n",
              "      <td>In 1979, an Indian family moves to America wit...</td>\n",
              "      <td>[{\"iso_639_1\": \"en\", \"name\": \"English\"}]</td>\n",
              "      <td>7.4</td>\n",
              "      <td>7</td>\n",
              "    </tr>\n",
              "    <tr>\n",
              "      <th>4757</th>\n",
              "      <td>Thriller Drama</td>\n",
              "      <td>christian film sex trafficking</td>\n",
              "      <td>She never knew it could happen to her...</td>\n",
              "      <td>Nicole Smolen Kim Baldwin Ariana Stephens Brys...</td>\n",
              "      <td>Jaco Booyens</td>\n",
              "      <td>After sneaking to a party with her friends, 16...</td>\n",
              "      <td>[{\"iso_639_1\": \"en\", \"name\": \"English\"}]</td>\n",
              "      <td>0.0</td>\n",
              "      <td>0</td>\n",
              "    </tr>\n",
              "    <tr>\n",
              "      <th>4758</th>\n",
              "      <td>Family</td>\n",
              "      <td></td>\n",
              "      <td></td>\n",
              "      <td></td>\n",
              "      <td></td>\n",
              "      <td>After being estranged since her mother's death...</td>\n",
              "      <td>[]</td>\n",
              "      <td>0.0</td>\n",
              "      <td>0</td>\n",
              "    </tr>\n",
              "    <tr>\n",
              "      <th>4759</th>\n",
              "      <td>Documentary</td>\n",
              "      <td>music actors legendary perfomer classic hollyw...</td>\n",
              "      <td></td>\n",
              "      <td>Tony Oppedisano</td>\n",
              "      <td>Simon Napier-Bell</td>\n",
              "      <td></td>\n",
              "      <td>[]</td>\n",
              "      <td>0.0</td>\n",
              "      <td>0</td>\n",
              "    </tr>\n",
              "  </tbody>\n",
              "</table>\n",
              "<p>4760 rows × 9 columns</p>\n",
              "</div>\n",
              "    <div class=\"colab-df-buttons\">\n",
              "\n",
              "  <div class=\"colab-df-container\">\n",
              "    <button class=\"colab-df-convert\" onclick=\"convertToInteractive('df-dc000718-c988-4e99-a9b8-b632b8b3271b')\"\n",
              "            title=\"Convert this dataframe to an interactive table.\"\n",
              "            style=\"display:none;\">\n",
              "\n",
              "  <svg xmlns=\"http://www.w3.org/2000/svg\" height=\"24px\" viewBox=\"0 -960 960 960\">\n",
              "    <path d=\"M120-120v-720h720v720H120Zm60-500h600v-160H180v160Zm220 220h160v-160H400v160Zm0 220h160v-160H400v160ZM180-400h160v-160H180v160Zm440 0h160v-160H620v160ZM180-180h160v-160H180v160Zm440 0h160v-160H620v160Z\"/>\n",
              "  </svg>\n",
              "    </button>\n",
              "\n",
              "  <style>\n",
              "    .colab-df-container {\n",
              "      display:flex;\n",
              "      gap: 12px;\n",
              "    }\n",
              "\n",
              "    .colab-df-convert {\n",
              "      background-color: #E8F0FE;\n",
              "      border: none;\n",
              "      border-radius: 50%;\n",
              "      cursor: pointer;\n",
              "      display: none;\n",
              "      fill: #1967D2;\n",
              "      height: 32px;\n",
              "      padding: 0 0 0 0;\n",
              "      width: 32px;\n",
              "    }\n",
              "\n",
              "    .colab-df-convert:hover {\n",
              "      background-color: #E2EBFA;\n",
              "      box-shadow: 0px 1px 2px rgba(60, 64, 67, 0.3), 0px 1px 3px 1px rgba(60, 64, 67, 0.15);\n",
              "      fill: #174EA6;\n",
              "    }\n",
              "\n",
              "    .colab-df-buttons div {\n",
              "      margin-bottom: 4px;\n",
              "    }\n",
              "\n",
              "    [theme=dark] .colab-df-convert {\n",
              "      background-color: #3B4455;\n",
              "      fill: #D2E3FC;\n",
              "    }\n",
              "\n",
              "    [theme=dark] .colab-df-convert:hover {\n",
              "      background-color: #434B5C;\n",
              "      box-shadow: 0px 1px 3px 1px rgba(0, 0, 0, 0.15);\n",
              "      filter: drop-shadow(0px 1px 2px rgba(0, 0, 0, 0.3));\n",
              "      fill: #FFFFFF;\n",
              "    }\n",
              "  </style>\n",
              "\n",
              "    <script>\n",
              "      const buttonEl =\n",
              "        document.querySelector('#df-dc000718-c988-4e99-a9b8-b632b8b3271b button.colab-df-convert');\n",
              "      buttonEl.style.display =\n",
              "        google.colab.kernel.accessAllowed ? 'block' : 'none';\n",
              "\n",
              "      async function convertToInteractive(key) {\n",
              "        const element = document.querySelector('#df-dc000718-c988-4e99-a9b8-b632b8b3271b');\n",
              "        const dataTable =\n",
              "          await google.colab.kernel.invokeFunction('convertToInteractive',\n",
              "                                                    [key], {});\n",
              "        if (!dataTable) return;\n",
              "\n",
              "        const docLinkHtml = 'Like what you see? Visit the ' +\n",
              "          '<a target=\"_blank\" href=https://colab.research.google.com/notebooks/data_table.ipynb>data table notebook</a>'\n",
              "          + ' to learn more about interactive tables.';\n",
              "        element.innerHTML = '';\n",
              "        dataTable['output_type'] = 'display_data';\n",
              "        await google.colab.output.renderOutput(dataTable, element);\n",
              "        const docLink = document.createElement('div');\n",
              "        docLink.innerHTML = docLinkHtml;\n",
              "        element.appendChild(docLink);\n",
              "      }\n",
              "    </script>\n",
              "  </div>\n",
              "\n",
              "\n",
              "<div id=\"df-123f1ff4-c6bf-4734-801f-402bfbdb5097\">\n",
              "  <button class=\"colab-df-quickchart\" onclick=\"quickchart('df-123f1ff4-c6bf-4734-801f-402bfbdb5097')\"\n",
              "            title=\"Suggest charts\"\n",
              "            style=\"display:none;\">\n",
              "\n",
              "<svg xmlns=\"http://www.w3.org/2000/svg\" height=\"24px\"viewBox=\"0 0 24 24\"\n",
              "     width=\"24px\">\n",
              "    <g>\n",
              "        <path d=\"M19 3H5c-1.1 0-2 .9-2 2v14c0 1.1.9 2 2 2h14c1.1 0 2-.9 2-2V5c0-1.1-.9-2-2-2zM9 17H7v-7h2v7zm4 0h-2V7h2v10zm4 0h-2v-4h2v4z\"/>\n",
              "    </g>\n",
              "</svg>\n",
              "  </button>\n",
              "\n",
              "<style>\n",
              "  .colab-df-quickchart {\n",
              "      --bg-color: #E8F0FE;\n",
              "      --fill-color: #1967D2;\n",
              "      --hover-bg-color: #E2EBFA;\n",
              "      --hover-fill-color: #174EA6;\n",
              "      --disabled-fill-color: #AAA;\n",
              "      --disabled-bg-color: #DDD;\n",
              "  }\n",
              "\n",
              "  [theme=dark] .colab-df-quickchart {\n",
              "      --bg-color: #3B4455;\n",
              "      --fill-color: #D2E3FC;\n",
              "      --hover-bg-color: #434B5C;\n",
              "      --hover-fill-color: #FFFFFF;\n",
              "      --disabled-bg-color: #3B4455;\n",
              "      --disabled-fill-color: #666;\n",
              "  }\n",
              "\n",
              "  .colab-df-quickchart {\n",
              "    background-color: var(--bg-color);\n",
              "    border: none;\n",
              "    border-radius: 50%;\n",
              "    cursor: pointer;\n",
              "    display: none;\n",
              "    fill: var(--fill-color);\n",
              "    height: 32px;\n",
              "    padding: 0;\n",
              "    width: 32px;\n",
              "  }\n",
              "\n",
              "  .colab-df-quickchart:hover {\n",
              "    background-color: var(--hover-bg-color);\n",
              "    box-shadow: 0 1px 2px rgba(60, 64, 67, 0.3), 0 1px 3px 1px rgba(60, 64, 67, 0.15);\n",
              "    fill: var(--button-hover-fill-color);\n",
              "  }\n",
              "\n",
              "  .colab-df-quickchart-complete:disabled,\n",
              "  .colab-df-quickchart-complete:disabled:hover {\n",
              "    background-color: var(--disabled-bg-color);\n",
              "    fill: var(--disabled-fill-color);\n",
              "    box-shadow: none;\n",
              "  }\n",
              "\n",
              "  .colab-df-spinner {\n",
              "    border: 2px solid var(--fill-color);\n",
              "    border-color: transparent;\n",
              "    border-bottom-color: var(--fill-color);\n",
              "    animation:\n",
              "      spin 1s steps(1) infinite;\n",
              "  }\n",
              "\n",
              "  @keyframes spin {\n",
              "    0% {\n",
              "      border-color: transparent;\n",
              "      border-bottom-color: var(--fill-color);\n",
              "      border-left-color: var(--fill-color);\n",
              "    }\n",
              "    20% {\n",
              "      border-color: transparent;\n",
              "      border-left-color: var(--fill-color);\n",
              "      border-top-color: var(--fill-color);\n",
              "    }\n",
              "    30% {\n",
              "      border-color: transparent;\n",
              "      border-left-color: var(--fill-color);\n",
              "      border-top-color: var(--fill-color);\n",
              "      border-right-color: var(--fill-color);\n",
              "    }\n",
              "    40% {\n",
              "      border-color: transparent;\n",
              "      border-right-color: var(--fill-color);\n",
              "      border-top-color: var(--fill-color);\n",
              "    }\n",
              "    60% {\n",
              "      border-color: transparent;\n",
              "      border-right-color: var(--fill-color);\n",
              "    }\n",
              "    80% {\n",
              "      border-color: transparent;\n",
              "      border-right-color: var(--fill-color);\n",
              "      border-bottom-color: var(--fill-color);\n",
              "    }\n",
              "    90% {\n",
              "      border-color: transparent;\n",
              "      border-bottom-color: var(--fill-color);\n",
              "    }\n",
              "  }\n",
              "</style>\n",
              "\n",
              "  <script>\n",
              "    async function quickchart(key) {\n",
              "      const quickchartButtonEl =\n",
              "        document.querySelector('#' + key + ' button');\n",
              "      quickchartButtonEl.disabled = true;  // To prevent multiple clicks.\n",
              "      quickchartButtonEl.classList.add('colab-df-spinner');\n",
              "      try {\n",
              "        const charts = await google.colab.kernel.invokeFunction(\n",
              "            'suggestCharts', [key], {});\n",
              "      } catch (error) {\n",
              "        console.error('Error during call to suggestCharts:', error);\n",
              "      }\n",
              "      quickchartButtonEl.classList.remove('colab-df-spinner');\n",
              "      quickchartButtonEl.classList.add('colab-df-quickchart-complete');\n",
              "    }\n",
              "    (() => {\n",
              "      let quickchartButtonEl =\n",
              "        document.querySelector('#df-123f1ff4-c6bf-4734-801f-402bfbdb5097 button');\n",
              "      quickchartButtonEl.style.display =\n",
              "        google.colab.kernel.accessAllowed ? 'block' : 'none';\n",
              "    })();\n",
              "  </script>\n",
              "</div>\n",
              "\n",
              "  <div id=\"id_a228d129-5d9f-4546-ac42-f1f34bd88758\">\n",
              "    <style>\n",
              "      .colab-df-generate {\n",
              "        background-color: #E8F0FE;\n",
              "        border: none;\n",
              "        border-radius: 50%;\n",
              "        cursor: pointer;\n",
              "        display: none;\n",
              "        fill: #1967D2;\n",
              "        height: 32px;\n",
              "        padding: 0 0 0 0;\n",
              "        width: 32px;\n",
              "      }\n",
              "\n",
              "      .colab-df-generate:hover {\n",
              "        background-color: #E2EBFA;\n",
              "        box-shadow: 0px 1px 2px rgba(60, 64, 67, 0.3), 0px 1px 3px 1px rgba(60, 64, 67, 0.15);\n",
              "        fill: #174EA6;\n",
              "      }\n",
              "\n",
              "      [theme=dark] .colab-df-generate {\n",
              "        background-color: #3B4455;\n",
              "        fill: #D2E3FC;\n",
              "      }\n",
              "\n",
              "      [theme=dark] .colab-df-generate:hover {\n",
              "        background-color: #434B5C;\n",
              "        box-shadow: 0px 1px 3px 1px rgba(0, 0, 0, 0.15);\n",
              "        filter: drop-shadow(0px 1px 2px rgba(0, 0, 0, 0.3));\n",
              "        fill: #FFFFFF;\n",
              "      }\n",
              "    </style>\n",
              "    <button class=\"colab-df-generate\" onclick=\"generateWithVariable('movie_df_features')\"\n",
              "            title=\"Generate code using this dataframe.\"\n",
              "            style=\"display:none;\">\n",
              "\n",
              "  <svg xmlns=\"http://www.w3.org/2000/svg\" height=\"24px\"viewBox=\"0 0 24 24\"\n",
              "       width=\"24px\">\n",
              "    <path d=\"M7,19H8.4L18.45,9,17,7.55,7,17.6ZM5,21V16.75L18.45,3.32a2,2,0,0,1,2.83,0l1.4,1.43a1.91,1.91,0,0,1,.58,1.4,1.91,1.91,0,0,1-.58,1.4L9.25,21ZM18.45,9,17,7.55Zm-12,3A5.31,5.31,0,0,0,4.9,8.1,5.31,5.31,0,0,0,1,6.5,5.31,5.31,0,0,0,4.9,4.9,5.31,5.31,0,0,0,6.5,1,5.31,5.31,0,0,0,8.1,4.9,5.31,5.31,0,0,0,12,6.5,5.46,5.46,0,0,0,6.5,12Z\"/>\n",
              "  </svg>\n",
              "    </button>\n",
              "    <script>\n",
              "      (() => {\n",
              "      const buttonEl =\n",
              "        document.querySelector('#id_a228d129-5d9f-4546-ac42-f1f34bd88758 button.colab-df-generate');\n",
              "      buttonEl.style.display =\n",
              "        google.colab.kernel.accessAllowed ? 'block' : 'none';\n",
              "\n",
              "      buttonEl.onclick = () => {\n",
              "        google.colab.notebook.generateWithVariable('movie_df_features');\n",
              "      }\n",
              "      })();\n",
              "    </script>\n",
              "  </div>\n",
              "\n",
              "    </div>\n",
              "  </div>\n"
            ],
            "application/vnd.google.colaboratory.intrinsic+json": {
              "type": "dataframe",
              "variable_name": "movie_df_features",
              "summary": "{\n  \"name\": \"movie_df_features\",\n  \"rows\": 4760,\n  \"fields\": [\n    {\n      \"column\": \"Movie_Genre\",\n      \"properties\": {\n        \"dtype\": \"category\",\n        \"num_unique_values\": 1164,\n        \"samples\": [\n          \"Family Animation Adventure\",\n          \"Adventure Science Fiction Action\",\n          \"Action Crime Drama Romance Thriller\"\n        ],\n        \"semantic_type\": \"\",\n        \"description\": \"\"\n      }\n    },\n    {\n      \"column\": \"Movie_Keywords\",\n      \"properties\": {\n        \"dtype\": \"string\",\n        \"num_unique_values\": 4203,\n        \"samples\": [\n          \"canada nazis sequel spin off ancient evil\",\n          \"sex professor wedding woman director columbia university\",\n          \"prophecy sea beach gold small town\"\n        ],\n        \"semantic_type\": \"\",\n        \"description\": \"\"\n      }\n    },\n    {\n      \"column\": \"Movie_Tagline\",\n      \"properties\": {\n        \"dtype\": \"string\",\n        \"num_unique_values\": 3928,\n        \"samples\": [\n          \"The messenger must be silenced.\",\n          \"It's not the house that's haunted.\",\n          \"The final hunt begins.\"\n        ],\n        \"semantic_type\": \"\",\n        \"description\": \"\"\n      }\n    },\n    {\n      \"column\": \"Movie_Cast\",\n      \"properties\": {\n        \"dtype\": \"string\",\n        \"num_unique_values\": 4715,\n        \"samples\": [\n          \"Robin Tunney Fairuza Balk Neve Campbell Rachel True Skeet Ulrich\",\n          \"Peter Sellers Christopher Plummer Herbert Lom Catherine Schell Peter Arne\",\n          \"John Wayne Laraine Day Cedric Hardwicke Judith Anderson Anthony Quinn\"\n        ],\n        \"semantic_type\": \"\",\n        \"description\": \"\"\n      }\n    },\n    {\n      \"column\": \"Movie_Director\",\n      \"properties\": {\n        \"dtype\": \"category\",\n        \"num_unique_values\": 2332,\n        \"samples\": [\n          \"Rob McKittrick\",\n          \"Terron R. Parsons\",\n          \"Cyrus Nowrasteh\"\n        ],\n        \"semantic_type\": \"\",\n        \"description\": \"\"\n      }\n    },\n    {\n      \"column\": \"Movie_Overview\",\n      \"properties\": {\n        \"dtype\": \"string\",\n        \"num_unique_values\": 4758,\n        \"samples\": [\n          \"Raise Your Voice is a coming-of-age story centered around a small-town singer, brokenhearted by the death of her brother in a car crash, who had secretly submitted her for a summer session at a performing arts academy in Los Angeles. In the performing arts academy, she experiences a whole new way of life in the big city, far from the small town lifestyle she's used to.\",\n          \"A British spy ship has sunk and on board was a hi-tech encryption device. James Bond is sent to find the device that holds British launching instructions before the enemy Soviets get to it first.\",\n          \"Pro Beach Volleyball star, Kelly Reyes, faces challenges everyday, fierce competitors, the press, but nothing could prepare her for him.\"\n        ],\n        \"semantic_type\": \"\",\n        \"description\": \"\"\n      }\n    },\n    {\n      \"column\": \"Movie_Spoken_Language\",\n      \"properties\": {\n        \"dtype\": \"category\",\n        \"num_unique_values\": 541,\n        \"samples\": [\n          \"[{\\\"iso_639_1\\\": \\\"en\\\", \\\"name\\\": \\\"English\\\"}, {\\\"iso_639_1\\\": \\\"fr\\\", \\\"name\\\": \\\"Fran\\\\u00e7ais\\\"}, {\\\"iso_639_1\\\": \\\"zh\\\", \\\"name\\\": \\\"\\\\u666e\\\\u901a\\\\u8bdd\\\"}, {\\\"iso_639_1\\\": \\\"ru\\\", \\\"name\\\": \\\"P\\\\u0443\\\\u0441\\\\u0441\\\\u043a\\\\u0438\\\\u0439\\\"}, {\\\"iso_639_1\\\": \\\"es\\\", \\\"name\\\": \\\"Espa\\\\u00f1ol\\\"}]\",\n          \"[{\\\"iso_639_1\\\": \\\"sq\\\", \\\"name\\\": \\\"shqip\\\"}, {\\\"iso_639_1\\\": \\\"en\\\", \\\"name\\\": \\\"English\\\"}]\",\n          \"[{\\\"iso_639_1\\\": \\\"fr\\\", \\\"name\\\": \\\"Fran\\\\u00e7ais\\\"}, {\\\"iso_639_1\\\": \\\"hi\\\", \\\"name\\\": \\\"\\\\u0939\\\\u093f\\\\u0928\\\\u094d\\\\u0926\\\\u0940\\\"}, {\\\"iso_639_1\\\": \\\"en\\\", \\\"name\\\": \\\"English\\\"}]\"\n        ],\n        \"semantic_type\": \"\",\n        \"description\": \"\"\n      }\n    },\n    {\n      \"column\": \"Movie_Vote\",\n      \"properties\": {\n        \"dtype\": \"number\",\n        \"std\": 1.1412939937795856,\n        \"min\": 0.0,\n        \"max\": 10.0,\n        \"num_unique_values\": 69,\n        \"samples\": [\n          8.3,\n          6.5,\n          4.5\n        ],\n        \"semantic_type\": \"\",\n        \"description\": \"\"\n      }\n    },\n    {\n      \"column\": \"Movie_Vote_Count\",\n      \"properties\": {\n        \"dtype\": \"number\",\n        \"std\": 1235,\n        \"min\": 0,\n        \"max\": 13752,\n        \"num_unique_values\": 1604,\n        \"samples\": [\n          38,\n          365,\n          350\n        ],\n        \"semantic_type\": \"\",\n        \"description\": \"\"\n      }\n    }\n  ]\n}"
            }
          },
          "metadata": {},
          "execution_count": 15
        }
      ]
    },
    {
      "cell_type": "code",
      "source": [
        "movie_df_features['Movie_Vote'] = movie_df_features['Movie_Vote'].astype(str)\n",
        "movie_df_features['Movie_Vote_Count'] = movie_df_features['Movie_Vote_Count'].astype(str)"
      ],
      "metadata": {
        "id": "KLjoC4UmGmRR"
      },
      "execution_count": 17,
      "outputs": []
    },
    {
      "cell_type": "code",
      "source": [
        "movie_df_features.dtypes"
      ],
      "metadata": {
        "colab": {
          "base_uri": "https://localhost:8080/",
          "height": 366
        },
        "id": "jZejm3BuGxtv",
        "outputId": "2812aa59-32cf-4442-b341-f7f8e2b6d341"
      },
      "execution_count": 18,
      "outputs": [
        {
          "output_type": "execute_result",
          "data": {
            "text/plain": [
              "Movie_Genre              object\n",
              "Movie_Keywords           object\n",
              "Movie_Tagline            object\n",
              "Movie_Cast               object\n",
              "Movie_Director           object\n",
              "Movie_Overview           object\n",
              "Movie_Spoken_Language    object\n",
              "Movie_Vote               object\n",
              "Movie_Vote_Count         object\n",
              "dtype: object"
            ],
            "text/html": [
              "<div>\n",
              "<style scoped>\n",
              "    .dataframe tbody tr th:only-of-type {\n",
              "        vertical-align: middle;\n",
              "    }\n",
              "\n",
              "    .dataframe tbody tr th {\n",
              "        vertical-align: top;\n",
              "    }\n",
              "\n",
              "    .dataframe thead th {\n",
              "        text-align: right;\n",
              "    }\n",
              "</style>\n",
              "<table border=\"1\" class=\"dataframe\">\n",
              "  <thead>\n",
              "    <tr style=\"text-align: right;\">\n",
              "      <th></th>\n",
              "      <th>0</th>\n",
              "    </tr>\n",
              "  </thead>\n",
              "  <tbody>\n",
              "    <tr>\n",
              "      <th>Movie_Genre</th>\n",
              "      <td>object</td>\n",
              "    </tr>\n",
              "    <tr>\n",
              "      <th>Movie_Keywords</th>\n",
              "      <td>object</td>\n",
              "    </tr>\n",
              "    <tr>\n",
              "      <th>Movie_Tagline</th>\n",
              "      <td>object</td>\n",
              "    </tr>\n",
              "    <tr>\n",
              "      <th>Movie_Cast</th>\n",
              "      <td>object</td>\n",
              "    </tr>\n",
              "    <tr>\n",
              "      <th>Movie_Director</th>\n",
              "      <td>object</td>\n",
              "    </tr>\n",
              "    <tr>\n",
              "      <th>Movie_Overview</th>\n",
              "      <td>object</td>\n",
              "    </tr>\n",
              "    <tr>\n",
              "      <th>Movie_Spoken_Language</th>\n",
              "      <td>object</td>\n",
              "    </tr>\n",
              "    <tr>\n",
              "      <th>Movie_Vote</th>\n",
              "      <td>object</td>\n",
              "    </tr>\n",
              "    <tr>\n",
              "      <th>Movie_Vote_Count</th>\n",
              "      <td>object</td>\n",
              "    </tr>\n",
              "  </tbody>\n",
              "</table>\n",
              "</div><br><label><b>dtype:</b> object</label>"
            ]
          },
          "metadata": {},
          "execution_count": 18
        }
      ]
    },
    {
      "cell_type": "code",
      "source": [
        "x = movie_df_features['Movie_Genre']+\" \"+movie_df_features['Movie_Keywords']+\" \"+movie_df_features['Movie_Tagline']+\" \"+movie_df_features['Movie_Cast']+\" \"+movie_df_features['Movie_Director'] + \" \"+movie_df_features['Movie_Overview']+\" \"+movie_df_features['Movie_Spoken_Language']+\" \"+movie_df_features['Movie_Vote'] +\" \"+movie_df_features['Movie_Vote_Count']"
      ],
      "metadata": {
        "id": "q_y3RcyIE4oi"
      },
      "execution_count": 19,
      "outputs": []
    },
    {
      "cell_type": "code",
      "source": [
        "x"
      ],
      "metadata": {
        "colab": {
          "base_uri": "https://localhost:8080/",
          "height": 458
        },
        "id": "Lt6keXdRLUv8",
        "outputId": "9b966fbf-b298-42e7-e02e-ac01d9ccf75d"
      },
      "execution_count": 20,
      "outputs": [
        {
          "output_type": "execute_result",
          "data": {
            "text/plain": [
              "0       Crime Comedy hotel new year's eve witch bet ho...\n",
              "1       Adventure Action Science Fiction android galax...\n",
              "2       Animation Family father son relationship harbo...\n",
              "3       Comedy Drama Romance vietnam veteran hippie me...\n",
              "4       Drama male nudity female nudity adultery midli...\n",
              "                              ...                        \n",
              "4755    Horror  The hot spot where Satan's waitin'. Li...\n",
              "4756    Comedy Family Drama  It’s better to stand out ...\n",
              "4757    Thriller Drama christian film sex trafficking ...\n",
              "4758    Family     After being estranged since her mot...\n",
              "4759    Documentary music actors legendary perfomer cl...\n",
              "Length: 4760, dtype: object"
            ],
            "text/html": [
              "<div>\n",
              "<style scoped>\n",
              "    .dataframe tbody tr th:only-of-type {\n",
              "        vertical-align: middle;\n",
              "    }\n",
              "\n",
              "    .dataframe tbody tr th {\n",
              "        vertical-align: top;\n",
              "    }\n",
              "\n",
              "    .dataframe thead th {\n",
              "        text-align: right;\n",
              "    }\n",
              "</style>\n",
              "<table border=\"1\" class=\"dataframe\">\n",
              "  <thead>\n",
              "    <tr style=\"text-align: right;\">\n",
              "      <th></th>\n",
              "      <th>0</th>\n",
              "    </tr>\n",
              "  </thead>\n",
              "  <tbody>\n",
              "    <tr>\n",
              "      <th>0</th>\n",
              "      <td>Crime Comedy hotel new year's eve witch bet ho...</td>\n",
              "    </tr>\n",
              "    <tr>\n",
              "      <th>1</th>\n",
              "      <td>Adventure Action Science Fiction android galax...</td>\n",
              "    </tr>\n",
              "    <tr>\n",
              "      <th>2</th>\n",
              "      <td>Animation Family father son relationship harbo...</td>\n",
              "    </tr>\n",
              "    <tr>\n",
              "      <th>3</th>\n",
              "      <td>Comedy Drama Romance vietnam veteran hippie me...</td>\n",
              "    </tr>\n",
              "    <tr>\n",
              "      <th>4</th>\n",
              "      <td>Drama male nudity female nudity adultery midli...</td>\n",
              "    </tr>\n",
              "    <tr>\n",
              "      <th>...</th>\n",
              "      <td>...</td>\n",
              "    </tr>\n",
              "    <tr>\n",
              "      <th>4755</th>\n",
              "      <td>Horror  The hot spot where Satan's waitin'. Li...</td>\n",
              "    </tr>\n",
              "    <tr>\n",
              "      <th>4756</th>\n",
              "      <td>Comedy Family Drama  It’s better to stand out ...</td>\n",
              "    </tr>\n",
              "    <tr>\n",
              "      <th>4757</th>\n",
              "      <td>Thriller Drama christian film sex trafficking ...</td>\n",
              "    </tr>\n",
              "    <tr>\n",
              "      <th>4758</th>\n",
              "      <td>Family     After being estranged since her mot...</td>\n",
              "    </tr>\n",
              "    <tr>\n",
              "      <th>4759</th>\n",
              "      <td>Documentary music actors legendary perfomer cl...</td>\n",
              "    </tr>\n",
              "  </tbody>\n",
              "</table>\n",
              "<p>4760 rows × 1 columns</p>\n",
              "</div><br><label><b>dtype:</b> object</label>"
            ]
          },
          "metadata": {},
          "execution_count": 20
        }
      ]
    },
    {
      "cell_type": "code",
      "source": [
        "x.shape"
      ],
      "metadata": {
        "colab": {
          "base_uri": "https://localhost:8080/"
        },
        "id": "sgp8baUcLWx_",
        "outputId": "544e5a96-8b3c-42cf-b825-0dab1ee9333c"
      },
      "execution_count": 21,
      "outputs": [
        {
          "output_type": "execute_result",
          "data": {
            "text/plain": [
              "(4760,)"
            ]
          },
          "metadata": {},
          "execution_count": 21
        }
      ]
    },
    {
      "cell_type": "markdown",
      "source": [
        "## **Train Test Split**"
      ],
      "metadata": {
        "id": "uB6wM8-hzyzn"
      }
    },
    {
      "cell_type": "markdown",
      "source": [
        "**Get Feature Text Conversion to Tokens**"
      ],
      "metadata": {
        "id": "mXJJtUP6Lqi9"
      }
    },
    {
      "cell_type": "code",
      "source": [
        "from sklearn.feature_extraction.text import TfidfVectorizer"
      ],
      "metadata": {
        "id": "qm9a_KC9L1Ea"
      },
      "execution_count": 22,
      "outputs": []
    },
    {
      "cell_type": "code",
      "source": [
        "tfidf = TfidfVectorizer()"
      ],
      "metadata": {
        "id": "zMGBLgzOL6WH"
      },
      "execution_count": 23,
      "outputs": []
    },
    {
      "cell_type": "code",
      "source": [
        "x = tfidf.fit_transform(x)"
      ],
      "metadata": {
        "id": "ztp4XdATL609"
      },
      "execution_count": 24,
      "outputs": []
    },
    {
      "cell_type": "code",
      "source": [
        "x.shape"
      ],
      "metadata": {
        "colab": {
          "base_uri": "https://localhost:8080/"
        },
        "id": "1qR3IIaiL7Tx",
        "outputId": "27614684-051c-4945-a5df-ddf9435e7eeb"
      },
      "execution_count": 25,
      "outputs": [
        {
          "output_type": "execute_result",
          "data": {
            "text/plain": [
              "(4760, 32060)"
            ]
          },
          "metadata": {},
          "execution_count": 25
        }
      ]
    },
    {
      "cell_type": "code",
      "source": [
        "print(x)"
      ],
      "metadata": {
        "colab": {
          "base_uri": "https://localhost:8080/"
        },
        "id": "KosFvpdGL7rb",
        "outputId": "5dec74d3-2161-441d-ccae-94e95a4f9d8e"
      },
      "execution_count": 26,
      "outputs": [
        {
          "output_type": "stream",
          "name": "stdout",
          "text": [
            "  (0, 1345)\t0.1431414429681611\n",
            "  (0, 10432)\t0.019375204803159834\n",
            "  (0, 20085)\t0.018468481535715463\n",
            "  (0, 10347)\t0.019383361640742714\n",
            "  (0, 15469)\t0.018468481535715463\n",
            "  (0, 2849)\t0.08206176190608519\n",
            "  (0, 2206)\t0.05297783394093116\n",
            "  (0, 13536)\t0.12313107922491917\n",
            "  (0, 29917)\t0.13243536850546073\n",
            "  (0, 30215)\t0.0537418104563553\n",
            "  (0, 25692)\t0.1243877304278821\n",
            "  (0, 15437)\t0.03030775982375688\n",
            "  (0, 25687)\t0.10120165607897877\n",
            "  (0, 10766)\t0.1243877304278821\n",
            "  (0, 28591)\t0.056589945785903595\n",
            "  (0, 28502)\t0.04046916794104871\n",
            "  (0, 25536)\t0.08970353430686347\n",
            "  (0, 22610)\t0.15244573224870264\n",
            "  (0, 26688)\t0.07285965644484262\n",
            "  (0, 14099)\t0.0524690238163252\n",
            "  (0, 22191)\t0.08338221078554481\n",
            "  (0, 28794)\t0.022537716840184602\n",
            "  (0, 1882)\t0.06046655397229296\n",
            "  (0, 3061)\t0.0487388537354876\n",
            "  (0, 30200)\t0.11534552074829929\n",
            "  :\t:\n",
            "  (4758, 28815)\t0.10090456991447631\n",
            "  (4758, 28519)\t0.12147117295882351\n",
            "  (4758, 8419)\t0.09495843198732268\n",
            "  (4758, 2206)\t0.07336989782345593\n",
            "  (4758, 15437)\t0.04197372893739341\n",
            "  (4758, 28502)\t0.05604643481924195\n",
            "  (4758, 28794)\t0.09363859516691644\n",
            "  (4758, 20808)\t0.032080781538938216\n",
            "  (4758, 28507)\t0.11178866496131565\n",
            "  (4758, 14892)\t0.03674113532830057\n",
            "  (4758, 2723)\t0.12871324262986925\n",
            "  (4759, 20988)\t0.37137872868916844\n",
            "  (4759, 21834)\t0.37137872868916844\n",
            "  (4759, 26251)\t0.34204332269473964\n",
            "  (4759, 20108)\t0.34204332269473964\n",
            "  (4759, 2015)\t0.2890238322801506\n",
            "  (4759, 9394)\t0.19603279539095006\n",
            "  (4759, 26231)\t0.2098053367850008\n",
            "  (4759, 6723)\t0.23687699226128178\n",
            "  (4759, 11977)\t0.19880900651583414\n",
            "  (4759, 14244)\t0.23348942120516103\n",
            "  (4759, 17223)\t0.22536820138537886\n",
            "  (4759, 28873)\t0.20666893587113278\n",
            "  (4759, 4228)\t0.228144412510263\n",
            "  (4759, 19955)\t0.16876228890789038\n"
          ]
        }
      ]
    },
    {
      "cell_type": "markdown",
      "source": [
        "## **Modeling and Model Evalution**"
      ],
      "metadata": {
        "id": "dCY4PdAO0XAa"
      }
    },
    {
      "cell_type": "markdown",
      "source": [
        "**Get Similarity Score using Cosine Similarity**"
      ],
      "metadata": {
        "id": "90_0q_Pbi658"
      }
    },
    {
      "cell_type": "markdown",
      "source": [
        "cosine similarity computes the L2-normalized dot product of vectors. Euclidean (L2) normalization projects the vectors onto the unit sphere, and their dot product is then the cosine of the angle between the points denoted by the vectors"
      ],
      "metadata": {
        "id": "RN1lF3GKNB4v"
      }
    },
    {
      "cell_type": "code",
      "source": [
        "from sklearn.metrics.pairwise import cosine_similarity"
      ],
      "metadata": {
        "id": "43SSf-w2NPMY"
      },
      "execution_count": 27,
      "outputs": []
    },
    {
      "cell_type": "code",
      "source": [
        "Similarity_Score = cosine_similarity(x)"
      ],
      "metadata": {
        "id": "0nstwk8SNSl4"
      },
      "execution_count": 28,
      "outputs": []
    },
    {
      "cell_type": "code",
      "source": [
        "Similarity_Score"
      ],
      "metadata": {
        "colab": {
          "base_uri": "https://localhost:8080/"
        },
        "id": "qeIzS2EuNSew",
        "outputId": "0da92fbd-fdaf-45cd-ed14-57d0d3e432ae"
      },
      "execution_count": 29,
      "outputs": [
        {
          "output_type": "execute_result",
          "data": {
            "text/plain": [
              "array([[1.        , 0.02617651, 0.02871287, ..., 0.02995513, 0.03046552,\n",
              "        0.        ],\n",
              "       [0.02617651, 1.        , 0.01590967, ..., 0.01706277, 0.06915535,\n",
              "        0.        ],\n",
              "       [0.02871287, 0.01590967, 1.        , ..., 0.01459597, 0.05301671,\n",
              "        0.        ],\n",
              "       ...,\n",
              "       [0.02995513, 0.01706277, 0.01459597, ..., 1.        , 0.07683451,\n",
              "        0.        ],\n",
              "       [0.03046552, 0.06915535, 0.05301671, ..., 0.07683451, 1.        ,\n",
              "        0.        ],\n",
              "       [0.        , 0.        , 0.        , ..., 0.        , 0.        ,\n",
              "        1.        ]])"
            ]
          },
          "metadata": {},
          "execution_count": 29
        }
      ]
    },
    {
      "cell_type": "code",
      "source": [
        "Similarity_Score.shape"
      ],
      "metadata": {
        "colab": {
          "base_uri": "https://localhost:8080/"
        },
        "id": "wz5sadW4NSXq",
        "outputId": "488f2b7a-53f2-41b8-e881-ea078980c081"
      },
      "execution_count": 30,
      "outputs": [
        {
          "output_type": "execute_result",
          "data": {
            "text/plain": [
              "(4760, 4760)"
            ]
          },
          "metadata": {},
          "execution_count": 30
        }
      ]
    },
    {
      "cell_type": "markdown",
      "source": [
        "**Get Movie Name as Input from User and Validate for Closest Spelling**"
      ],
      "metadata": {
        "id": "2S0PmAbYM4s9"
      }
    },
    {
      "cell_type": "code",
      "source": [
        "fav_movie = input('Enter your favourite movie name: ')"
      ],
      "metadata": {
        "colab": {
          "base_uri": "https://localhost:8080/"
        },
        "id": "QzLxxgsvRTRm",
        "outputId": "e43284af-f2b1-4479-e1f4-7fa88a75d991"
      },
      "execution_count": 31,
      "outputs": [
        {
          "name": "stdout",
          "output_type": "stream",
          "text": [
            "Enter your favourite movie name: avtaar\n"
          ]
        }
      ]
    },
    {
      "cell_type": "code",
      "source": [
        "all_movies_title_list = movie_df['Movie_Title'].tolist()"
      ],
      "metadata": {
        "id": "N67HchY-RTIv"
      },
      "execution_count": 32,
      "outputs": []
    },
    {
      "cell_type": "code",
      "source": [
        "import difflib"
      ],
      "metadata": {
        "id": "EoYTTsyeRTFT"
      },
      "execution_count": 33,
      "outputs": []
    },
    {
      "cell_type": "code",
      "source": [
        "Movie_recommendation = difflib.get_close_matches(fav_movie, all_movies_title_list)\n",
        "print(Movie_recommendation)"
      ],
      "metadata": {
        "colab": {
          "base_uri": "https://localhost:8080/"
        },
        "id": "716hYAGbRS_z",
        "outputId": "e3ad79f1-53a9-4aa7-b282-c13026a29f03"
      },
      "execution_count": 34,
      "outputs": [
        {
          "output_type": "stream",
          "name": "stdout",
          "text": [
            "['Avatar', 'Gattaca']\n"
          ]
        }
      ]
    },
    {
      "cell_type": "code",
      "source": [
        "close_match = Movie_recommendation[0]\n",
        "print(close_match)"
      ],
      "metadata": {
        "colab": {
          "base_uri": "https://localhost:8080/"
        },
        "id": "vj6jnC6cRSvT",
        "outputId": "f288d69c-8604-4b6d-e686-53c28450a7e0"
      },
      "execution_count": 35,
      "outputs": [
        {
          "output_type": "stream",
          "name": "stdout",
          "text": [
            "Avatar\n"
          ]
        }
      ]
    },
    {
      "cell_type": "code",
      "source": [
        "Index_of_close_match_movie = movie_df[movie_df.Movie_Title == close_match]['Movie_ID'].values[0]\n",
        "print(Index_of_close_match_movie)"
      ],
      "metadata": {
        "colab": {
          "base_uri": "https://localhost:8080/"
        },
        "id": "4XZUuJolR1KX",
        "outputId": "62c45e30-b9f2-403d-b065-3b65a8356822"
      },
      "execution_count": 36,
      "outputs": [
        {
          "output_type": "stream",
          "name": "stdout",
          "text": [
            "2692\n"
          ]
        }
      ]
    },
    {
      "cell_type": "code",
      "source": [
        "#getting a list of similar movies\n",
        "Recommendation_Score = list(enumerate(Similarity_Score[Index_of_close_match_movie]))\n",
        "print(Recommendation_Score)"
      ],
      "metadata": {
        "colab": {
          "base_uri": "https://localhost:8080/"
        },
        "id": "msssDECVR9Jx",
        "outputId": "5f4d4175-5421-4a19-a23d-e45c9b4cdf19"
      },
      "execution_count": 37,
      "outputs": [
        {
          "output_type": "stream",
          "name": "stdout",
          "text": [
            "[(0, 0.03620194027579146), (1, 0.048199025359130954), (2, 0.015288731297729528), (3, 0.08144528499444703), (4, 0.013965824927781008), (5, 0.03775212552943484), (6, 0.02796900709467622), (7, 0.05162453182010886), (8, 0.03738622756351601), (9, 0.02004158064168366), (10, 0.03911705755290452), (11, 0.03188541416092211), (12, 0.022020344940015712), (13, 0.016874309175987097), (14, 0.019934406282059437), (15, 0.03974906737886727), (16, 0.022755105175848667), (17, 0.008152100117772135), (18, 0.04538894594521242), (19, 0.019236211349706836), (20, 0.03518496390899163), (21, 0.03285773753755881), (22, 0.030561768300687544), (23, 0.011817328716716596), (24, 0.024042594836169367), (25, 0.03338028111545039), (26, 0.026683350978761695), (27, 0.05420590645599683), (28, 0.028704209741689357), (29, 0.021526447351376366), (30, 0.03166425491207999), (31, 0.02232378659261791), (32, 0.018789827337092373), (33, 0.023261063214793147), (34, 0.017276097711724357), (35, 0.02226155653702916), (36, 0.014274139287379875), (37, 0.035912794970250884), (38, 0.030782748398673346), (39, 0.034745369908547014), (40, 0.04135833247511186), (41, 0.044519911141815555), (42, 0.01526780481251331), (43, 0.020030851702362216), (44, 0.02615785205105911), (45, 0.047578091884170316), (46, 0.04736660288976301), (47, 0.022985985672180496), (48, 0.028365314220393355), (49, 0.026963300340981093), (50, 0.022285520500075942), (51, 0.05317338074541915), (52, 0.026753254169742603), (53, 0.013166962779621883), (54, 0.023418048976260458), (55, 0.049105722998430024), (56, 0.03449308990012863), (57, 0.024727734588166874), (58, 0.02215688637259332), (59, 0.03551017625112398), (60, 0.02043167716641917), (61, 0.015915455462596317), (62, 0.056478766731914404), (63, 0.030108212367070827), (64, 0.023474951844649414), (65, 0.04521818042561256), (66, 0.01661002616713074), (67, 0.05121559704557941), (68, 0.03565321864398123), (69, 0.032362931494988735), (70, 0.03842721580690214), (71, 0.006521473681445185), (72, 0.04587182648559343), (73, 0.03538102376426636), (74, 0.019209188665576114), (75, 0.05309574924600204), (76, 0.025418475080678207), (77, 0.02125613578679543), (78, 0.04053517685695349), (79, 0.00999123750503201), (80, 0.04132899223599759), (81, 0.012765372662644704), (82, 0.017277635989374405), (83, 0.017406216693797414), (84, 0.04532034216261798), (85, 0.06383182801284332), (86, 0.04799994083416003), (87, 0.03477016805457549), (88, 0.052195226724656804), (89, 0.0236457626483794), (90, 0.04741118888227905), (91, 0.0327505811971011), (92, 0.028619873524274045), (93, 0.024459532932590837), (94, 0.03392227955221597), (95, 0.04175734292644856), (96, 0.021641054825083137), (97, 0.05270018965757898), (98, 0.018736913510510104), (99, 0.033978270488480136), (100, 0.033705492146580314), (101, 0.04313351230676785), (102, 0.020463359762472436), (103, 0.03628636816326053), (104, 0.06148121013965676), (105, 0.017795738314649607), (106, 0.04096778475128517), (107, 0.03532982642576041), (108, 0.03374754226237604), (109, 0.03515299857894715), (110, 0.07055634414767106), (111, 0.02779125684832369), (112, 0.028228168764286958), (113, 0.015491907488098196), (114, 0.04318557814492917), (115, 0.06301056174619411), (116, 0.04107746372570133), (117, 0.012666729239426446), (118, 0.01728103164165669), (119, 0.017826019829304936), (120, 0.018832212841046487), (121, 0.033201650121090914), (122, 0.042027789086601125), (123, 0.023599464226918915), (124, 0.035403496437714434), (125, 0.025918570507981124), (126, 0.044369712440379724), (127, 0.014597750465852755), (128, 0.021048656330484573), (129, 0.028981938001980373), (130, 0.03357162789562419), (131, 0.028549219107103382), (132, 0.010929357734491961), (133, 0.01190564323506783), (134, 0.00978981760619879), (135, 0.024804014973450212), (136, 0.043199220502070625), (137, 0.05719919088349297), (138, 0.058995340343810654), (139, 0.030834435173746125), (140, 0.015794519777328625), (141, 0.02282385123066587), (142, 0.024062661087352707), (143, 0.04007623873917984), (144, 0.030085507044202285), (145, 0.021688724472163218), (146, 0.031186202614525222), (147, 0.023064413015430937), (148, 0.018504833427208066), (149, 0.02176324628191106), (150, 0.01906268740898565), (151, 0.019980368258653135), (152, 0.030270999253063775), (153, 0.0263264598064489), (154, 0.029877040614823745), (155, 0.06315690645758548), (156, 0.05498017238436207), (157, 0.0393086936501931), (158, 0.02349271174208927), (159, 0.020950388580854424), (160, 0.02470283548274927), (161, 0.05675620304143867), (162, 0.040860962612139264), (163, 0.031177379880711842), (164, 0.011581324536552756), (165, 0.027106345226122923), (166, 0.0293096549210711), (167, 0.0659081854343288), (168, 0.030668669456212657), (169, 0.028076784588711233), (170, 0.043949857650369704), (171, 0.03437638992545244), (172, 0.02941007189855301), (173, 0.026534356517885518), (174, 0.022902674563719378), (175, 0.040230971851839936), (176, 0.02192588669711488), (177, 0.03380026846308624), (178, 0.03659478970684835), (179, 0.027483494830027277), (180, 0.05729284575211396), (181, 0.05078724218533366), (182, 0.025725946983810317), (183, 0.0162789522060314), (184, 0.015047900177647037), (185, 0.04360142097391234), (186, 0.0330181372981038), (187, 0.016256490837701462), (188, 0.038769423892949656), (189, 0.03121356403356347), (190, 0.013869670208488337), (191, 0.037171680096384316), (192, 0.024417416557155062), (193, 0.038571196390242424), (194, 0.02446745396379563), (195, 0.04910838770564292), (196, 0.04430895730965711), (197, 0.011895997966219393), (198, 0.038292996199124664), (199, 0.03328148181342104), (200, 0.03187421573019544), (201, 0.01818797631243901), (202, 0.019823677416704173), (203, 0.022337652571526614), (204, 0.03814453832170312), (205, 0.010085721145089278), (206, 0.01594215539732581), (207, 0.02085446103062836), (208, 0.016245545870464093), (209, 0.02057823270552075), (210, 0.050388708326128046), (211, 0.024804807292460568), (212, 0.04318438929306555), (213, 0.023568534400268175), (214, 0.023569182462689926), (215, 0.017071618814950337), (216, 0.031012909797349792), (217, 0.04536017751287527), (218, 0.021350858218846674), (219, 0.03356305813804264), (220, 0.025218286981051816), (221, 0.030193760392328933), (222, 0.02778339403979025), (223, 0.03141342335725274), (224, 0.041749534325275534), (225, 0.022191614880537537), (226, 0.0380520153927827), (227, 0.027471595649766267), (228, 0.035179921005630846), (229, 0.024103722174505696), (230, 0.005136869876535359), (231, 0.024107325888427032), (232, 0.027664350331971028), (233, 0.024469359578067434), (234, 0.03354499833408887), (235, 0.02101219564232864), (236, 0.03264125489852856), (237, 0.02061908550457392), (238, 0.041379549641091265), (239, 0.015817912123291283), (240, 0.031160409570450253), (241, 0.04344800526814347), (242, 0.019718149969363233), (243, 0.01822435374684321), (244, 0.01499001160296518), (245, 0.05322753131405133), (246, 0.01805782359168959), (247, 0.02559706997196258), (248, 0.11926762260597264), (249, 0.03894381534054757), (250, 0.03135781537343947), (251, 0.03818233449855066), (252, 0.026462514222926135), (253, 0.029355474089780204), (254, 0.07130072511321094), (255, 0.09483333204809885), (256, 0.033273767170811513), (257, 0.046359799575435096), (258, 0.023366688080342007), (259, 0.02715795392033898), (260, 0.04145702627469602), (261, 0.03808144473908881), (262, 0.021568372393505217), (263, 0.03861289638310728), (264, 0.04293252194425027), (265, 0.03230148029913073), (266, 0.027153653794580887), (267, 0.05191803903670887), (268, 0.03144544729492486), (269, 0.041909007254649036), (270, 0.017456388929298315), (271, 0.05032606612146001), (272, 0.01796360248939421), (273, 0.016709153993570904), (274, 0.02364566504306864), (275, 0.02094567818280263), (276, 0.02611348830019024), (277, 0.06633528514797661), (278, 0.017914348905508016), (279, 0.04676538389731486), (280, 0.020096241784710128), (281, 0.03861917954358771), (282, 0.05596538630093185), (283, 0.03312132285090386), (284, 0.034428330185665296), (285, 0.029899876347905186), (286, 0.037658752509298885), (287, 0.0401516898621585), (288, 0.027451392907080062), (289, 0.018860115031412536), (290, 0.022583417415086755), (291, 0.03459407267541675), (292, 0.054784296197026135), (293, 0.011797536525814471), (294, 0.030647972619130184), (295, 0.040186370977574784), (296, 0.010917121650947319), (297, 0.026771118278936072), (298, 0.014554582742852889), (299, 0.02934977704937304), (300, 0.034267034945970096), (301, 0.025819796831971685), (302, 0.041692246936666), (303, 0.038028270799303036), (304, 0.031556513910585185), (305, 0.024403033466591756), (306, 0.026084004544958385), (307, 0.03018120595439521), (308, 0.023212120814590603), (309, 0.02420445025203892), (310, 0.020111642315158933), (311, 0.03054822876584411), (312, 0.02201152777874523), (313, 0.021315783212233565), (314, 0.025139731563116267), (315, 0.015404388088978305), (316, 0.017446780100538822), (317, 0.0417284307311089), (318, 0.022453394283386517), (319, 0.05066359531570438), (320, 0.052322762313637444), (321, 0.039033057444893604), (322, 0.02165357081685852), (323, 0.013991627808977987), (324, 0.02160190566604192), (325, 0.031677415562253466), (326, 0.036722544900996655), (327, 0.030664952808718924), (328, 0.02094220663948604), (329, 0.02852473315783944), (330, 0.032163179214679614), (331, 0.013055454370789045), (332, 0.023376557572451204), (333, 0.02819933659164904), (334, 0.06490801285386007), (335, 0.022160349117800064), (336, 0.025201395741307513), (337, 0.047395688293942285), (338, 0.033460002820858904), (339, 0.023163877212189172), (340, 0.04350617402675036), (341, 0.02597337559381137), (342, 0.05517909427008365), (343, 0.027541508766829148), (344, 0.011196590483206235), (345, 0.020347688718456856), (346, 0.01953838380855005), (347, 0.026283744709044182), (348, 0.018053836418098004), (349, 0.017500758393810486), (350, 0.027212166131827635), (351, 0.0703036056511202), (352, 0.03139708029758537), (353, 0.026313935545641355), (354, 0.023250495244695888), (355, 0.0330461561665597), (356, 0.0222109438835989), (357, 0.024814176687632482), (358, 0.028363451352184207), (359, 0.041767445448181756), (360, 0.05077688379366096), (361, 0.0054128954365998475), (362, 0.03684664364950845), (363, 0.039452080578870743), (364, 0.0459523483868051), (365, 0.03428820479948414), (366, 0.018420956548357223), (367, 0.021602138162461752), (368, 0.021491403707220972), (369, 0.021946282834791424), (370, 0.017998625189374905), (371, 0.015369111002875229), (372, 0.030476413903051426), (373, 0.03642774470021479), (374, 0.02470815517238005), (375, 0.03462349644965003), (376, 0.027129028584229463), (377, 0.05004823562027994), (378, 0.03860725771266848), (379, 0.04023867421943063), (380, 0.02307788684274553), (381, 0.04588752996771228), (382, 0.010084771979145462), (383, 0.02985298983130332), (384, 0.0625694156682535), (385, 0.019771506216749765), (386, 0.022655903079367243), (387, 0.03305434321207487), (388, 0.04013733667253863), (389, 0.029325613833598368), (390, 0.023724577251690006), (391, 0.01296855682599879), (392, 0.02032108848523126), (393, 0.011741324835953464), (394, 0.02013238811790324), (395, 0.037272607306157675), (396, 0.03529412719588138), (397, 0.007654737358727076), (398, 0.052466315010048385), (399, 0.03875907102469313), (400, 0.03484693989839663), (401, 0.030854377157191772), (402, 0.016530170424772), (403, 0.04541889952308498), (404, 0.023112189101388927), (405, 0.031145387087543226), (406, 0.029487042863975372), (407, 0.02640217589401466), (408, 0.035281557455019166), (409, 0.02471426458379171), (410, 0.02326490413409805), (411, 0.0209517756592302), (412, 0.03766924346891305), (413, 0.03251283253787355), (414, 0.06565947517565356), (415, 0.046661800643954726), (416, 0.042248870208346494), (417, 0.02446929897699202), (418, 0.028509878139451935), (419, 0.01372115634948396), (420, 0.027529939492490527), (421, 0.04572376450547247), (422, 0.02553263199548248), (423, 0.020218668305020615), (424, 0.06315592031299046), (425, 0.01603802167604157), (426, 0.03211218601880218), (427, 0.034690172440227936), (428, 0.030272890939808946), (429, 0.056353221590661064), (430, 0.03347073015440414), (431, 0.0061956688130947995), (432, 0.034491297098138966), (433, 0.02049348869023772), (434, 0.0281590165786541), (435, 0.023553502323128587), (436, 0.025283398706556666), (437, 0.029741244558167762), (438, 0.03283642837983318), (439, 0.032008404149858345), (440, 0.03503825109391079), (441, 0.02201670669754948), (442, 0.028341696100115388), (443, 0.024264414377445528), (444, 0.014242119858196192), (445, 0.016947965409406927), (446, 0.04309273704162922), (447, 0.027818995338901153), (448, 0.03779565034835025), (449, 0.017392121787196783), (450, 0.0184207542823491), (451, 0.021398895220759044), (452, 0.031581424067462706), (453, 0.037015980082167374), (454, 0.026655040352211706), (455, 0.06398808998452812), (456, 0.025980485295300115), (457, 0.032094825506825006), (458, 0.02939024975319496), (459, 0.02901521524050053), (460, 0.06123090063718196), (461, 0.023281891267828828), (462, 0.024079098528676554), (463, 0.014305884257050806), (464, 0.044624702148997025), (465, 0.035585521686788565), (466, 0.012467962688829184), (467, 0.016117925147402686), (468, 0.03339430732146725), (469, 0.014858664256658433), (470, 0.014799953480881547), (471, 0.022280411111501232), (472, 0.025399662572344803), (473, 0.03217587031036488), (474, 0.05015084422988103), (475, 0.016951339310887614), (476, 0.02608788279042907), (477, 0.04951993800578599), (478, 0.022107313826138262), (479, 0.0670049234126441), (480, 0.027945973976863932), (481, 0.03436079291157265), (482, 0.02344261202809038), (483, 0.040321343916934205), (484, 0.011268074655825456), (485, 0.031008906697536656), (486, 0.06614805105296381), (487, 0.0067921289944907984), (488, 0.040812462119477366), (489, 0.020333079935686414), (490, 0.012912002303065762), (491, 0.029250453271232598), (492, 0.024037099319040897), (493, 0.021203765320026498), (494, 0.0281834236867194), (495, 0.027192023542048388), (496, 0.021387724302876124), (497, 0.01999272571662685), (498, 0.02716414241456168), (499, 0.014573998272600055), (500, 0.034644743777806644), (501, 0.027888296243783875), (502, 0.04085922643454975), (503, 0.008659632921071674), (504, 0.054958920101426), (505, 0.008628807510494652), (506, 0.06666793094199888), (507, 0.018859209754992487), (508, 0.05509667754587419), (509, 0.020332222964994085), (510, 0.02020678991245027), (511, 0.0707015335431511), (512, 0.033865905368627734), (513, 0.021268320343279957), (514, 0.018009494817378416), (515, 0.027538256440609355), (516, 0.022757542931403838), (517, 0.01732621957437363), (518, 0.0434762588108797), (519, 0.04223946728682909), (520, 0.024576186403254853), (521, 0.029835177069796104), (522, 0.09433209424767858), (523, 0.022090313454584735), (524, 0.017955898402273025), (525, 0.030800937492776997), (526, 0.05588156267583661), (527, 0.03952677278255676), (528, 0.02047522650116445), (529, 0.023660172373347704), (530, 0.04611807291062243), (531, 0.025634715072994075), (532, 0.029986109046368677), (533, 0.029378581159711543), (534, 0.017040594720567428), (535, 0.007338825920873145), (536, 0.03548848792700925), (537, 0.027132565867552076), (538, 0.02743894912959209), (539, 0.017191162715808773), (540, 0.02450757560515472), (541, 0.017855800518234943), (542, 0.0858779531644399), (543, 0.018019014830741573), (544, 0.021396115491448164), (545, 0.05276438090755956), (546, 0.05649605197498008), (547, 0.022041065197342512), (548, 0.04635553203919681), (549, 0.015968389381691143), (550, 0.035041276137735625), (551, 0.04983346598582952), (552, 0.045404901353689416), (553, 0.04417954884434471), (554, 0.022047723867157254), (555, 0.025546527958977137), (556, 0.013761429235818341), (557, 0.022390414828973783), (558, 0.027544284707185767), (559, 0.03440124514374208), (560, 0.03226314460093431), (561, 0.02715462400195744), (562, 0.027140648876750675), (563, 0.02119495917306318), (564, 0.02078977305190041), (565, 0.015608276280181025), (566, 0.05549598002979833), (567, 0.018159620364864536), (568, 0.025865699710956404), (569, 0.023994039971637706), (570, 0.01889032189045777), (571, 0.013799198041777514), (572, 0.02471770834930263), (573, 0.03022955456500047), (574, 0.01441686301554091), (575, 0.04436683228517514), (576, 0.018930100189827066), (577, 0.039454488819921175), (578, 0.037368708191871845), (579, 0.029209301067363597), (580, 0.013521512607485252), (581, 0.02261668426675328), (582, 0.02157254833520493), (583, 0.04695361697628325), (584, 0.045712522199500664), (585, 0.0348785225314295), (586, 0.04247793450054888), (587, 0.03083825829327937), (588, 0.023116967552455327), (589, 0.018387429651444968), (590, 0.0497582896897298), (591, 0.0323596069008558), (592, 0.02435598015801368), (593, 0.017913551469455412), (594, 0.01909508490760337), (595, 0.029851223308461045), (596, 0.012151309358202198), (597, 0.036440350149772156), (598, 0.07251866758896208), (599, 0.023721546100209857), (600, 0.03469446479096359), (601, 0.027636547190997722), (602, 0.044531343000789286), (603, 0.06005174953029995), (604, 0.04247307950827953), (605, 0.026569019954773405), (606, 0.055467113582042094), (607, 0.020502945400754348), (608, 0.02513776213923071), (609, 0.03890343081804005), (610, 0.014630056312655671), (611, 0.022199600258528098), (612, 0.05709626105755305), (613, 0.029282756670412725), (614, 0.03413041795953691), (615, 0.047851036573784624), (616, 0.029585788066773415), (617, 0.06244887725255506), (618, 0.03813862425257968), (619, 0.011295985733174748), (620, 0.03043177275770697), (621, 0.014465949978256908), (622, 0.04677907927621948), (623, 0.016428337394239455), (624, 0.04174294870257794), (625, 0.023317421416673464), (626, 0.029237741967651863), (627, 0.01936451121067112), (628, 0.08923428290220788), (629, 0.0420087401869942), (630, 0.014059403152872515), (631, 0.012888141624564795), (632, 0.03139591007707642), (633, 0.021409730975485104), (634, 0.022637025974223426), (635, 0.03263634219837372), (636, 0.01657322854668982), (637, 0.04362621985174888), (638, 0.03583717709997838), (639, 0.0307461549425797), (640, 0.017484770712190244), (641, 0.021394266786125264), (642, 0.06540093822061033), (643, 0.01575943562403992), (644, 0.06462976740519667), (645, 0.028166870749923276), (646, 0.023847538240982753), (647, 0.02952145142768447), (648, 0.042670224254622934), (649, 0.015848730747396563), (650, 0.020335982471168017), (651, 0.03969264584176463), (652, 0.023183647143949892), (653, 0.019841238485207004), (654, 0.033223777553731584), (655, 0.012481593268063224), (656, 0.03227552084854645), (657, 0.016359966216806843), (658, 0.04092501561066813), (659, 0.022294788922131634), (660, 0.025266832828736534), (661, 0.04075586457492681), (662, 0.025716986624659516), (663, 0.02108637865972248), (664, 0.033286763623168174), (665, 0.01707713661518301), (666, 0.014632406533050386), (667, 0.010247096162725074), (668, 0.022029234369784424), (669, 0.02304265339983952), (670, 0.01735440720164548), (671, 0.014167650144546576), (672, 0.028287375322104014), (673, 0.039233600274904856), (674, 0.022846191259159893), (675, 0.0419912236975243), (676, 0.04807122909870489), (677, 0.023378758196723422), (678, 0.020701214997584687), (679, 0.023237393031888168), (680, 0.0487390274545874), (681, 0.009673853952688632), (682, 0.027020790459619765), (683, 0.06482884830468935), (684, 0.030651822299821073), (685, 0.01679155801194946), (686, 0.024853198911564678), (687, 0.030719786805320785), (688, 0.017355618571133432), (689, 0.038709727903699795), (690, 0.015529170407133409), (691, 0.027712546741482127), (692, 0.0334468300186127), (693, 0.0421394227181071), (694, 0.042297814389133596), (695, 0.02247988191797786), (696, 0.025619247479149683), (697, 0.037531541230795044), (698, 0.04482631060622538), (699, 0.029287243228853982), (700, 0.031053776546657162), (701, 0.047127761330975834), (702, 0.028117849931366783), (703, 0.028560707809471085), (704, 0.023125819330658923), (705, 0.019054780931332158), (706, 0.0276626191879734), (707, 0.019465000600361104), (708, 0.03383491595893848), (709, 0.006938353701090107), (710, 0.0337869556988744), (711, 0.011160189302586814), (712, 0.011475504486402678), (713, 0.017878639308860085), (714, 0.02625992286829868), (715, 0.04908392673034623), (716, 0.03712680416767254), (717, 0.03093837598439391), (718, 0.039944930316092045), (719, 0.019808262352563985), (720, 0.017524357524549172), (721, 0.04518519252386149), (722, 0.037452133073239934), (723, 0.029646903259580838), (724, 0.0252341202541626), (725, 0.022735374427352063), (726, 0.023688259509364994), (727, 0.0301126597184404), (728, 0.028209855983067494), (729, 0.031558631165067574), (730, 0.040584807758316244), (731, 0.018049156975802894), (732, 0.029711634641492693), (733, 0.022020701917835006), (734, 0.017568652768348743), (735, 0.10156831225699496), (736, 0.020335863439770997), (737, 0.016933416061289557), (738, 0.04619364772214603), (739, 0.022851429449885215), (740, 0.016955743630324583), (741, 0.06154231631753318), (742, 0.02774320006963228), (743, 0.020009715009604873), (744, 0.06628703281933178), (745, 0.019129592668815077), (746, 0.010401885270763222), (747, 0.019127495139112192), (748, 0.01965402005250071), (749, 0.01896584673624164), (750, 0.018342414326623056), (751, 0.01270858053492123), (752, 0.019317936661076156), (753, 0.027769983766582247), (754, 0.04817178509773589), (755, 0.03674782194905295), (756, 0.02501227373563497), (757, 0.017222472674635055), (758, 0.03693315321173752), (759, 0.011371782732442416), (760, 0.02811239995568221), (761, 0.027850244260904676), (762, 0.0626628777460321), (763, 0.03722318962680005), (764, 0.04919787744654409), (765, 0.06934271991227207), (766, 0.06248726505006383), (767, 0.020845141388072263), (768, 0.02273451144905882), (769, 0.054725765248353375), (770, 0.025843582223579718), (771, 0.019475334624486362), (772, 0.01351611324236605), (773, 0.02439212667467336), (774, 0.04347857799750388), (775, 0.025800376007802477), (776, 0.012268806328609546), (777, 0.029719051085328522), (778, 0.020241043464546228), (779, 0.06294804840456532), (780, 0.02325506058414054), (781, 0.019966038894718822), (782, 0.02600026894035374), (783, 0.021114388230243704), (784, 0.035815593764201306), (785, 0.04994853001827315), (786, 0.019659854536857677), (787, 0.025132525516755946), (788, 0.042174025482301945), (789, 0.014883373844732045), (790, 0.031363842245579775), (791, 0.014380861969235863), (792, 0.035868983374169626), (793, 0.010396655963462172), (794, 0.014733604217596851), (795, 0.015629020928736487), (796, 0.030829498756008544), (797, 0.006495113501516284), (798, 0.08172162568804987), (799, 0.03744381760782077), (800, 0.03741763856859847), (801, 0.014680012128521894), (802, 0.021882097934163396), (803, 0.018282454570726164), (804, 0.03902060791281069), (805, 0.05454096737541292), (806, 0.04871552424292495), (807, 0.0252504544681754), (808, 0.04534106883392749), (809, 0.02351563968863205), (810, 0.025240780551824778), (811, 0.04756523730361501), (812, 0.025675754054488645), (813, 0.017608824291215363), (814, 0.043030295424664716), (815, 0.024740330083913867), (816, 0.02009007261628791), (817, 0.03419495745366092), (818, 0.022632510915264175), (819, 0.02471926667837813), (820, 0.02378768283364425), (821, 0.03148490577071616), (822, 0.030217946280771544), (823, 0.02448190640074783), (824, 0.07260782687730531), (825, 0.040732059923381275), (826, 0.00975810902838595), (827, 0.03845631724096851), (828, 0.10503597274855109), (829, 0.029401075978283564), (830, 0.03760056038095733), (831, 0.01668107819500135), (832, 0.03105889290936467), (833, 0.07743270132019027), (834, 0.03161867409997235), (835, 0.023614730193055006), (836, 0.04633789968949353), (837, 0.011873898928659213), (838, 0.019709993185316466), (839, 0.022463668829516184), (840, 0.0399773502751056), (841, 0.01864642351886449), (842, 0.03792968253485832), (843, 0.031150643475748935), (844, 0.022868114530311907), (845, 0.020460171474128), (846, 0.0462048868468281), (847, 0.019292416057145902), (848, 0.013629730683813839), (849, 0.02275949150011536), (850, 0.012987588431510821), (851, 0.017997494504199064), (852, 0.06062677749344365), (853, 0.05397210286674466), (854, 0.02038558338220152), (855, 0.06462508841540379), (856, 0.019688752200075606), (857, 0.03032850994688584), (858, 0.041344276756135605), (859, 0.05004442341176014), (860, 0.03130448412706329), (861, 0.043850663343853014), (862, 0.01720397013803375), (863, 0.024850813388825138), (864, 0.049845815155251806), (865, 0.024567856555411192), (866, 0.029109244800378808), (867, 0.04361799074814664), (868, 0.027980845823241386), (869, 0.03480000273003571), (870, 0.05616618101317915), (871, 0.029748828102482458), (872, 0.023911656775139286), (873, 0.032912508068066317), (874, 0.029537441069754547), (875, 0.022313067522083216), (876, 0.048243546810520774), (877, 0.05528667396315424), (878, 0.021842784120912048), (879, 0.04665246212771588), (880, 0.019851856481944367), (881, 0.022261517968856268), (882, 0.023911739511088114), (883, 0.053759664941640375), (884, 0.05572981994923936), (885, 0.04228345152737683), (886, 0.015506584369304036), (887, 0.012440574875264052), (888, 0.043431049448144195), (889, 0.018805941262410697), (890, 0.013561020723022761), (891, 0.0229024876363659), (892, 0.03892186304584863), (893, 0.05932374576286727), (894, 0.031030812153365502), (895, 0.05681724081308575), (896, 0.02022064614808772), (897, 0.019546356914381696), (898, 0.03445289390551791), (899, 0.015290923783806204), (900, 0.027302627256029693), (901, 0.026765774893892664), (902, 0.11597044578578732), (903, 0.0329293165282603), (904, 0.0336854284732253), (905, 0.04660420470314523), (906, 0.03344857668577607), (907, 0.03428902635052636), (908, 0.021739644180080103), (909, 0.027738823563415373), (910, 0.030890054967245215), (911, 0.028846030800486675), (912, 0.05638198458294249), (913, 0.032172127447650994), (914, 0.008050773987402098), (915, 0.039937166227681314), (916, 0.01751989231489444), (917, 0.01978169336252359), (918, 0.04048002452210077), (919, 0.025094936430481458), (920, 0.014424191953461452), (921, 0.040522934609223016), (922, 0.026745290550428156), (923, 0.03152866386488049), (924, 0.029896570027429695), (925, 0.048127115043171555), (926, 0.023942233417307224), (927, 0.016326184905433198), (928, 0.037618856159777336), (929, 0.021200278541374067), (930, 0.026541392832762356), (931, 0.028276963349964563), (932, 0.02322201310081432), (933, 0.01407289699316201), (934, 0.032114172096033004), (935, 0.03125424040037993), (936, 0.025060754870915858), (937, 0.01583510888958224), (938, 0.07296011619398965), (939, 0.0257670270620511), (940, 0.0298700913655551), (941, 0.024039301347254034), (942, 0.01729152165658206), (943, 0.02358251810541754), (944, 0.03616085299192686), (945, 0.04044664802226373), (946, 0.02466760974264586), (947, 0.04242354638910137), (948, 0.0274031638155548), (949, 0.016131787349263838), (950, 0.01333575990009367), (951, 0.016723995355499), (952, 0.038721520374669596), (953, 0.05951576222053094), (954, 0.01806935874147787), (955, 0.03508749740886131), (956, 0.04346356905862698), (957, 0.02090552115020822), (958, 0.022648711221427833), (959, 0.010634446869040672), (960, 0.009548919306535078), (961, 0.009702819332260491), (962, 0.028798422686157947), (963, 0.04074570662658625), (964, 0.024819315743876632), (965, 0.01987764360761123), (966, 0.05888547740866112), (967, 0.05000001633851151), (968, 0.02160394522322484), (969, 0.01442647045746676), (970, 0.02268512932706259), (971, 0.02756909590475796), (972, 0.005441757505345689), (973, 0.03272334246648034), (974, 0.04096283053645158), (975, 0.032723404844780944), (976, 0.03532433006187455), (977, 0.03429205431984501), (978, 0.03902195922751993), (979, 0.03534766980243632), (980, 0.019788028200195498), (981, 0.027408600655230063), (982, 0.01582469458637691), (983, 0.044262787215921195), (984, 0.030243110906451088), (985, 0.03463406893355604), (986, 0.02668827130374757), (987, 0.019127502158039923), (988, 0.021422131679422817), (989, 0.02707360752954254), (990, 0.03216737935987133), (991, 0.027087118339155353), (992, 0.021859704707672598), (993, 0.015594184971744654), (994, 0.02471395686126572), (995, 0.027341410713223827), (996, 0.023055869670177365), (997, 0.04546681429736476), (998, 0.010378693146464134), (999, 0.041082695480025216), (1000, 0.0366007306880781), (1001, 0.03049432479937291), (1002, 0.025487576106179646), (1003, 0.0603942613995401), (1004, 0.04396771836156678), (1005, 0.018898067834478803), (1006, 0.05167833936520369), (1007, 0.01273325317717879), (1008, 0.025718048879715426), (1009, 0.033168431966083864), (1010, 0.02978687710381968), (1011, 0.0394094442897278), (1012, 0.021674414920635113), (1013, 0.012836926889778416), (1014, 0.02729895679072915), (1015, 0.021767625927698344), (1016, 0.01411876613739058), (1017, 0.03338177869780648), (1018, 0.012008470443274574), (1019, 0.05298759521514302), (1020, 0.04984548812593428), (1021, 0.04082758355728091), (1022, 0.02691672752732696), (1023, 0.03658731760266901), (1024, 0.054138319230391356), (1025, 0.02216608686086788), (1026, 0.044542915464413774), (1027, 0.015811903936561688), (1028, 0.050903984344772314), (1029, 0.01924988342161905), (1030, 0.040592060049313455), (1031, 0.018821942622920234), (1032, 0.03438669977704943), (1033, 0.01834447746549405), (1034, 0.02593257949437098), (1035, 0.035793918321981116), (1036, 0.010225392008336989), (1037, 0.03345960474391981), (1038, 0.009057768728147458), (1039, 0.0220553676583605), (1040, 0.017608913221851846), (1041, 0.0180594698478572), (1042, 0.016401667666767882), (1043, 0.044345865456501994), (1044, 0.027148902863376137), (1045, 0.019120878271466243), (1046, 0.02774711551456506), (1047, 0.024462393253346672), (1048, 0.024612596495224764), (1049, 0.011385851092045679), (1050, 0.0282075651498276), (1051, 0.003718617132192536), (1052, 0.04764038922735961), (1053, 0.02814627710333595), (1054, 0.01623383800680594), (1055, 0.020660670943191094), (1056, 0.023022845214605694), (1057, 0.0289239781288832), (1058, 0.03418235271026758), (1059, 0.041169707599920446), (1060, 0.037899094201563725), (1061, 0.03274585688988504), (1062, 0.014881809233519647), (1063, 0.03746678301589527), (1064, 0.012855183726779464), (1065, 0.03041358059760125), (1066, 0.02125086802121075), (1067, 0.011502071520646827), (1068, 0.043809550368768706), (1069, 0.027711455425702757), (1070, 0.06545686133791993), (1071, 0.050277829365305324), (1072, 0.009773635969406313), (1073, 0.025489132070582197), (1074, 0.027939736725528432), (1075, 0.01154316785366406), (1076, 0.02482769772331401), (1077, 0.03168317456275201), (1078, 0.046711792766234855), (1079, 0.03684537394716021), (1080, 0.03655996796642126), (1081, 0.03235586691566212), (1082, 0.05946885413562707), (1083, 0.016925408355746012), (1084, 0.04445526138811573), (1085, 0.04798456402262147), (1086, 0.06718193893034594), (1087, 0.03549934857969207), (1088, 0.05465380703876724), (1089, 0.025909892486738063), (1090, 0.024279556984945706), (1091, 0.018311473996565634), (1092, 0.016526484932976097), (1093, 0.038970484682902526), (1094, 0.027162099049899337), (1095, 0.06171373011656054), (1096, 0.02488058846720911), (1097, 0.04709681923052101), (1098, 0.022490023268984482), (1099, 0.03133274487051448), (1100, 0.030125735293834215), (1101, 0.027485222349165808), (1102, 0.03570374082886765), (1103, 0.008774924615009021), (1104, 0.05581363885979861), (1105, 0.03059737466502572), (1106, 0.011832309347928813), (1107, 0.03267411193319685), (1108, 0.014357021443953198), (1109, 0.016761363845309945), (1110, 0.0344698585770073), (1111, 0.04161474933971908), (1112, 0.0742658042656216), (1113, 0.02603932543532223), (1114, 0.023984846838649123), (1115, 0.018821282170289798), (1116, 0.037783652538248474), (1117, 0.0360205071883712), (1118, 0.04190539475390083), (1119, 0.0671737162790202), (1120, 0.03227918646876703), (1121, 0.03597449219320694), (1122, 0.026329154275306757), (1123, 0.012600822659304761), (1124, 0.02926151472206307), (1125, 0.02128756102586611), (1126, 0.026432637605632737), (1127, 0.06798528800614756), (1128, 0.04774024702483164), (1129, 0.016369113268821022), (1130, 0.024417648312214758), (1131, 0.05837239701479055), (1132, 0.03704442341800855), (1133, 0.025642347402380878), (1134, 0.06493185090399797), (1135, 0.024176713577565248), (1136, 0.024487130210796425), (1137, 0.028883920331818965), (1138, 0.016101843524775318), (1139, 0.025091127196313904), (1140, 0.026568624180023585), (1141, 0.013182377356653315), (1142, 0.05569995394868512), (1143, 0.028593629370365276), (1144, 0.01036936455011923), (1145, 0.016101514038365027), (1146, 0.021432382716358365), (1147, 0.017855875167233616), (1148, 0.04427411476642113), (1149, 0.034819584353713115), (1150, 0.02322023559853031), (1151, 0.02361841774725794), (1152, 0.024470744310381508), (1153, 0.01984948387121792), (1154, 0.006344587391013944), (1155, 0.020203686947751025), (1156, 0.02103571482502284), (1157, 0.034009165654888415), (1158, 0.023064507374672166), (1159, 0.024799467563406574), (1160, 0.030414049307593442), (1161, 0.019142735875771512), (1162, 0.017867167358459807), (1163, 0.026143495718354722), (1164, 0.023490990444543763), (1165, 0.012465015187606197), (1166, 0.01519029626825407), (1167, 0.012565932910079824), (1168, 0.05437652557461982), (1169, 0.019019473732884613), (1170, 0.020309483583658763), (1171, 0.015554209304682012), (1172, 0.020013294339903506), (1173, 0.03449515076367295), (1174, 0.024802616437979916), (1175, 0.03831935732056233), (1176, 0.03133270328094664), (1177, 0.016275939791075108), (1178, 0.044158974192884004), (1179, 0.040854195043303426), (1180, 0.024310044526802698), (1181, 0.023739494030271528), (1182, 0.034557371165878495), (1183, 0.05914173931165124), (1184, 0.019119210450749786), (1185, 0.02269150728048637), (1186, 0.024808694565928456), (1187, 0.03704178545433048), (1188, 0.05379972240904422), (1189, 0.02684837900644684), (1190, 0.0422106464243859), (1191, 0.014657665126351162), (1192, 0.05495159727388787), (1193, 0.03617257906035112), (1194, 0.018616739123066883), (1195, 0.039779398225210816), (1196, 0.016397434716152265), (1197, 0.04284565911366387), (1198, 0.009460696943041478), (1199, 0.02128075661989349), (1200, 0.02446568775374239), (1201, 0.03235853197308802), (1202, 0.04581333478008354), (1203, 0.024202960923914205), (1204, 0.04629321962946639), (1205, 0.019734123974620245), (1206, 0.025904639866151723), (1207, 0.035821396147018666), (1208, 0.030633554027962043), (1209, 0.04529471998407079), (1210, 0.022936707122656087), (1211, 0.013906986366947184), (1212, 0.00918774313275549), (1213, 0.04749343211968366), (1214, 0.04338652420069441), (1215, 0.018694165551158166), (1216, 0.03187400985722893), (1217, 0.0473179913950444), (1218, 0.04104271734538324), (1219, 0.02381342866066826), (1220, 0.04162785124190886), (1221, 0.03888093458312799), (1222, 0.016120784612331122), (1223, 0.02248420149452689), (1224, 0.07014861563202549), (1225, 0.019684665470469525), (1226, 0.02569145985311958), (1227, 0.0021903909442481436), (1228, 0.03862395210688288), (1229, 0.031008603816722092), (1230, 0.023377793474487985), (1231, 0.018506136993093933), (1232, 0.023830147024303958), (1233, 0.06128506742175887), (1234, 0.07167554266626897), (1235, 0.024303646942221344), (1236, 0.044656625025243965), (1237, 0.034564996057404616), (1238, 0.011581946653846544), (1239, 0.019470285118051094), (1240, 0.01620296493512351), (1241, 0.03681323679343441), (1242, 0.025725678682653037), (1243, 0.04921073753648795), (1244, 0.02474073808975874), (1245, 0.04280033353159414), (1246, 0.022079642995202233), (1247, 0.03870170695216313), (1248, 0.02964066049082376), (1249, 0.0177049539173713), (1250, 0.02546721042951988), (1251, 0.03095067977714853), (1252, 0.029336263967696168), (1253, 0.01619159078494045), (1254, 0.0253037399695109), (1255, 0.03535003020063154), (1256, 0.01372611702710327), (1257, 0.025391322419031664), (1258, 0.021133312167781325), (1259, 0.050136275450693886), (1260, 0.0404046475348222), (1261, 0.028794195124947568), (1262, 0.019899228893665966), (1263, 0.01485896627361783), (1264, 0.03525074346702489), (1265, 0.018550436018125078), (1266, 0.03189701372185451), (1267, 0.020046414620933865), (1268, 0.0485020847694244), (1269, 0.04826477870188618), (1270, 0.022086089065950443), (1271, 0.02453098960834929), (1272, 0.022639758973340408), (1273, 0.049932491171576235), (1274, 0.020156869323674158), (1275, 0.022347787718074708), (1276, 0.035063129629805075), (1277, 0.018504002889440232), (1278, 0.022248513373494795), (1279, 0.038043454525280115), (1280, 0.019366505899737603), (1281, 0.03416181801312051), (1282, 0.01618067932402744), (1283, 0.036769693519196386), (1284, 0.07990414798183046), (1285, 0.029678908919991746), (1286, 0.009756285044882233), (1287, 0.017201037414833472), (1288, 0.012509965905086202), (1289, 0.028560814378852318), (1290, 0.07161342658953926), (1291, 0.0391085043787648), (1292, 0.03454731020837228), (1293, 0.008760670319159721), (1294, 0.027572648372983375), (1295, 0.03232433675588102), (1296, 0.024474926070422225), (1297, 0.00985715658081511), (1298, 0.006874376980866196), (1299, 0.02214610664121669), (1300, 0.024552369031908043), (1301, 0.02486990395485624), (1302, 0.0527798795768534), (1303, 0.020983731953780747), (1304, 0.05146089360054203), (1305, 0.03562821977244704), (1306, 0.031139415009085784), (1307, 0.02942997578802617), (1308, 0.03375645956994475), (1309, 0.0441758741196952), (1310, 0.0364883366567133), (1311, 0.020104533320926824), (1312, 0.018281862514891542), (1313, 0.01864479670222755), (1314, 0.026853530760216893), (1315, 0.01316750579015445), (1316, 0.0320389635920781), (1317, 0.035231612995638505), (1318, 0.05326466834152738), (1319, 0.038553929874093576), (1320, 0.030441631433666717), (1321, 0.03816852067989269), (1322, 0.018775111826633405), (1323, 0.03593479296455569), (1324, 0.016683698554528205), (1325, 0.015746916755492196), (1326, 0.014931569318006831), (1327, 0.00698358285374458), (1328, 0.022946941072328583), (1329, 0.026893928592429367), (1330, 0.013869241106844368), (1331, 0.0427314271183632), (1332, 0.016777268344411407), (1333, 0.020221695741999203), (1334, 0.01773026153478882), (1335, 0.03840657133868275), (1336, 0.01743489810379656), (1337, 0.03187143828147496), (1338, 0.018150481153332516), (1339, 0.01891801439581136), (1340, 0.013622003642362525), (1341, 0.03980960437647348), (1342, 0.014399052859770268), (1343, 0.021247147130138852), (1344, 0.039649468672127756), (1345, 0.042663183073673214), (1346, 0.02973337265554691), (1347, 0.015659249555745762), (1348, 0.033481954281094475), (1349, 0.025983813303603637), (1350, 0.026579875397063697), (1351, 0.07732575148004203), (1352, 0.010836447896411142), (1353, 0.003973668451633978), (1354, 0.017965483571675538), (1355, 0.03728740246704148), (1356, 0.02352288955114189), (1357, 0.04699586244936245), (1358, 0.03769878497594649), (1359, 0.016789621214263858), (1360, 0.014937718128071263), (1361, 0.021616159032105273), (1362, 0.055557578108629664), (1363, 0.05359805778756738), (1364, 0.017192282530442134), (1365, 0.053572990310494215), (1366, 0.025070418133953703), (1367, 0.025550764126989922), (1368, 0.018858161449200023), (1369, 0.043873424049730915), (1370, 0.03588130294136502), (1371, 0.0281246626144842), (1372, 0.04063539458271703), (1373, 0.012867161742029624), (1374, 0.04021016445240933), (1375, 0.019605160498768787), (1376, 0.015217912358464111), (1377, 0.021417138974406377), (1378, 0.0156645909642973), (1379, 0.06897038576056364), (1380, 0.028586010758070136), (1381, 0.02984344485054056), (1382, 0.02238180734132983), (1383, 0.06443773590481647), (1384, 0.022845135412091634), (1385, 0.0366032363686401), (1386, 0.0338120375021281), (1387, 0.03690960743434502), (1388, 0.020781609835643006), (1389, 0.024891387040302197), (1390, 0.019976802772123853), (1391, 0.01926017693847218), (1392, 0.03344587965127072), (1393, 0.04104464595833054), (1394, 0.04209366066367741), (1395, 0.024107178496532315), (1396, 0.03960539766945221), (1397, 0.0305269648478911), (1398, 0.027944163982113652), (1399, 0.00874758291206083), (1400, 0.025696122032064138), (1401, 0.02449951485026789), (1402, 0.017167829585548227), (1403, 0.020633929716189187), (1404, 0.024835445684463338), (1405, 0.019455050378875655), (1406, 0.013205389737840245), (1407, 0.01647971779886584), (1408, 0.052729748558016216), (1409, 0.0160062951447513), (1410, 0.027590373676654522), (1411, 0.044343363360703845), (1412, 0.042114748827938246), (1413, 0.029169922569151997), (1414, 0.05631076820371781), (1415, 0.01807244900203172), (1416, 0.026074664829327993), (1417, 0.03192436186719479), (1418, 0.012282567573347367), (1419, 0.020027068068665138), (1420, 0.017329203440996224), (1421, 0.027561478707547098), (1422, 0.017988690979091518), (1423, 0.034200775287926706), (1424, 0.02289479863244755), (1425, 0.027424933688138142), (1426, 0.026003427567583448), (1427, 0.03464636424707067), (1428, 0.026806291605698675), (1429, 0.010957190672020011), (1430, 0.03354272606336502), (1431, 0.04052592365741291), (1432, 0.032067022752125106), (1433, 0.034410856774310744), (1434, 0.019903834625242603), (1435, 0.024526708700256073), (1436, 0.050609147507524634), (1437, 0.017650719491501567), (1438, 0.042133922460199674), (1439, 0.0345076792475647), (1440, 0.02208666398178033), (1441, 0.025613676157688652), (1442, 0.024528482552954995), (1443, 0.033166809718983635), (1444, 0.010463258686917873), (1445, 0.029778403495963286), (1446, 0.03093800786137592), (1447, 0.023170649179566565), (1448, 0.023841874808479973), (1449, 0.03699335337946533), (1450, 0.017377222521566104), (1451, 0.03823766360452185), (1452, 0.013129936967975098), (1453, 0.023703814755239513), (1454, 0.018584270001952334), (1455, 0.0234332970259783), (1456, 0.033246195771335474), (1457, 0.026791847390505615), (1458, 0.026446113307715003), (1459, 0.02801458230246206), (1460, 0.013239331575942322), (1461, 0.021705412816240423), (1462, 0.04261499417763963), (1463, 0.016949744548294784), (1464, 0.026032258661938406), (1465, 0.06336612675666968), (1466, 0.036330358511821925), (1467, 0.028427651707724412), (1468, 0.01707282002592743), (1469, 0.022320831802766936), (1470, 0.013083460689472571), (1471, 0.0663788401281673), (1472, 0.08891645886722425), (1473, 0.04427749219255207), (1474, 0.03515712276180471), (1475, 0.05182257836588822), (1476, 0.013903831152123028), (1477, 0.014406166095165429), (1478, 0.015885928015969372), (1479, 0.01856112789255287), (1480, 0.02668615706753909), (1481, 0.053340720429839124), (1482, 0.06241409238260688), (1483, 0.024538176520079523), (1484, 0.020991128820575092), (1485, 0.029335817423025275), (1486, 0.012972007519083874), (1487, 0.024973785867438435), (1488, 0.062236187122367066), (1489, 0.026170394511340022), (1490, 0.02561101555262111), (1491, 0.024396163940085102), (1492, 0.02676715061425635), (1493, 0.04213578200975063), (1494, 0.016960443888478765), (1495, 0.021982245252877407), (1496, 0.03156068618131334), (1497, 0.01371818550303081), (1498, 0.024314731067733495), (1499, 0.03854221146837953), (1500, 0.021425783454608462), (1501, 0.06077185511562887), (1502, 0.03629009502746114), (1503, 0.03397712242885764), (1504, 0.014163708374881996), (1505, 0.028658126176506142), (1506, 0.04336486996872576), (1507, 0.02410559031994512), (1508, 0.0384453932306057), (1509, 0.019511968791797455), (1510, 0.024258447984408408), (1511, 0.034487237991718524), (1512, 0.020466521548899202), (1513, 0.018128378594245067), (1514, 0.006695226982627965), (1515, 0.035258808464687916), (1516, 0.010206177818198728), (1517, 0.01547899690568419), (1518, 0.026858912957753875), (1519, 0.04969874341107833), (1520, 0.015282781798457178), (1521, 0.041408041549280634), (1522, 0.03131143334495458), (1523, 0.025493442379589993), (1524, 0.025437317682734724), (1525, 0.0357740236132086), (1526, 0.0195384328266763), (1527, 0.023036534204417335), (1528, 0.03259416276480951), (1529, 0.03707104888910548), (1530, 0.036669805260213975), (1531, 0.019835813083632095), (1532, 0.010274882685806232), (1533, 0.02611356024460426), (1534, 0.032565153862352945), (1535, 0.032293134680891525), (1536, 0.038740011729139316), (1537, 0.014699011108268713), (1538, 0.044831202305894866), (1539, 0.033170282303877675), (1540, 0.043439193160780924), (1541, 0.052994817331859075), (1542, 0.036818802618209065), (1543, 0.04183639633474672), (1544, 0.02126729122174551), (1545, 0.025449614027808876), (1546, 0.017475474255685516), (1547, 0.04332176188144294), (1548, 0.018123450676700945), (1549, 0.02553052888414261), (1550, 0.018030866738401177), (1551, 0.038745669109630905), (1552, 0.026864629118175647), (1553, 0.018109858694375394), (1554, 0.02409963046232213), (1555, 0.03975596196963532), (1556, 0.022746491176212524), (1557, 0.024191819560382886), (1558, 0.02465326291685422), (1559, 0.04679366907519097), (1560, 0.023238036068262486), (1561, 0.013208172875620205), (1562, 0.022183284200448756), (1563, 0.01618470700033027), (1564, 0.03048119753271084), (1565, 0.03430720134811084), (1566, 0.019219491591356653), (1567, 0.021009795823175165), (1568, 0.03261549054745986), (1569, 0.025690529707667397), (1570, 0.008493138750525263), (1571, 0.026269016770262277), (1572, 0.017123487656922395), (1573, 0.04331549027974166), (1574, 0.012722552943481708), (1575, 0.02076813697607903), (1576, 0.020896138533249634), (1577, 0.016535593167505705), (1578, 0.018378482209048367), (1579, 0.03151506060710618), (1580, 0.02667478910283475), (1581, 0.012141925290156043), (1582, 0.01912674838045017), (1583, 0.020465518342355025), (1584, 0.03961369759782903), (1585, 0.0192784915915387), (1586, 0.03196200916529828), (1587, 0.030700661991620557), (1588, 0.035256778230179635), (1589, 0.009084364604867756), (1590, 0.012618346151486064), (1591, 0.029670919023663936), (1592, 0.03031973218855884), (1593, 0.0704595955253673), (1594, 0.022550487974841757), (1595, 0.047950627755693795), (1596, 0.016116174233244473), (1597, 0.02783185502908674), (1598, 0.018254061805251628), (1599, 0.02236410923163331), (1600, 0.016587116591128367), (1601, 0.021847262043855273), (1602, 0.019375356235796747), (1603, 0.013881593025262186), (1604, 0.017263759412520653), (1605, 0.025117721981756963), (1606, 0.07716733742647562), (1607, 0.015992719925389826), (1608, 0.024495655764197634), (1609, 0.014703963828638731), (1610, 0.029284753742904186), (1611, 0.017447405604269925), (1612, 0.028657106173248542), (1613, 0.030891564950942172), (1614, 0.024295067264036217), (1615, 0.016240651829769043), (1616, 0.02894352851264163), (1617, 0.06287436863508741), (1618, 0.025225132113780538), (1619, 0.017548247192676312), (1620, 0.015560981975710065), (1621, 0.03947120798750456), (1622, 0.037951645224163985), (1623, 0.0413589611667975), (1624, 0.046150300317665115), (1625, 0.04291321360919231), (1626, 0.009978189155466157), (1627, 0.016371514955990048), (1628, 0.0036495508382122974), (1629, 0.03955300989323402), (1630, 0.02485938183681954), (1631, 0.03938594145195555), (1632, 0.023589579342811993), (1633, 0.02431345964771114), (1634, 0.03785550041374484), (1635, 0.044594601772124536), (1636, 0.049901783149930955), (1637, 0.019438545170703016), (1638, 0.04032753117127904), (1639, 0.016379500147378274), (1640, 0.0302006070969238), (1641, 0.044557464863588435), (1642, 0.012210674581653699), (1643, 0.014043533391839839), (1644, 0.03589124401386195), (1645, 0.03226382536100672), (1646, 0.06759184246607111), (1647, 0.06960573602665737), (1648, 0.039103964359604323), (1649, 0.014440068658547599), (1650, 0.033953812280636), (1651, 0.02832799878734489), (1652, 0.043314908359180435), (1653, 0.02541973199048105), (1654, 0.01379704830331991), (1655, 0.013163076699530579), (1656, 0.022636915716987588), (1657, 0.03588748603691938), (1658, 0.014698288739939695), (1659, 0.01989960033405356), (1660, 0.022209077959292306), (1661, 0.04236203200812805), (1662, 0.033258693525026986), (1663, 0.0074225750269608735), (1664, 0.015316164259197518), (1665, 0.020598278747823804), (1666, 0.04097657976671075), (1667, 0.04113230198279626), (1668, 0.027429165133896472), (1669, 0.012209079706584365), (1670, 0.03128342035975297), (1671, 0.0477346420394449), (1672, 0.01457781113746251), (1673, 0.03297327778386423), (1674, 0.02526774712809495), (1675, 0.030156586021722737), (1676, 0.017791172311767137), (1677, 0.06860650141178967), (1678, 0.04024534595733729), (1679, 0.02311128399102179), (1680, 0.02513230755427263), (1681, 0.03380033166669282), (1682, 0.04932684044256558), (1683, 0.013365651619408076), (1684, 0.02098766512817208), (1685, 0.007948863076386103), (1686, 0.026335189578156677), (1687, 0.020435228836885682), (1688, 0.046997512561066504), (1689, 0.01980527423916047), (1690, 0.03211581091466972), (1691, 0.008215597074981597), (1692, 0.0202448073526187), (1693, 0.04666367733582083), (1694, 0.042324373258914326), (1695, 0.028258857712594843), (1696, 0.025002180413258964), (1697, 0.01712939137741296), (1698, 0.04955735379804663), (1699, 0.011806480339693188), (1700, 0.02338449485755158), (1701, 0.04571234392510227), (1702, 0.03047003517559404), (1703, 0.05539483682768534), (1704, 0.021565027191507623), (1705, 0.017057112360777706), (1706, 0.044257084582131095), (1707, 0.04855424424556144), (1708, 0.009684890836531184), (1709, 0.026277046471329325), (1710, 0.022475575806037103), (1711, 0.026356306001126373), (1712, 0.012541383601063587), (1713, 0.04982519167483284), (1714, 0.017702399712526885), (1715, 0.03921815745649269), (1716, 0.027782479196956037), (1717, 0.026472454828429307), (1718, 0.026090229912874713), (1719, 0.05764590094586103), (1720, 0.012989648171776912), (1721, 0.016689695017567587), (1722, 0.03840814124693877), (1723, 0.020190604836968506), (1724, 0.02218935488193202), (1725, 0.024416772322655628), (1726, 0.04135561354075422), (1727, 0.0475609342320994), (1728, 0.020024992275978905), (1729, 0.02660881499960169), (1730, 0.029018245806889324), (1731, 0.08402808986583225), (1732, 0.009122409511080787), (1733, 0.034445366702404986), (1734, 0.018504339615202953), (1735, 0.024011638817885546), (1736, 0.023327429041028958), (1737, 0.04271692014113706), (1738, 0.03373991234065909), (1739, 0.03313123069381621), (1740, 0.026592101227764717), (1741, 0.046555124881784475), (1742, 0.02498421293350535), (1743, 0.02880612892561838), (1744, 0.03688183025053165), (1745, 0.005717824580053165), (1746, 0.02760542643732559), (1747, 0.02316271731076735), (1748, 0.017724409933723064), (1749, 0.029475116908587028), (1750, 0.01787973260963629), (1751, 0.010130015719100865), (1752, 0.022901774705527355), (1753, 0.02621371697357854), (1754, 0.018975660845416104), (1755, 0.025458616334416477), (1756, 0.02424127595049251), (1757, 0.03612046208594144), (1758, 0.03209536748501063), (1759, 0.01957854570856689), (1760, 0.03459615097305095), (1761, 0.030139244449966657), (1762, 0.025621386063420577), (1763, 0.042024317864128205), (1764, 0.017505324729041264), (1765, 0.022764465251256426), (1766, 0.01884885153474166), (1767, 0.008879527776567524), (1768, 0.02411022672634959), (1769, 0.020473573226775926), (1770, 0.03719842612496217), (1771, 0.022158265915621818), (1772, 0.019950820657736703), (1773, 0.03274537667202988), (1774, 0.04299125344493407), (1775, 0.029419812871707057), (1776, 0.01859846226320198), (1777, 0.0422490799212697), (1778, 0.037385773760762554), (1779, 0.08434882607090617), (1780, 0.027070271423836348), (1781, 0.025203876531042543), (1782, 0.019391565699201137), (1783, 0.021115606685419154), (1784, 0.02824952384684542), (1785, 0.030798338096106236), (1786, 0.0135828658953985), (1787, 0.04351627147077437), (1788, 0.031641429577658906), (1789, 0.02901403126387548), (1790, 0.016161837652853058), (1791, 0.021162600866169296), (1792, 0.011307873975738923), (1793, 0.01361184232902568), (1794, 0.024104119214916616), (1795, 0.03385356967921974), (1796, 0.03510034732337434), (1797, 0.019936525080242153), (1798, 0.028913856273141227), (1799, 0.02237061645169635), (1800, 0.014391307544905266), (1801, 0.021355680549797928), (1802, 0.017524006075709093), (1803, 0.011074909525118162), (1804, 0.021758045492220015), (1805, 0.028367165993976914), (1806, 0.08140008187725888), (1807, 0.027833673366768945), (1808, 0.03562111051679964), (1809, 0.048125630235579774), (1810, 0.01878990087166832), (1811, 0.00857708107416012), (1812, 0.011553786153210227), (1813, 0.006689907799131707), (1814, 0.014746309267271855), (1815, 0.023159471536813043), (1816, 0.03631713223031424), (1817, 0.039640207660532986), (1818, 0.022090871104324977), (1819, 0.02876723638007494), (1820, 0.015050384150306998), (1821, 0.049710095575647165), (1822, 0.06402860767128556), (1823, 0.01397562265785394), (1824, 0.016096016616769404), (1825, 0.03268895920753318), (1826, 0.01774022146034591), (1827, 0.04920054588204333), (1828, 0.0345156282682804), (1829, 0.0551915195686955), (1830, 0.029234393524305402), (1831, 0.03995017222061277), (1832, 0.05043825182620701), (1833, 0.022097650403456702), (1834, 0.0157686151616899), (1835, 0.011253228194866785), (1836, 0.033233878746430565), (1837, 0.05466143607018462), (1838, 0.02103751850417538), (1839, 0.014804281818820104), (1840, 0.03889238479878008), (1841, 0.037094867055609826), (1842, 0.03482956079374715), (1843, 0.01868587066615127), (1844, 0.034068503070178495), (1845, 0.041537678642348266), (1846, 0.02836514695800107), (1847, 0.03200517021404516), (1848, 0.02615750956169031), (1849, 0.024536946850060408), (1850, 0.024193575101905774), (1851, 0.00498512418139165), (1852, 0.03150111457944473), (1853, 0.04438213156944062), (1854, 0.03559186974750374), (1855, 0.029067065970685473), (1856, 0.03336090152083042), (1857, 0.02442509601963362), (1858, 0.04204791301015959), (1859, 0.020448382702602044), (1860, 0.04388461437442635), (1861, 0.045587601980707965), (1862, 0.026444321632070292), (1863, 0.01685490372208758), (1864, 0.03000578056864428), (1865, 0.02468301978049364), (1866, 0.024745409433161638), (1867, 0.027685879279435183), (1868, 0.031866271460630397), (1869, 0.01553301168477797), (1870, 0.033938342871903816), (1871, 0.032134483415938775), (1872, 0.03147783398997864), (1873, 0.03086982322037609), (1874, 0.028025603568238786), (1875, 0.04996599466129684), (1876, 0.020516671095281283), (1877, 0.028628812692248398), (1878, 0.0775644704609567), (1879, 0.0525247146475139), (1880, 0.038669742652994575), (1881, 0.010459245865545997), (1882, 0.02755083833003847), (1883, 0.016758973425735214), (1884, 0.03807208677026073), (1885, 0.017741912201977288), (1886, 0.03901701772695181), (1887, 0.06906344240071223), (1888, 0.014900942004001468), (1889, 0.012176973833806906), (1890, 0.021321014360667946), (1891, 0.016279726341198987), (1892, 0.011835783472656014), (1893, 0.019293986861943033), (1894, 0.019554193482253873), (1895, 0.03522443237228388), (1896, 0.05941624881661912), (1897, 0.0926777369259588), (1898, 0.02105564446027656), (1899, 0.014123583368003696), (1900, 0.05379447391352235), (1901, 0.03999732676071751), (1902, 0.043934774724306645), (1903, 0.02498660302845939), (1904, 0.03235070143777707), (1905, 0.016967384214607053), (1906, 0.05930750498890981), (1907, 0.02300081096769943), (1908, 0.04153447769505317), (1909, 0.04927358789669379), (1910, 0.03187920857032194), (1911, 0.01566516125788705), (1912, 0.03264902212082341), (1913, 0.019964878192206457), (1914, 0.01233915385443922), (1915, 0.017762524354584724), (1916, 0.008706034021397656), (1917, 0.013062414567288091), (1918, 0.0335155486378597), (1919, 0.03536687335053076), (1920, 0.018833503801588266), (1921, 0.007095310138478411), (1922, 0.022410253057539124), (1923, 0.023198007562532555), (1924, 0.020376755154038823), (1925, 0.026990011571049622), (1926, 0.027243225659567192), (1927, 0.03298133302620989), (1928, 0.02027293132986032), (1929, 0.04762167919851176), (1930, 0.06699980157977158), (1931, 0.01916473605930342), (1932, 0.017869330460629974), (1933, 0.041826382710997735), (1934, 0.022605011353647134), (1935, 0.030143872277866694), (1936, 0.020414753425860247), (1937, 0.024667411783864834), (1938, 0.00212586058650928), (1939, 0.026011746051086606), (1940, 0.017342200775786694), (1941, 0.03387953101619497), (1942, 0.02345032512002237), (1943, 0.024192175342870187), (1944, 0.018882439626747325), (1945, 0.023941838537683877), (1946, 0.03206173992284722), (1947, 0.01795447050107648), (1948, 0.04090894283918738), (1949, 0.05587219129602409), (1950, 0.026461057983024113), (1951, 0.03772142046301488), (1952, 0.030164101082093796), (1953, 0.04151302315278829), (1954, 0.010948420371856105), (1955, 0.009471899697742274), (1956, 0.024779928204442647), (1957, 0.01973752381222391), (1958, 0.017208948087450812), (1959, 0.01713483600067196), (1960, 0.01075673167605513), (1961, 0.04042083601729321), (1962, 0.04590365947906236), (1963, 0.044137715744240164), (1964, 0.038516550786303005), (1965, 0.008997503697655361), (1966, 0.02857186971393618), (1967, 0.04606038722595288), (1968, 0.044496389590563006), (1969, 0.02624152319046468), (1970, 0.03702597074071233), (1971, 0.027609126109393145), (1972, 0.03292599663116402), (1973, 0.017341953170800988), (1974, 0.029672027092133877), (1975, 0.016541900401538752), (1976, 0.04092277558732104), (1977, 0.040798961508920165), (1978, 0.020348233800200607), (1979, 0.030321383492890965), (1980, 0.07978791769384697), (1981, 0.04788534196129362), (1982, 0.05608957282839649), (1983, 0.05479489732781087), (1984, 0.02641608463388236), (1985, 0.04168519422949142), (1986, 0.01066561355786415), (1987, 0.023489196096855878), (1988, 0.011284615375112052), (1989, 0.012118516955769074), (1990, 0.042900233735073984), (1991, 0.042189239011258574), (1992, 0.040095954170063175), (1993, 0.028377412181056057), (1994, 0.03704284262424287), (1995, 0.01910140044888808), (1996, 0.038127484089217394), (1997, 0.0358770597432326), (1998, 0.04787280625032274), (1999, 0.023079097074611588), (2000, 0.03263418075945239), (2001, 0.01892940342684817), (2002, 0.0040560030429824066), (2003, 0.029767360952648966), (2004, 0.034536339677547906), (2005, 0.008262763948394272), (2006, 0.04509325608928498), (2007, 0.03058049311252034), (2008, 0.0406827112798956), (2009, 0.03483327462438929), (2010, 0.030943791755658645), (2011, 0.03095790119644338), (2012, 0.05010284812803502), (2013, 0.024752715540211963), (2014, 0.06075335630971104), (2015, 0.02675554090067288), (2016, 0.04505192006199962), (2017, 0.04640748974927572), (2018, 0.03750185638110233), (2019, 0.021843101290213093), (2020, 0.02912225293609797), (2021, 0.028770396857189375), (2022, 0.016688377010344174), (2023, 0.02432962034700674), (2024, 0.037505428280364364), (2025, 0.006229905355635178), (2026, 0.05468547425599731), (2027, 0.0317636160350014), (2028, 0.02663435866361488), (2029, 0.01960268232730252), (2030, 0.026131853159269643), (2031, 0.01039938277235871), (2032, 0.05139609247841039), (2033, 0.01598782393498955), (2034, 0.024128292758434762), (2035, 0.033171854125168446), (2036, 0.01596882996826103), (2037, 0.04325356797277799), (2038, 0.017074022753787575), (2039, 0.03459154510538486), (2040, 0.031540428726481586), (2041, 0.016215359126149607), (2042, 0.026626592703758535), (2043, 0.02677451062622465), (2044, 0.037255570779546734), (2045, 0.03618876471973949), (2046, 0.017385774552090647), (2047, 0.021338948160033636), (2048, 0.035868138527204455), (2049, 0.03195444563006246), (2050, 0.025320781998192682), (2051, 0.043526644575097584), (2052, 0.017890450355311484), (2053, 0.03560655563168968), (2054, 0.018005044698461113), (2055, 0.02620192985731383), (2056, 0.014678920095076268), (2057, 0.019208639547581403), (2058, 0.013027212046431633), (2059, 0.008875013843528698), (2060, 0.008327313281240142), (2061, 0.0356439173384968), (2062, 0.026538901745148377), (2063, 0.04087093026987082), (2064, 0.0074856464684079), (2065, 0.01902023688620961), (2066, 0.028877704316435677), (2067, 0.04344474816255916), (2068, 0.023653005579534606), (2069, 0.0200169457329155), (2070, 0.02080552636464004), (2071, 0.02793087934040124), (2072, 0.03499066774142534), (2073, 0.038498704514636925), (2074, 0.03060712534810409), (2075, 0.0295328753146471), (2076, 0.020553958129883292), (2077, 0.01831200963214207), (2078, 0.045458639152807005), (2079, 0.027564127459958433), (2080, 0.0489997156336714), (2081, 0.016499205555015516), (2082, 0.03513717694727556), (2083, 0.009266962440035406), (2084, 0.02652159375553499), (2085, 0.013792841461972183), (2086, 0.03788575523036717), (2087, 0.014324898550139575), (2088, 0.036293569681707286), (2089, 0.06651468468533332), (2090, 0.05387933996591392), (2091, 0.026524630648495136), (2092, 0.027303191720755373), (2093, 0.01990705270456375), (2094, 0.03422465900591846), (2095, 0.025319449639080612), (2096, 0.020828942984448783), (2097, 0.03323373300077333), (2098, 0.019030813554927268), (2099, 0.023177295294434967), (2100, 0.06742093693224177), (2101, 0.02834746567910363), (2102, 0.03627200359636166), (2103, 0.027577120296633163), (2104, 0.025673477611745824), (2105, 0.023430370165695463), (2106, 0.0378365452231752), (2107, 0.019395926119310798), (2108, 0.012506840333678514), (2109, 0.03989231170759228), (2110, 0.021081937347960992), (2111, 0.05671373008671729), (2112, 0.06011732730338145), (2113, 0.023304963100897556), (2114, 0.04879000867533734), (2115, 0.048350366371005676), (2116, 0.032043398807075386), (2117, 0.03532752037639884), (2118, 0.047822503923921546), (2119, 0.02049788883413851), (2120, 0.019875406874479157), (2121, 0.028660329430978373), (2122, 0.05263972079981105), (2123, 0.0566585899870624), (2124, 0.031221219862249967), (2125, 0.012318831410041918), (2126, 0.02743198860508546), (2127, 0.02966238998946531), (2128, 0.02994422992969236), (2129, 0.03273556073119918), (2130, 0.04578755068172091), (2131, 0.009622346167383503), (2132, 0.019304508553100373), (2133, 0.02460474013676256), (2134, 0.02161516493845956), (2135, 0.05209180058333419), (2136, 0.02877314825693763), (2137, 0.024538156778230392), (2138, 0.03901952304037524), (2139, 0.025055195586931388), (2140, 0.051940357503308034), (2141, 0.0314421526762668), (2142, 0.032871286015390626), (2143, 0.03182472547945817), (2144, 0.05039332290708473), (2145, 0.014169296166892293), (2146, 0.02308308168611216), (2147, 0.03580269821086609), (2148, 0.045280104817579485), (2149, 0.04337032457709469), (2150, 0.02465282609979362), (2151, 0.013730825327181239), (2152, 0.019514676350731987), (2153, 0.008543176017040563), (2154, 0.08220785028388282), (2155, 0.08382254504934437), (2156, 0.03100719272697002), (2157, 0.02768696959089464), (2158, 0.038056327337473675), (2159, 0.023205655010958316), (2160, 0.019760670191666992), (2161, 0.07357296720833763), (2162, 0.019407006600680947), (2163, 0.016302631169315275), (2164, 0.027514752389228705), (2165, 0.01642161226171401), (2166, 0.0332600627628072), (2167, 0.020752287860061707), (2168, 0.014761344396422117), (2169, 0.01937896031807913), (2170, 0.03190828484755899), (2171, 0.03497388963457061), (2172, 0.048728396616432426), (2173, 0.03472227695892213), (2174, 0.028603177704709465), (2175, 0.027086133372832034), (2176, 0.02867297110566636), (2177, 0.019093498885910633), (2178, 0.028879674761359837), (2179, 0.010672648326615113), (2180, 0.05255687390397598), (2181, 0.03679091469699074), (2182, 0.053018871249599205), (2183, 0.03164931895807747), (2184, 0.037070349426111045), (2185, 0.04065341559892174), (2186, 0.024842676052125555), (2187, 0.03943692772296949), (2188, 0.014192798977495515), (2189, 0.03383332112263574), (2190, 0.023151126422640753), (2191, 0.039461722460065074), (2192, 0.03419729146829754), (2193, 0.018587182298588016), (2194, 0.0902150644346104), (2195, 0.029095308897401435), (2196, 0.06241098952626333), (2197, 0.017413158369007063), (2198, 0.03184440151114197), (2199, 0.015486790202532014), (2200, 0.01712968868869392), (2201, 0.03675675293831862), (2202, 0.048208731262064194), (2203, 0.027534282854600863), (2204, 0.008735299369988472), (2205, 0.028094360317755494), (2206, 0.0255363609079432), (2207, 0.029272713919854303), (2208, 0.02887819510768765), (2209, 0.04121374852994705), (2210, 0.026008692383306893), (2211, 0.025264428462990953), (2212, 0.030789881177005752), (2213, 0.03191881553860624), (2214, 0.030623343353127525), (2215, 0.046481095173631956), (2216, 0.03429470374522054), (2217, 0.016703943251921875), (2218, 0.021244232203287573), (2219, 0.04024392019627041), (2220, 0.021273213342240253), (2221, 0.021966500931210775), (2222, 0.020196964961101533), (2223, 0.03306089680298595), (2224, 0.032663922506311074), (2225, 0.025373278043699824), (2226, 0.038929928744152166), (2227, 0.02066317527957799), (2228, 0.02138810084446164), (2229, 0.017388612961707843), (2230, 0.03340818236491095), (2231, 0.017234932681452927), (2232, 0.02471707027457718), (2233, 0.042905887100280926), (2234, 0.02994897944991278), (2235, 0.027669268148633686), (2236, 0.03703988726478225), (2237, 0.02365101740071021), (2238, 0.028336372824177468), (2239, 0.03718195505781477), (2240, 0.034901773656195706), (2241, 0.026394912616284093), (2242, 0.05537601347478682), (2243, 0.019822063077883416), (2244, 0.012705227492125113), (2245, 0.03730446635302261), (2246, 0.026936465908856528), (2247, 0.033293709287586105), (2248, 0.051101355349012355), (2249, 0.0025839850723892053), (2250, 0.06975660201986077), (2251, 0.04709895916463284), (2252, 0.04512225951863358), (2253, 0.004651193919290541), (2254, 0.07118333297712168), (2255, 0.01589496024017578), (2256, 0.010610754436800554), (2257, 0.023614158344340545), (2258, 0.05158937858721489), (2259, 0.032534233930641566), (2260, 0.029426606242341093), (2261, 0.017953295725830112), (2262, 0.029481566541399065), (2263, 0.032598171963495674), (2264, 0.02302577956572402), (2265, 0.012453564361981358), (2266, 0.015124767511850766), (2267, 0.02499535707982941), (2268, 0.05871350638544888), (2269, 0.031052978948793455), (2270, 0.03042572800040829), (2271, 0.028935932145474717), (2272, 0.04026685332172198), (2273, 0.021182629630153924), (2274, 0.020562343748390506), (2275, 0.036106870616821184), (2276, 0.025192494477772984), (2277, 0.09027734304007616), (2278, 0.02234947371558933), (2279, 0.03477919592609427), (2280, 0.024376711502815257), (2281, 0.0387118034454489), (2282, 0.004545475638446289), (2283, 0.013064490862096118), (2284, 0.01928893224104034), (2285, 0.024707191462917704), (2286, 0.019117419638414793), (2287, 0.024579066795964624), (2288, 0.03481346986817287), (2289, 0.007520629112183108), (2290, 0.02875302982361014), (2291, 0.050230914480138174), (2292, 0.047724982234549795), (2293, 0.01595163368156327), (2294, 0.025987202174319584), (2295, 0.04827256182438198), (2296, 0.027662224758132715), (2297, 0.02056507328380577), (2298, 0.040459411588319796), (2299, 0.016742198634287657), (2300, 0.008090489085990632), (2301, 0.031326253988062894), (2302, 0.03085779541060324), (2303, 0.014140885062103103), (2304, 0.042646458540629255), (2305, 0.024698214986681215), (2306, 0.043804907587532145), (2307, 0.008785887051132348), (2308, 0.03800098910967653), (2309, 0.02313321873084695), (2310, 0.04729024372680078), (2311, 0.013703020305720221), (2312, 0.037742843452378425), (2313, 0.03742538319813508), (2314, 0.0703601587346719), (2315, 0.026460425748452213), (2316, 0.03166840761481565), (2317, 0.02181054939246645), (2318, 0.03392761611204968), (2319, 0.036465488353793), (2320, 0.03771783906100116), (2321, 0.03957663851210774), (2322, 0.02260327905367972), (2323, 0.02085706856856388), (2324, 0.03020788306038149), (2325, 0.004981479897139677), (2326, 0.0183992396265399), (2327, 0.016471977444377516), (2328, 0.011477054112401382), (2329, 0.019656084464768818), (2330, 0.01696552620246409), (2331, 0.03643809220089327), (2332, 0.012625152498959987), (2333, 0.013453979209192892), (2334, 0.012579708012691983), (2335, 0.025233653141115503), (2336, 0.02272963149347313), (2337, 0.04248042446215569), (2338, 0.031189648105206736), (2339, 0.01198517669803265), (2340, 0.04653903173943679), (2341, 0.017633678133559667), (2342, 0.013086225597287287), (2343, 0.022532245115528832), (2344, 0.026059742529434063), (2345, 0.006905071107139145), (2346, 0.009844956949356042), (2347, 0.05630169318218184), (2348, 0.020778235703468883), (2349, 0.013794207818207938), (2350, 0.02429876040379797), (2351, 0.030221036193957426), (2352, 0.03583207299799057), (2353, 0.03537968665155787), (2354, 0.014751723688333497), (2355, 0.026305865410102772), (2356, 0.03149047706498778), (2357, 0.022353045911642073), (2358, 0.037638919795971636), (2359, 0.023634247454587382), (2360, 0.01757091541296034), (2361, 0.018928512230307747), (2362, 0.04049925620748293), (2363, 0.027088278393150124), (2364, 0.04944832861342301), (2365, 0.04518904063260863), (2366, 0.04044728188054034), (2367, 0.038029403985788565), (2368, 0.03162817801069579), (2369, 0.01679635739934772), (2370, 0.022524083440722445), (2371, 0.049597506309755214), (2372, 0.027562188625968716), (2373, 0.008524715722676057), (2374, 0.0355146410351559), (2375, 0.06526203109290375), (2376, 0.02170249578992575), (2377, 0.07221652378858956), (2378, 0.019153171637682483), (2379, 0.014900763400346365), (2380, 0.02139183842514276), (2381, 0.02099401603013519), (2382, 0.017216772166384148), (2383, 0.020869417452481775), (2384, 0.02806940095961437), (2385, 0.027204512187475324), (2386, 0.020696299882278814), (2387, 0.022644758675320658), (2388, 0.038457224359294516), (2389, 0.03405991868946263), (2390, 0.017325624734507293), (2391, 0.053985341394455794), (2392, 0.04609989269419876), (2393, 0.024071509101758308), (2394, 0.03671165886712697), (2395, 0.017254988750558038), (2396, 0.017433278217550398), (2397, 0.019966856615851895), (2398, 0.019541794153993656), (2399, 0.04753863496137012), (2400, 0.06690689856094977), (2401, 0.04197878329689745), (2402, 0.03063052005364318), (2403, 0.04314237572253632), (2404, 0.024075596184686562), (2405, 0.022280618640432407), (2406, 0.03471901473983996), (2407, 0.040167728154700336), (2408, 0.0569800000489607), (2409, 0.037739640061120384), (2410, 0.039255077812482914), (2411, 0.09619939149613482), (2412, 0.030719492855524527), (2413, 0.04730067176724126), (2414, 0.02037204834868623), (2415, 0.020488493142167052), (2416, 0.01704961154744244), (2417, 0.0413117959495822), (2418, 0.028411200655925565), (2419, 0.022478491545007077), (2420, 0.011595494276046975), (2421, 0.03346928385076558), (2422, 0.026791288620619094), (2423, 0.01340746251512019), (2424, 0.04772180616077303), (2425, 0.013132547085711623), (2426, 0.02877954214205978), (2427, 0.04065478243596053), (2428, 0.015663090676176772), (2429, 0.01595110738901308), (2430, 0.01655200423757673), (2431, 0.05240781665441155), (2432, 0.03183321101757194), (2433, 0.02880597944982557), (2434, 0.014988548441149517), (2435, 0.03415326586406947), (2436, 0.02276133109383478), (2437, 0.019511997300986954), (2438, 0.020559058018121825), (2439, 0.014350143484644876), (2440, 0.04277263626556365), (2441, 0.009821072215026323), (2442, 0.0321868772327223), (2443, 0.0502288197179588), (2444, 0.06545146504363325), (2445, 0.004357394126235198), (2446, 0.012704906861191159), (2447, 0.030495650677122774), (2448, 0.010414381331192102), (2449, 0.025353905416318642), (2450, 0.0237930616321299), (2451, 0.03263141111872278), (2452, 0.010988324430672023), (2453, 0.02164902000727152), (2454, 0.07273562415215061), (2455, 0.011211613445992339), (2456, 0.020123351037394967), (2457, 0.02639778396128582), (2458, 0.010610653599820427), (2459, 0.026860046866888778), (2460, 0.019728330191156836), (2461, 0.06566481941456434), (2462, 0.009211912888866648), (2463, 0.05199922942170858), (2464, 0.020484444779416834), (2465, 0.02460455111353827), (2466, 0.03491342009539559), (2467, 0.031406631246828694), (2468, 0.014892646886457783), (2469, 0.07423436892786427), (2470, 0.03329708929454686), (2471, 0.007035098162011508), (2472, 0.007287791687066621), (2473, 0.01899832597271238), (2474, 0.04753605317007818), (2475, 0.040110902720942546), (2476, 0.031182609981829677), (2477, 0.053623559206517984), (2478, 0.019194180094748957), (2479, 0.023889643792149157), (2480, 0.04240712353431651), (2481, 0.06748885534918614), (2482, 0.018035811018564614), (2483, 0.02553416980506123), (2484, 0.037511600283025644), (2485, 0.02613216845958901), (2486, 0.024388328293897553), (2487, 0.04613339319936997), (2488, 0.030581711978061116), (2489, 0.026046048595649893), (2490, 0.019472872396426547), (2491, 0.039192547717826216), (2492, 0.04313929838637148), (2493, 0.028617271194089407), (2494, 0.03855470249983371), (2495, 0.01947128641654786), (2496, 0.009427947301986307), (2497, 0.057258902118622584), (2498, 0.06110672119035118), (2499, 0.03662712800748896), (2500, 0.0059098079980520165), (2501, 0.03850064026702239), (2502, 0.11997193501265659), (2503, 0.011121242483030926), (2504, 0.03426283373118814), (2505, 0.01884470386595445), (2506, 0.024689446526745883), (2507, 0.021867349041483068), (2508, 0.011773143233529966), (2509, 0.02185628226530312), (2510, 0.0171571374798388), (2511, 0.015657783735805515), (2512, 0.038096503997242404), (2513, 0.048257173573288056), (2514, 0.021266169543145298), (2515, 0.02645138583830979), (2516, 0.026029597663368532), (2517, 0.03308932950630242), (2518, 0.031512754536913594), (2519, 0.014872416459887374), (2520, 0.0389546449164469), (2521, 0.02763990896009293), (2522, 0.052059392012685474), (2523, 0.012444042510835834), (2524, 0.01818762042957789), (2525, 0.04571142331907936), (2526, 0.0078826350315619), (2527, 0.06213525664731623), (2528, 0.032944325048873714), (2529, 0.042187746463289905), (2530, 0.054512232310576524), (2531, 0.026786147448768272), (2532, 0.019503173095659947), (2533, 0.010604332613497417), (2534, 0.03958557623145061), (2535, 0.030723660199925014), (2536, 0.05657009878351691), (2537, 0.012822861136910214), (2538, 0.035194255425117164), (2539, 0.019652931074760373), (2540, 0.03494438171286168), (2541, 0.06618309918372767), (2542, 0.021648120203237593), (2543, 0.01823148429438604), (2544, 0.017753191022577542), (2545, 0.05722465368505002), (2546, 0.03331395865138439), (2547, 0.034835435457333155), (2548, 0.02309970313881362), (2549, 0.0337878989203138), (2550, 0.03479829637306611), (2551, 0.02099620792816108), (2552, 0.13569906182468625), (2553, 0.049105473173227214), (2554, 0.07234028374884824), (2555, 0.026957913774281778), (2556, 0.016013385634880018), (2557, 0.031844321814831524), (2558, 0.04772009089688958), (2559, 0.02749505927277074), (2560, 0.033091535808264905), (2561, 0.052146783969945945), (2562, 0.03840721259961266), (2563, 0.027105997884985186), (2564, 0.01917066493981593), (2565, 0.011680235479312644), (2566, 0.019672488453058738), (2567, 0.025661628026685507), (2568, 0.036434717924480935), (2569, 0.03165588604687556), (2570, 0.04781933744630199), (2571, 0.023124307535523712), (2572, 0.023531383827034867), (2573, 0.030927579402502205), (2574, 0.023093866504331654), (2575, 0.02237689054940792), (2576, 0.05702749530296919), (2577, 0.03280753891392636), (2578, 0.02247604885774353), (2579, 0.04117284608098794), (2580, 0.040569598403934565), (2581, 0.022608420481439233), (2582, 0.035328011824675695), (2583, 0.022190365964302457), (2584, 0.01866573231954266), (2585, 0.020001983686940818), (2586, 0.014685738913483182), (2587, 0.02239490585930702), (2588, 0.051772183441874356), (2589, 0.03558493210819681), (2590, 0.0313877178142634), (2591, 0.059390207451414996), (2592, 0.020215936359135378), (2593, 0.015345617176958197), (2594, 0.009050882949805774), (2595, 0.020920022020925775), (2596, 0.015775033751382107), (2597, 0.041379512810395445), (2598, 0.05704197616242113), (2599, 0.05143517111138486), (2600, 0.02312292015780693), (2601, 0.02095242972103141), (2602, 0.016078692056793506), (2603, 0.04567691237864531), (2604, 0.016570000520213728), (2605, 0.015189827180404385), (2606, 0.02014832136942653), (2607, 0.055176757414941956), (2608, 0.01538697213064135), (2609, 0.05171959872625944), (2610, 0.03471942795883663), (2611, 0.01746415972943007), (2612, 0.013758828781229096), (2613, 0.015431808898640533), (2614, 0.03683735527322486), (2615, 0.022674147576172435), (2616, 0.018430618488715397), (2617, 0.026225480336832394), (2618, 0.0817544449614103), (2619, 0.04676779284009267), (2620, 0.009270854009125933), (2621, 0.02159205486156653), (2622, 0.0334791122377099), (2623, 0.030920839557927463), (2624, 0.04970760334313155), (2625, 0.026533019132158164), (2626, 0.033501479337910395), (2627, 0.0169062748348504), (2628, 0.015792126287074642), (2629, 0.05493826598596553), (2630, 0.04672963579788766), (2631, 0.04163010288919762), (2632, 0.019776632022028697), (2633, 0.06878194362905286), (2634, 0.030082315133626795), (2635, 0.034615519513832876), (2636, 0.0272721640828568), (2637, 0.018483963111951038), (2638, 0.05563224563152167), (2639, 0.02574089426220759), (2640, 0.03174863583358095), (2641, 0.01802353677545443), (2642, 0.0384651094703112), (2643, 0.023868746956707324), (2644, 0.020642434506943436), (2645, 0.02428930857006852), (2646, 0.0390970188946366), (2647, 0.029016724158925877), (2648, 0.06010348858214261), (2649, 0.027683937924567394), (2650, 0.037594386049193046), (2651, 0.013079060426872905), (2652, 0.030529736256414513), (2653, 0.06321583441321911), (2654, 0.02181962888207172), (2655, 0.034834122948093224), (2656, 0.05208858335934546), (2657, 0.008986888930214211), (2658, 0.010493315063273778), (2659, 0.004274648725000881), (2660, 0.03353029300203282), (2661, 0.024415193457057737), (2662, 0.03991806883783016), (2663, 0.037931119132406224), (2664, 0.06194225427226806), (2665, 0.056703404248828596), (2666, 0.0345768449746012), (2667, 0.03554721758537731), (2668, 0.034397784289280885), (2669, 0.03818138261537455), (2670, 0.022579277620320064), (2671, 0.029677194286185673), (2672, 0.02795084143766135), (2673, 0.05575922494279775), (2674, 0.012602032023016265), (2675, 0.013215101842423596), (2676, 0.0063600180076149055), (2677, 0.06003031801983067), (2678, 0.022765441018565813), (2679, 0.03494876196500857), (2680, 0.02881317077732888), (2681, 0.03938417093533121), (2682, 0.014171906843544396), (2683, 0.04073022230034714), (2684, 0.017634670795185572), (2685, 0.014286608827863879), (2686, 0.015488503791690119), (2687, 0.03303402415743294), (2688, 0.02552268566068057), (2689, 0.03472562423535773), (2690, 0.02957755072549503), (2691, 0.02811015821683464), (2692, 1.0000000000000004), (2693, 0.042876231205325924), (2694, 0.04448040175916987), (2695, 0.07650555421213617), (2696, 0.049680526041914176), (2697, 0.04162695002265841), (2698, 0.04587015574911715), (2699, 0.026248220706424026), (2700, 0.03519776942391773), (2701, 0.06923966594109465), (2702, 0.02704866029846697), (2703, 0.02463517877964997), (2704, 0.012312344893907893), (2705, 0.04419363311697285), (2706, 0.0479339697265951), (2707, 0.031823353834990235), (2708, 0.03467485844791295), (2709, 0.012476640599335011), (2710, 0.046661798716207736), (2711, 0.03772729608564052), (2712, 0.03237173602886291), (2713, 0.02596388520686143), (2714, 0.014482659411056155), (2715, 0.011444435781281695), (2716, 0.046615061884249555), (2717, 0.05564874137972739), (2718, 0.03394851788025616), (2719, 0.027985312072148803), (2720, 0.06890565474648577), (2721, 0.03137394755458093), (2722, 0.022341334393932058), (2723, 0.040403574993089664), (2724, 0.023556521762978157), (2725, 0.04754141361961435), (2726, 0.03768730776007438), (2727, 0.09879825724933676), (2728, 0.06020865685740202), (2729, 0.03638668007148816), (2730, 0.0257402462677659), (2731, 0.028060600551807143), (2732, 0.024817285307871917), (2733, 0.028942206916371043), (2734, 0.026750494255989195), (2735, 0.019829583740004), (2736, 0.024416387941424995), (2737, 0.03840004409332877), (2738, 0.038969952427734475), (2739, 0.038366555036770784), (2740, 0.04109462141096055), (2741, 0.027821358431636318), (2742, 0.018126648427062724), (2743, 0.021967223917573414), (2744, 0.061585938455958986), (2745, 0.036238015903640446), (2746, 0.045538573721237686), (2747, 0.023969554938325185), (2748, 0.017902122594243657), (2749, 0.02506721218743731), (2750, 0.015792825110689242), (2751, 0.03612573081858497), (2752, 0.03850904369526931), (2753, 0.017687178735031193), (2754, 0.016040281595191795), (2755, 0.05264216262034699), (2756, 0.02626895893004689), (2757, 0.02167814778503368), (2758, 0.023051510815319053), (2759, 0.016737638787026065), (2760, 0.016207265769834393), (2761, 0.05978637021002208), (2762, 0.02408926085635222), (2763, 0.02592830884201829), (2764, 0.01770245300433848), (2765, 0.025474630940794666), (2766, 0.04875589681025763), (2767, 0.041588686921184455), (2768, 0.016113257563152024), (2769, 0.04765990088415519), (2770, 0.041901581267369294), (2771, 0.03132721131589597), (2772, 0.044934097193076686), (2773, 0.025239967523951298), (2774, 0.03390409324986471), (2775, 0.017397875196742355), (2776, 0.025629139644390418), (2777, 0.027946336042544383), (2778, 0.053645078476027605), (2779, 0.024070708220737036), (2780, 0.04058119585153533), (2781, 0.03217920745165986), (2782, 0.046358447104395115), (2783, 0.017926822099924362), (2784, 0.03001152003177811), (2785, 0.020238026405435067), (2786, 0.02939311408315378), (2787, 0.0038315196820386615), (2788, 0.024961814441392265), (2789, 0.03264825352531335), (2790, 0.04913882131441652), (2791, 0.022846360311290483), (2792, 0.02526900715030362), (2793, 0.036079507999548246), (2794, 0.043212536003437683), (2795, 0.02809433912856416), (2796, 0.02933875379098764), (2797, 0.03406329605803535), (2798, 0.05474988388314421), (2799, 0.03530769540040222), (2800, 0.013746623785946573), (2801, 0.07229485500533622), (2802, 0.03646755908190546), (2803, 0.024559179842757774), (2804, 0.017658064098209678), (2805, 0.03293546552138588), (2806, 0.0021179482352160057), (2807, 0.024446043268411842), (2808, 0.03646436252257067), (2809, 0.027551429764387965), (2810, 0.0535760356696622), (2811, 0.025189815405478187), (2812, 0.012805167930783868), (2813, 0.04842813108425399), (2814, 0.019664277407201818), (2815, 0.022935545348086686), (2816, 0.03210966041700445), (2817, 0.034280583774929894), (2818, 0.0327182633734137), (2819, 0.020993172766372102), (2820, 0.01678136367846486), (2821, 0.014955441605882015), (2822, 0.018606127953634775), (2823, 0.031473094628436504), (2824, 0.030286397837273868), (2825, 0.030100018638058876), (2826, 0.01627302374487492), (2827, 0.022373596429421168), (2828, 0.03652852148005815), (2829, 0.017812365965037658), (2830, 0.0693425261382228), (2831, 0.015024494462650249), (2832, 0.030508970886413155), (2833, 0.021860186589277075), (2834, 0.022672772850637832), (2835, 0.02033686543208119), (2836, 0.030880272728557027), (2837, 0.018765239482577557), (2838, 0.023860925610908416), (2839, 0.018231391943382448), (2840, 0.02480591084123699), (2841, 0.029748380547603485), (2842, 0.021876921802856747), (2843, 0.0449778420046791), (2844, 0.052390292144689654), (2845, 0.01020689695916928), (2846, 0.019131139393432948), (2847, 0.022206682726727114), (2848, 0.02310850934860187), (2849, 0.03788986543884161), (2850, 0.02591504097941698), (2851, 0.030985852347392404), (2852, 0.022538249856424507), (2853, 0.015111239553364462), (2854, 0.014789492983958), (2855, 0.02575841266030252), (2856, 0.008647002741567733), (2857, 0.0132114808933059), (2858, 0.012870199162677166), (2859, 0.033029648602806876), (2860, 0.025113648560980237), (2861, 0.020844138628294595), (2862, 0.03371221117182323), (2863, 0.028461770023248865), (2864, 0.017952237695829192), (2865, 0.04233376314541347), (2866, 0.012246713858042806), (2867, 0.03745261876001297), (2868, 0.031411698621513766), (2869, 0.033599821488734236), (2870, 0.028985447457200192), (2871, 0.011826931396375464), (2872, 0.02527076585290893), (2873, 0.025713271642873153), (2874, 0.036796002042515076), (2875, 0.005285757146712949), (2876, 0.0738575756448941), (2877, 0.04696975452713067), (2878, 0.05735592350111779), (2879, 0.03208921355573833), (2880, 0.03204743132813715), (2881, 0.01631160536886763), (2882, 0.03932417693723303), (2883, 0.05398536066193543), (2884, 0.0247808081824376), (2885, 0.01740133644832655), (2886, 0.009877540737261985), (2887, 0.029370340230243187), (2888, 0.031019374718500192), (2889, 0.03934236305731628), (2890, 0.02361345009173857), (2891, 0.032948718309467676), (2892, 0.03052242778056489), (2893, 0.04606440116175958), (2894, 0.035721585510652895), (2895, 0.012618460885864064), (2896, 0.03556057655229008), (2897, 0.010252846944210824), (2898, 0.04101744459796236), (2899, 0.05434509914916936), (2900, 0.018186546032717348), (2901, 0.03867284353164313), (2902, 0.04921422929563933), (2903, 0.04575848251239922), (2904, 0.01677840973347707), (2905, 0.017395128828491344), (2906, 0.0171425961195475), (2907, 0.017269831065863515), (2908, 0.04192036142818179), (2909, 0.02854879072906376), (2910, 0.04124203012579801), (2911, 0.024762868308731617), (2912, 0.03997394515350749), (2913, 0.02311108533886242), (2914, 0.04139048198590642), (2915, 0.01614860489549297), (2916, 0.02711690839353286), (2917, 0.015467713433701843), (2918, 0.03871335593133872), (2919, 0.03723868390329069), (2920, 0.048728833181390124), (2921, 0.04505243815466742), (2922, 0.045372212852891336), (2923, 0.007095028090469427), (2924, 0.0326630982544586), (2925, 0.041779730449731274), (2926, 0.03175510848848091), (2927, 0.04896145457239117), (2928, 0.03943206558576569), (2929, 0.03214677892093071), (2930, 0.03816717107687819), (2931, 0.02798330210078031), (2932, 0.031407825372227145), (2933, 0.031833443317748046), (2934, 0.0186041529093304), (2935, 0.02464793128378713), (2936, 0.010346626837719168), (2937, 0.019017979990331606), (2938, 0.0316354250340901), (2939, 0.04102642651852897), (2940, 0.024367566642161817), (2941, 0.00772565295891679), (2942, 0.057497242490503184), (2943, 0.02322847788423045), (2944, 0.036712229733595496), (2945, 0.027326511507442853), (2946, 0.012386465371113913), (2947, 0.010122274546542395), (2948, 0.020776536753913423), (2949, 0.06867676739643046), (2950, 0.04285244243476563), (2951, 0.023500816336615694), (2952, 0.04417245381304345), (2953, 0.021599765343511382), (2954, 0.028422628809124877), (2955, 0.018504622034717796), (2956, 0.027965761826311622), (2957, 0.045410118316936414), (2958, 0.021631203993749154), (2959, 0.037321354434103705), (2960, 0.033077039861595825), (2961, 0.037809338241938564), (2962, 0.053158504831151976), (2963, 0.03798237452288753), (2964, 0.025411808871053494), (2965, 0.020391880829118112), (2966, 0.038958304322819826), (2967, 0.010216792977001963), (2968, 0.022524097663488875), (2969, 0.042464921439124254), (2970, 0.017616689780906254), (2971, 0.03913668527272812), (2972, 0.02239441061427786), (2973, 0.02434568053847319), (2974, 0.058619045150493335), (2975, 0.027867381354574325), (2976, 0.032744156129472096), (2977, 0.026227162994182755), (2978, 0.041526582947787674), (2979, 0.020171284321567222), (2980, 0.014312111666839721), (2981, 0.041658170520806545), (2982, 0.01523909023419594), (2983, 0.031074336536848973), (2984, 0.05152111682471166), (2985, 0.06729291076549485), (2986, 0.012557748390670496), (2987, 0.00547393416289111), (2988, 0.021865628732446116), (2989, 0.026882483729594724), (2990, 0.029095748807463025), (2991, 0.019247262851475162), (2992, 0.03407129232427234), (2993, 0.023786173340015027), (2994, 0.03416635309673259), (2995, 0.01554633378931297), (2996, 0.025315740289629327), (2997, 0.03599082281900824), (2998, 0.02069349060399496), (2999, 0.025351920399004062), (3000, 0.0655005370262502), (3001, 0.033902372023474965), (3002, 0.011108418061399842), (3003, 0.04001536804567138), (3004, 0.032858944768314136), (3005, 0.08740991803474736), (3006, 0.02103698327960609), (3007, 0.016638768952152164), (3008, 0.01608528939312849), (3009, 0.014653663000154412), (3010, 0.055244525185084735), (3011, 0.02980019249697969), (3012, 0.02604166488777191), (3013, 0.024299771628591652), (3014, 0.0391825147249512), (3015, 0.039835973638182996), (3016, 0.032114881771314566), (3017, 0.023843983713333818), (3018, 0.017041722058421704), (3019, 0.054187588278976094), (3020, 0.08227380099244673), (3021, 0.029544952961029818), (3022, 0.02652271279255466), (3023, 0.042205788889669874), (3024, 0.01599141196305459), (3025, 0.004046982650371543), (3026, 0.021254510774538497), (3027, 0.04150698051313553), (3028, 0.02282829090260092), (3029, 0.017220338051491563), (3030, 0.017705824512990066), (3031, 0.02468461865575939), (3032, 0.05627860227912247), (3033, 0.03211163922398299), (3034, 0.012349468421288172), (3035, 0.01991864439643542), (3036, 0.01737231351921937), (3037, 0.037892724099813216), (3038, 0.030375476485797546), (3039, 0.012645081071641123), (3040, 0.0202561537885823), (3041, 0.005634398346794741), (3042, 0.015620086173434482), (3043, 0.04239706812624228), (3044, 0.019592615384128122), (3045, 0.03681571710000904), (3046, 0.03307602380420766), (3047, 0.02674004894038835), (3048, 0.01892926342807676), (3049, 0.017233105798649853), (3050, 0.017405984287423234), (3051, 0.029507631716037715), (3052, 0.020312627270965174), (3053, 0.06928905328502699), (3054, 0.029923396220513845), (3055, 0.1343323664749386), (3056, 0.008375851203266612), (3057, 0.04407150014759839), (3058, 0.02927144891295677), (3059, 0.026691122747919568), (3060, 0.05377575432921619), (3061, 0.024706734301527936), (3062, 0.008524565620394161), (3063, 0.02345789827184601), (3064, 0.020201747213912862), (3065, 0.040091937231820904), (3066, 0.02101752848858719), (3067, 0.045237947329011645), (3068, 0.02495225021223576), (3069, 0.03167154459811329), (3070, 0.026236537056420674), (3071, 0.044230613233936206), (3072, 0.0038941762735593658), (3073, 0.018224849222516628), (3074, 0.03129435096678996), (3075, 0.019503359162858384), (3076, 0.02037990646229204), (3077, 0.018754562358156947), (3078, 0.033983457430164565), (3079, 0.021242367730885205), (3080, 0.01643194522000436), (3081, 0.04006713912723348), (3082, 0.018512147694717877), (3083, 0.06259187731200325), (3084, 0.02065405223783471), (3085, 0.03412745313617064), (3086, 0.038498231504879334), (3087, 0.06089024974675932), (3088, 0.05373874554786301), (3089, 0.021706010042868675), (3090, 0.02324659907349654), (3091, 0.03962646936741304), (3092, 0.030513495658151018), (3093, 0.028600903046582134), (3094, 0.06629679010834223), (3095, 0.0248509584500088), (3096, 0.023173024782509988), (3097, 0.03389106864872518), (3098, 0.04176082742285798), (3099, 0.053172497128049966), (3100, 0.025778046907864817), (3101, 0.04752014171641814), (3102, 0.05679798937252748), (3103, 0.035344472210887413), (3104, 0.03291937612685375), (3105, 0.03749597375657896), (3106, 0.01703505638110686), (3107, 0.02101453250444085), (3108, 0.02380926365645309), (3109, 0.02619388842806726), (3110, 0.023232132848323123), (3111, 0.029052308668902953), (3112, 0.02088246998647112), (3113, 0.017065158680934788), (3114, 0.044188922890694704), (3115, 0.02426739046007686), (3116, 0.05171963739538126), (3117, 0.04281061928261782), (3118, 0.03724119575437342), (3119, 0.009285651675662901), (3120, 0.037988520054013604), (3121, 0.018272784613776787), (3122, 0.041203505296245904), (3123, 0.059193186649174084), (3124, 0.019649032838292817), (3125, 0.023970542833736203), (3126, 0.02214395173317968), (3127, 0.048694610214195966), (3128, 0.014950184046218147), (3129, 0.03527542138980372), (3130, 0.03118736834989015), (3131, 0.03241540135713055), (3132, 0.013643890693052853), (3133, 0.028634409258134715), (3134, 0.02683453433339919), (3135, 0.02021987557209417), (3136, 0.02416465705432657), (3137, 0.028854356383909305), (3138, 0.031863918385382356), (3139, 0.05117986691975051), (3140, 0.039768324292174695), (3141, 0.028326893645097162), (3142, 0.04183051835978676), (3143, 0.02522445388328045), (3144, 0.014950185655274208), (3145, 0.01128690676369582), (3146, 0.03454619842897723), (3147, 0.027459179068355856), (3148, 0.04475280497919085), (3149, 0.04426064623881952), (3150, 0.02741661891976841), (3151, 0.03254638399916171), (3152, 0.04052686490489338), (3153, 0.03477014442979453), (3154, 0.030347224866968878), (3155, 0.034805335585670276), (3156, 0.046171892999443735), (3157, 0.06868067547633441), (3158, 0.04744642942362531), (3159, 0.018438851953683128), (3160, 0.02870447326249871), (3161, 0.018660201579892833), (3162, 0.036341481908642545), (3163, 0.039428331982420683), (3164, 0.040079462197833544), (3165, 0.04422202199577529), (3166, 0.03106998070145209), (3167, 0.046475258952317466), (3168, 0.02045477961062142), (3169, 0.03747725620379564), (3170, 0.03583579205745566), (3171, 0.025697494362624623), (3172, 0.019053891435678528), (3173, 0.03259893975494707), (3174, 0.031022878073690724), (3175, 0.026892814259300395), (3176, 0.04240663565399401), (3177, 0.04068839359755618), (3178, 0.061246349869437736), (3179, 0.025469506850975564), (3180, 0.040367560410101005), (3181, 0.016274065376088713), (3182, 0.03933534590888046), (3183, 0.023753903762671294), (3184, 0.03167380736705187), (3185, 0.043538891164076485), (3186, 0.06684822237267946), (3187, 0.037439437091445676), (3188, 0.04191062177890102), (3189, 0.043606723529046466), (3190, 0.011222177574422305), (3191, 0.025371230280452316), (3192, 0.013961236996764298), (3193, 0.03254829514746232), (3194, 0.020621222417806277), (3195, 0.03248381565236468), (3196, 0.044352309513058824), (3197, 0.006189247443458076), (3198, 0.02345032181132724), (3199, 0.009800401316459898), (3200, 0.013432914387856435), (3201, 0.025582827998160553), (3202, 0.03195645984580975), (3203, 0.035747857780496606), (3204, 0.035288723579367215), (3205, 0.029338070998758375), (3206, 0.02689623149166926), (3207, 0.018982756136721946), (3208, 0.06689249443626338), (3209, 0.021406156710673092), (3210, 0.05222076018843437), (3211, 0.031976163039707864), (3212, 0.046542529530795095), (3213, 0.03801465262576953), (3214, 0.05596044430091379), (3215, 0.029798058375669133), (3216, 0.04318809054173936), (3217, 0.03768736557468165), (3218, 0.06372624139083641), (3219, 0.023883338346153637), (3220, 0.04266421155128561), (3221, 0.035652463911946417), (3222, 0.045950173261496974), (3223, 0.012870648664244762), (3224, 0.010657926433176569), (3225, 0.0283478636540941), (3226, 0.03168692279160853), (3227, 0.028655421919677907), (3228, 0.05568589529807612), (3229, 0.04112378748592906), (3230, 0.026392132193997834), (3231, 0.049509519500554655), (3232, 0.01699540843245393), (3233, 0.027984947072435797), (3234, 0.037137782777377726), (3235, 0.05061333431445373), (3236, 0.02828871692142721), (3237, 0.02247425939833328), (3238, 0.026505488321721334), (3239, 0.02552243370627627), (3240, 0.04800564971946457), (3241, 0.006677146087329057), (3242, 0.0317829701877826), (3243, 0.030104854934392435), (3244, 0.045129979377746925), (3245, 0.013007759917580892), (3246, 0.07909262391421405), (3247, 0.02161662802349175), (3248, 0.01194926228509573), (3249, 0.058841299493410215), (3250, 0.029182027562787254), (3251, 0.021035456139461107), (3252, 0.025046382208965316), (3253, 0.017517247328743747), (3254, 0.07059635709027431), (3255, 0.04313873397888858), (3256, 0.014124367768464987), (3257, 0.018951936889623572), (3258, 0.02961936394403147), (3259, 0.029195952388440343), (3260, 0.023672001020236567), (3261, 0.04525043698685212), (3262, 0.030946470725772238), (3263, 0.02256071642529603), (3264, 0.019349773134002053), (3265, 0.06976166906618661), (3266, 0.015639283355634886), (3267, 0.015961822730489586), (3268, 0.036110179247613304), (3269, 0.042290485854314455), (3270, 0.06570152378832579), (3271, 0.02235843824717341), (3272, 0.023900492655035677), (3273, 0.016628523876492284), (3274, 0.046541913864650696), (3275, 0.039917042140609135), (3276, 0.07209580730241708), (3277, 0.02724349151763875), (3278, 0.0180577729542491), (3279, 0.019990271432657754), (3280, 0.03753474420204004), (3281, 0.046491252132799914), (3282, 0.03501791211664156), (3283, 0.010272627462690073), (3284, 0.0352426961976505), (3285, 0.03961000049325053), (3286, 0.021032778622697382), (3287, 0.02507249347930901), (3288, 0.021950089815757495), (3289, 0.03178180323596565), (3290, 0.02471687292875723), (3291, 0.017003338749867453), (3292, 0.01974388309545528), (3293, 0.02777463141585658), (3294, 0.052484948016431825), (3295, 0.018595761601495994), (3296, 0.023601592422296657), (3297, 0.05819205706384534), (3298, 0.04453867963584365), (3299, 0.020416803737055254), (3300, 0.04879777976040922), (3301, 0.017534529905304456), (3302, 0.015381847654620138), (3303, 0.08288697649621045), (3304, 0.03307609908671739), (3305, 0.020862631238551425), (3306, 0.04137968529378777), (3307, 0.013689119327163157), (3308, 0.030928614610343932), (3309, 0.020074732334283207), (3310, 0.011703301991064119), (3311, 0.03468799541598422), (3312, 0.025845281641218958), (3313, 0.03423973885120177), (3314, 0.02338506389452993), (3315, 0.05052220485596512), (3316, 0.02789925237665966), (3317, 0.024945436331109388), (3318, 0.07385633926529728), (3319, 0.04777384856820607), (3320, 0.02988753364829546), (3321, 0.0331503473101171), (3322, 0.023923029663693897), (3323, 0.011673496875843641), (3324, 0.03085359854868185), (3325, 0.07640298399136176), (3326, 0.04283272938398253), (3327, 0.01667967814712113), (3328, 0.0372456279642881), (3329, 0.006959071168217858), (3330, 0.02498391859582482), (3331, 0.027127259583485833), (3332, 0.011458051454059651), (3333, 0.014821454725459057), (3334, 0.05483127829300811), (3335, 0.018174786828880567), (3336, 0.0493412121907578), (3337, 0.021608306248008705), (3338, 0.023770354986744086), (3339, 0.020215891654637237), (3340, 0.029003632044665863), (3341, 0.04276916593340184), (3342, 0.018418027643778593), (3343, 0.06361693924123499), (3344, 0.04204216591429232), (3345, 0.022721592768710393), (3346, 0.04871439166450756), (3347, 0.04475168417121004), (3348, 0.02370242886005291), (3349, 0.04285236936627219), (3350, 0.020256970268346646), (3351, 0.060417489064256896), (3352, 0.01424109790127963), (3353, 0.04141450033312764), (3354, 0.027927830423719747), (3355, 0.033641140678582815), (3356, 0.04423993761483395), (3357, 0.016875857308582386), (3358, 0.01636727865042787), (3359, 0.03160372202851046), (3360, 0.07078185643541254), (3361, 0.03575921354677362), (3362, 0.03812021728862704), (3363, 0.048397007918796954), (3364, 0.0524415953739191), (3365, 0.03030052032494338), (3366, 0.01517218506583383), (3367, 0.02707027792231547), (3368, 0.021480587827240875), (3369, 0.06394020325781269), (3370, 0.051479255899657135), (3371, 0.038650504973385576), (3372, 0.040945495891902266), (3373, 0.02822543190509539), (3374, 0.03915942301818401), (3375, 0.015078910561034446), (3376, 0.045854623377727124), (3377, 0.0376822685037402), (3378, 0.02389722544740097), (3379, 0.052258998798885875), (3380, 0.0340908058699555), (3381, 0.017463387955614036), (3382, 0.038959605182268445), (3383, 0.022543562261064916), (3384, 0.025951967867859978), (3385, 0.053654512384553994), (3386, 0.01788806380737082), (3387, 0.03191980313603337), (3388, 0.017011487099106052), (3389, 0.019740011494081985), (3390, 0.028851951005495348), (3391, 0.033199653010512656), (3392, 0.03388430540250507), (3393, 0.023019356615748165), (3394, 0.02495303469570198), (3395, 0.043579948893658974), (3396, 0.04540526368807796), (3397, 0.030525664690808765), (3398, 0.034644291783850006), (3399, 0.04477930250099771), (3400, 0.02002586977352836), (3401, 0.029463985953055088), (3402, 0.030246821865948174), (3403, 0.031182994800690277), (3404, 0.012395489145453258), (3405, 0.03115298643699793), (3406, 0.0409020598990906), (3407, 0.0326997789518251), (3408, 0.0763746603809638), (3409, 0.033939895082343616), (3410, 0.01597299089708379), (3411, 0.04500594996402238), (3412, 0.061118986065703984), (3413, 0.054081121908819786), (3414, 0.04961085023754915), (3415, 0.022186164511721663), (3416, 0.03432494069499093), (3417, 0.03387442418728527), (3418, 0.052935183301503104), (3419, 0.02232929567143925), (3420, 0.05528788028823538), (3421, 0.042238825152125514), (3422, 0.010556251909957274), (3423, 0.04812545901294356), (3424, 0.03150796262088256), (3425, 0.04108811615249667), (3426, 0.022946632385316208), (3427, 0.04943292201645503), (3428, 0.036577612770010384), (3429, 0.021983210213615358), (3430, 0.04004186302114504), (3431, 0.03087644874363963), (3432, 0.04204468493360234), (3433, 0.03152528669971771), (3434, 0.03375195778366314), (3435, 0.013843063540239666), (3436, 0.04740701322982841), (3437, 0.033337776134560446), (3438, 0.04384186414783284), (3439, 0.027175971510228315), (3440, 0.015061166084372834), (3441, 0.028945830807662793), (3442, 0.04042879187907774), (3443, 0.03682506144946532), (3444, 0.016930507366016614), (3445, 0.027366795315731933), (3446, 0.09172211110073451), (3447, 0.02921143910258746), (3448, 0.03367867729397117), (3449, 0.047563444555707934), (3450, 0.04436371106263763), (3451, 0.01132107964279908), (3452, 0.03983022531468008), (3453, 0.0417856648517794), (3454, 0.013567993707148573), (3455, 0.04320395294358202), (3456, 0.05802050052739308), (3457, 0.03434803277034011), (3458, 0.02512724973832968), (3459, 0.02741218670428206), (3460, 0.046480902051042765), (3461, 0.024443958464934364), (3462, 0.06754365695223885), (3463, 0.05241063841096641), (3464, 0.02743308276596921), (3465, 0.04479746943295431), (3466, 0.02439304051222357), (3467, 0.0379960909310923), (3468, 0.032751529442598494), (3469, 0.05697605104641748), (3470, 0.06221729331618068), (3471, 0.011457219245390532), (3472, 0.013162696000625052), (3473, 0.011779412973918681), (3474, 0.051928587091508216), (3475, 0.03056585159868305), (3476, 0.04231211336044315), (3477, 0.0560239417668486), (3478, 0.04542861583156643), (3479, 0.06250059064074287), (3480, 0.04514173575267303), (3481, 0.02761794224663282), (3482, 0.014439018776134769), (3483, 0.028007044629485427), (3484, 0.03355462595778792), (3485, 0.014227049707458512), (3486, 0.036269942829675834), (3487, 0.02535608228654192), (3488, 0.02441420317116998), (3489, 0.03607390904570453), (3490, 0.022835164175479532), (3491, 0.03556125028512744), (3492, 0.025995933148873086), (3493, 0.03254849877209564), (3494, 0.00977790364888884), (3495, 0.006286971189651982), (3496, 0.018515044310778776), (3497, 0.023612772265752046), (3498, 0.041265286475543096), (3499, 0.0193485908335111), (3500, 0.04418226222793653), (3501, 0.021574672412689115), (3502, 0.018226525375598317), (3503, 0.020802000174749424), (3504, 0.06116292401138659), (3505, 0.012973935277179969), (3506, 0.037007121867478586), (3507, 0.01897836147219206), (3508, 0.0239233577206113), (3509, 0.05078766584280687), (3510, 0.013890821665492525), (3511, 0.04020282407156086), (3512, 0.0446905426918205), (3513, 0.02904837132354457), (3514, 0.035975205712722225), (3515, 0.014795285794852429), (3516, 0.025444001190397525), (3517, 0.020252353358048952), (3518, 0.03146023941074349), (3519, 0.036611953559935545), (3520, 0.04177047635904104), (3521, 0.014847529147830388), (3522, 0.023181821840333836), (3523, 0.03125219750424479), (3524, 0.0241774066076556), (3525, 0.02363642658462129), (3526, 0.03197337526345248), (3527, 0.0455366685219439), (3528, 0.025468293899285503), (3529, 0.03164421447601134), (3530, 0.018521376754152195), (3531, 0.03948415844642951), (3532, 0.029732845221350675), (3533, 0.030719892916864094), (3534, 0.0587911217017259), (3535, 0.03112058985240451), (3536, 0.05251067978300997), (3537, 0.0283444620278438), (3538, 0.014245754287867151), (3539, 0.01777350895944305), (3540, 0.013913090482332214), (3541, 0.026355347730967812), (3542, 0.017255874694536703), (3543, 0.026157281246042774), (3544, 0.027528644784909503), (3545, 0.008604446012230585), (3546, 0.01976762537874302), (3547, 0.029557442042476373), (3548, 0.015128267864181378), (3549, 0.07280876424073299), (3550, 0.02128021643606725), (3551, 0.00964835246668468), (3552, 0.039145641986219566), (3553, 0.06936081112423839), (3554, 0.0291552593785418), (3555, 0.03275226706122557), (3556, 0.04268916466055017), (3557, 0.011517288438048182), (3558, 0.023321500510558844), (3559, 0.056835415949200274), (3560, 0.027528990460767556), (3561, 0.03912879864021519), (3562, 0.030013445180007654), (3563, 0.007655094155104618), (3564, 0.021156130716140004), (3565, 0.023144286179467326), (3566, 0.01445901633297118), (3567, 0.03973341933605803), (3568, 0.023367481185787208), (3569, 0.024917308656148343), (3570, 0.027710493528141554), (3571, 0.025034997876424582), (3572, 0.04067549165304938), (3573, 0.03767986858402653), (3574, 0.04869117513765483), (3575, 0.02499335233921602), (3576, 0.03771800307471822), (3577, 0.010702378273048655), (3578, 0.03640913551331042), (3579, 0.022355656797068836), (3580, 0.02846794154660875), (3581, 0.038463830643751314), (3582, 0.04680253814479081), (3583, 0.03378606202844214), (3584, 0.03513225364250074), (3585, 0.017811202558143346), (3586, 0.023428917656795986), (3587, 0.04100793484150834), (3588, 0.019641684273130566), (3589, 0.01302235395219123), (3590, 0.02593451818568272), (3591, 0.021532706277736846), (3592, 0.02625496455037446), (3593, 0.029534839519738353), (3594, 0.03448341616118218), (3595, 0.006192019664873236), (3596, 0.014757989859092262), (3597, 0.03373900889159729), (3598, 0.03627771045948442), (3599, 0.014538777461676923), (3600, 0.03762527629040789), (3601, 0.014659814372979068), (3602, 0.016332326527501127), (3603, 0.017365780519930762), (3604, 0.01079516196918448), (3605, 0.03981559788688952), (3606, 0.04015584663964158), (3607, 0.03240208374789302), (3608, 0.025659735041860258), (3609, 0.011884902835079415), (3610, 0.025142742014395505), (3611, 0.012006445460117329), (3612, 0.043192468192008664), (3613, 0.04685639431032511), (3614, 0.02165890214372106), (3615, 0.012213136845331062), (3616, 0.045984201618739215), (3617, 0.011902584905246344), (3618, 0.024125564879578863), (3619, 0.0689721762619608), (3620, 0.07905019982938616), (3621, 0.03622389957547033), (3622, 0.02144977016058474), (3623, 0.019814102931233826), (3624, 0.027806710941325526), (3625, 0.036160126551555316), (3626, 0.01853529748029005), (3627, 0.028155858146915454), (3628, 0.03316515120959307), (3629, 0.047830022855801776), (3630, 0.016905810804187783), (3631, 0.0317980118733), (3632, 0.01755949376682579), (3633, 0.024311799374142833), (3634, 0.00991163795736243), (3635, 0.05554542374287597), (3636, 0.03220464429225206), (3637, 0.026706305884871977), (3638, 0.021357421407123038), (3639, 0.03826808140174318), (3640, 0.011846575072608065), (3641, 0.013894691860379255), (3642, 0.050459423150525845), (3643, 0.025120653732711423), (3644, 0.01721718948787052), (3645, 0.024939741790023298), (3646, 0.02800271814991487), (3647, 0.0203715362927948), (3648, 0.05759065943999461), (3649, 0.060873827631183125), (3650, 0.02761767648092754), (3651, 0.04122492608643457), (3652, 0.03711767009567125), (3653, 0.03921896528846072), (3654, 0.04231972909282204), (3655, 0.03265504633122422), (3656, 0.01979537968227039), (3657, 0.021586786540084762), (3658, 0.031733815769837595), (3659, 0.0333671202200184), (3660, 0.019686306274432984), (3661, 0.04342147093724376), (3662, 0.014683372247867544), (3663, 0.02800242487697078), (3664, 0.016144591945166903), (3665, 0.03761991873267554), (3666, 0.03245443711647224), (3667, 0.04229118610186612), (3668, 0.02635260974060061), (3669, 0.006184362935169184), (3670, 0.017074769571610443), (3671, 0.05056765239189894), (3672, 0.021003553552954496), (3673, 0.0204406034948419), (3674, 0.022174503069147998), (3675, 0.029414552934446427), (3676, 0.0), (3677, 0.05958064539656183), (3678, 0.012995074997446718), (3679, 0.031169639623722337), (3680, 0.015573842856442865), (3681, 0.048992403815394416), (3682, 0.030083428673374213), (3683, 0.020255933964317588), (3684, 0.04449179647096314), (3685, 0.012883169770004314), (3686, 0.026622615256923637), (3687, 0.012536348939897447), (3688, 0.028021379633592337), (3689, 0.013432669054874606), (3690, 0.014981233440144497), (3691, 0.01404487842423715), (3692, 0.04863995409319857), (3693, 0.0444991070010555), (3694, 0.024021176941625668), (3695, 0.019920716063251805), (3696, 0.023476304871721445), (3697, 0.02874625326879105), (3698, 0.059548013147995606), (3699, 0.054008368854465964), (3700, 0.01583012302106479), (3701, 0.06383209190595641), (3702, 0.025365024978881733), (3703, 0.021273962841350167), (3704, 0.036989227664580605), (3705, 0.05210524267237281), (3706, 0.05051247606644864), (3707, 0.014145305635160626), (3708, 0.015226025909401912), (3709, 0.04111397777480937), (3710, 0.04422884298576828), (3711, 0.03951731974419197), (3712, 0.010851757112910011), (3713, 0.012687263450898406), (3714, 0.013314509116031664), (3715, 0.033226964638902644), (3716, 0.029162218571371), (3717, 0.03531562982812264), (3718, 0.017487934059901674), (3719, 0.025839905070742818), (3720, 0.02009657452691923), (3721, 0.03374343175184159), (3722, 0.0532784540090807), (3723, 0.020945186421224594), (3724, 0.049666367226238094), (3725, 0.016083153579910622), (3726, 0.04429110497724768), (3727, 0.02194038218418916), (3728, 0.04412499887104819), (3729, 0.017742490902580232), (3730, 0.019012043720113794), (3731, 0.03994903201838019), (3732, 0.021942760792498312), (3733, 0.018002580199108664), (3734, 0.02274370692489937), (3735, 0.02618672004457326), (3736, 0.04002056287979855), (3737, 0.058180429203400934), (3738, 0.012567727649160282), (3739, 0.035350422072008954), (3740, 0.02199733632427365), (3741, 0.04268623789249165), (3742, 0.015356456966503168), (3743, 0.010637168277652228), (3744, 0.039593170879651536), (3745, 0.04616491567002227), (3746, 0.03418422490123635), (3747, 0.028937214220964756), (3748, 0.022574092132018758), (3749, 0.021980512195496182), (3750, 0.03035903326879496), (3751, 0.036384848225189684), (3752, 0.03486879567168517), (3753, 0.05150217572734797), (3754, 0.026961615922479035), (3755, 0.011572080243014263), (3756, 0.01870745811235418), (3757, 0.02839102519176111), (3758, 0.02543789945717381), (3759, 0.035175857714626765), (3760, 0.06502023502868973), (3761, 0.018344008335905822), (3762, 0.005515783928955111), (3763, 0.03010198953811828), (3764, 0.01791241911196054), (3765, 0.026503982229416193), (3766, 0.03151914602582554), (3767, 0.032403893247614404), (3768, 0.02693753243734493), (3769, 0.043726306308799194), (3770, 0.04374306052789841), (3771, 0.030675625897284137), (3772, 0.06118023429294163), (3773, 0.03476212426693714), (3774, 0.02149074798418847), (3775, 0.018672526975809105), (3776, 0.022803954598610243), (3777, 0.052866728655296964), (3778, 0.03837145083557088), (3779, 0.11217764922082644), (3780, 0.03349181008227272), (3781, 0.02577384141308662), (3782, 0.020001144357452608), (3783, 0.01401090180096513), (3784, 0.016358362067720927), (3785, 0.02350755622889799), (3786, 0.02632136727229467), (3787, 0.08218082002045737), (3788, 0.02801677544512711), (3789, 0.01711139538520224), (3790, 0.0205269178698162), (3791, 0.013222681814100317), (3792, 0.039397296688243655), (3793, 0.05975864337252989), (3794, 0.04176770061031731), (3795, 0.04679575955318042), (3796, 0.01568750431679011), (3797, 0.042203320497965456), (3798, 0.011947903312472995), (3799, 0.012963898544695197), (3800, 0.026009871525707152), (3801, 0.02248457073868432), (3802, 0.0404246382450299), (3803, 0.03170579356049093), (3804, 0.042467747164568595), (3805, 0.014533484491667952), (3806, 0.03454671958483142), (3807, 0.024481226388377787), (3808, 0.007342117912409614), (3809, 0.06300159262398748), (3810, 0.020221244689244754), (3811, 0.01519208219655489), (3812, 0.04967781188183776), (3813, 0.020966335352542956), (3814, 0.03145404378626532), (3815, 0.013318699814032713), (3816, 0.010418460242141084), (3817, 0.021279556957633658), (3818, 0.009074547631492045), (3819, 0.017420362184405753), (3820, 0.015223567174888552), (3821, 0.008584078723271578), (3822, 0.04279944009671726), (3823, 0.05465579304199251), (3824, 0.02909728037993211), (3825, 0.018835389480267712), (3826, 0.04804734332095609), (3827, 0.03244955386909526), (3828, 0.06864099346952328), (3829, 0.03413956621972852), (3830, 0.015476969363021587), (3831, 0.016712576978929666), (3832, 0.016465463241557496), (3833, 0.042891155045242504), (3834, 0.03002944086574709), (3835, 0.01759358838729423), (3836, 0.002928412694103541), (3837, 0.011988584527826363), (3838, 0.031162659587839085), (3839, 0.036100471363942746), (3840, 0.018308684504974762), (3841, 0.03797447971612437), (3842, 0.010766231093254267), (3843, 0.044936606481866745), (3844, 0.01693748714320132), (3845, 0.013838346998268676), (3846, 0.04564481914662664), (3847, 0.023149146604418573), (3848, 0.008146933852252226), (3849, 0.055625112638952756), (3850, 0.03275028522250262), (3851, 0.046369275405710876), (3852, 0.0360600324870861), (3853, 0.022892664326072214), (3854, 0.038659301109819424), (3855, 0.008381390084970342), (3856, 0.050605712718831894), (3857, 0.021490174041265776), (3858, 0.019973599449520582), (3859, 0.013856557016184197), (3860, 0.024322460508868257), (3861, 0.046019762052203476), (3862, 0.04617186375961236), (3863, 0.004846977842334276), (3864, 0.012291460605728914), (3865, 0.03060992845186351), (3866, 0.015179830230884369), (3867, 0.03579848932492335), (3868, 0.025868922002894375), (3869, 0.014041685299583771), (3870, 0.05073036590995354), (3871, 0.029330594455541946), (3872, 0.030829551282088162), (3873, 0.04484421634316762), (3874, 0.03183474217954204), (3875, 0.03723108480854778), (3876, 0.032673799742073566), (3877, 0.026838746189912433), (3878, 0.04314367056789887), (3879, 0.01684908172719446), (3880, 0.05114926506495233), (3881, 0.010554603512138983), (3882, 0.05187457767529772), (3883, 0.03938036424880563), (3884, 0.03486944223326126), (3885, 0.03435604476840035), (3886, 0.030749392464989325), (3887, 0.014046574660263107), (3888, 0.04197191923723241), (3889, 0.005680694891100133), (3890, 0.03828910428771883), (3891, 0.039186665102215926), (3892, 0.009378320253571208), (3893, 0.02879599469621911), (3894, 0.027373188321384495), (3895, 0.016330515161754208), (3896, 0.014083381659034996), (3897, 0.024935214014422988), (3898, 0.00836981533686218), (3899, 0.02834985896682139), (3900, 0.016071379462690074), (3901, 0.05467795671842087), (3902, 0.01445723137768951), (3903, 0.022750733242183335), (3904, 0.04968881328547864), (3905, 0.01294970731569364), (3906, 0.060103510936853635), (3907, 0.028829859139508734), (3908, 0.02039643061285799), (3909, 0.016276596910109083), (3910, 0.013486747656794027), (3911, 0.02234468747038809), (3912, 0.04711770498994735), (3913, 0.045355627486395864), (3914, 0.019252791701910354), (3915, 0.02088733650285703), (3916, 0.015388367004981607), (3917, 0.01816209720960117), (3918, 0.018627454211676067), (3919, 0.02304035754697123), (3920, 0.05043348802167891), (3921, 0.01616694106721827), (3922, 0.018682400913975123), (3923, 0.027830628094255495), (3924, 0.03179668138052025), (3925, 0.056587600362842674), (3926, 0.04293629036758874), (3927, 0.029578418903849928), (3928, 0.05704465998336228), (3929, 0.02086181368808916), (3930, 0.02362612942300504), (3931, 0.016496631152856992), (3932, 0.03028191576573945), (3933, 0.0196263502986933), (3934, 0.018013967938759843), (3935, 0.01952167447415367), (3936, 0.006427091655824837), (3937, 0.04281559611291592), (3938, 0.06660696116526585), (3939, 0.016510270801535422), (3940, 0.0389035695667528), (3941, 0.030114129981682038), (3942, 0.03549503697877029), (3943, 0.009752513839200661), (3944, 0.02304144356087184), (3945, 0.031133405317451263), (3946, 0.06387574069988564), (3947, 0.06018549374547427), (3948, 0.012851500610960312), (3949, 0.02664829233526952), (3950, 0.011108848940729485), (3951, 0.013251354711400189), (3952, 0.026631977977987706), (3953, 0.02770925501848021), (3954, 0.008913175633837311), (3955, 0.05678992410340295), (3956, 0.01796829676648034), (3957, 0.01743076741761087), (3958, 0.02016993585728668), (3959, 0.040993162280063444), (3960, 0.024175881473658515), (3961, 0.022623763779991084), (3962, 0.011225336192101537), (3963, 0.034959874122384084), (3964, 0.038173166953487735), (3965, 0.022400960640081014), (3966, 0.06131527832595655), (3967, 0.008167415961668378), (3968, 0.04273751106394833), (3969, 0.02191869153689206), (3970, 0.03729352077358618), (3971, 0.003074996776408657), (3972, 0.05288289802194713), (3973, 0.03694141292680662), (3974, 0.03132384689870963), (3975, 0.02088937434758513), (3976, 0.04712628992078805), (3977, 0.04020916528892928), (3978, 0.024078344921830017), (3979, 0.03749536970201464), (3980, 0.03644508252633797), (3981, 0.053038573993448815), (3982, 0.02189507858382258), (3983, 0.03241435910103297), (3984, 0.013446245305805085), (3985, 0.011485621684902223), (3986, 0.017177304412496385), (3987, 0.011562068677933027), (3988, 0.007780608605043787), (3989, 0.008695298838537069), (3990, 0.02856998952214765), (3991, 0.01997909172497361), (3992, 0.012502741515513253), (3993, 0.040762068253325054), (3994, 0.020704734440896766), (3995, 0.034973751762694044), (3996, 0.011472984479290033), (3997, 0.040580969426326025), (3998, 0.009556714772361181), (3999, 0.04942872458035664), (4000, 0.04070832202681225), (4001, 0.021786489229033056), (4002, 0.023063364106206304), (4003, 0.026852189918345537), (4004, 0.030815236976393167), (4005, 0.02861244760525345), (4006, 0.030617148347262955), (4007, 0.03260594870183944), (4008, 0.010820584904858916), (4009, 0.033224192999240024), (4010, 0.04034851855883179), (4011, 0.030465409130111455), (4012, 0.015510055147007706), (4013, 0.037457459434441585), (4014, 0.037739161580265794), (4015, 0.02183645246697595), (4016, 0.06309002271470761), (4017, 0.04476119301562701), (4018, 0.02224397012783291), (4019, 0.017607878481467512), (4020, 0.028891426926738628), (4021, 0.02978718184852242), (4022, 0.04179095577197474), (4023, 0.03037587280382915), (4024, 0.011750173359655192), (4025, 0.020308666356648304), (4026, 0.013263063266396018), (4027, 0.03791247760546925), (4028, 0.04527883512613923), (4029, 0.029386333573625467), (4030, 0.052445898551544676), (4031, 0.03850868689669391), (4032, 0.031947636952641516), (4033, 0.07984989490169789), (4034, 0.03517139244563039), (4035, 0.07226578230572056), (4036, 0.0066295560638208306), (4037, 0.02624848358811813), (4038, 0.02720541495998081), (4039, 0.0352729301582594), (4040, 0.01358286773215045), (4041, 0.0056124605990915625), (4042, 0.022212189126016746), (4043, 0.026118808523120665), (4044, 0.007330267519391833), (4045, 0.020054405090343664), (4046, 0.027909244914008216), (4047, 0.021642519401927355), (4048, 0.035442602750018835), (4049, 0.0391571927419464), (4050, 0.022150868177554385), (4051, 0.038429726889096884), (4052, 0.018344232814337207), (4053, 0.02066719934005718), (4054, 0.04711034834606492), (4055, 0.03767195997486302), (4056, 0.03548060941733843), (4057, 0.025818446834654493), (4058, 0.005262137572111207), (4059, 0.0878834036007422), (4060, 0.038817890030509956), (4061, 0.1100966122812855), (4062, 0.07150784973956795), (4063, 0.013514327415282766), (4064, 0.05712425020390453), (4065, 0.017657071946469358), (4066, 0.0152922665190284), (4067, 0.04850924128078437), (4068, 0.02073551270016723), (4069, 0.0057593695705729035), (4070, 0.018222404520359493), (4071, 0.024082692544894885), (4072, 0.01596859827030682), (4073, 0.027915680022210253), (4074, 0.010687615192124708), (4075, 0.028094078469142934), (4076, 0.012842380181719367), (4077, 0.035344292994263754), (4078, 0.0462505581242285), (4079, 0.043965578414522644), (4080, 0.011552350727305963), (4081, 0.02075827409438132), (4082, 0.02877909933938075), (4083, 0.007010503320030056), (4084, 0.022655508937261787), (4085, 0.03742542709711036), (4086, 0.02911030128230877), (4087, 0.0413065894060015), (4088, 0.030665612504033803), (4089, 0.036721617356558364), (4090, 0.018292763549027726), (4091, 0.008850205027846156), (4092, 0.04781308973400494), (4093, 0.037553005441431926), (4094, 0.02670855062776446), (4095, 0.024142575173736226), (4096, 0.054334331189055333), (4097, 0.021627379342390507), (4098, 0.007224160383178821), (4099, 0.012264587378280501), (4100, 0.033184070715789306), (4101, 0.05731785405287539), (4102, 0.026255955938428686), (4103, 0.04116562174743472), (4104, 0.030662115343152205), (4105, 0.010760854237942609), (4106, 0.025288641342715874), (4107, 0.0227716703418295), (4108, 0.009188234789521358), (4109, 0.012777052948231879), (4110, 0.018342886685347108), (4111, 0.01213625898925492), (4112, 0.009612814058030123), (4113, 0.01607255069726347), (4114, 0.020191753903822118), (4115, 0.04643202387961192), (4116, 0.0631008254870415), (4117, 0.04156952903602198), (4118, 0.018688173509216904), (4119, 0.021580112081331294), (4120, 0.03037853312979532), (4121, 0.011972660033284732), (4122, 0.032664973939728), (4123, 0.03933449659222789), (4124, 0.028502394540330177), (4125, 0.00598278698700637), (4126, 0.029444306391936625), (4127, 0.01648046275194568), (4128, 0.03392156169446151), (4129, 0.014617501832548016), (4130, 0.010047194188486819), (4131, 0.006781988736954285), (4132, 0.013897718939458941), (4133, 0.02353385757632398), (4134, 0.066610139463267), (4135, 0.062077826600965835), (4136, 0.03398479556111414), (4137, 0.039417412085067854), (4138, 0.03557168762259154), (4139, 0.04582042672740971), (4140, 0.023581695618906853), (4141, 0.037200238943583916), (4142, 0.03823903229070359), (4143, 0.0544794619780778), (4144, 0.03380843304074436), (4145, 0.019908414847288707), (4146, 0.017925540889023935), (4147, 0.020064983097625853), (4148, 0.0506662515191159), (4149, 0.021100584373182508), (4150, 0.04203808079816539), (4151, 0.009453727615239636), (4152, 0.03163404822943013), (4153, 0.03670415649999016), (4154, 0.012521522681183608), (4155, 0.032779619465283676), (4156, 0.01149624199824393), (4157, 0.01859469513447675), (4158, 0.024863371291079905), (4159, 0.016319602620754454), (4160, 0.02519703566017076), (4161, 0.014060927289588535), (4162, 0.03673558701101401), (4163, 0.04243184446243559), (4164, 0.055999819633402094), (4165, 0.031853853978406364), (4166, 0.01920084916324192), (4167, 0.027713604733595795), (4168, 0.035987311970649), (4169, 0.022362382799068922), (4170, 0.021261359176997154), (4171, 0.042835380810277573), (4172, 0.018097921375841246), (4173, 0.01681477707259885), (4174, 0.046033091150628494), (4175, 0.04160514024809961), (4176, 0.047025913823622), (4177, 0.048458273356021264), (4178, 0.02780892357494765), (4179, 0.015597941908371795), (4180, 0.026099476858416903), (4181, 0.011796067596872899), (4182, 0.021308909644160958), (4183, 0.024941703998566142), (4184, 0.011703587191282687), (4185, 0.0056754793085357965), (4186, 0.044574618021337775), (4187, 0.018360639168010083), (4188, 0.020202379930089755), (4189, 0.03469037916159081), (4190, 0.010663152771166372), (4191, 0.015224671750243291), (4192, 0.028874060005389654), (4193, 0.030697792143609078), (4194, 0.03139868435033414), (4195, 0.032342197287429104), (4196, 0.01946665911538286), (4197, 0.02377852195531543), (4198, 0.025579258343906747), (4199, 0.013685005481429889), (4200, 0.01882123269253501), (4201, 0.017649591704758542), (4202, 0.058264750940578175), (4203, 0.030531718074232748), (4204, 0.024522384562397727), (4205, 0.014968118069479317), (4206, 0.03720994045094884), (4207, 0.037986048135221905), (4208, 0.019309467175668612), (4209, 0.025735206776176762), (4210, 0.03227752937296963), (4211, 0.022563852574063396), (4212, 0.030143851799164942), (4213, 0.01340665629205639), (4214, 0.015924954770307014), (4215, 0.01391038019401495), (4216, 0.02697047660354526), (4217, 0.015745345664815724), (4218, 0.022611451562100336), (4219, 0.021288267697335515), (4220, 0.020135297321037082), (4221, 0.020563725793642525), (4222, 0.033542683466702104), (4223, 0.021873788344234493), (4224, 0.03559939916089584), (4225, 0.028382636814900084), (4226, 0.019237928987636883), (4227, 0.022097609076185135), (4228, 0.013614645615527405), (4229, 0.02825521029019994), (4230, 0.03053493925769937), (4231, 0.01622753971297152), (4232, 0.01977104813420956), (4233, 0.04157440756486034), (4234, 0.02794737557381107), (4235, 0.0179551443994873), (4236, 0.0340991464818383), (4237, 0.02568874206772718), (4238, 0.01506125710726884), (4239, 0.008847773853296003), (4240, 0.04882558825135109), (4241, 0.03083312920517088), (4242, 0.031858040445914504), (4243, 0.012669492786169013), (4244, 0.03636603334134389), (4245, 0.051982565411081025), (4246, 0.019538452208083333), (4247, 0.011934936540124924), (4248, 0.02686811608389322), (4249, 0.029982956131396482), (4250, 0.009337390064920046), (4251, 0.011459022994573922), (4252, 0.05794180868264849), (4253, 0.004931671810777229), (4254, 0.005485331572169457), (4255, 0.011767767710724335), (4256, 0.012555221164458326), (4257, 0.018635358873031974), (4258, 0.06945434345778609), (4259, 0.06454143041950884), (4260, 0.02597057939186321), (4261, 0.023660779819207424), (4262, 0.02711773220873422), (4263, 0.023110598720666037), (4264, 0.026653466823865952), (4265, 0.02109663774469132), (4266, 0.045107597752086954), (4267, 0.014817518859072742), (4268, 0.036535242412389236), (4269, 0.03889842299745842), (4270, 0.034066951862664105), (4271, 0.011580446331035025), (4272, 0.054553738739440194), (4273, 0.02791491301443151), (4274, 0.054263510058288326), (4275, 0.028687118559700638), (4276, 0.015372362339426623), (4277, 0.0356453430743504), (4278, 0.018672013359329206), (4279, 0.010316221357334706), (4280, 0.014402497446239585), (4281, 0.028692654058227865), (4282, 0.02719181413036557), (4283, 0.04127045363878419), (4284, 0.01712970558088544), (4285, 0.033911783451151506), (4286, 0.03763614282905199), (4287, 0.01637369284747655), (4288, 0.031138177307028607), (4289, 0.018227759972911966), (4290, 0.029783935986833134), (4291, 0.005575793409205278), (4292, 0.03482682841975793), (4293, 0.015905861290152368), (4294, 0.03262006615615402), (4295, 0.06559972209309183), (4296, 0.03246723691506734), (4297, 0.01874253674272236), (4298, 0.03501037722198299), (4299, 0.03837225820568869), (4300, 0.0065524234885262), (4301, 0.0039756453668185286), (4302, 0.023676316973996876), (4303, 0.03149375537376782), (4304, 0.01427471592964337), (4305, 0.02133129166813642), (4306, 0.029193825858775398), (4307, 0.06950227104374637), (4308, 0.022344924060434875), (4309, 0.04439672484408484), (4310, 0.040900316402844056), (4311, 0.027783060713626254), (4312, 0.03379248141939571), (4313, 0.03729867127709345), (4314, 0.03034643711144936), (4315, 0.010308154284124942), (4316, 0.014475760387670384), (4317, 0.01792992991332925), (4318, 0.03201012112178271), (4319, 0.02335326215125664), (4320, 0.01999932791279311), (4321, 0.01963559144749195), (4322, 0.012303429231207835), (4323, 0.012921176875518667), (4324, 0.013053657350986098), (4325, 0.044999517895177796), (4326, 0.03441936372875314), (4327, 0.03271661765308277), (4328, 0.01689780254985777), (4329, 0.032081926302707), (4330, 0.019904194382031358), (4331, 0.05465878782852854), (4332, 0.04236376244754167), (4333, 0.00804362820189221), (4334, 0.02225916093893225), (4335, 0.022953608475710714), (4336, 0.01096211144510097), (4337, 0.014275787046394888), (4338, 0.026798582675912546), (4339, 0.03262317936845314), (4340, 0.03720877697978427), (4341, 0.021226486831020623), (4342, 0.02709935749472186), (4343, 0.02073852495491897), (4344, 0.013433405990746711), (4345, 0.025617449903954127), (4346, 0.028080211722583816), (4347, 0.040787708802071054), (4348, 0.016805363292898307), (4349, 0.011499585504864969), (4350, 0.061639325502461706), (4351, 0.0350970207907793), (4352, 0.019282101862419236), (4353, 0.01941246664218577), (4354, 0.01973028038068625), (4355, 0.024317636634330255), (4356, 0.03304479204846622), (4357, 0.022216819695685903), (4358, 0.01150885696223639), (4359, 0.0034537390295746), (4360, 0.0195637698302612), (4361, 0.05556931079871697), (4362, 0.05199976049097228), (4363, 0.03730796161859179), (4364, 0.04873215963220162), (4365, 0.03226483558679318), (4366, 0.03596914425149786), (4367, 0.012137511428799489), (4368, 0.01261165237287187), (4369, 0.0078490950205507), (4370, 0.017935770826515915), (4371, 0.07238944012140676), (4372, 0.015172453730524846), (4373, 0.025019843966473793), (4374, 0.05015004544061869), (4375, 0.06967622620199554), (4376, 0.018438846394095508), (4377, 0.02617920526702345), (4378, 0.04670955226240229), (4379, 0.046057463568918613), (4380, 0.059606302882307644), (4381, 0.04076103450778111), (4382, 0.018521846274491348), (4383, 0.037934745516385156), (4384, 0.019510070548231076), (4385, 0.01689130482299166), (4386, 0.022192071997845095), (4387, 0.04003427561274291), (4388, 0.03145889708065405), (4389, 0.05062024171744729), (4390, 0.05117886632125646), (4391, 0.01674726060224666), (4392, 0.019186494715341066), (4393, 0.03143979023995425), (4394, 0.022468358727348554), (4395, 0.043171920096501934), (4396, 0.03002699130783623), (4397, 0.043527588035823794), (4398, 0.04220316915595594), (4399, 0.03826114664785506), (4400, 0.011674286161446723), (4401, 0.010717465972386774), (4402, 0.030179518823681004), (4403, 0.05189037204920993), (4404, 0.012640174061700352), (4405, 0.018712171337029744), (4406, 0.009744071985600712), (4407, 0.01834402352148755), (4408, 0.012511555713252222), (4409, 0.09110295879448947), (4410, 0.027388491976377456), (4411, 0.05223971714474514), (4412, 0.04044160267574301), (4413, 0.023643416785812044), (4414, 0.027042307789197872), (4415, 0.024518832914174588), (4416, 0.06056003510390911), (4417, 0.013261548705822511), (4418, 0.019466606906278876), (4419, 0.019425427063340536), (4420, 0.018409625873887517), (4421, 0.016420722608267317), (4422, 0.028643721538318248), (4423, 0.05555735005346786), (4424, 0.03200102151688332), (4425, 0.05591823820860738), (4426, 0.027666258179904823), (4427, 0.010375106383831222), (4428, 0.015343395811688585), (4429, 0.035200694199215586), (4430, 0.0213976092159583), (4431, 0.03737582612480172), (4432, 0.01642413650665804), (4433, 0.042030244916682405), (4434, 0.004852697326984852), (4435, 0.041818446636012356), (4436, 0.025056189844591382), (4437, 0.043252259378850785), (4438, 0.02358064481676319), (4439, 0.024890246836925145), (4440, 0.04135570905241666), (4441, 0.03635067526614243), (4442, 0.022459606016910334), (4443, 0.020798358883548373), (4444, 0.045403139853967746), (4445, 0.016932417752005463), (4446, 0.006905845394128937), (4447, 0.018185191178528078), (4448, 0.018136768936848242), (4449, 0.045001599083634984), (4450, 0.03624650537220411), (4451, 0.038132726875981474), (4452, 0.028780206390946576), (4453, 0.011113200492573883), (4454, 0.022969117901259488), (4455, 0.03518316114282664), (4456, 0.02955250213927729), (4457, 0.024296715937054195), (4458, 0.030203059786622397), (4459, 0.014749863983805296), (4460, 0.02527373586267034), (4461, 0.02739802907057174), (4462, 0.020497257261526104), (4463, 0.02445018059009763), (4464, 0.02298303831567717), (4465, 0.03203080921024179), (4466, 0.027334686090794272), (4467, 0.021722938860908547), (4468, 0.013042661126176745), (4469, 0.02750313573098901), (4470, 0.050502410564794174), (4471, 0.06128098743945844), (4472, 0.032630934807607606), (4473, 0.019131620522742133), (4474, 0.024423677836301533), (4475, 0.0406602391901926), (4476, 0.005860629171682968), (4477, 0.04136842972783714), (4478, 0.01707392530951756), (4479, 0.03645803010347861), (4480, 0.02747090903143777), (4481, 0.014398741905844233), (4482, 0.05380760281254601), (4483, 0.01749812243080312), (4484, 0.005590308854247623), (4485, 0.018316012557984585), (4486, 0.02026469099535803), (4487, 0.03774397422016474), (4488, 0.05785458275520217), (4489, 0.046311503198408474), (4490, 0.023807339321635864), (4491, 0.018113205606880844), (4492, 0.015010890493686277), (4493, 0.024135252730335982), (4494, 0.05513764725894851), (4495, 0.03148696549866072), (4496, 0.01867105513627159), (4497, 0.01485791432594396), (4498, 0.04742547783492659), (4499, 0.05863600391232451), (4500, 0.05035278258649985), (4501, 0.017295131524627264), (4502, 0.03603193768048214), (4503, 0.05515274252484317), (4504, 0.029024463473718065), (4505, 0.01425505165298295), (4506, 0.01411469090900596), (4507, 0.012791993352708732), (4508, 0.013807744364984104), (4509, 0.05998360614091947), (4510, 0.028826286100085786), (4511, 0.03850811632155965), (4512, 0.041702560560763755), (4513, 0.032575253846783225), (4514, 0.01605033294503839), (4515, 0.057762802634127586), (4516, 0.02457417913515693), (4517, 0.03437570732635758), (4518, 0.043934180221437316), (4519, 0.032387314106494536), (4520, 0.010709086361177261), (4521, 0.023320953084070256), (4522, 0.04717291404113469), (4523, 0.01612461858305718), (4524, 0.021565291495470693), (4525, 0.017436564394203425), (4526, 0.010330149987338002), (4527, 0.02897372260511177), (4528, 0.015208786181281575), (4529, 0.0216782106757014), (4530, 0.010033245950633618), (4531, 0.021247731783823703), (4532, 0.025971025552269024), (4533, 0.02625043352218454), (4534, 0.0242527355808489), (4535, 0.024643594753566374), (4536, 0.04414960030288735), (4537, 0.021013355413339235), (4538, 0.03956501567705441), (4539, 0.00568914710164872), (4540, 0.01939490948219171), (4541, 0.03391414273006485), (4542, 0.006864904390222001), (4543, 0.055080687285989256), (4544, 0.017991192317880506), (4545, 0.05103726238897428), (4546, 0.08746385031278568), (4547, 0.009835171081284691), (4548, 0.07136576864163648), (4549, 0.02162583232536184), (4550, 0.01808437177355013), (4551, 0.04210577487291558), (4552, 0.06419825165699204), (4553, 0.017290951213674483), (4554, 0.04188386089929134), (4555, 0.029884780358495327), (4556, 0.025659858179385046), (4557, 0.015159271438747622), (4558, 0.033994110980028816), (4559, 0.04640853282966141), (4560, 0.023345075344800674), (4561, 0.005294639772263711), (4562, 0.01901050887514193), (4563, 0.015302036046552923), (4564, 0.025239209247290686), (4565, 0.02344650438548306), (4566, 0.041560635188533576), (4567, 0.01321880952854881), (4568, 0.017814390172968403), (4569, 0.022281431205947097), (4570, 0.024843880016707814), (4571, 0.010780654752648465), (4572, 0.016327154709823297), (4573, 0.022164648198400937), (4574, 0.02465992391819252), (4575, 0.042566452142593456), (4576, 0.02449789626349628), (4577, 0.017843533436415305), (4578, 0.016850648013892175), (4579, 0.011672681746663778), (4580, 0.045659163370003225), (4581, 0.011476374666698088), (4582, 0.041312459681855), (4583, 0.03744073698969579), (4584, 0.024379542573952938), (4585, 0.0365409336527356), (4586, 0.036655588522419735), (4587, 0.04319794408407694), (4588, 0.03257880188619178), (4589, 0.027502143400394065), (4590, 0.028696708342896712), (4591, 0.01891747571608704), (4592, 0.024146553768788277), (4593, 0.017181134607187606), (4594, 0.04820458171715856), (4595, 0.03474106045694621), (4596, 0.02319803811088795), (4597, 0.02901055944382136), (4598, 0.023855946944955315), (4599, 0.00873392609826674), (4600, 0.010869347360043266), (4601, 0.04389254695670464), (4602, 0.03396799176296929), (4603, 0.03432131926225747), (4604, 0.0576299549664904), (4605, 0.017883469343243953), (4606, 0.02988972700983885), (4607, 0.026859618574336344), (4608, 0.03417310832934891), (4609, 0.02851851343471829), (4610, 0.022883900111908856), (4611, 0.02549098837665206), (4612, 0.046367899002270986), (4613, 0.04922858790263393), (4614, 0.043727289783793866), (4615, 0.025057454933548995), (4616, 0.04470458163939264), (4617, 0.026424752550476972), (4618, 0.03202321506519362), (4619, 0.02659017666402379), (4620, 0.015576170259878095), (4621, 0.033360154810010756), (4622, 0.030372010166971317), (4623, 0.013957100265318476), (4624, 0.020452268243415683), (4625, 0.026287087234555025), (4626, 0.021287302475719937), (4627, 0.011720884451039793), (4628, 0.028357708062910738), (4629, 0.026809053992044075), (4630, 0.0277103120448256), (4631, 0.013631124152013173), (4632, 0.04003926188519084), (4633, 0.010871435023113874), (4634, 0.012174518636508237), (4635, 0.019388206627442162), (4636, 0.02626991856612134), (4637, 0.02879638113156174), (4638, 0.021710305940686302), (4639, 0.022412795218607173), (4640, 0.035117750934629904), (4641, 0.029005238548472426), (4642, 0.021565351404741855), (4643, 0.015352443386166151), (4644, 0.017421765283765947), (4645, 0.02624773946325018), (4646, 0.05963707187759215), (4647, 0.029572269362295553), (4648, 0.02318492042592942), (4649, 0.02386009037981695), (4650, 0.023168793506757282), (4651, 0.03817698275613269), (4652, 0.027371802075345834), (4653, 0.015319972667512297), (4654, 0.05927714338506911), (4655, 0.05976616593271209), (4656, 0.024196563082370556), (4657, 0.01680300980655322), (4658, 0.020013002244787324), (4659, 0.044673065709510046), (4660, 0.01784856116417667), (4661, 0.013238547768061049), (4662, 0.03658374324593128), (4663, 0.05322752525701255), (4664, 0.03473453243295939), (4665, 0.020340689528520216), (4666, 0.022624439562365824), (4667, 0.021166251883419078), (4668, 0.05180296497465871), (4669, 0.03516316585100878), (4670, 0.027204535554085557), (4671, 0.00527858180171973), (4672, 0.018977288579145084), (4673, 0.02320913153589987), (4674, 0.01956401800146796), (4675, 0.028764613321981748), (4676, 0.04140961355317823), (4677, 0.049729993286962045), (4678, 0.025993509888827836), (4679, 0.02303761895355842), (4680, 0.008064183661031458), (4681, 0.024196303233086552), (4682, 0.04067643772182775), (4683, 0.012185218039565515), (4684, 0.025112170630580653), (4685, 0.017867504186766536), (4686, 0.005259459409631174), (4687, 0.010279626853946806), (4688, 0.00912012225996219), (4689, 0.030862986188881468), (4690, 0.006056586955107885), (4691, 0.015477156049590688), (4692, 0.019392139273861436), (4693, 0.06105363010401338), (4694, 0.022601945165777404), (4695, 0.05840412777888197), (4696, 0.05333230371162048), (4697, 0.013789553055555626), (4698, 0.055608374731235054), (4699, 0.06616746834117761), (4700, 0.0060839359200927845), (4701, 0.06533848031834176), (4702, 0.001833923807674428), (4703, 0.02375322007963971), (4704, 0.0446713609003861), (4705, 0.02470307081010204), (4706, 0.026331412406319324), (4707, 0.027048013007027947), (4708, 0.015034247189532328), (4709, 0.03116249726596925), (4710, 0.008905959971402963), (4711, 0.007263237650325479), (4712, 0.04375935067237342), (4713, 0.019974996252935553), (4714, 0.026272395888800926), (4715, 0.024989140918755304), (4716, 0.01688584366460311), (4717, 0.053437528316133735), (4718, 0.055074923171161784), (4719, 0.04997184953995988), (4720, 0.009687079824130498), (4721, 0.03550254524051409), (4722, 0.018923613629963632), (4723, 0.02199302234812), (4724, 0.025015221394901473), (4725, 0.03969779208343724), (4726, 0.007796718042611347), (4727, 0.034906888997259126), (4728, 0.007774832831653076), (4729, 0.0023635940019406327), (4730, 0.014648773663772577), (4731, 0.04222811773387127), (4732, 0.028641909045369233), (4733, 0.011347739006195165), (4734, 0.0681916688063825), (4735, 0.0451166691754208), (4736, 0.03357994932270196), (4737, 0.024805041260372654), (4738, 0.02161860479857783), (4739, 0.014011805175973918), (4740, 0.024266411018984663), (4741, 0.0358841543389164), (4742, 0.02000668918021079), (4743, 0.04507749637982939), (4744, 0.02212107935363659), (4745, 0.02101699537317846), (4746, 0.016109267552354985), (4747, 0.03362833972360663), (4748, 0.0466939662468348), (4749, 0.016289021435727895), (4750, 0.019448155593333443), (4751, 0.016557877725311174), (4752, 0.025510683232823086), (4753, 0.01748018808623643), (4754, 0.03259365519452771), (4755, 0.03038718082129351), (4756, 0.025542263201422593), (4757, 0.03550433794796557), (4758, 0.0376258794822539), (4759, 0.0)]\n"
          ]
        }
      ]
    },
    {
      "cell_type": "code",
      "source": [
        "len(Recommendation_Score)"
      ],
      "metadata": {
        "colab": {
          "base_uri": "https://localhost:8080/"
        },
        "id": "x_GwnuB3SB44",
        "outputId": "9c4cf765-495b-4653-d773-417fc32abf29"
      },
      "execution_count": 38,
      "outputs": [
        {
          "output_type": "execute_result",
          "data": {
            "text/plain": [
              "4760"
            ]
          },
          "metadata": {},
          "execution_count": 38
        }
      ]
    },
    {
      "cell_type": "markdown",
      "source": [
        "**Get All Movies Sort Based on Recommendation Score wrt Favourite Movie**"
      ],
      "metadata": {
        "id": "C3xGKx76RExh"
      }
    },
    {
      "cell_type": "code",
      "source": [
        "# sorting the movies based on their similarity score\n",
        "\n",
        "Sorted_similar_movie = sorted(Recommendation_Score, key = lambda x:x[1], reverse = True)\n",
        "print(Sorted_similar_movie)"
      ],
      "metadata": {
        "colab": {
          "base_uri": "https://localhost:8080/"
        },
        "id": "QZ_6kJVISjNe",
        "outputId": "8cf4f9e3-8107-4bc5-e4d9-2a30788834fd"
      },
      "execution_count": 39,
      "outputs": [
        {
          "output_type": "stream",
          "name": "stdout",
          "text": [
            "[(2692, 1.0000000000000004), (2552, 0.13569906182468625), (3055, 0.1343323664749386), (2502, 0.11997193501265659), (248, 0.11926762260597264), (902, 0.11597044578578732), (3779, 0.11217764922082644), (4061, 0.1100966122812855), (828, 0.10503597274855109), (735, 0.10156831225699496), (2727, 0.09879825724933676), (2411, 0.09619939149613482), (255, 0.09483333204809885), (522, 0.09433209424767858), (1897, 0.0926777369259588), (3446, 0.09172211110073451), (4409, 0.09110295879448947), (2277, 0.09027734304007616), (2194, 0.0902150644346104), (628, 0.08923428290220788), (1472, 0.08891645886722425), (4059, 0.0878834036007422), (4546, 0.08746385031278568), (3005, 0.08740991803474736), (542, 0.0858779531644399), (1779, 0.08434882607090617), (1731, 0.08402808986583225), (2155, 0.08382254504934437), (3303, 0.08288697649621045), (3020, 0.08227380099244673), (2154, 0.08220785028388282), (3787, 0.08218082002045737), (2618, 0.0817544449614103), (798, 0.08172162568804987), (3, 0.08144528499444703), (1806, 0.08140008187725888), (1284, 0.07990414798183046), (4033, 0.07984989490169789), (1980, 0.07978791769384697), (3246, 0.07909262391421405), (3620, 0.07905019982938616), (1878, 0.0775644704609567), (833, 0.07743270132019027), (1351, 0.07732575148004203), (1606, 0.07716733742647562), (2695, 0.07650555421213617), (3325, 0.07640298399136176), (3408, 0.0763746603809638), (1112, 0.0742658042656216), (2469, 0.07423436892786427), (2876, 0.0738575756448941), (3318, 0.07385633926529728), (2161, 0.07357296720833763), (938, 0.07296011619398965), (3549, 0.07280876424073299), (2454, 0.07273562415215061), (824, 0.07260782687730531), (598, 0.07251866758896208), (4371, 0.07238944012140676), (2554, 0.07234028374884824), (2801, 0.07229485500533622), (4035, 0.07226578230572056), (2377, 0.07221652378858956), (3276, 0.07209580730241708), (1234, 0.07167554266626897), (1290, 0.07161342658953926), (4062, 0.07150784973956795), (4548, 0.07136576864163648), (254, 0.07130072511321094), (2254, 0.07118333297712168), (3360, 0.07078185643541254), (511, 0.0707015335431511), (3254, 0.07059635709027431), (110, 0.07055634414767106), (1593, 0.0704595955253673), (2314, 0.0703601587346719), (351, 0.0703036056511202), (1224, 0.07014861563202549), (3265, 0.06976166906618661), (2250, 0.06975660201986077), (4375, 0.06967622620199554), (1647, 0.06960573602665737), (4307, 0.06950227104374637), (4258, 0.06945434345778609), (3553, 0.06936081112423839), (765, 0.06934271991227207), (2830, 0.0693425261382228), (3053, 0.06928905328502699), (2701, 0.06923966594109465), (1887, 0.06906344240071223), (3619, 0.0689721762619608), (1379, 0.06897038576056364), (2720, 0.06890565474648577), (2633, 0.06878194362905286), (3157, 0.06868067547633441), (2949, 0.06867676739643046), (3828, 0.06864099346952328), (1677, 0.06860650141178967), (4734, 0.0681916688063825), (1127, 0.06798528800614756), (1646, 0.06759184246607111), (3462, 0.06754365695223885), (2481, 0.06748885534918614), (2100, 0.06742093693224177), (2985, 0.06729291076549485), (1086, 0.06718193893034594), (1119, 0.0671737162790202), (479, 0.0670049234126441), (1930, 0.06699980157977158), (2400, 0.06690689856094977), (3208, 0.06689249443626338), (3186, 0.06684822237267946), (506, 0.06666793094199888), (4134, 0.066610139463267), (3938, 0.06660696116526585), (2089, 0.06651468468533332), (1471, 0.0663788401281673), (277, 0.06633528514797661), (3094, 0.06629679010834223), (744, 0.06628703281933178), (2541, 0.06618309918372767), (4699, 0.06616746834117761), (486, 0.06614805105296381), (167, 0.0659081854343288), (3270, 0.06570152378832579), (2461, 0.06566481941456434), (414, 0.06565947517565356), (4295, 0.06559972209309183), (3000, 0.0655005370262502), (1070, 0.06545686133791993), (2444, 0.06545146504363325), (642, 0.06540093822061033), (4701, 0.06533848031834176), (2375, 0.06526203109290375), (3760, 0.06502023502868973), (1134, 0.06493185090399797), (334, 0.06490801285386007), (683, 0.06482884830468935), (644, 0.06462976740519667), (855, 0.06462508841540379), (4259, 0.06454143041950884), (1383, 0.06443773590481647), (4552, 0.06419825165699204), (1822, 0.06402860767128556), (455, 0.06398808998452812), (3369, 0.06394020325781269), (3946, 0.06387574069988564), (3701, 0.06383209190595641), (85, 0.06383182801284332), (3218, 0.06372624139083641), (3343, 0.06361693924123499), (1465, 0.06336612675666968), (2653, 0.06321583441321911), (155, 0.06315690645758548), (424, 0.06315592031299046), (4116, 0.0631008254870415), (4016, 0.06309002271470761), (115, 0.06301056174619411), (3809, 0.06300159262398748), (779, 0.06294804840456532), (1617, 0.06287436863508741), (762, 0.0626628777460321), (3083, 0.06259187731200325), (384, 0.0625694156682535), (3479, 0.06250059064074287), (766, 0.06248726505006383), (617, 0.06244887725255506), (1482, 0.06241409238260688), (2196, 0.06241098952626333), (1488, 0.062236187122367066), (3470, 0.06221729331618068), (2527, 0.06213525664731623), (4135, 0.062077826600965835), (2664, 0.06194225427226806), (1095, 0.06171373011656054), (4350, 0.061639325502461706), (2744, 0.061585938455958986), (741, 0.06154231631753318), (104, 0.06148121013965676), (3966, 0.06131527832595655), (1233, 0.06128506742175887), (4471, 0.06128098743945844), (3178, 0.061246349869437736), (460, 0.06123090063718196), (3772, 0.06118023429294163), (3504, 0.06116292401138659), (3412, 0.061118986065703984), (2498, 0.06110672119035118), (4693, 0.06105363010401338), (3087, 0.06089024974675932), (3649, 0.060873827631183125), (1501, 0.06077185511562887), (2014, 0.06075335630971104), (852, 0.06062677749344365), (4416, 0.06056003510390911), (3351, 0.060417489064256896), (1003, 0.0603942613995401), (2728, 0.06020865685740202), (3947, 0.06018549374547427), (2112, 0.06011732730338145), (3906, 0.060103510936853635), (2648, 0.06010348858214261), (603, 0.06005174953029995), (2677, 0.06003031801983067), (4509, 0.05998360614091947), (2761, 0.05978637021002208), (4655, 0.05976616593271209), (3793, 0.05975864337252989), (4646, 0.05963707187759215), (4380, 0.059606302882307644), (3677, 0.05958064539656183), (3698, 0.059548013147995606), (953, 0.05951576222053094), (1082, 0.05946885413562707), (1896, 0.05941624881661912), (2591, 0.059390207451414996), (893, 0.05932374576286727), (1906, 0.05930750498890981), (4654, 0.05927714338506911), (3123, 0.059193186649174084), (1183, 0.05914173931165124), (138, 0.058995340343810654), (966, 0.05888547740866112), (3249, 0.058841299493410215), (3534, 0.0587911217017259), (2268, 0.05871350638544888), (4499, 0.05863600391232451), (2974, 0.058619045150493335), (4695, 0.05840412777888197), (1131, 0.05837239701479055), (4202, 0.058264750940578175), (3297, 0.05819205706384534), (3737, 0.058180429203400934), (3456, 0.05802050052739308), (4252, 0.05794180868264849), (4488, 0.05785458275520217), (4515, 0.057762802634127586), (1719, 0.05764590094586103), (4604, 0.0576299549664904), (3648, 0.05759065943999461), (2942, 0.057497242490503184), (2878, 0.05735592350111779), (4101, 0.05731785405287539), (180, 0.05729284575211396), (2497, 0.057258902118622584), (2545, 0.05722465368505002), (137, 0.05719919088349297), (4064, 0.05712425020390453), (612, 0.05709626105755305), (3928, 0.05704465998336228), (2598, 0.05704197616242113), (2576, 0.05702749530296919), (2408, 0.0569800000489607), (3469, 0.05697605104641748), (3559, 0.056835415949200274), (895, 0.05681724081308575), (3102, 0.05679798937252748), (3955, 0.05678992410340295), (161, 0.05675620304143867), (2111, 0.05671373008671729), (2665, 0.056703404248828596), (2123, 0.0566585899870624), (3925, 0.056587600362842674), (2536, 0.05657009878351691), (546, 0.05649605197498008), (62, 0.056478766731914404), (912, 0.05638198458294249), (429, 0.056353221590661064), (1414, 0.05631076820371781), (2347, 0.05630169318218184), (3032, 0.05627860227912247), (870, 0.05616618101317915), (1982, 0.05608957282839649), (3477, 0.0560239417668486), (4164, 0.055999819633402094), (282, 0.05596538630093185), (3214, 0.05596044430091379), (4425, 0.05591823820860738), (526, 0.05588156267583661), (1949, 0.05587219129602409), (1104, 0.05581363885979861), (2673, 0.05575922494279775), (884, 0.05572981994923936), (1142, 0.05569995394868512), (3228, 0.05568589529807612), (2717, 0.05564874137972739), (2638, 0.05563224563152167), (3849, 0.055625112638952756), (4698, 0.055608374731235054), (4361, 0.05556931079871697), (1362, 0.055557578108629664), (4423, 0.05555735005346786), (3635, 0.05554542374287597), (566, 0.05549598002979833), (606, 0.055467113582042094), (1703, 0.05539483682768534), (2242, 0.05537601347478682), (3420, 0.05528788028823538), (877, 0.05528667396315424), (3010, 0.055244525185084735), (1829, 0.0551915195686955), (342, 0.05517909427008365), (2607, 0.055176757414941956), (4503, 0.05515274252484317), (4494, 0.05513764725894851), (508, 0.05509667754587419), (4543, 0.055080687285989256), (4718, 0.055074923171161784), (156, 0.05498017238436207), (504, 0.054958920101426), (1192, 0.05495159727388787), (2629, 0.05493826598596553), (3334, 0.05483127829300811), (1983, 0.05479489732781087), (292, 0.054784296197026135), (2798, 0.05474988388314421), (769, 0.054725765248353375), (2026, 0.05468547425599731), (3901, 0.05467795671842087), (1837, 0.05466143607018462), (4331, 0.05465878782852854), (3823, 0.05465579304199251), (1088, 0.05465380703876724), (4272, 0.054553738739440194), (805, 0.05454096737541292), (2530, 0.054512232310576524), (4143, 0.0544794619780778), (1168, 0.05437652557461982), (2899, 0.05434509914916936), (4096, 0.054334331189055333), (4274, 0.054263510058288326), (27, 0.05420590645599683), (3019, 0.054187588278976094), (1024, 0.054138319230391356), (3413, 0.054081121908819786), (3699, 0.054008368854465964), (2883, 0.05398536066193543), (2391, 0.053985341394455794), (853, 0.05397210286674466), (2090, 0.05387933996591392), (4482, 0.05380760281254601), (1188, 0.05379972240904422), (1900, 0.05379447391352235), (3060, 0.05377575432921619), (883, 0.053759664941640375), (3088, 0.05373874554786301), (3385, 0.053654512384553994), (2778, 0.053645078476027605), (2477, 0.053623559206517984), (1363, 0.05359805778756738), (2810, 0.0535760356696622), (1365, 0.053572990310494215), (4717, 0.053437528316133735), (1481, 0.053340720429839124), (4696, 0.05333230371162048), (3722, 0.0532784540090807), (1318, 0.05326466834152738), (245, 0.05322753131405133), (4663, 0.05322752525701255), (51, 0.05317338074541915), (3099, 0.053172497128049966), (2962, 0.053158504831151976), (75, 0.05309574924600204), (3981, 0.053038573993448815), (2182, 0.053018871249599205), (1541, 0.052994817331859075), (1019, 0.05298759521514302), (3418, 0.052935183301503104), (3972, 0.05288289802194713), (3777, 0.052866728655296964), (1302, 0.0527798795768534), (545, 0.05276438090755956), (1408, 0.052729748558016216), (97, 0.05270018965757898), (2755, 0.05264216262034699), (2122, 0.05263972079981105), (2180, 0.05255687390397598), (1879, 0.0525247146475139), (3536, 0.05251067978300997), (3294, 0.052484948016431825), (398, 0.052466315010048385), (4030, 0.052445898551544676), (3364, 0.0524415953739191), (3463, 0.05241063841096641), (2431, 0.05240781665441155), (2844, 0.052390292144689654), (320, 0.052322762313637444), (3379, 0.052258998798885875), (4411, 0.05223971714474514), (3210, 0.05222076018843437), (88, 0.052195226724656804), (2561, 0.052146783969945945), (3705, 0.05210524267237281), (2135, 0.05209180058333419), (2656, 0.05208858335934546), (2522, 0.052059392012685474), (4362, 0.05199976049097228), (2463, 0.05199922942170858), (4245, 0.051982565411081025), (2140, 0.051940357503308034), (3474, 0.051928587091508216), (267, 0.05191803903670887), (4403, 0.05189037204920993), (3882, 0.05187457767529772), (1475, 0.05182257836588822), (4668, 0.05180296497465871), (2588, 0.051772183441874356), (3116, 0.05171963739538126), (2609, 0.05171959872625944), (1006, 0.05167833936520369), (7, 0.05162453182010886), (2258, 0.05158937858721489), (2984, 0.05152111682471166), (3753, 0.05150217572734797), (3370, 0.051479255899657135), (1304, 0.05146089360054203), (2599, 0.05143517111138486), (2032, 0.05139609247841039), (67, 0.05121559704557941), (3139, 0.05117986691975051), (4390, 0.05117886632125646), (3880, 0.05114926506495233), (2248, 0.051101355349012355), (4545, 0.05103726238897428), (1028, 0.050903984344772314), (3509, 0.05078766584280687), (181, 0.05078724218533366), (360, 0.05077688379366096), (3870, 0.05073036590995354), (4148, 0.0506662515191159), (319, 0.05066359531570438), (4389, 0.05062024171744729), (3235, 0.05061333431445373), (1436, 0.050609147507524634), (3856, 0.050605712718831894), (3671, 0.05056765239189894), (3315, 0.05052220485596512), (3706, 0.05051247606644864), (4470, 0.050502410564794174), (3642, 0.050459423150525845), (1832, 0.05043825182620701), (3920, 0.05043348802167891), (2144, 0.05039332290708473), (210, 0.050388708326128046), (4500, 0.05035278258649985), (271, 0.05032606612146001), (1071, 0.050277829365305324), (2291, 0.050230914480138174), (2443, 0.0502288197179588), (474, 0.05015084422988103), (4374, 0.05015004544061869), (1259, 0.050136275450693886), (2012, 0.05010284812803502), (377, 0.05004823562027994), (859, 0.05004442341176014), (967, 0.05000001633851151), (4719, 0.04997184953995988), (1875, 0.04996599466129684), (785, 0.04994853001827315), (1273, 0.049932491171576235), (1636, 0.049901783149930955), (864, 0.049845815155251806), (1020, 0.04984548812593428), (551, 0.04983346598582952), (1713, 0.04982519167483284), (590, 0.0497582896897298), (4677, 0.049729993286962045), (1821, 0.049710095575647165), (2624, 0.04970760334313155), (1519, 0.04969874341107833), (3904, 0.04968881328547864), (2696, 0.049680526041914176), (3812, 0.04967781188183776), (3724, 0.049666367226238094), (3414, 0.04961085023754915), (2371, 0.049597506309755214), (1698, 0.04955735379804663), (477, 0.04951993800578599), (3231, 0.049509519500554655), (2364, 0.04944832861342301), (3427, 0.04943292201645503), (3999, 0.04942872458035664), (3336, 0.0493412121907578), (1682, 0.04932684044256558), (1909, 0.04927358789669379), (4613, 0.04922858790263393), (2902, 0.04921422929563933), (1243, 0.04921073753648795), (1827, 0.04920054588204333), (764, 0.04919787744654409), (2790, 0.04913882131441652), (195, 0.04910838770564292), (55, 0.049105722998430024), (2553, 0.049105473173227214), (715, 0.04908392673034623), (2080, 0.0489997156336714), (3681, 0.048992403815394416), (2927, 0.04896145457239117), (4240, 0.04882558825135109), (3300, 0.04879777976040922), (2114, 0.04879000867533734), (2766, 0.04875589681025763), (680, 0.0487390274545874), (4364, 0.04873215963220162), (2920, 0.048728833181390124), (2172, 0.048728396616432426), (806, 0.04871552424292495), (3346, 0.04871439166450756), (3127, 0.048694610214195966), (3574, 0.04869117513765483), (3692, 0.04863995409319857), (1707, 0.04855424424556144), (4067, 0.04850924128078437), (1268, 0.0485020847694244), (4177, 0.048458273356021264), (2813, 0.04842813108425399), (3363, 0.048397007918796954), (2115, 0.048350366371005676), (2295, 0.04827256182438198), (1269, 0.04826477870188618), (2513, 0.048257173573288056), (876, 0.048243546810520774), (2202, 0.048208731262064194), (4594, 0.04820458171715856), (1, 0.048199025359130954), (754, 0.04817178509773589), (925, 0.048127115043171555), (1809, 0.048125630235579774), (3423, 0.04812545901294356), (676, 0.04807122909870489), (3826, 0.04804734332095609), (3240, 0.04800564971946457), (86, 0.04799994083416003), (1085, 0.04798456402262147), (1595, 0.047950627755693795), (2706, 0.0479339697265951), (1981, 0.04788534196129362), (1998, 0.04787280625032274), (615, 0.047851036573784624), (3629, 0.047830022855801776), (2118, 0.047822503923921546), (2570, 0.04781933744630199), (4092, 0.04781308973400494), (3319, 0.04777384856820607), (1128, 0.04774024702483164), (1671, 0.0477346420394449), (2292, 0.047724982234549795), (2424, 0.04772180616077303), (2558, 0.04772009089688958), (2769, 0.04765990088415519), (1052, 0.04764038922735961), (1929, 0.04762167919851176), (45, 0.047578091884170316), (811, 0.04756523730361501), (3449, 0.047563444555707934), (1727, 0.0475609342320994), (2725, 0.04754141361961435), (2399, 0.04753863496137012), (2474, 0.04753605317007818), (3101, 0.04752014171641814), (1213, 0.04749343211968366), (3158, 0.04744642942362531), (4498, 0.04742547783492659), (90, 0.04741118888227905), (3436, 0.04740701322982841), (337, 0.047395688293942285), (46, 0.04736660288976301), (1217, 0.0473179913950444), (2413, 0.04730067176724126), (2310, 0.04729024372680078), (4522, 0.04717291404113469), (701, 0.047127761330975834), (3976, 0.04712628992078805), (3912, 0.04711770498994735), (4054, 0.04711034834606492), (2251, 0.04709895916463284), (1097, 0.04709681923052101), (4176, 0.047025913823622), (1688, 0.046997512561066504), (1357, 0.04699586244936245), (2877, 0.04696975452713067), (583, 0.04695361697628325), (3613, 0.04685639431032511), (3582, 0.04680253814479081), (3795, 0.04679575955318042), (1559, 0.04679366907519097), (622, 0.04677907927621948), (2619, 0.04676779284009267), (279, 0.04676538389731486), (2630, 0.04672963579788766), (1078, 0.046711792766234855), (4378, 0.04670955226240229), (4748, 0.0466939662468348), (1693, 0.04666367733582083), (415, 0.046661800643954726), (2710, 0.046661798716207736), (879, 0.04665246212771588), (2716, 0.046615061884249555), (905, 0.04660420470314523), (1741, 0.046555124881784475), (3212, 0.046542529530795095), (3274, 0.046541913864650696), (2340, 0.04653903173943679), (3281, 0.046491252132799914), (2215, 0.046481095173631956), (3460, 0.046480902051042765), (3167, 0.046475258952317466), (4115, 0.04643202387961192), (4559, 0.04640853282966141), (2017, 0.04640748974927572), (3851, 0.046369275405710876), (4612, 0.046367899002270986), (257, 0.046359799575435096), (2782, 0.046358447104395115), (548, 0.04635553203919681), (836, 0.04633789968949353), (4489, 0.046311503198408474), (1204, 0.04629321962946639), (4078, 0.0462505581242285), (846, 0.0462048868468281), (738, 0.04619364772214603), (3156, 0.046171892999443735), (3862, 0.04617186375961236), (3745, 0.04616491567002227), (1624, 0.046150300317665115), (2487, 0.04613339319936997), (530, 0.04611807291062243), (2392, 0.04609989269419876), (2893, 0.04606440116175958), (1967, 0.04606038722595288), (4379, 0.046057463568918613), (4174, 0.046033091150628494), (3861, 0.046019762052203476), (3616, 0.045984201618739215), (364, 0.0459523483868051), (3222, 0.045950173261496974), (1962, 0.04590365947906236), (381, 0.04588752996771228), (72, 0.04587182648559343), (2698, 0.04587015574911715), (3376, 0.045854623377727124), (4139, 0.04582042672740971), (1202, 0.04581333478008354), (2130, 0.04578755068172091), (2903, 0.04575848251239922), (421, 0.04572376450547247), (584, 0.045712522199500664), (1701, 0.04571234392510227), (2525, 0.04571142331907936), (2603, 0.04567691237864531), (4580, 0.045659163370003225), (3846, 0.04564481914662664), (1861, 0.045587601980707965), (2746, 0.045538573721237686), (3527, 0.0455366685219439), (997, 0.04546681429736476), (2078, 0.045458639152807005), (3478, 0.04542861583156643), (403, 0.04541889952308498), (2957, 0.045410118316936414), (3396, 0.04540526368807796), (552, 0.045404901353689416), (4444, 0.045403139853967746), (18, 0.04538894594521242), (2922, 0.045372212852891336), (217, 0.04536017751287527), (3913, 0.045355627486395864), (808, 0.04534106883392749), (84, 0.04532034216261798), (1209, 0.04529471998407079), (2148, 0.045280104817579485), (4028, 0.04527883512613923), (3261, 0.04525043698685212), (3067, 0.045237947329011645), (65, 0.04521818042561256), (2365, 0.04518904063260863), (721, 0.04518519252386149), (3480, 0.04514173575267303), (3244, 0.045129979377746925), (2252, 0.04512225951863358), (4735, 0.0451166691754208), (4266, 0.045107597752086954), (2006, 0.04509325608928498), (4743, 0.04507749637982939), (2921, 0.04505243815466742), (2016, 0.04505192006199962), (3411, 0.04500594996402238), (4449, 0.045001599083634984), (4325, 0.044999517895177796), (2843, 0.0449778420046791), (3843, 0.044936606481866745), (2772, 0.044934097193076686), (3873, 0.04484421634316762), (1538, 0.044831202305894866), (698, 0.04482631060622538), (3465, 0.04479746943295431), (3399, 0.04477930250099771), (4017, 0.04476119301562701), (3148, 0.04475280497919085), (3347, 0.04475168417121004), (4616, 0.04470458163939264), (3512, 0.0446905426918205), (4659, 0.044673065709510046), (4704, 0.0446713609003861), (1236, 0.044656625025243965), (464, 0.044624702148997025), (1635, 0.044594601772124536), (4186, 0.044574618021337775), (1641, 0.044557464863588435), (1026, 0.044542915464413774), (3298, 0.04453867963584365), (602, 0.044531343000789286), (41, 0.044519911141815555), (3693, 0.0444991070010555), (1968, 0.044496389590563006), (3684, 0.04449179647096314), (2694, 0.04448040175916987), (1084, 0.04445526138811573), (4309, 0.04439672484408484), (1853, 0.04438213156944062), (126, 0.044369712440379724), (575, 0.04436683228517514), (3450, 0.04436371106263763), (3196, 0.044352309513058824), (1043, 0.044345865456501994), (1411, 0.044343363360703845), (196, 0.04430895730965711), (3726, 0.04429110497724768), (1473, 0.04427749219255207), (1148, 0.04427411476642113), (983, 0.044262787215921195), (3149, 0.04426064623881952), (1706, 0.044257084582131095), (3356, 0.04423993761483395), (3071, 0.044230613233936206), (3710, 0.04422884298576828), (3165, 0.04422202199577529), (2705, 0.04419363311697285), (3114, 0.044188922890694704), (3500, 0.04418226222793653), (553, 0.04417954884434471), (1309, 0.0441758741196952), (2952, 0.04417245381304345), (1178, 0.044158974192884004), (4536, 0.04414960030288735), (1963, 0.044137715744240164), (3728, 0.04412499887104819), (3057, 0.04407150014759839), (1004, 0.04396771836156678), (4079, 0.043965578414522644), (170, 0.043949857650369704), (1902, 0.043934774724306645), (4518, 0.043934180221437316), (4601, 0.04389254695670464), (1860, 0.04388461437442635), (1369, 0.043873424049730915), (861, 0.043850663343853014), (3438, 0.04384186414783284), (1068, 0.043809550368768706), (2306, 0.043804907587532145), (4712, 0.04375935067237342), (3770, 0.04374306052789841), (4614, 0.043727289783793866), (3769, 0.043726306308799194), (637, 0.04362621985174888), (867, 0.04361799074814664), (3189, 0.043606723529046466), (185, 0.04360142097391234), (3395, 0.043579948893658974), (3185, 0.043538891164076485), (4397, 0.043527588035823794), (2051, 0.043526644575097584), (1787, 0.04351627147077437), (340, 0.04350617402675036), (774, 0.04347857799750388), (518, 0.0434762588108797), (956, 0.04346356905862698), (241, 0.04344800526814347), (2067, 0.04344474816255916), (1540, 0.043439193160780924), (888, 0.043431049448144195), (3661, 0.04342147093724376), (1214, 0.04338652420069441), (2149, 0.04337032457709469), (1506, 0.04336486996872576), (1547, 0.04332176188144294), (1573, 0.04331549027974166), (1652, 0.043314908359180435), (2037, 0.04325356797277799), (4437, 0.043252259378850785), (2794, 0.043212536003437683), (3455, 0.04320395294358202), (136, 0.043199220502070625), (4587, 0.04319794408407694), (3612, 0.043192468192008664), (3216, 0.04318809054173936), (114, 0.04318557814492917), (212, 0.04318438929306555), (4395, 0.043171920096501934), (3878, 0.04314367056789887), (2403, 0.04314237572253632), (2492, 0.04313929838637148), (3255, 0.04313873397888858), (101, 0.04313351230676785), (446, 0.04309273704162922), (814, 0.043030295424664716), (1774, 0.04299125344493407), (3926, 0.04293629036758874), (264, 0.04293252194425027), (1625, 0.04291321360919231), (2233, 0.042905887100280926), (1990, 0.042900233735073984), (3833, 0.042891155045242504), (2693, 0.042876231205325924), (2950, 0.04285244243476563), (3349, 0.04285236936627219), (1197, 0.04284565911366387), (4171, 0.042835380810277573), (3326, 0.04283272938398253), (3937, 0.04281559611291592), (3117, 0.04281061928261782), (1245, 0.04280033353159414), (3822, 0.04279944009671726), (2440, 0.04277263626556365), (3341, 0.04276916593340184), (3968, 0.04273751106394833), (1331, 0.0427314271183632), (1737, 0.04271692014113706), (3556, 0.04268916466055017), (3741, 0.04268623789249165), (648, 0.042670224254622934), (3220, 0.04266421155128561), (1345, 0.042663183073673214), (2304, 0.042646458540629255), (1462, 0.04261499417763963), (4575, 0.042566452142593456), (2337, 0.04248042446215569), (586, 0.04247793450054888), (604, 0.04247307950827953), (3804, 0.042467747164568595), (2969, 0.042464921439124254), (4163, 0.04243184446243559), (947, 0.04242354638910137), (2480, 0.04240712353431651), (3176, 0.04240663565399401), (3043, 0.04239706812624228), (4332, 0.04236376244754167), (1661, 0.04236203200812805), (2865, 0.04233376314541347), (1694, 0.042324373258914326), (3654, 0.04231972909282204), (3476, 0.04231211336044315), (694, 0.042297814389133596), (3667, 0.04229118610186612), (3269, 0.042290485854314455), (885, 0.04228345152737683), (1777, 0.0422490799212697), (416, 0.042248870208346494), (519, 0.04223946728682909), (3421, 0.042238825152125514), (4731, 0.04222811773387127), (1190, 0.0422106464243859), (3023, 0.042205788889669874), (3797, 0.042203320497965456), (4398, 0.04220316915595594), (1991, 0.042189239011258574), (2529, 0.042187746463289905), (788, 0.042174025482301945), (693, 0.0421394227181071), (1493, 0.04213578200975063), (1438, 0.042133922460199674), (1412, 0.042114748827938246), (4551, 0.04210577487291558), (1394, 0.04209366066367741), (1858, 0.04204791301015959), (3432, 0.04204468493360234), (3344, 0.04204216591429232), (4150, 0.04203808079816539), (4433, 0.042030244916682405), (122, 0.042027789086601125), (1763, 0.042024317864128205), (629, 0.0420087401869942), (675, 0.0419912236975243), (2401, 0.04197878329689745), (3888, 0.04197191923723241), (2908, 0.04192036142818179), (3188, 0.04191062177890102), (269, 0.041909007254649036), (1118, 0.04190539475390083), (2770, 0.041901581267369294), (4554, 0.04188386089929134), (1543, 0.04183639633474672), (3142, 0.04183051835978676), (1933, 0.041826382710997735), (4435, 0.041818446636012356), (4022, 0.04179095577197474), (3453, 0.0417856648517794), (2925, 0.041779730449731274), (3520, 0.04177047635904104), (3794, 0.04176770061031731), (359, 0.041767445448181756), (3098, 0.04176082742285798), (95, 0.04175734292644856), (224, 0.041749534325275534), (624, 0.04174294870257794), (317, 0.0417284307311089), (4512, 0.041702560560763755), (302, 0.041692246936666), (1985, 0.04168519422949142), (2981, 0.041658170520806545), (2631, 0.04163010288919762), (1220, 0.04162785124190886), (2697, 0.04162695002265841), (1111, 0.04161474933971908), (4175, 0.04160514024809961), (2767, 0.041588686921184455), (4233, 0.04157440756486034), (4117, 0.04156952903602198), (4566, 0.041560635188533576), (1845, 0.041537678642348266), (1908, 0.04153447769505317), (2978, 0.041526582947787674), (1953, 0.04151302315278829), (3027, 0.04150698051313553), (260, 0.04145702627469602), (3353, 0.04141450033312764), (4676, 0.04140961355317823), (1521, 0.041408041549280634), (2914, 0.04139048198590642), (3306, 0.04137968529378777), (238, 0.041379549641091265), (2597, 0.041379512810395445), (4477, 0.04136842972783714), (1623, 0.0413589611667975), (40, 0.04135833247511186), (4440, 0.04135570905241666), (1726, 0.04135561354075422), (858, 0.041344276756135605), (80, 0.04132899223599759), (4582, 0.041312459681855), (2417, 0.0413117959495822), (4087, 0.0413065894060015), (4283, 0.04127045363878419), (3498, 0.041265286475543096), (2910, 0.04124203012579801), (3651, 0.04122492608643457), (2209, 0.04121374852994705), (3122, 0.041203505296245904), (2579, 0.04117284608098794), (1059, 0.041169707599920446), (4103, 0.04116562174743472), (1667, 0.04113230198279626), (3229, 0.04112378748592906), (3709, 0.04111397777480937), (2740, 0.04109462141096055), (3425, 0.04108811615249667), (999, 0.041082695480025216), (116, 0.04107746372570133), (1393, 0.04104464595833054), (1218, 0.04104271734538324), (2939, 0.04102642651852897), (2898, 0.04101744459796236), (3587, 0.04100793484150834), (3959, 0.040993162280063444), (1666, 0.04097657976671075), (106, 0.04096778475128517), (974, 0.04096283053645158), (3372, 0.040945495891902266), (658, 0.04092501561066813), (1976, 0.04092277558732104), (1948, 0.04090894283918738), (3406, 0.0409020598990906), (4310, 0.040900316402844056), (2063, 0.04087093026987082), (162, 0.040860962612139264), (502, 0.04085922643454975), (1179, 0.040854195043303426), (1021, 0.04082758355728091), (488, 0.040812462119477366), (1977, 0.040798961508920165), (4347, 0.040787708802071054), (3993, 0.040762068253325054), (4381, 0.04076103450778111), (661, 0.04075586457492681), (963, 0.04074570662658625), (825, 0.040732059923381275), (2683, 0.04073022230034714), (4000, 0.04070832202681225), (3177, 0.04068839359755618), (2008, 0.0406827112798956), (4682, 0.04067643772182775), (3572, 0.04067549165304938), (4475, 0.0406602391901926), (2427, 0.04065478243596053), (2185, 0.04065341559892174), (1372, 0.04063539458271703), (1030, 0.040592060049313455), (730, 0.040584807758316244), (2780, 0.04058119585153533), (3997, 0.040580969426326025), (2580, 0.040569598403934565), (78, 0.04053517685695349), (3152, 0.04052686490489338), (1431, 0.04052592365741291), (921, 0.040522934609223016), (2362, 0.04049925620748293), (918, 0.04048002452210077), (2298, 0.040459411588319796), (2366, 0.04044728188054034), (945, 0.04044664802226373), (4412, 0.04044160267574301), (3442, 0.04042879187907774), (3802, 0.0404246382450299), (1961, 0.04042083601729321), (1260, 0.0404046475348222), (2723, 0.040403574993089664), (3180, 0.040367560410101005), (4010, 0.04034851855883179), (1638, 0.04032753117127904), (483, 0.040321343916934205), (2272, 0.04026685332172198), (1678, 0.04024534595733729), (2219, 0.04024392019627041), (379, 0.04023867421943063), (175, 0.040230971851839936), (1374, 0.04021016445240933), (3977, 0.04020916528892928), (3511, 0.04020282407156086), (295, 0.040186370977574784), (2407, 0.040167728154700336), (3606, 0.04015584663964158), (287, 0.0401516898621585), (388, 0.04013733667253863), (2475, 0.040110902720942546), (1992, 0.040095954170063175), (3065, 0.040091937231820904), (3164, 0.040079462197833544), (143, 0.04007623873917984), (3081, 0.04006713912723348), (3430, 0.04004186302114504), (4632, 0.04003926188519084), (4387, 0.04003427561274291), (3736, 0.04002056287979855), (3003, 0.04001536804567138), (1901, 0.03999732676071751), (840, 0.0399773502751056), (2912, 0.03997394515350749), (1831, 0.03995017222061277), (3731, 0.03994903201838019), (718, 0.039944930316092045), (915, 0.039937166227681314), (2662, 0.03991806883783016), (3275, 0.039917042140609135), (2109, 0.03989231170759228), (3015, 0.039835973638182996), (3452, 0.03983022531468008), (3605, 0.03981559788688952), (1341, 0.03980960437647348), (1195, 0.039779398225210816), (3140, 0.039768324292174695), (1555, 0.03975596196963532), (15, 0.03974906737886727), (3567, 0.03973341933605803), (4725, 0.03969779208343724), (651, 0.03969264584176463), (1344, 0.039649468672127756), (1817, 0.039640207660532986), (3091, 0.03962646936741304), (1584, 0.03961369759782903), (3285, 0.03961000049325053), (1396, 0.03960539766945221), (3744, 0.039593170879651536), (2534, 0.03958557623145061), (2321, 0.03957663851210774), (4538, 0.03956501567705441), (1629, 0.03955300989323402), (527, 0.03952677278255676), (3711, 0.03951731974419197), (3531, 0.03948415844642951), (1621, 0.03947120798750456), (2191, 0.039461722460065074), (577, 0.039454488819921175), (363, 0.039452080578870743), (2187, 0.03943692772296949), (2928, 0.03943206558576569), (3163, 0.039428331982420683), (4137, 0.039417412085067854), (1011, 0.0394094442897278), (3792, 0.039397296688243655), (1631, 0.03938594145195555), (2681, 0.03938417093533121), (3883, 0.03938036424880563), (2889, 0.03934236305731628), (3182, 0.03933534590888046), (4123, 0.03933449659222789), (2882, 0.03932417693723303), (157, 0.0393086936501931), (2410, 0.039255077812482914), (673, 0.039233600274904856), (3653, 0.03921896528846072), (1715, 0.03921815745649269), (2491, 0.039192547717826216), (3891, 0.039186665102215926), (3014, 0.0391825147249512), (3374, 0.03915942301818401), (4049, 0.0391571927419464), (3552, 0.039145641986219566), (2971, 0.03913668527272812), (3561, 0.03912879864021519), (10, 0.03911705755290452), (1291, 0.0391085043787648), (1648, 0.039103964359604323), (2646, 0.0390970188946366), (321, 0.039033057444893604), (978, 0.03902195922751993), (804, 0.03902060791281069), (2138, 0.03901952304037524), (1886, 0.03901701772695181), (1093, 0.038970484682902526), (2738, 0.038969952427734475), (3382, 0.038959605182268445), (2966, 0.038958304322819826), (2520, 0.0389546449164469), (249, 0.03894381534054757), (2226, 0.038929928744152166), (892, 0.03892186304584863), (3940, 0.0389035695667528), (609, 0.03890343081804005), (4269, 0.03889842299745842), (1840, 0.03889238479878008), (1221, 0.03888093458312799), (4060, 0.038817890030509956), (188, 0.038769423892949656), (399, 0.03875907102469313), (1551, 0.038745669109630905), (1536, 0.038740011729139316), (952, 0.038721520374669596), (2918, 0.03871335593133872), (2281, 0.0387118034454489), (689, 0.038709727903699795), (1247, 0.03870170695216313), (2901, 0.03867284353164313), (1880, 0.038669742652994575), (3854, 0.038659301109819424), (3371, 0.038650504973385576), (1228, 0.03862395210688288), (281, 0.03861917954358771), (263, 0.03861289638310728), (378, 0.03860725771266848), (193, 0.038571196390242424), (2494, 0.03855470249983371), (1319, 0.038553929874093576), (1499, 0.03854221146837953), (1964, 0.038516550786303005), (2752, 0.03850904369526931), (4031, 0.03850868689669391), (4511, 0.03850811632155965), (2501, 0.03850064026702239), (2073, 0.038498704514636925), (3086, 0.038498231504879334), (2642, 0.0384651094703112), (3581, 0.038463830643751314), (2388, 0.038457224359294516), (827, 0.03845631724096851), (1508, 0.0384453932306057), (4051, 0.038429726889096884), (70, 0.03842721580690214), (1722, 0.03840814124693877), (2562, 0.03840721259961266), (1335, 0.03840657133868275), (2737, 0.03840004409332877), (4299, 0.03837225820568869), (3778, 0.03837145083557088), (2739, 0.038366555036770784), (1175, 0.03831935732056233), (198, 0.038292996199124664), (3890, 0.03828910428771883), (3639, 0.03826808140174318), (4399, 0.03826114664785506), (4142, 0.03823903229070359), (1451, 0.03823766360452185), (251, 0.03818233449855066), (2669, 0.03818138261537455), (4651, 0.03817698275613269), (3964, 0.038173166953487735), (1321, 0.03816852067989269), (2930, 0.03816717107687819), (204, 0.03814453832170312), (618, 0.03813862425257968), (4451, 0.038132726875981474), (1996, 0.038127484089217394), (3362, 0.03812021728862704), (2512, 0.038096503997242404), (261, 0.03808144473908881), (1884, 0.03807208677026073), (2158, 0.038056327337473675), (226, 0.0380520153927827), (1279, 0.038043454525280115), (2367, 0.038029403985788565), (303, 0.038028270799303036), (3213, 0.03801465262576953), (2308, 0.03800098910967653), (3467, 0.0379960909310923), (3120, 0.037988520054013604), (4207, 0.037986048135221905), (2963, 0.03798237452288753), (3841, 0.03797447971612437), (1622, 0.037951645224163985), (4383, 0.037934745516385156), (2663, 0.037931119132406224), (842, 0.03792968253485832), (4027, 0.03791247760546925), (1060, 0.037899094201563725), (3037, 0.037892724099813216), (2849, 0.03788986543884161), (2086, 0.03788575523036717), (1634, 0.03785550041374484), (2106, 0.0378365452231752), (2961, 0.037809338241938564), (448, 0.03779565034835025), (1116, 0.037783652538248474), (5, 0.03775212552943484), (4487, 0.03774397422016474), (2312, 0.037742843452378425), (2409, 0.037739640061120384), (4014, 0.037739161580265794), (2711, 0.03772729608564052), (1951, 0.03772142046301488), (3576, 0.03771800307471822), (2320, 0.03771783906100116), (1358, 0.03769878497594649), (3217, 0.03768736557468165), (2726, 0.03768730776007438), (3377, 0.0376822685037402), (3573, 0.03767986858402653), (4055, 0.03767195997486302), (412, 0.03766924346891305), (286, 0.037658752509298885), (2358, 0.037638919795971636), (4286, 0.03763614282905199), (4758, 0.0376258794822539), (3600, 0.03762527629040789), (3665, 0.03761991873267554), (928, 0.037618856159777336), (830, 0.03760056038095733), (2650, 0.037594386049193046), (4093, 0.037553005441431926), (3280, 0.03753474420204004), (697, 0.037531541230795044), (2484, 0.037511600283025644), (2024, 0.037505428280364364), (2018, 0.03750185638110233), (3105, 0.03749597375657896), (3979, 0.03749536970201464), (3169, 0.03747725620379564), (1063, 0.03746678301589527), (4013, 0.037457459434441585), (2867, 0.03745261876001297), (722, 0.037452133073239934), (799, 0.03744381760782077), (4583, 0.03744073698969579), (3187, 0.037439437091445676), (4085, 0.03742542709711036), (2313, 0.03742538319813508), (800, 0.03741763856859847), (8, 0.03738622756351601), (1778, 0.037385773760762554), (4431, 0.03737582612480172), (578, 0.037368708191871845), (2959, 0.037321354434103705), (4363, 0.03730796161859179), (2245, 0.03730446635302261), (4313, 0.03729867127709345), (3970, 0.03729352077358618), (1355, 0.03728740246704148), (395, 0.037272607306157675), (2044, 0.037255570779546734), (3328, 0.0372456279642881), (3118, 0.03724119575437342), (2919, 0.03723868390329069), (3875, 0.03723108480854778), (763, 0.03722318962680005), (4206, 0.03720994045094884), (4340, 0.03720877697978427), (4141, 0.037200238943583916), (1770, 0.03719842612496217), (2239, 0.03718195505781477), (191, 0.037171680096384316), (3234, 0.037137782777377726), (716, 0.03712680416767254), (3652, 0.03711767009567125), (1841, 0.037094867055609826), (1529, 0.03707104888910548), (2184, 0.037070349426111045), (1132, 0.03704442341800855), (1994, 0.03704284262424287), (1187, 0.03704178545433048), (2236, 0.03703988726478225), (1970, 0.03702597074071233), (453, 0.037015980082167374), (3506, 0.037007121867478586), (1449, 0.03699335337946533), (3704, 0.036989227664580605), (3973, 0.03694141292680662), (758, 0.03693315321173752), (1387, 0.03690960743434502), (1744, 0.03688183025053165), (362, 0.03684664364950845), (1079, 0.03684537394716021), (2614, 0.03683735527322486), (3443, 0.03682506144946532), (1542, 0.036818802618209065), (3045, 0.03681571710000904), (1241, 0.03681323679343441), (2874, 0.036796002042515076), (2181, 0.03679091469699074), (1283, 0.036769693519196386), (2201, 0.03675675293831862), (755, 0.03674782194905295), (4162, 0.03673558701101401), (326, 0.036722544900996655), (4089, 0.036721617356558364), (2944, 0.036712229733595496), (2394, 0.03671165886712697), (4153, 0.03670415649999016), (1530, 0.036669805260213975), (4586, 0.036655588522419735), (2499, 0.03662712800748896), (3519, 0.036611953559935545), (1385, 0.0366032363686401), (1000, 0.0366007306880781), (178, 0.03659478970684835), (1023, 0.03658731760266901), (4662, 0.03658374324593128), (3428, 0.036577612770010384), (1080, 0.03655996796642126), (4585, 0.0365409336527356), (4268, 0.036535242412389236), (2828, 0.03652852148005815), (1310, 0.0364883366567133), (2802, 0.03646755908190546), (2319, 0.036465488353793), (2808, 0.03646436252257067), (4479, 0.03645803010347861), (3980, 0.03644508252633797), (597, 0.036440350149772156), (2331, 0.03643809220089327), (2568, 0.036434717924480935), (373, 0.03642774470021479), (3578, 0.03640913551331042), (2729, 0.03638668007148816), (3751, 0.036384848225189684), (4244, 0.03636603334134389), (4441, 0.03635067526614243), (3162, 0.036341481908642545), (1466, 0.036330358511821925), (1816, 0.03631713223031424), (2088, 0.036293569681707286), (1502, 0.03629009502746114), (103, 0.03628636816326053), (3598, 0.03627771045948442), (2102, 0.03627200359636166), (3486, 0.036269942829675834), (4450, 0.03624650537220411), (2745, 0.036238015903640446), (3621, 0.03622389957547033), (0, 0.03620194027579146), (2045, 0.03618876471973949), (1193, 0.03617257906035112), (944, 0.03616085299192686), (3625, 0.036160126551555316), (2751, 0.03612573081858497), (1757, 0.03612046208594144), (3268, 0.036110179247613304), (2275, 0.036106870616821184), (3839, 0.036100471363942746), (2793, 0.036079507999548246), (3489, 0.03607390904570453), (3852, 0.0360600324870861), (4502, 0.03603193768048214), (1117, 0.0360205071883712), (2997, 0.03599082281900824), (4168, 0.035987311970649), (3514, 0.035975205712722225), (1121, 0.03597449219320694), (4366, 0.03596914425149786), (1323, 0.03593479296455569), (37, 0.035912794970250884), (1644, 0.03589124401386195), (1657, 0.03588748603691938), (4741, 0.0358841543389164), (1370, 0.03588130294136502), (1997, 0.0358770597432326), (792, 0.035868983374169626), (2048, 0.035868138527204455), (638, 0.03583717709997838), (3170, 0.03583579205745566), (2352, 0.03583207299799057), (1207, 0.035821396147018666), (784, 0.035815593764201306), (2147, 0.03580269821086609), (3867, 0.03579848932492335), (1035, 0.035793918321981116), (1525, 0.0357740236132086), (3361, 0.03575921354677362), (3203, 0.035747857780496606), (2894, 0.035721585510652895), (1102, 0.03570374082886765), (68, 0.03565321864398123), (3221, 0.035652463911946417), (4277, 0.0356453430743504), (2061, 0.0356439173384968), (1305, 0.03562821977244704), (1808, 0.03562111051679964), (2053, 0.03560655563168968), (4224, 0.03559939916089584), (1854, 0.03559186974750374), (465, 0.035585521686788565), (2589, 0.03558493210819681), (4138, 0.03557168762259154), (3491, 0.03556125028512744), (2896, 0.03556057655229008), (2667, 0.03554721758537731), (2374, 0.0355146410351559), (59, 0.03551017625112398), (4757, 0.03550433794796557), (4721, 0.03550254524051409), (1087, 0.03549934857969207), (3942, 0.03549503697877029), (536, 0.03548848792700925), (4056, 0.03548060941733843), (4048, 0.035442602750018835), (124, 0.035403496437714434), (73, 0.03538102376426636), (2353, 0.03537968665155787), (1919, 0.03536687335053076), (3739, 0.035350422072008954), (1255, 0.03535003020063154), (979, 0.03534766980243632), (3103, 0.035344472210887413), (4077, 0.035344292994263754), (107, 0.03532982642576041), (2582, 0.035328011824675695), (2117, 0.03532752037639884), (976, 0.03532433006187455), (3717, 0.03531562982812264), (2799, 0.03530769540040222), (396, 0.03529412719588138), (3204, 0.035288723579367215), (408, 0.035281557455019166), (3129, 0.03527542138980372), (4039, 0.0352729301582594), (1515, 0.035258808464687916), (1588, 0.035256778230179635), (1264, 0.03525074346702489), (3284, 0.0352426961976505), (1317, 0.035231612995638505), (1895, 0.03522443237228388), (4429, 0.035200694199215586), (2700, 0.03519776942391773), (2538, 0.035194255425117164), (20, 0.03518496390899163), (4455, 0.03518316114282664), (228, 0.035179921005630846), (3759, 0.035175857714626765), (4034, 0.03517139244563039), (4669, 0.03516316585100878), (1474, 0.03515712276180471), (109, 0.03515299857894715), (2082, 0.03513717694727556), (3584, 0.03513225364250074), (4640, 0.035117750934629904), (1796, 0.03510034732337434), (4351, 0.0350970207907793), (955, 0.03508749740886131), (1276, 0.035063129629805075), (550, 0.035041276137735625), (440, 0.03503825109391079), (3282, 0.03501791211664156), (4298, 0.03501037722198299), (2072, 0.03499066774142534), (2171, 0.03497388963457061), (3995, 0.034973751762694044), (3963, 0.034959874122384084), (2679, 0.03494876196500857), (2540, 0.03494438171286168), (2466, 0.03491342009539559), (4727, 0.034906888997259126), (2240, 0.034901773656195706), (585, 0.0348785225314295), (3884, 0.03486944223326126), (3752, 0.03486879567168517), (400, 0.03484693989839663), (2547, 0.034835435457333155), (2655, 0.034834122948093224), (2009, 0.03483327462438929), (1842, 0.03482956079374715), (4292, 0.03482682841975793), (1149, 0.034819584353713115), (2288, 0.03481346986817287), (3155, 0.034805335585670276), (869, 0.03480000273003571), (2550, 0.03479829637306611), (2279, 0.03477919592609427), (87, 0.03477016805457549), (3153, 0.03477014442979453), (3773, 0.03476212426693714), (39, 0.034745369908547014), (4595, 0.03474106045694621), (4664, 0.03473453243295939), (2689, 0.03472562423535773), (2173, 0.03472227695892213), (2610, 0.03471942795883663), (2406, 0.03471901473983996), (600, 0.03469446479096359), (4189, 0.03469037916159081), (427, 0.034690172440227936), (3311, 0.03468799541598422), (2708, 0.03467485844791295), (1427, 0.03464636424707067), (500, 0.034644743777806644), (3398, 0.034644291783850006), (985, 0.03463406893355604), (375, 0.03462349644965003), (2635, 0.034615519513832876), (1760, 0.03459615097305095), (291, 0.03459407267541675), (2039, 0.03459154510538486), (2666, 0.0345768449746012), (1237, 0.034564996057404616), (1182, 0.034557371165878495), (1292, 0.03454731020837228), (3806, 0.03454671958483142), (3146, 0.03454619842897723), (2004, 0.034536339677547906), (1828, 0.0345156282682804), (1439, 0.0345076792475647), (1173, 0.03449515076367295), (56, 0.03449308990012863), (432, 0.034491297098138966), (1511, 0.034487237991718524), (3594, 0.03448341616118218), (1110, 0.0344698585770073), (898, 0.03445289390551791), (1733, 0.034445366702404986), (284, 0.034428330185665296), (4326, 0.03441936372875314), (1433, 0.034410856774310744), (559, 0.03440124514374208), (2668, 0.034397784289280885), (1032, 0.03438669977704943), (171, 0.03437638992545244), (4517, 0.03437570732635758), (481, 0.03436079291157265), (3885, 0.03435604476840035), (3457, 0.03434803277034011), (3416, 0.03432494069499093), (4603, 0.03432131926225747), (1565, 0.03430720134811084), (2216, 0.03429470374522054), (977, 0.03429205431984501), (907, 0.03428902635052636), (365, 0.03428820479948414), (2817, 0.034280583774929894), (300, 0.034267034945970096), (2504, 0.03426283373118814), (3313, 0.03423973885120177), (2094, 0.03422465900591846), (1423, 0.034200775287926706), (2192, 0.03419729146829754), (817, 0.03419495745366092), (3746, 0.03418422490123635), (1058, 0.03418235271026758), (4608, 0.03417310832934891), (2994, 0.03416635309673259), (1281, 0.03416181801312051), (2435, 0.03415326586406947), (3829, 0.03413956621972852), (614, 0.03413041795953691), (3085, 0.03412745313617064), (4236, 0.0340991464818383), (3380, 0.0340908058699555), (2992, 0.03407129232427234), (1844, 0.034068503070178495), (4270, 0.034066951862664105), (2797, 0.03406329605803535), (2389, 0.03405991868946263), (1157, 0.034009165654888415), (4558, 0.033994110980028816), (4136, 0.03398479556111414), (3078, 0.033983457430164565), (99, 0.033978270488480136), (1503, 0.03397712242885764), (4602, 0.03396799176296929), (1650, 0.033953812280636), (2718, 0.03394851788025616), (3409, 0.033939895082343616), (1870, 0.033938342871903816), (2318, 0.03392761611204968), (94, 0.03392227955221597), (4128, 0.03392156169446151), (4541, 0.03391414273006485), (4285, 0.033911783451151506), (2774, 0.03390409324986471), (3001, 0.033902372023474965), (3097, 0.03389106864872518), (3392, 0.03388430540250507), (1941, 0.03387953101619497), (3417, 0.03387442418728527), (512, 0.033865905368627734), (1795, 0.03385356967921974), (708, 0.03383491595893848), (2189, 0.03383332112263574), (1386, 0.0338120375021281), (4144, 0.03380843304074436), (1681, 0.03380033166669282), (177, 0.03380026846308624), (4312, 0.03379248141939571), (2549, 0.0337878989203138), (710, 0.0337869556988744), (3583, 0.03378606202844214), (1308, 0.03375645956994475), (3434, 0.03375195778366314), (108, 0.03374754226237604), (3721, 0.03374343175184159), (1738, 0.03373991234065909), (3597, 0.03373900889159729), (2862, 0.03371221117182323), (100, 0.033705492146580314), (904, 0.0336854284732253), (3448, 0.03367867729397117), (3355, 0.033641140678582815), (4747, 0.03362833972360663), (2869, 0.033599821488734236), (4736, 0.03357994932270196), (130, 0.03357162789562419), (219, 0.03356305813804264), (3484, 0.03355462595778792), (234, 0.03354499833408887), (1430, 0.03354272606336502), (4222, 0.033542683466702104), (2660, 0.03353029300203282), (1918, 0.0335155486378597), (2626, 0.033501479337910395), (3780, 0.03349181008227272), (1348, 0.033481954281094475), (2622, 0.0334791122377099), (430, 0.03347073015440414), (2421, 0.03346928385076558), (338, 0.033460002820858904), (1037, 0.03345960474391981), (906, 0.03344857668577607), (692, 0.0334468300186127), (1392, 0.03344587965127072), (2230, 0.03340818236491095), (468, 0.03339430732146725), (1017, 0.03338177869780648), (25, 0.03338028111545039), (3659, 0.0333671202200184), (1856, 0.03336090152083042), (4621, 0.033360154810010756), (3437, 0.033337776134560446), (2546, 0.03331395865138439), (2470, 0.03329708929454686), (2247, 0.033293709287586105), (664, 0.033286763623168174), (199, 0.03328148181342104), (256, 0.033273767170811513), (2166, 0.0332600627628072), (1662, 0.033258693525026986), (1456, 0.033246195771335474), (1836, 0.033233878746430565), (2097, 0.03323373300077333), (3715, 0.033226964638902644), (4009, 0.033224192999240024), (654, 0.033223777553731584), (121, 0.033201650121090914), (3391, 0.033199653010512656), (4100, 0.033184070715789306), (2035, 0.033171854125168446), (1539, 0.033170282303877675), (1009, 0.033168431966083864), (1443, 0.033166809718983635), (3628, 0.03316515120959307), (3321, 0.0331503473101171), (1739, 0.03313123069381621), (283, 0.03312132285090386), (2560, 0.033091535808264905), (2517, 0.03308932950630242), (2960, 0.033077039861595825), (3304, 0.03307609908671739), (3046, 0.03307602380420766), (2223, 0.03306089680298595), (387, 0.03305434321207487), (355, 0.0330461561665597), (4356, 0.03304479204846622), (2687, 0.03303402415743294), (2859, 0.033029648602806876), (186, 0.0330181372981038), (1927, 0.03298133302620989), (1673, 0.03297327778386423), (2891, 0.032948718309467676), (2528, 0.032944325048873714), (2805, 0.03293546552138588), (903, 0.0329293165282603), (1972, 0.03292599663116402), (3104, 0.03291937612685375), (873, 0.032912508068066317), (2142, 0.032871286015390626), (3004, 0.032858944768314136), (21, 0.03285773753755881), (438, 0.03283642837983318), (2577, 0.03280753891392636), (4155, 0.032779619465283676), (3555, 0.03275226706122557), (3468, 0.032751529442598494), (91, 0.0327505811971011), (3850, 0.03275028522250262), (1061, 0.03274585688988504), (1773, 0.03274537667202988), (2976, 0.032744156129472096), (2129, 0.03273556073119918), (975, 0.032723404844780944), (973, 0.03272334246648034), (2818, 0.0327182633734137), (4327, 0.03271661765308277), (3407, 0.0326997789518251), (1825, 0.03268895920753318), (1107, 0.03267411193319685), (3876, 0.032673799742073566), (4122, 0.032664973939728), (2224, 0.032663922506311074), (2924, 0.0326630982544586), (3655, 0.03265504633122422), (1912, 0.03264902212082341), (2789, 0.03264825352531335), (236, 0.03264125489852856), (635, 0.03263634219837372), (2000, 0.03263418075945239), (2451, 0.03263141111872278), (4472, 0.032630934807607606), (4339, 0.03262317936845314), (4294, 0.03262006615615402), (1568, 0.03261549054745986), (4007, 0.03260594870183944), (3173, 0.03259893975494707), (2263, 0.032598171963495674), (1528, 0.03259416276480951), (4754, 0.03259365519452771), (4588, 0.03257880188619178), (4513, 0.032575253846783225), (1534, 0.032565153862352945), (3493, 0.03254849877209564), (3193, 0.03254829514746232), (3151, 0.03254638399916171), (2259, 0.032534233930641566), (413, 0.03251283253787355), (3195, 0.03248381565236468), (4296, 0.03246723691506734), (3666, 0.03245443711647224), (3827, 0.03244955386909526), (3131, 0.03241540135713055), (3983, 0.03241435910103297), (3767, 0.032403893247614404), (3607, 0.03240208374789302), (4519, 0.032387314106494536), (2712, 0.03237173602886291), (69, 0.032362931494988735), (591, 0.0323596069008558), (1201, 0.03235853197308802), (1081, 0.03235586691566212), (1904, 0.03235070143777707), (4195, 0.032342197287429104), (1295, 0.03232433675588102), (265, 0.03230148029913073), (1535, 0.032293134680891525), (1120, 0.03227918646876703), (4210, 0.03227752937296963), (656, 0.03227552084854645), (4365, 0.03226483558679318), (1645, 0.03226382536100672), (560, 0.03226314460093431), (3636, 0.03220464429225206), (2442, 0.0321868772327223), (2781, 0.03217920745165986), (473, 0.03217587031036488), (913, 0.032172127447650994), (990, 0.03216737935987133), (330, 0.032163179214679614), (2929, 0.03214677892093071), (1871, 0.032134483415938775), (1690, 0.03211581091466972), (3016, 0.032114881771314566), (934, 0.032114172096033004), (426, 0.03211218601880218), (3033, 0.03211163922398299), (2816, 0.03210966041700445), (1758, 0.03209536748501063), (457, 0.032094825506825006), (2879, 0.03208921355573833), (4329, 0.032081926302707), (1432, 0.032067022752125106), (1946, 0.03206173992284722), (2880, 0.03204743132813715), (2116, 0.032043398807075386), (1316, 0.0320389635920781), (4465, 0.03203080921024179), (4618, 0.03202321506519362), (4318, 0.03201012112178271), (439, 0.032008404149858345), (1847, 0.03200517021404516), (4424, 0.03200102151688332), (3211, 0.031976163039707864), (3526, 0.03197337526345248), (1586, 0.03196200916529828), (3202, 0.03195645984580975), (2049, 0.03195444563006246), (4032, 0.031947636952641516), (1417, 0.03192436186719479), (3387, 0.03191980313603337), (2213, 0.03191881553860624), (2170, 0.03190828484755899), (1266, 0.03189701372185451), (11, 0.03188541416092211), (1910, 0.03187920857032194), (200, 0.03187421573019544), (1216, 0.03187400985722893), (1337, 0.03187143828147496), (1868, 0.031866271460630397), (3138, 0.031863918385382356), (4242, 0.031858040445914504), (4165, 0.031853853978406364), (2198, 0.03184440151114197), (2557, 0.031844321814831524), (3874, 0.03183474217954204), (2933, 0.031833443317748046), (2432, 0.03183321101757194), (2143, 0.03182472547945817), (2707, 0.031823353834990235), (3631, 0.0317980118733), (3924, 0.03179668138052025), (3242, 0.0317829701877826), (3289, 0.03178180323596565), (2027, 0.0317636160350014), (2926, 0.03175510848848091), (2640, 0.03174863583358095), (3658, 0.031733815769837595), (3803, 0.03170579356049093), (3226, 0.03168692279160853), (1077, 0.03168317456275201), (325, 0.031677415562253466), (3184, 0.03167380736705187), (3069, 0.03167154459811329), (2316, 0.03166840761481565), (30, 0.03166425491207999), (2569, 0.03165588604687556), (2183, 0.03164931895807747), (3529, 0.03164421447601134), (1788, 0.031641429577658906), (2938, 0.0316354250340901), (4152, 0.03163404822943013), (2368, 0.03162817801069579), (834, 0.03161867409997235), (3359, 0.03160372202851046), (452, 0.031581424067462706), (1496, 0.03156068618131334), (729, 0.031558631165067574), (304, 0.031556513910585185), (2040, 0.031540428726481586), (923, 0.03152866386488049), (3433, 0.03152528669971771), (3766, 0.03151914602582554), (1579, 0.03151506060710618), (2518, 0.031512754536913594), (3424, 0.03150796262088256), (1852, 0.03150111457944473), (4303, 0.03149375537376782), (2356, 0.03149047706498778), (4495, 0.03148696549866072), (821, 0.03148490577071616), (1872, 0.03147783398997864), (2823, 0.031473094628436504), (3518, 0.03146023941074349), (4388, 0.03145889708065405), (3814, 0.03145404378626532), (268, 0.03144544729492486), (2141, 0.0314421526762668), (4393, 0.03143979023995425), (223, 0.03141342335725274), (2868, 0.031411698621513766), (2932, 0.031407825372227145), (2467, 0.031406631246828694), (4194, 0.03139868435033414), (352, 0.03139708029758537), (632, 0.03139591007707642), (2590, 0.0313877178142634), (2721, 0.03137394755458093), (790, 0.031363842245579775), (250, 0.03135781537343947), (1099, 0.03133274487051448), (1176, 0.03133270328094664), (2771, 0.03132721131589597), (2301, 0.031326253988062894), (3974, 0.03132384689870963), (1522, 0.03131143334495458), (860, 0.03130448412706329), (3074, 0.03129435096678996), (1670, 0.03128342035975297), (935, 0.03125424040037993), (3523, 0.03125219750424479), (2124, 0.031221219862249967), (189, 0.03121356403356347), (2338, 0.031189648105206736), (3130, 0.03118736834989015), (146, 0.031186202614525222), (3403, 0.031182994800690277), (2476, 0.031182609981829677), (163, 0.031177379880711842), (3679, 0.031169639623722337), (3838, 0.031162659587839085), (4709, 0.03116249726596925), (240, 0.031160409570450253), (3405, 0.03115298643699793), (843, 0.031150643475748935), (405, 0.031145387087543226), (1306, 0.031139415009085784), (4288, 0.031138177307028607), (3945, 0.031133405317451263), (3535, 0.03112058985240451), (2983, 0.031074336536848973), (3166, 0.03106998070145209), (832, 0.03105889290936467), (700, 0.031053776546657162), (2269, 0.031052978948793455), (894, 0.031030812153365502), (3174, 0.031022878073690724), (2888, 0.031019374718500192), (216, 0.031012909797349792), (485, 0.031008906697536656), (1229, 0.031008603816722092), (2156, 0.03100719272697002), (2851, 0.030985852347392404), (2011, 0.03095790119644338), (1251, 0.03095067977714853), (3262, 0.030946470725772238), (2010, 0.030943791755658645), (717, 0.03093837598439391), (1446, 0.03093800786137592), (3308, 0.030928614610343932), (2573, 0.030927579402502205), (2623, 0.030920839557927463), (1613, 0.030891564950942172), (910, 0.030890054967245215), (2836, 0.030880272728557027), (3431, 0.03087644874363963), (1873, 0.03086982322037609), (4689, 0.030862986188881468), (2302, 0.03085779541060324), (401, 0.030854377157191772), (3324, 0.03085359854868185), (587, 0.03083825829327937), (139, 0.030834435173746125), (4241, 0.03083312920517088), (3872, 0.030829551282088162), (796, 0.030829498756008544), (4004, 0.030815236976393167), (525, 0.030800937492776997), (1785, 0.030798338096106236), (2212, 0.030789881177005752), (38, 0.030782748398673346), (3886, 0.030749392464989325), (639, 0.0307461549425797), (2535, 0.030723660199925014), (3533, 0.030719892916864094), (687, 0.030719786805320785), (2412, 0.030719492855524527), (1587, 0.030700661991620557), (4193, 0.030697792143609078), (3771, 0.030675625897284137), (168, 0.030668669456212657), (4088, 0.030665612504033803), (327, 0.030664952808718924), (4104, 0.030662115343152205), (684, 0.030651822299821073), (294, 0.030647972619130184), (1208, 0.030633554027962043), (2402, 0.03063052005364318), (2214, 0.030623343353127525), (4006, 0.030617148347262955), (3865, 0.03060992845186351), (2074, 0.03060712534810409), (1105, 0.03059737466502572), (2488, 0.030581711978061116), (2007, 0.03058049311252034), (3475, 0.03056585159868305), (22, 0.030561768300687544), (311, 0.03054822876584411), (4230, 0.03053493925769937), (4203, 0.030531718074232748), (2652, 0.030529736256414513), (1397, 0.0305269648478911), (3397, 0.030525664690808765), (2892, 0.03052242778056489), (3092, 0.030513495658151018), (2832, 0.030508970886413155), (2447, 0.030495650677122774), (1001, 0.03049432479937291), (1564, 0.03048119753271084), (372, 0.030476413903051426), (1702, 0.03047003517559404), (4011, 0.030465409130111455), (1320, 0.030441631433666717), (620, 0.03043177275770697), (2270, 0.03042572800040829), (1160, 0.030414049307593442), (1065, 0.03041358059760125), (4755, 0.03038718082129351), (4120, 0.03037853312979532), (4023, 0.03037587280382915), (3038, 0.030375476485797546), (4622, 0.030372010166971317), (3750, 0.03035903326879496), (3154, 0.030347224866968878), (4314, 0.03034643711144936), (857, 0.03032850994688584), (1979, 0.030321383492890965), (1592, 0.03031973218855884), (3365, 0.03030052032494338), (2824, 0.030286397837273868), (3932, 0.03028191576573945), (428, 0.030272890939808946), (152, 0.030270999253063775), (3402, 0.030246821865948174), (984, 0.030243110906451088), (573, 0.03022955456500047), (2351, 0.030221036193957426), (822, 0.030217946280771544), (2324, 0.03020788306038149), (4458, 0.030203059786622397), (1640, 0.0302006070969238), (221, 0.030193760392328933), (307, 0.03018120595439521), (4402, 0.030179518823681004), (1952, 0.030164101082093796), (1675, 0.030156586021722737), (1935, 0.030143872277866694), (4212, 0.030143851799164942), (1761, 0.030139244449966657), (1100, 0.030125735293834215), (3941, 0.030114129981682038), (727, 0.0301126597184404), (63, 0.030108212367070827), (3243, 0.030104854934392435), (3763, 0.03010198953811828), (2825, 0.030100018638058876), (144, 0.030085507044202285), (3682, 0.030083428673374213), (2634, 0.030082315133626795), (3834, 0.03002944086574709), (4396, 0.03002699130783623), (3562, 0.030013445180007654), (2784, 0.03001152003177811), (1864, 0.03000578056864428), (532, 0.029986109046368677), (4249, 0.029982956131396482), (2234, 0.02994897944991278), (2128, 0.02994422992969236), (3054, 0.029923396220513845), (285, 0.029899876347905186), (924, 0.029896570027429695), (4606, 0.02988972700983885), (3320, 0.02988753364829546), (4555, 0.029884780358495327), (154, 0.029877040614823745), (940, 0.0298700913655551), (383, 0.02985298983130332), (595, 0.029851223308461045), (1381, 0.02984344485054056), (521, 0.029835177069796104), (3011, 0.02980019249697969), (3215, 0.029798058375669133), (4021, 0.02978718184852242), (1010, 0.02978687710381968), (4290, 0.029783935986833134), (1445, 0.029778403495963286), (2003, 0.029767360952648966), (871, 0.029748828102482458), (2841, 0.029748380547603485), (437, 0.029741244558167762), (1346, 0.02973337265554691), (3532, 0.029732845221350675), (777, 0.029719051085328522), (732, 0.029711634641492693), (1285, 0.029678908919991746), (2671, 0.029677194286185673), (1974, 0.029672027092133877), (1591, 0.029670919023663936), (2127, 0.02966238998946531), (723, 0.029646903259580838), (1248, 0.02964066049082376), (3258, 0.02961936394403147), (616, 0.029585788066773415), (3927, 0.029578418903849928), (2690, 0.02957755072549503), (4647, 0.029572269362295553), (3547, 0.029557442042476373), (4456, 0.02955250213927729), (3021, 0.029544952961029818), (874, 0.029537441069754547), (3593, 0.029534839519738353), (2075, 0.0295328753146471), (647, 0.02952145142768447), (3051, 0.029507631716037715), (406, 0.029487042863975372), (2262, 0.029481566541399065), (1749, 0.029475116908587028), (3401, 0.029463985953055088), (4126, 0.029444306391936625), (1307, 0.02942997578802617), (2260, 0.029426606242341093), (1775, 0.029419812871707057), (3675, 0.029414552934446427), (172, 0.02941007189855301), (829, 0.029401075978283564), (2786, 0.02939311408315378), (458, 0.02939024975319496), (4029, 0.029386333573625467), (533, 0.029378581159711543), (2887, 0.029370340230243187), (253, 0.029355474089780204), (299, 0.02934977704937304), (2796, 0.02933875379098764), (3205, 0.029338070998758375), (1252, 0.029336263967696168), (1485, 0.029335817423025275), (3871, 0.029330594455541946), (389, 0.029325613833598368), (166, 0.0293096549210711), (699, 0.029287243228853982), (1610, 0.029284753742904186), (613, 0.029282756670412725), (2207, 0.029272713919854303), (3058, 0.02927144891295677), (1124, 0.02926151472206307), (491, 0.029250453271232598), (626, 0.029237741967651863), (1830, 0.029234393524305402), (3447, 0.02921143910258746), (579, 0.029209301067363597), (3259, 0.029195952388440343), (4306, 0.029193825858775398), (3250, 0.029182027562787254), (1413, 0.029169922569151997), (3716, 0.029162218571371), (3554, 0.0291552593785418), (2020, 0.02912225293609797), (4086, 0.02911030128230877), (866, 0.029109244800378808), (3824, 0.02909728037993211), (2990, 0.029095748807463025), (2195, 0.029095308897401435), (1855, 0.029067065970685473), (3111, 0.029052308668902953), (3513, 0.02904837132354457), (4504, 0.029024463473718065), (1730, 0.029018245806889324), (2647, 0.029016724158925877), (459, 0.02901521524050053), (1789, 0.02901403126387548), (4597, 0.02901055944382136), (4641, 0.029005238548472426), (3340, 0.029003632044665863), (2870, 0.028985447457200192), (129, 0.028981938001980373), (4527, 0.02897372260511177), (3441, 0.028945830807662793), (1616, 0.02894352851264163), (2733, 0.028942206916371043), (3747, 0.028937214220964756), (2271, 0.028935932145474717), (1057, 0.0289239781288832), (1798, 0.028913856273141227), (4020, 0.028891426926738628), (1137, 0.028883920331818965), (2178, 0.028879674761359837), (2208, 0.02887819510768765), (2066, 0.028877704316435677), (4192, 0.028874060005389654), (3137, 0.028854356383909305), (3390, 0.028851951005495348), (911, 0.028846030800486675), (3907, 0.028829859139508734), (4510, 0.028826286100085786), (2680, 0.02881317077732888), (1743, 0.02880612892561838), (2433, 0.02880597944982557), (962, 0.028798422686157947), (4637, 0.02879638113156174), (3893, 0.02879599469621911), (1261, 0.028794195124947568), (4452, 0.028780206390946576), (2426, 0.02877954214205978), (4082, 0.02877909933938075), (2136, 0.02877314825693763), (2021, 0.028770396857189375), (1819, 0.02876723638007494), (4675, 0.028764613321981748), (2290, 0.02875302982361014), (3697, 0.02874625326879105), (3160, 0.02870447326249871), (28, 0.028704209741689357), (4590, 0.028696708342896712), (4281, 0.028692654058227865), (4275, 0.028687118559700638), (2176, 0.02867297110566636), (2121, 0.028660329430978373), (1505, 0.028658126176506142), (1612, 0.028657106173248542), (3227, 0.028655421919677907), (4422, 0.028643721538318248), (4732, 0.028641909045369233), (3133, 0.028634409258134715), (1877, 0.028628812692248398), (92, 0.028619873524274045), (2493, 0.028617271194089407), (4005, 0.02861244760525345), (2174, 0.028603177704709465), (3093, 0.028600903046582134), (1143, 0.028593629370365276), (1380, 0.028586010758070136), (1966, 0.02857186971393618), (3990, 0.02856998952214765), (1289, 0.028560814378852318), (703, 0.028560707809471085), (131, 0.028549219107103382), (2909, 0.02854879072906376), (329, 0.02852473315783944), (4609, 0.02851851343471829), (418, 0.028509878139451935), (4124, 0.028502394540330177), (3580, 0.02846794154660875), (2863, 0.028461770023248865), (1467, 0.028427651707724412), (2954, 0.028422628809124877), (2418, 0.028411200655925565), (3757, 0.02839102519176111), (4225, 0.028382636814900084), (1993, 0.028377412181056057), (1805, 0.028367165993976914), (48, 0.028365314220393355), (1846, 0.02836514695800107), (358, 0.028363451352184207), (4628, 0.028357708062910738), (3899, 0.02834985896682139), (3225, 0.0283478636540941), (2101, 0.02834746567910363), (3537, 0.0283444620278438), (442, 0.028341696100115388), (2238, 0.028336372824177468), (1651, 0.02832799878734489), (3141, 0.028326893645097162), (3236, 0.02828871692142721), (672, 0.028287375322104014), (931, 0.028276963349964563), (1695, 0.028258857712594843), (4229, 0.02825521029019994), (1784, 0.02824952384684542), (112, 0.028228168764286958), (3373, 0.02822543190509539), (728, 0.028209855983067494), (1050, 0.0282075651498276), (333, 0.02819933659164904), (494, 0.0281834236867194), (645, 0.028166870749923276), (434, 0.0281590165786541), (3627, 0.028155858146915454), (1053, 0.02814627710333595), (1371, 0.0281246626144842), (702, 0.028117849931366783), (760, 0.02811239995568221), (2691, 0.02811015821683464), (2205, 0.028094360317755494), (2795, 0.02809433912856416), (4075, 0.028094078469142934), (4346, 0.028080211722583816), (169, 0.028076784588711233), (2384, 0.02806940095961437), (2731, 0.028060600551807143), (1874, 0.028025603568238786), (3688, 0.028021379633592337), (3788, 0.02801677544512711), (1459, 0.02801458230246206), (3483, 0.028007044629485427), (3646, 0.02800271814991487), (3663, 0.02800242487697078), (2719, 0.027985312072148803), (3233, 0.027984947072435797), (2931, 0.02798330210078031), (868, 0.027980845823241386), (6, 0.02796900709467622), (2956, 0.027965761826311622), (2672, 0.02795084143766135), (4234, 0.02794737557381107), (2777, 0.027946336042544383), (480, 0.027945973976863932), (1398, 0.027944163982113652), (1074, 0.027939736725528432), (2071, 0.02793087934040124), (3354, 0.027927830423719747), (4073, 0.027915680022210253), (4273, 0.02791491301443151), (4046, 0.027909244914008216), (3316, 0.02789925237665966), (501, 0.027888296243783875), (2975, 0.027867381354574325), (761, 0.027850244260904676), (1807, 0.027833673366768945), (1597, 0.02783185502908674), (3923, 0.027830628094255495), (2741, 0.027821358431636318), (447, 0.027818995338901153), (4178, 0.02780892357494765), (3624, 0.027806710941325526), (111, 0.02779125684832369), (222, 0.02778339403979025), (4311, 0.027783060713626254), (1716, 0.027782479196956037), (3293, 0.02777463141585658), (753, 0.027769983766582247), (1046, 0.02774711551456506), (742, 0.02774320006963228), (909, 0.027738823563415373), (4167, 0.027713604733595795), (691, 0.027712546741482127), (1069, 0.027711455425702757), (3570, 0.027710493528141554), (4630, 0.0277103120448256), (3953, 0.02770925501848021), (2157, 0.02768696959089464), (1867, 0.027685879279435183), (2649, 0.027683937924567394), (2235, 0.027669268148633686), (4426, 0.027666258179904823), (232, 0.027664350331971028), (706, 0.0276626191879734), (2296, 0.027662224758132715), (2521, 0.02763990896009293), (601, 0.027636547190997722), (3481, 0.02761794224663282), (3650, 0.02761767648092754), (1971, 0.027609126109393145), (1746, 0.02760542643732559), (1410, 0.027590373676654522), (2103, 0.027577120296633163), (1294, 0.027572648372983375), (971, 0.02756909590475796), (2079, 0.027564127459958433), (2372, 0.027562188625968716), (1421, 0.027561478707547098), (2809, 0.027551429764387965), (1882, 0.02755083833003847), (558, 0.027544284707185767), (343, 0.027541508766829148), (515, 0.027538256440609355), (2203, 0.027534282854600863), (420, 0.027529939492490527), (3560, 0.027528990460767556), (3544, 0.027528644784909503), (2164, 0.027514752389228705), (4469, 0.02750313573098901), (4589, 0.027502143400394065), (2559, 0.02749505927277074), (1101, 0.027485222349165808), (179, 0.027483494830027277), (227, 0.027471595649766267), (4480, 0.02747090903143777), (3147, 0.027459179068355856), (288, 0.027451392907080062), (538, 0.02743894912959209), (3464, 0.02743308276596921), (2126, 0.02743198860508546), (1668, 0.027429165133896472), (1425, 0.027424933688138142), (3150, 0.02741661891976841), (3459, 0.02741218670428206), (981, 0.027408600655230063), (948, 0.0274031638155548), (4461, 0.02739802907057174), (4410, 0.027388491976377456), (3894, 0.027373188321384495), (4652, 0.027371802075345834), (3445, 0.027366795315731933), (995, 0.027341410713223827), (4466, 0.027334686090794272), (2945, 0.027326511507442853), (2092, 0.027303191720755373), (900, 0.027302627256029693), (1014, 0.02729895679072915), (2636, 0.0272721640828568), (3277, 0.02724349151763875), (1926, 0.027243225659567192), (350, 0.027212166131827635), (4038, 0.02720541495998081), (4670, 0.027204535554085557), (2385, 0.027204512187475324), (495, 0.027192023542048388), (4282, 0.02719181413036557), (3439, 0.027175971510228315), (498, 0.02716414241456168), (1094, 0.027162099049899337), (259, 0.02715795392033898), (561, 0.02715462400195744), (266, 0.027153653794580887), (1044, 0.027148902863376137), (562, 0.027140648876750675), (537, 0.027132565867552076), (376, 0.027129028584229463), (3331, 0.027127259583485833), (4262, 0.02711773220873422), (2916, 0.02711690839353286), (165, 0.027106345226122923), (2563, 0.027105997884985186), (4342, 0.02709935749472186), (2363, 0.027088278393150124), (991, 0.027087118339155353), (2175, 0.027086133372832034), (989, 0.02707360752954254), (3367, 0.02707027792231547), (1780, 0.027070271423836348), (2702, 0.02704866029846697), (4707, 0.027048013007027947), (4414, 0.027042307789197872), (682, 0.027020790459619765), (1925, 0.026990011571049622), (4216, 0.02697047660354526), (49, 0.026963300340981093), (3754, 0.026961615922479035), (2555, 0.026957913774281778), (3768, 0.02693753243734493), (2246, 0.026936465908856528), (1022, 0.02691672752732696), (3206, 0.02689623149166926), (1329, 0.026893928592429367), (3175, 0.026892814259300395), (2989, 0.026882483729594724), (4248, 0.02686811608389322), (1552, 0.026864629118175647), (2459, 0.026860046866888778), (4607, 0.026859618574336344), (1518, 0.026858912957753875), (1314, 0.026853530760216893), (4003, 0.026852189918345537), (1189, 0.02684837900644684), (3877, 0.026838746189912433), (3134, 0.02683453433339919), (4629, 0.026809053992044075), (1428, 0.026806291605698675), (4338, 0.026798582675912546), (1457, 0.026791847390505615), (2422, 0.026791288620619094), (2531, 0.026786147448768272), (2043, 0.02677451062622465), (297, 0.026771118278936072), (1492, 0.02676715061425635), (901, 0.026765774893892664), (2015, 0.02675554090067288), (52, 0.026753254169742603), (2734, 0.026750494255989195), (922, 0.026745290550428156), (3047, 0.02674004894038835), (4094, 0.02670855062776446), (3637, 0.026706305884871977), (3059, 0.026691122747919568), (986, 0.02668827130374757), (1480, 0.02668615706753909), (26, 0.026683350978761695), (1580, 0.02667478910283475), (454, 0.026655040352211706), (4264, 0.026653466823865952), (3949, 0.02664829233526952), (2028, 0.02663435866361488), (3952, 0.026631977977987706), (2042, 0.026626592703758535), (3686, 0.026622615256923637), (1729, 0.02660881499960169), (1740, 0.026592101227764717), (4619, 0.02659017666402379), (1350, 0.026579875397063697), (605, 0.026569019954773405), (1140, 0.026568624180023585), (930, 0.026541392832762356), (2062, 0.026538901745148377), (173, 0.026534356517885518), (2625, 0.026533019132158164), (2091, 0.026524630648495136), (3022, 0.02652271279255466), (2084, 0.02652159375553499), (3238, 0.026505488321721334), (3765, 0.026503982229416193), (1717, 0.026472454828429307), (252, 0.026462514222926135), (1950, 0.026461057983024113), (2315, 0.026460425748452213), (2515, 0.02645138583830979), (1458, 0.026446113307715003), (1862, 0.026444321632070292), (1126, 0.026432637605632737), (4617, 0.026424752550476972), (1984, 0.02641608463388236), (407, 0.02640217589401466), (2457, 0.02639778396128582), (2241, 0.026394912616284093), (3230, 0.026392132193997834), (1711, 0.026356306001126373), (3541, 0.026355347730967812), (3668, 0.02635260974060061), (1686, 0.026335189578156677), (4706, 0.026331412406319324), (1122, 0.026329154275306757), (153, 0.0263264598064489), (3786, 0.02632136727229467), (353, 0.026313935545641355), (2355, 0.026305865410102772), (4625, 0.026287087234555025), (347, 0.026283744709044182), (1709, 0.026277046471329325), (4714, 0.026272395888800926), (4636, 0.02626991856612134), (1571, 0.026269016770262277), (2756, 0.02626895893004689), (714, 0.02625992286829868), (4102, 0.026255955938428686), (3592, 0.02625496455037446), (4533, 0.02625043352218454), (4037, 0.02624848358811813), (2699, 0.026248220706424026), (4645, 0.02624773946325018), (1969, 0.02624152319046468), (3070, 0.026236537056420674), (2977, 0.026227162994182755), (2617, 0.026225480336832394), (1753, 0.02621371697357854), (2055, 0.02620192985731383), (3109, 0.02619388842806726), (3735, 0.02618672004457326), (4377, 0.02617920526702345), (1489, 0.026170394511340022), (44, 0.02615785205105911), (1848, 0.02615750956169031), (3543, 0.026157281246042774), (1163, 0.026143495718354722), (2485, 0.02613216845958901), (2030, 0.026131853159269643), (4043, 0.026118808523120665), (1533, 0.02611356024460426), (276, 0.02611348830019024), (4180, 0.026099476858416903), (1718, 0.026090229912874713), (476, 0.02608788279042907), (306, 0.026084004544958385), (1416, 0.026074664829327993), (2344, 0.026059742529434063), (2489, 0.026046048595649893), (3012, 0.02604166488777191), (1113, 0.02603932543532223), (1464, 0.026032258661938406), (2516, 0.026029597663368532), (1939, 0.026011746051086606), (3800, 0.026009871525707152), (2210, 0.026008692383306893), (1426, 0.026003427567583448), (782, 0.02600026894035374), (3492, 0.025995933148873086), (4678, 0.025993509888827836), (2294, 0.025987202174319584), (1349, 0.025983813303603637), (456, 0.025980485295300115), (341, 0.02597337559381137), (4532, 0.025971025552269024), (4260, 0.02597057939186321), (2713, 0.02596388520686143), (3384, 0.025951967867859978), (3590, 0.02593451818568272), (1034, 0.02593257949437098), (2763, 0.02592830884201829), (125, 0.025918570507981124), (2850, 0.02591504097941698), (1089, 0.025909892486738063), (1206, 0.025904639866151723), (3868, 0.025868922002894375), (568, 0.025865699710956404), (3312, 0.025845281641218958), (770, 0.025843582223579718), (3719, 0.025839905070742818), (301, 0.025819796831971685), (4057, 0.025818446834654493), (775, 0.025800376007802477), (3100, 0.025778046907864817), (3781, 0.02577384141308662), (939, 0.0257670270620511), (2855, 0.02575841266030252), (2639, 0.02574089426220759), (2730, 0.0257402462677659), (4209, 0.025735206776176762), (182, 0.025725946983810317), (1242, 0.025725678682653037), (1008, 0.025718048879715426), (662, 0.025716986624659516), (2873, 0.025713271642873153), (3171, 0.025697494362624623), (1400, 0.025696122032064138), (1226, 0.02569145985311958), (1569, 0.025690529707667397), (4237, 0.02568874206772718), (812, 0.025675754054488645), (2104, 0.025673477611745824), (2567, 0.025661628026685507), (4556, 0.025659858179385046), (3608, 0.025659735041860258), (1133, 0.025642347402380878), (531, 0.025634715072994075), (2776, 0.025629139644390418), (1762, 0.025621386063420577), (696, 0.025619247479149683), (4345, 0.025617449903954127), (1441, 0.025613676157688652), (1490, 0.02561101555262111), (247, 0.02559706997196258), (3201, 0.025582827998160553), (4198, 0.025579258343906747), (1367, 0.025550764126989922), (555, 0.025546527958977137), (4756, 0.025542263201422593), (2206, 0.0255363609079432), (2483, 0.02553416980506123), (422, 0.02553263199548248), (1549, 0.02553052888414261), (2688, 0.02552268566068057), (3239, 0.02552243370627627), (4752, 0.025510683232823086), (1523, 0.025493442379589993), (4611, 0.02549098837665206), (1073, 0.025489132070582197), (1002, 0.025487576106179646), (2765, 0.025474630940794666), (3179, 0.025469506850975564), (3528, 0.025468293899285503), (1250, 0.02546721042951988), (1755, 0.025458616334416477), (1545, 0.025449614027808876), (3516, 0.025444001190397525), (3758, 0.02543789945717381), (1524, 0.025437317682734724), (1653, 0.02541973199048105), (76, 0.025418475080678207), (2964, 0.025411808871053494), (472, 0.025399662572344803), (1257, 0.025391322419031664), (2225, 0.025373278043699824), (3191, 0.025371230280452316), (3702, 0.025365024978881733), (3487, 0.02535608228654192), (2449, 0.025353905416318642), (2999, 0.025351920399004062), (2050, 0.025320781998192682), (2095, 0.025319449639080612), (2996, 0.025315740289629327), (1254, 0.0253037399695109), (4106, 0.025288641342715874), (436, 0.025283398706556666), (4460, 0.02527373586267034), (2872, 0.02527076585290893), (2792, 0.02526900715030362), (1674, 0.02526774712809495), (660, 0.025266832828736534), (2211, 0.025264428462990953), (807, 0.0252504544681754), (810, 0.025240780551824778), (2773, 0.025239967523951298), (4564, 0.025239209247290686), (724, 0.0252341202541626), (2335, 0.025233653141115503), (1618, 0.025225132113780538), (3143, 0.02522445388328045), (220, 0.025218286981051816), (1781, 0.025203876531042543), (336, 0.025201395741307513), (4160, 0.02519703566017076), (2276, 0.025192494477772984), (2811, 0.025189815405478187), (3610, 0.025142742014395505), (314, 0.025139731563116267), (608, 0.02513776213923071), (787, 0.025132525516755946), (1680, 0.02513230755427263), (3458, 0.02512724973832968), (3643, 0.025120653732711423), (1605, 0.025117721981756963), (2860, 0.025113648560980237), (4684, 0.025112170630580653), (919, 0.025094936430481458), (1139, 0.025091127196313904), (3287, 0.02507249347930901), (1366, 0.025070418133953703), (2749, 0.02506721218743731), (936, 0.025060754870915858), (4615, 0.025057454933548995), (4436, 0.025056189844591382), (2139, 0.025055195586931388), (3252, 0.025046382208965316), (3571, 0.025034997876424582), (4373, 0.025019843966473793), (4724, 0.025015221394901473), (756, 0.02501227373563497), (1696, 0.025002180413258964), (2267, 0.02499535707982941), (3575, 0.02499335233921602), (4715, 0.024989140918755304), (1903, 0.02498660302845939), (1742, 0.02498421293350535), (3330, 0.02498391859582482), (1487, 0.024973785867438435), (2788, 0.024961814441392265), (3394, 0.02495303469570198), (3068, 0.02495225021223576), (3317, 0.024945436331109388), (4183, 0.024941703998566142), (3645, 0.024939741790023298), (3897, 0.024935214014422988), (3569, 0.024917308656148343), (1389, 0.024891387040302197), (4439, 0.024890246836925145), (1096, 0.02488058846720911), (1301, 0.02486990395485624), (4158, 0.024863371291079905), (1630, 0.02485938183681954), (686, 0.024853198911564678), (3095, 0.0248509584500088), (863, 0.024850813388825138), (4570, 0.024843880016707814), (2186, 0.024842676052125555), (1404, 0.024835445684463338), (1076, 0.02482769772331401), (964, 0.024819315743876632), (2732, 0.024817285307871917), (357, 0.024814176687632482), (1186, 0.024808694565928456), (2840, 0.02480591084123699), (4737, 0.024805041260372654), (211, 0.024804807292460568), (135, 0.024804014973450212), (1174, 0.024802616437979916), (1159, 0.024799467563406574), (2884, 0.0247808081824376), (1956, 0.024779928204442647), (2911, 0.024762868308731617), (2013, 0.024752715540211963), (1866, 0.024745409433161638), (1244, 0.02474073808975874), (815, 0.024740330083913867), (57, 0.024727734588166874), (819, 0.02471926667837813), (572, 0.02471770834930263), (2232, 0.02471707027457718), (3290, 0.02471687292875723), (409, 0.02471426458379171), (994, 0.02471395686126572), (374, 0.02470815517238005), (2285, 0.024707191462917704), (3061, 0.024706734301527936), (4705, 0.02470307081010204), (160, 0.02470283548274927), (2305, 0.024698214986681215), (2506, 0.024689446526745883), (3031, 0.02468461865575939), (1865, 0.02468301978049364), (946, 0.02466760974264586), (1937, 0.024667411783864834), (4574, 0.02465992391819252), (1558, 0.02465326291685422), (2150, 0.02465282609979362), (2935, 0.02464793128378713), (4535, 0.024643594753566374), (2703, 0.02463517877964997), (1048, 0.024612596495224764), (2133, 0.02460474013676256), (2465, 0.02460455111353827), (2287, 0.024579066795964624), (520, 0.024576186403254853), (4516, 0.02457417913515693), (865, 0.024567856555411192), (2803, 0.024559179842757774), (1300, 0.024552369031908043), (1483, 0.024538176520079523), (2137, 0.024538156778230392), (1849, 0.024536946850060408), (1271, 0.02453098960834929), (1442, 0.024528482552954995), (1435, 0.024526708700256073), (4204, 0.024522384562397727), (4415, 0.024518832914174588), (540, 0.02450757560515472), (1401, 0.02449951485026789), (4576, 0.02449789626349628), (1608, 0.024495655764197634), (1136, 0.024487130210796425), (823, 0.02448190640074783), (3807, 0.024481226388377787), (1296, 0.024474926070422225), (1152, 0.024470744310381508), (233, 0.024469359578067434), (417, 0.02446929897699202), (194, 0.02446745396379563), (1200, 0.02446568775374239), (1047, 0.024462393253346672), (93, 0.024459532932590837), (4463, 0.02445018059009763), (2807, 0.024446043268411842), (3461, 0.024443958464934364), (1857, 0.02442509601963362), (4474, 0.024423677836301533), (1130, 0.024417648312214758), (192, 0.024417416557155062), (1725, 0.024416772322655628), (2736, 0.024416387941424995), (2661, 0.024415193457057737), (3488, 0.02441420317116998), (305, 0.024403033466591756), (1491, 0.024396163940085102), (3466, 0.02439304051222357), (773, 0.02439212667467336), (2486, 0.024388328293897553), (4584, 0.024379542573952938), (2280, 0.024376711502815257), (2940, 0.024367566642161817), (592, 0.02435598015801368), (2973, 0.02434568053847319), (2023, 0.02432962034700674), (3860, 0.024322460508868257), (4355, 0.024317636634330255), (1498, 0.024314731067733495), (1633, 0.02431345964771114), (3633, 0.024311799374142833), (1180, 0.024310044526802698), (1235, 0.024303646942221344), (3013, 0.024299771628591652), (2350, 0.02429876040379797), (4457, 0.024296715937054195), (1614, 0.024295067264036217), (2645, 0.02428930857006852), (1090, 0.024279556984945706), (3115, 0.02426739046007686), (4740, 0.024266411018984663), (443, 0.024264414377445528), (1510, 0.024258447984408408), (4534, 0.0242527355808489), (1756, 0.02424127595049251), (309, 0.02420445025203892), (1203, 0.024202960923914205), (4656, 0.024196563082370556), (4681, 0.024196303233086552), (1850, 0.024193575101905774), (1943, 0.024192175342870187), (1557, 0.024191819560382886), (3524, 0.0241774066076556), (1135, 0.024176713577565248), (3960, 0.024175881473658515), (3136, 0.02416465705432657), (4592, 0.024146553768788277), (4095, 0.024142575173736226), (4493, 0.024135252730335982), (2034, 0.024128292758434762), (3618, 0.024125564879578863), (1768, 0.02411022672634959), (231, 0.024107325888427032), (1395, 0.024107178496532315), (1507, 0.02410559031994512), (1794, 0.024104119214916616), (229, 0.024103722174505696), (1554, 0.02409963046232213), (2762, 0.02408926085635222), (4071, 0.024082692544894885), (462, 0.024079098528676554), (3978, 0.024078344921830017), (2404, 0.024075596184686562), (2393, 0.024071509101758308), (2779, 0.024070708220737036), (142, 0.024062661087352707), (24, 0.024042594836169367), (941, 0.024039301347254034), (492, 0.024037099319040897), (3694, 0.024021176941625668), (1735, 0.024011638817885546), (569, 0.023994039971637706), (1114, 0.023984846838649123), (3125, 0.023970542833736203), (2747, 0.023969554938325185), (926, 0.023942233417307224), (1945, 0.023941838537683877), (3508, 0.0239233577206113), (3322, 0.023923029663693897), (882, 0.023911739511088114), (872, 0.023911656775139286), (3272, 0.023900492655035677), (3378, 0.02389722544740097), (2479, 0.023889643792149157), (3219, 0.023883338346153637), (2643, 0.023868746956707324), (2838, 0.023860925610908416), (4649, 0.02386009037981695), (4598, 0.023855946944955315), (646, 0.023847538240982753), (3017, 0.023843983713333818), (1448, 0.023841874808479973), (1232, 0.023830147024303958), (1219, 0.02381342866066826), (3108, 0.02380926365645309), (4490, 0.023807339321635864), (2450, 0.0237930616321299), (820, 0.02378768283364425), (2993, 0.023786173340015027), (4197, 0.02377852195531543), (3338, 0.023770354986744086), (3183, 0.023753903762671294), (4703, 0.02375322007963971), (1181, 0.023739494030271528), (390, 0.023724577251690006), (599, 0.023721546100209857), (1453, 0.023703814755239513), (3348, 0.02370242886005291), (726, 0.023688259509364994), (4302, 0.023676316973996876), (3260, 0.023672001020236567), (4261, 0.023660779819207424), (529, 0.023660172373347704), (2068, 0.023653005579534606), (2237, 0.02365101740071021), (89, 0.0236457626483794), (274, 0.02364566504306864), (4413, 0.023643416785812044), (3525, 0.02363642658462129), (2359, 0.023634247454587382), (3930, 0.02362612942300504), (1151, 0.02361841774725794), (835, 0.023614730193055006), (2257, 0.023614158344340545), (2890, 0.02361345009173857), (3497, 0.023612772265752046), (3296, 0.023601592422296657), (123, 0.023599464226918915), (1632, 0.023589579342811993), (943, 0.02358251810541754), (4140, 0.023581695618906853), (4438, 0.02358064481676319), (214, 0.023569182462689926), (213, 0.023568534400268175), (2724, 0.023556521762978157), (435, 0.023553502323128587), (4133, 0.02353385757632398), (2572, 0.023531383827034867), (1356, 0.02352288955114189), (809, 0.02351563968863205), (3785, 0.02350755622889799), (2951, 0.023500816336615694), (158, 0.02349271174208927), (1164, 0.023490990444543763), (1987, 0.023489196096855878), (3696, 0.023476304871721445), (64, 0.023474951844649414), (3063, 0.02345789827184601), (1942, 0.02345032512002237), (3198, 0.02345032181132724), (4565, 0.02344650438548306), (482, 0.02344261202809038), (1455, 0.0234332970259783), (2105, 0.023430370165695463), (3586, 0.023428917656795986), (54, 0.023418048976260458), (3314, 0.02338506389452993), (1700, 0.02338449485755158), (677, 0.023378758196723422), (1230, 0.023377793474487985), (332, 0.023376557572451204), (3568, 0.023367481185787208), (258, 0.023366688080342007), (4319, 0.02335326215125664), (4560, 0.023345075344800674), (1736, 0.023327429041028958), (3558, 0.023321500510558844), (4521, 0.023320953084070256), (625, 0.023317421416673464), (2113, 0.023304963100897556), (461, 0.023281891267828828), (410, 0.02326490413409805), (33, 0.023261063214793147), (780, 0.02325506058414054), (354, 0.023250495244695888), (3090, 0.02324659907349654), (1560, 0.023238036068262486), (679, 0.023237393031888168), (3110, 0.023232132848323123), (2943, 0.02322847788423045), (932, 0.02322201310081432), (1150, 0.02322023559853031), (308, 0.023212120814590603), (4673, 0.02320913153589987), (2159, 0.023205655010958316), (4596, 0.02319803811088795), (1923, 0.023198007562532555), (4648, 0.02318492042592942), (652, 0.023183647143949892), (3522, 0.023181821840333836), (2099, 0.023177295294434967), (3096, 0.023173024782509988), (1447, 0.023170649179566565), (4650, 0.023168793506757282), (339, 0.023163877212189172), (1747, 0.02316271731076735), (1815, 0.023159471536813043), (2190, 0.023151126422640753), (3847, 0.023149146604418573), (3565, 0.023144286179467326), (2309, 0.02313321873084695), (704, 0.023125819330658923), (2571, 0.023124307535523712), (2600, 0.02312292015780693), (588, 0.023116967552455327), (404, 0.023112189101388927), (1679, 0.02311128399102179), (2913, 0.02311108533886242), (4263, 0.023110598720666037), (2848, 0.02310850934860187), (2548, 0.02309970313881362), (2574, 0.023093866504331654), (2146, 0.02308308168611216), (1999, 0.023079097074611588), (380, 0.02307788684274553), (1158, 0.023064507374672166), (147, 0.023064413015430937), (4002, 0.023063364106206304), (996, 0.023055869670177365), (2758, 0.023051510815319053), (669, 0.02304265339983952), (3944, 0.02304144356087184), (3919, 0.02304035754697123), (4679, 0.02303761895355842), (1527, 0.023036534204417335), (2264, 0.02302577956572402), (1056, 0.023022845214605694), (3393, 0.023019356615748165), (1907, 0.02300081096769943), (47, 0.022985985672180496), (4464, 0.02298303831567717), (4454, 0.022969117901259488), (4335, 0.022953608475710714), (1328, 0.022946941072328583), (3426, 0.022946632385316208), (1210, 0.022936707122656087), (2815, 0.022935545348086686), (174, 0.022902674563719378), (891, 0.0229024876363659), (1752, 0.022901774705527355), (1424, 0.02289479863244755), (3853, 0.022892664326072214), (4610, 0.022883900111908856), (844, 0.022868114530311907), (739, 0.022851429449885215), (2791, 0.022846360311290483), (674, 0.022846191259159893), (1384, 0.022845135412091634), (3490, 0.022835164175479532), (3028, 0.02282829090260092), (141, 0.02282385123066587), (3776, 0.022803954598610243), (4107, 0.0227716703418295), (2678, 0.022765441018565813), (1765, 0.022764465251256426), (2436, 0.02276133109383478), (849, 0.02275949150011536), (516, 0.022757542931403838), (16, 0.022755105175848667), (3903, 0.022750733242183335), (1556, 0.022746491176212524), (3734, 0.02274370692489937), (725, 0.022735374427352063), (768, 0.02273451144905882), (2336, 0.02272963149347313), (3345, 0.022721592768710393), (1185, 0.02269150728048637), (970, 0.02268512932706259), (2615, 0.022674147576172435), (2834, 0.022672772850637832), (386, 0.022655903079367243), (4084, 0.022655508937261787), (958, 0.022648711221427833), (2387, 0.022644758675320658), (1272, 0.022639758973340408), (634, 0.022637025974223426), (1656, 0.022636915716987588), (818, 0.022632510915264175), (4666, 0.022624439562365824), (3961, 0.022623763779991084), (581, 0.02261668426675328), (4218, 0.022611451562100336), (2581, 0.022608420481439233), (1934, 0.022605011353647134), (2322, 0.02260327905367972), (4694, 0.022601945165777404), (290, 0.022583417415086755), (2670, 0.022579277620320064), (3748, 0.022574092132018758), (4211, 0.022563852574063396), (3263, 0.02256071642529603), (1594, 0.022550487974841757), (3383, 0.022543562261064916), (2852, 0.022538249856424507), (2343, 0.022532245115528832), (2968, 0.022524097663488875), (2370, 0.022524083440722445), (1098, 0.022490023268984482), (3801, 0.02248457073868432), (1223, 0.02248420149452689), (695, 0.02247988191797786), (2419, 0.022478491545007077), (2578, 0.02247604885774353), (1710, 0.022475575806037103), (3237, 0.02247425939833328), (4394, 0.022468358727348554), (839, 0.022463668829516184), (4442, 0.022459606016910334), (318, 0.022453394283386517), (4639, 0.022412795218607173), (1922, 0.022410253057539124), (3965, 0.022400960640081014), (2587, 0.02239490585930702), (2972, 0.02239441061427786), (557, 0.022390414828973783), (1382, 0.02238180734132983), (2575, 0.02237689054940792), (2827, 0.022373596429421168), (1799, 0.02237061645169635), (1599, 0.02236410923163331), (4169, 0.022362382799068922), (3271, 0.02235843824717341), (3579, 0.022355656797068836), (2357, 0.022353045911642073), (2278, 0.02234947371558933), (1275, 0.022347787718074708), (4308, 0.022344924060434875), (3911, 0.02234468747038809), (2722, 0.022341334393932058), (203, 0.022337652571526614), (3419, 0.02232929567143925), (31, 0.02232378659261791), (1469, 0.022320831802766936), (875, 0.022313067522083216), (659, 0.022294788922131634), (50, 0.022285520500075942), (4569, 0.022281431205947097), (2405, 0.022280618640432407), (471, 0.022280411111501232), (35, 0.02226155653702916), (881, 0.022261517968856268), (4334, 0.02225916093893225), (1278, 0.022248513373494795), (4018, 0.02224397012783291), (4357, 0.022216819695685903), (4042, 0.022212189126016746), (356, 0.0222109438835989), (1660, 0.022209077959292306), (2847, 0.022206682726727114), (611, 0.022199600258528098), (4386, 0.022192071997845095), (225, 0.022191614880537537), (2583, 0.022190365964302457), (1724, 0.02218935488193202), (3415, 0.022186164511721663), (1562, 0.022183284200448756), (3674, 0.022174503069147998), (1025, 0.02216608686086788), (4573, 0.022164648198400937), (335, 0.022160349117800064), (1771, 0.022158265915621818), (58, 0.02215688637259332), (4050, 0.022150868177554385), (1299, 0.02214610664121669), (3126, 0.02214395173317968), (4744, 0.02212107935363659), (478, 0.022107313826138262), (1833, 0.022097650403456702), (4227, 0.022097609076185135), (1818, 0.022090871104324977), (523, 0.022090313454584735), (1440, 0.02208666398178033), (1270, 0.022086089065950443), (1246, 0.022079642995202233), (1039, 0.0220553676583605), (554, 0.022047723867157254), (547, 0.022041065197342512), (668, 0.022029234369784424), (733, 0.022020701917835006), (12, 0.022020344940015712), (441, 0.02201670669754948), (312, 0.02201152777874523), (3740, 0.02199733632427365), (4723, 0.02199302234812), (3429, 0.021983210213615358), (1495, 0.021982245252877407), (3749, 0.021980512195496182), (2743, 0.021967223917573414), (2221, 0.021966500931210775), (3288, 0.021950089815757495), (369, 0.021946282834791424), (3732, 0.021942760792498312), (3727, 0.02194038218418916), (176, 0.02192588669711488), (3969, 0.02191869153689206), (3982, 0.02189507858382258), (802, 0.021882097934163396), (2842, 0.021876921802856747), (4223, 0.021873788344234493), (2507, 0.021867349041483068), (2988, 0.021865628732446116), (2833, 0.021860186589277075), (992, 0.021859704707672598), (2509, 0.02185628226530312), (1601, 0.021847262043855273), (2019, 0.021843101290213093), (878, 0.021842784120912048), (4015, 0.02183645246697595), (2654, 0.02181962888207172), (2317, 0.02181054939246645), (4001, 0.021786489229033056), (1015, 0.021767625927698344), (149, 0.02176324628191106), (1804, 0.021758045492220015), (908, 0.021739644180080103), (4467, 0.021722938860908547), (4638, 0.021710305940686302), (3089, 0.021706010042868675), (1461, 0.021705412816240423), (2376, 0.02170249578992575), (145, 0.021688724472163218), (4529, 0.0216782106757014), (2757, 0.02167814778503368), (1012, 0.021674414920635113), (3614, 0.02165890214372106), (322, 0.02165357081685852), (2453, 0.02164902000727152), (2542, 0.021648120203237593), (4047, 0.021642519401927355), (96, 0.021641054825083137), (2958, 0.021631203993749154), (4097, 0.021627379342390507), (4549, 0.02162583232536184), (4738, 0.02161860479857783), (3247, 0.02161662802349175), (1361, 0.021616159032105273), (2134, 0.02161516493845956), (3337, 0.021608306248008705), (968, 0.02160394522322484), (367, 0.021602138162461752), (324, 0.02160190566604192), (2953, 0.021599765343511382), (2621, 0.02159205486156653), (3657, 0.021586786540084762), (4119, 0.021580112081331294), (3501, 0.021574672412689115), (582, 0.02157254833520493), (262, 0.021568372393505217), (4642, 0.021565351404741855), (4524, 0.021565291495470693), (1704, 0.021565027191507623), (3591, 0.021532706277736846), (29, 0.021526447351376366), (368, 0.021491403707220972), (3774, 0.02149074798418847), (3857, 0.021490174041265776), (3368, 0.021480587827240875), (3622, 0.02144977016058474), (1146, 0.021432382716358365), (1500, 0.021425783454608462), (988, 0.021422131679422817), (1377, 0.021417138974406377), (633, 0.021409730975485104), (3209, 0.021406156710673092), (451, 0.021398895220759044), (4430, 0.0213976092159583), (544, 0.021396115491448164), (641, 0.021394266786125264), (2380, 0.02139183842514276), (2228, 0.02138810084446164), (496, 0.021387724302876124), (3638, 0.021357421407123038), (1801, 0.021355680549797928), (218, 0.021350858218846674), (2047, 0.021338948160033636), (4305, 0.02133129166813642), (1890, 0.021321014360667946), (313, 0.021315783212233565), (4182, 0.021308909644160958), (4219, 0.021288267697335515), (1125, 0.02128756102586611), (4626, 0.021287302475719937), (1199, 0.02128075661989349), (3550, 0.02128021643606725), (3817, 0.021279556957633658), (3703, 0.021273962841350167), (2220, 0.021273213342240253), (513, 0.021268320343279957), (1544, 0.02126729122174551), (2514, 0.021266169543145298), (4170, 0.021261359176997154), (77, 0.02125613578679543), (3026, 0.021254510774538497), (1066, 0.02125086802121075), (4531, 0.021247731783823703), (1343, 0.021247147130138852), (2218, 0.021244232203287573), (3079, 0.021242367730885205), (4341, 0.021226486831020623), (493, 0.021203765320026498), (929, 0.021200278541374067), (563, 0.02119495917306318), (2273, 0.021182629630153924), (4667, 0.021166251883419078), (1791, 0.021162600866169296), (3564, 0.021156130716140004), (1258, 0.021133312167781325), (1783, 0.021115606685419154), (783, 0.021114388230243704), (4149, 0.021100584373182508), (4265, 0.02109663774469132), (663, 0.02108637865972248), (2110, 0.021081937347960992), (1898, 0.02105564446027656), (128, 0.021048656330484573), (1838, 0.02103751850417538), (3006, 0.02103698327960609), (1156, 0.02103571482502284), (3251, 0.021035456139461107), (3286, 0.021032778622697382), (3066, 0.02101752848858719), (4745, 0.02101699537317846), (3107, 0.02101453250444085), (4537, 0.021013355413339235), (235, 0.02101219564232864), (1567, 0.021009795823175165), (3672, 0.021003553552954496), (2551, 0.02099620792816108), (2381, 0.02099401603013519), (2819, 0.020993172766372102), (1484, 0.020991128820575092), (1684, 0.02098766512817208), (1303, 0.020983731953780747), (3813, 0.020966335352542956), (2601, 0.02095242972103141), (411, 0.0209517756592302), (159, 0.020950388580854424), (275, 0.02094567818280263), (3723, 0.020945186421224594), (328, 0.02094220663948604), (2595, 0.020920022020925775), (957, 0.02090552115020822), (1576, 0.020896138533249634), (3975, 0.02088937434758513), (3915, 0.02088733650285703), (3112, 0.02088246998647112), (2383, 0.020869417452481775), (3305, 0.020862631238551425), (3929, 0.02086181368808916), (2323, 0.02085706856856388), (207, 0.02085446103062836), (767, 0.020845141388072263), (2861, 0.020844138628294595), (2096, 0.020828942984448783), (2070, 0.02080552636464004), (3503, 0.020802000174749424), (4443, 0.020798358883548373), (564, 0.02078977305190041), (1388, 0.020781609835643006), (2348, 0.020778235703468883), (2948, 0.020776536753913423), (1575, 0.02076813697607903), (4081, 0.02075827409438132), (2167, 0.020752287860061707), (4343, 0.02073852495491897), (4068, 0.02073551270016723), (3994, 0.020704734440896766), (678, 0.020701214997584687), (2386, 0.020696299882278814), (2998, 0.02069349060399496), (4053, 0.02066719934005718), (2227, 0.02066317527957799), (1055, 0.020660670943191094), (3084, 0.02065405223783471), (2644, 0.020642434506943436), (1403, 0.020633929716189187), (3194, 0.020621222417806277), (237, 0.02061908550457392), (1665, 0.020598278747823804), (209, 0.02057823270552075), (2297, 0.02056507328380577), (4221, 0.020563725793642525), (2274, 0.020562343748390506), (2438, 0.020559058018121825), (2076, 0.020553958129883292), (3790, 0.0205269178698162), (1876, 0.020516671095281283), (607, 0.020502945400754348), (2119, 0.02049788883413851), (4462, 0.020497257261526104), (433, 0.02049348869023772), (2415, 0.020488493142167052), (2464, 0.020484444779416834), (528, 0.02047522650116445), (1769, 0.020473573226775926), (1512, 0.020466521548899202), (1583, 0.020465518342355025), (102, 0.020463359762472436), (845, 0.020460171474128), (3168, 0.02045477961062142), (4624, 0.020452268243415683), (1859, 0.020448382702602044), (3673, 0.0204406034948419), (1687, 0.020435228836885682), (60, 0.02043167716641917), (3299, 0.020416803737055254), (1936, 0.020414753425860247), (3908, 0.02039643061285799), (2965, 0.020391880829118112), (854, 0.02038558338220152), (3076, 0.02037990646229204), (1924, 0.020376755154038823), (2414, 0.02037204834868623), (3647, 0.0203715362927948), (1978, 0.020348233800200607), (345, 0.020347688718456856), (4665, 0.020340689528520216), (2835, 0.02033686543208119), (650, 0.020335982471168017), (736, 0.020335863439770997), (489, 0.020333079935686414), (509, 0.020332222964994085), (392, 0.02032108848523126), (3052, 0.020312627270965174), (1170, 0.020309483583658763), (4025, 0.020308666356648304), (1928, 0.02027293132986032), (4486, 0.02026469099535803), (3350, 0.020256970268346646), (3040, 0.0202561537885823), (3683, 0.020255933964317588), (3517, 0.020252353358048952), (1692, 0.0202448073526187), (778, 0.020241043464546228), (2785, 0.020238026405435067), (1333, 0.020221695741999203), (3810, 0.020221244689244754), (896, 0.02022064614808772), (3135, 0.02021987557209417), (423, 0.020218668305020615), (2592, 0.020215936359135378), (3339, 0.020215891654637237), (510, 0.02020678991245027), (1155, 0.020203686947751025), (4188, 0.020202379930089755), (3064, 0.020201747213912862), (2222, 0.020196964961101533), (4114, 0.020191753903822118), (1723, 0.020190604836968506), (2979, 0.020171284321567222), (3958, 0.02016993585728668), (1274, 0.020156869323674158), (2606, 0.02014832136942653), (4220, 0.020135297321037082), (394, 0.02013238811790324), (2456, 0.020123351037394967), (310, 0.020111642315158933), (1311, 0.020104533320926824), (3720, 0.02009657452691923), (280, 0.020096241784710128), (816, 0.02009007261628791), (3309, 0.020074732334283207), (4147, 0.020064983097625853), (4045, 0.020054405090343664), (1267, 0.020046414620933865), (9, 0.02004158064168366), (43, 0.020030851702362216), (1419, 0.020027068068665138), (3400, 0.02002586977352836), (1728, 0.020024992275978905), (2069, 0.0200169457329155), (1172, 0.020013294339903506), (4658, 0.020013002244787324), (743, 0.020009715009604873), (4742, 0.02000668918021079), (2585, 0.020001983686940818), (3782, 0.020001144357452608), (4320, 0.01999932791279311), (497, 0.01999272571662685), (3279, 0.019990271432657754), (151, 0.019980368258653135), (3991, 0.01997909172497361), (1390, 0.019976802772123853), (4713, 0.019974996252935553), (3858, 0.019973599449520582), (2397, 0.019966856615851895), (781, 0.019966038894718822), (1913, 0.019964878192206457), (1772, 0.019950820657736703), (1797, 0.019936525080242153), (14, 0.019934406282059437), (3695, 0.019920716063251805), (3035, 0.01991864439643542), (4145, 0.019908414847288707), (2093, 0.01990705270456375), (4330, 0.019904194382031358), (1434, 0.019903834625242603), (1659, 0.01989960033405356), (1262, 0.019899228893665966), (965, 0.01987764360761123), (2120, 0.019875406874479157), (880, 0.019851856481944367), (1153, 0.01984948387121792), (653, 0.019841238485207004), (1531, 0.019835813083632095), (2735, 0.019829583740004), (202, 0.019823677416704173), (2243, 0.019822063077883416), (3623, 0.019814102931233826), (719, 0.019808262352563985), (1689, 0.01980527423916047), (3656, 0.01979537968227039), (980, 0.019788028200195498), (917, 0.01978169336252359), (2632, 0.019776632022028697), (385, 0.019771506216749765), (4232, 0.01977104813420956), (3546, 0.01976762537874302), (2160, 0.019760670191666992), (3292, 0.01974388309545528), (3389, 0.019740011494081985), (1957, 0.01973752381222391), (1205, 0.019734123974620245), (4354, 0.01973028038068625), (2460, 0.019728330191156836), (242, 0.019718149969363233), (838, 0.019709993185316466), (856, 0.019688752200075606), (3660, 0.019686306274432984), (1225, 0.019684665470469525), (2566, 0.019672488453058738), (2814, 0.019664277407201818), (786, 0.019659854536857677), (2329, 0.019656084464768818), (748, 0.01965402005250071), (2539, 0.019652931074760373), (3124, 0.019649032838292817), (3588, 0.019641684273130566), (4321, 0.01963559144749195), (3933, 0.0196263502986933), (1375, 0.019605160498768787), (2029, 0.01960268232730252), (3044, 0.019592615384128122), (1759, 0.01957854570856689), (4674, 0.01956401800146796), (4360, 0.0195637698302612), (1894, 0.019554193482253873), (897, 0.019546356914381696), (2398, 0.019541794153993656), (4246, 0.019538452208083333), (1526, 0.0195384328266763), (346, 0.01953838380855005), (3935, 0.01952167447415367), (2152, 0.019514676350731987), (2437, 0.019511997300986954), (1509, 0.019511968791797455), (4384, 0.019510070548231076), (3075, 0.019503359162858384), (2532, 0.019503173095659947), (771, 0.019475334624486362), (2490, 0.019472872396426547), (2495, 0.01947128641654786), (1239, 0.019470285118051094), (4196, 0.01946665911538286), (4418, 0.019466606906278876), (707, 0.019465000600361104), (1405, 0.019455050378875655), (4750, 0.019448155593333443), (1637, 0.019438545170703016), (4419, 0.019425427063340536), (4353, 0.01941246664218577), (2162, 0.019407006600680947), (2107, 0.019395926119310798), (4540, 0.01939490948219171), (4692, 0.019392139273861436), (1782, 0.019391565699201137), (4635, 0.019388206627442162), (2169, 0.01937896031807913), (1602, 0.019375356235796747), (1280, 0.019366505899737603), (627, 0.01936451121067112), (3264, 0.019349773134002053), (3499, 0.0193485908335111), (752, 0.019317936661076156), (4208, 0.019309467175668612), (2132, 0.019304508553100373), (1893, 0.019293986861943033), (847, 0.019292416057145902), (2284, 0.01928893224104034), (4352, 0.019282101862419236), (1585, 0.0192784915915387), (1391, 0.01926017693847218), (3914, 0.019252791701910354), (1029, 0.01924988342161905), (2991, 0.019247262851475162), (4226, 0.019237928987636883), (19, 0.019236211349706836), (1566, 0.019219491591356653), (74, 0.019209188665576114), (2057, 0.019208639547581403), (4166, 0.01920084916324192), (2478, 0.019194180094748957), (4392, 0.019186494715341066), (2564, 0.01917066493981593), (1931, 0.01916473605930342), (2378, 0.019153171637682483), (1161, 0.019142735875771512), (4473, 0.019131620522742133), (2846, 0.019131139393432948), (745, 0.019129592668815077), (987, 0.019127502158039923), (747, 0.019127495139112192), (1582, 0.01912674838045017), (1045, 0.019120878271466243), (1184, 0.019119210450749786), (2286, 0.019117419638414793), (1995, 0.01910140044888808), (594, 0.01909508490760337), (2177, 0.019093498885910633), (150, 0.01906268740898565), (705, 0.019054780931332158), (3172, 0.019053891435678528), (2098, 0.019030813554927268), (2065, 0.01902023688620961), (1169, 0.019019473732884613), (2937, 0.019017979990331606), (3730, 0.019012043720113794), (4562, 0.01901050887514193), (2473, 0.01899832597271238), (3207, 0.018982756136721946), (3507, 0.01897836147219206), (4672, 0.018977288579145084), (1754, 0.018975660845416104), (749, 0.01896584673624164), (3257, 0.018951936889623572), (576, 0.018930100189827066), (2001, 0.01892940342684817), (3048, 0.01892926342807676), (2361, 0.018928512230307747), (4722, 0.018923613629963632), (1339, 0.01891801439581136), (4591, 0.01891747571608704), (1005, 0.018898067834478803), (570, 0.01889032189045777), (1944, 0.018882439626747325), (289, 0.018860115031412536), (507, 0.018859209754992487), (1368, 0.018858161449200023), (1766, 0.01884885153474166), (2505, 0.01884470386595445), (3825, 0.018835389480267712), (1920, 0.018833503801588266), (120, 0.018832212841046487), (1031, 0.018821942622920234), (1115, 0.018821282170289798), (4200, 0.01882123269253501), (889, 0.018805941262410697), (1810, 0.01878990087166832), (32, 0.018789827337092373), (1322, 0.018775111826633405), (2837, 0.018765239482577557), (3077, 0.018754562358156947), (4297, 0.01874253674272236), (98, 0.018736913510510104), (4405, 0.018712171337029744), (3756, 0.01870745811235418), (1215, 0.018694165551158166), (4118, 0.018688173509216904), (1843, 0.01868587066615127), (3922, 0.018682400913975123), (3775, 0.018672526975809105), (4278, 0.018672013359329206), (4496, 0.01867105513627159), (2584, 0.01866573231954266), (3161, 0.018660201579892833), (841, 0.01864642351886449), (1313, 0.01864479670222755), (4257, 0.018635358873031974), (3918, 0.018627454211676067), (1194, 0.018616739123066883), (2822, 0.018606127953634775), (2934, 0.0186041529093304), (1776, 0.01859846226320198), (3295, 0.018595761601495994), (4157, 0.01859469513447675), (2193, 0.018587182298588016), (1454, 0.018584270001952334), (1479, 0.01856112789255287), (1265, 0.018550436018125078), (3626, 0.01853529748029005), (4382, 0.018521846274491348), (3530, 0.018521376754152195), (3496, 0.018515044310778776), (3082, 0.018512147694717877), (1231, 0.018506136993093933), (148, 0.018504833427208066), (2955, 0.018504622034717796), (1734, 0.018504339615202953), (1277, 0.018504002889440232), (2637, 0.018483963111951038), (3159, 0.018438851953683128), (4376, 0.018438846394095508), (2616, 0.018430618488715397), (366, 0.018420956548357223), (450, 0.0184207542823491), (3342, 0.018418027643778593), (4420, 0.018409625873887517), (2326, 0.0183992396265399), (589, 0.018387429651444968), (1578, 0.018378482209048367), (4187, 0.018360639168010083), (1033, 0.01834447746549405), (4052, 0.018344232814337207), (4407, 0.01834402352148755), (3761, 0.018344008335905822), (4110, 0.018342886685347108), (750, 0.018342414326623056), (4485, 0.018316012557984585), (2077, 0.01831200963214207), (1091, 0.018311473996565634), (3840, 0.018308684504974762), (4090, 0.018292763549027726), (803, 0.018282454570726164), (1312, 0.018281862514891542), (3121, 0.018272784613776787), (1598, 0.018254061805251628), (2543, 0.01823148429438604), (2839, 0.018231391943382448), (4289, 0.018227759972911966), (3502, 0.018226525375598317), (3073, 0.018224849222516628), (243, 0.01822435374684321), (4070, 0.018222404520359493), (201, 0.01818797631243901), (2524, 0.01818762042957789), (2900, 0.018186546032717348), (4447, 0.018185191178528078), (3335, 0.018174786828880567), (3917, 0.01816209720960117), (567, 0.018159620364864536), (1338, 0.018150481153332516), (4448, 0.018136768936848242), (1513, 0.018128378594245067), (2742, 0.018126648427062724), (1548, 0.018123450676700945), (4491, 0.018113205606880844), (1553, 0.018109858694375394), (4172, 0.018097921375841246), (4550, 0.01808437177355013), (1415, 0.01807244900203172), (954, 0.01806935874147787), (1041, 0.0180594698478572), (246, 0.01805782359168959), (3278, 0.0180577729542491), (348, 0.018053836418098004), (731, 0.018049156975802894), (2482, 0.018035811018564614), (1550, 0.018030866738401177), (2641, 0.01802353677545443), (543, 0.018019014830741573), (3934, 0.018013967938759843), (514, 0.018009494817378416), (2054, 0.018005044698461113), (3733, 0.018002580199108664), (370, 0.017998625189374905), (851, 0.017997494504199064), (4544, 0.017991192317880506), (1422, 0.017988690979091518), (3956, 0.01796829676648034), (1354, 0.017965483571675538), (272, 0.01796360248939421), (524, 0.017955898402273025), (4235, 0.0179551443994873), (1947, 0.01795447050107648), (2261, 0.017953295725830112), (2864, 0.017952237695829192), (4370, 0.017935770826515915), (4317, 0.01792992991332925), (2783, 0.017926822099924362), (4146, 0.017925540889023935), (278, 0.017914348905508016), (593, 0.017913551469455412), (3764, 0.01791241911196054), (2748, 0.017902122594243657), (2052, 0.017890450355311484), (3386, 0.01788806380737082), (4605, 0.017883469343243953), (1750, 0.01787973260963629), (713, 0.017878639308860085), (1932, 0.017869330460629974), (4685, 0.017867504186766536), (1162, 0.017867167358459807), (1147, 0.017855875167233616), (541, 0.017855800518234943), (4660, 0.01784856116417667), (4577, 0.017843533436415305), (119, 0.017826019829304936), (4568, 0.017814390172968403), (2829, 0.017812365965037658), (3585, 0.017811202558143346), (105, 0.017795738314649607), (1676, 0.017791172311767137), (3539, 0.01777350895944305), (1915, 0.017762524354584724), (2544, 0.017753191022577542), (3729, 0.017742490902580232), (1885, 0.017741912201977288), (1826, 0.01774022146034591), (1334, 0.01773026153478882), (1748, 0.017724409933723064), (3030, 0.017705824512990066), (1249, 0.0177049539173713), (2764, 0.01770245300433848), (1714, 0.017702399712526885), (2753, 0.017687178735031193), (2804, 0.017658064098209678), (4065, 0.017657071946469358), (1437, 0.017650719491501567), (4201, 0.017649591704758542), (2684, 0.017634670795185572), (2341, 0.017633678133559667), (2970, 0.017616689780906254), (1040, 0.017608913221851846), (813, 0.017608824291215363), (4019, 0.017607878481467512), (3835, 0.01759358838729423), (2360, 0.01757091541296034), (734, 0.017568652768348743), (3632, 0.01755949376682579), (1619, 0.017548247192676312), (3301, 0.017534529905304456), (720, 0.017524357524549172), (1802, 0.017524006075709093), (916, 0.01751989231489444), (3253, 0.017517247328743747), (1764, 0.017505324729041264), (349, 0.017500758393810486), (4483, 0.01749812243080312), (3718, 0.017487934059901674), (640, 0.017484770712190244), (4753, 0.01748018808623643), (1546, 0.017475474255685516), (2611, 0.01746415972943007), (3381, 0.017463387955614036), (270, 0.017456388929298315), (1611, 0.017447405604269925), (316, 0.017446780100538822), (4525, 0.017436564394203425), (1336, 0.01743489810379656), (2396, 0.017433278217550398), (3957, 0.01743076741761087), (4644, 0.017421765283765947), (3819, 0.017420362184405753), (2197, 0.017413158369007063), (83, 0.017406216693797414), (3050, 0.017405984287423234), (2885, 0.01740133644832655), (2775, 0.017397875196742355), (2905, 0.017395128828491344), (449, 0.017392121787196783), (2229, 0.017388612961707843), (2046, 0.017385774552090647), (1450, 0.017377222521566104), (3036, 0.01737231351921937), (3603, 0.017365780519930762), (688, 0.017355618571133432), (670, 0.01735440720164548), (1940, 0.017342200775786694), (1973, 0.017341953170800988), (1420, 0.017329203440996224), (517, 0.01732621957437363), (2390, 0.017325624734507293), (4501, 0.017295131524627264), (942, 0.01729152165658206), (4553, 0.017290951213674483), (118, 0.01728103164165669), (82, 0.017277635989374405), (34, 0.017276097711724357), (2907, 0.017269831065863515), (1604, 0.017263759412520653), (3542, 0.017255874694536703), (2395, 0.017254988750558038), (2231, 0.017234932681452927), (3049, 0.017233105798649853), (757, 0.017222472674635055), (3029, 0.017220338051491563), (3644, 0.01721718948787052), (2382, 0.017216772166384148), (1958, 0.017208948087450812), (862, 0.01720397013803375), (1287, 0.017201037414833472), (1364, 0.017192282530442134), (539, 0.017191162715808773), (4593, 0.017181134607187606), (3986, 0.017177304412496385), (1402, 0.017167829585548227), (2510, 0.0171571374798388), (2906, 0.0171425961195475), (1959, 0.01713483600067196), (4284, 0.01712970558088544), (2200, 0.01712968868869392), (1697, 0.01712939137741296), (1572, 0.017123487656922395), (3789, 0.01711139538520224), (665, 0.01707713661518301), (3670, 0.017074769571610443), (2038, 0.017074022753787575), (4478, 0.01707392530951756), (1468, 0.01707282002592743), (215, 0.017071618814950337), (3113, 0.017065158680934788), (1705, 0.017057112360777706), (2416, 0.01704961154744244), (3018, 0.017041722058421704), (534, 0.017040594720567428), (3106, 0.01703505638110686), (3388, 0.017011487099106052), (3291, 0.017003338749867453), (3232, 0.01699540843245393), (1905, 0.016967384214607053), (2330, 0.01696552620246409), (1494, 0.016960443888478765), (740, 0.016955743630324583), (475, 0.016951339310887614), (1463, 0.016949744548294784), (445, 0.016947965409406927), (3844, 0.01693748714320132), (737, 0.016933416061289557), (4445, 0.016932417752005463), (3444, 0.016930507366016614), (1083, 0.016925408355746012), (2627, 0.0169062748348504), (3630, 0.016905810804187783), (4328, 0.01689780254985777), (4385, 0.01689130482299166), (4716, 0.01688584366460311), (3357, 0.016875857308582386), (13, 0.016874309175987097), (1863, 0.01685490372208758), (4578, 0.016850648013892175), (3879, 0.01684908172719446), (4173, 0.01681477707259885), (4348, 0.016805363292898307), (4657, 0.01680300980655322), (2369, 0.01679635739934772), (685, 0.01679155801194946), (1359, 0.016789621214263858), (2820, 0.01678136367846486), (2904, 0.01677840973347707), (1332, 0.016777268344411407), (1109, 0.016761363845309945), (1883, 0.016758973425735214), (4391, 0.01674726060224666), (2299, 0.016742198634287657), (2759, 0.016737638787026065), (951, 0.016723995355499), (3831, 0.016712576978929666), (273, 0.016709153993570904), (2217, 0.016703943251921875), (1721, 0.016689695017567587), (2022, 0.016688377010344174), (1324, 0.016683698554528205), (831, 0.01668107819500135), (3327, 0.01667967814712113), (3007, 0.016638768952152164), (3273, 0.016628523876492284), (66, 0.01661002616713074), (1600, 0.016587116591128367), (636, 0.01657322854668982), (2604, 0.016570000520213728), (4751, 0.016557877725311174), (2430, 0.01655200423757673), (1975, 0.016541900401538752), (1577, 0.016535593167505705), (402, 0.016530170424772), (1092, 0.016526484932976097), (3939, 0.016510270801535422), (2081, 0.016499205555015516), (3931, 0.016496631152856992), (4127, 0.01648046275194568), (1407, 0.01647971779886584), (2327, 0.016471977444377516), (3832, 0.016465463241557496), (3080, 0.01643194522000436), (623, 0.016428337394239455), (4432, 0.01642413650665804), (2165, 0.01642161226171401), (4421, 0.016420722608267317), (1042, 0.016401667666767882), (1196, 0.016397434716152265), (1639, 0.016379500147378274), (4287, 0.01637369284747655), (1627, 0.016371514955990048), (1129, 0.016369113268821022), (3358, 0.01636727865042787), (657, 0.016359966216806843), (3784, 0.016358362067720927), (3602, 0.016332326527501127), (3895, 0.016330515161754208), (4572, 0.016327154709823297), (927, 0.016326184905433198), (4159, 0.016319602620754454), (2881, 0.01631160536886763), (2163, 0.016302631169315275), (4749, 0.016289021435727895), (1891, 0.016279726341198987), (183, 0.0162789522060314), (3909, 0.016276596910109083), (1177, 0.016275939791075108), (3181, 0.016274065376088713), (2826, 0.01627302374487492), (187, 0.016256490837701462), (208, 0.016245545870464093), (1615, 0.016240651829769043), (1054, 0.01623383800680594), (4231, 0.01622753971297152), (2041, 0.016215359126149607), (2760, 0.016207265769834393), (1240, 0.01620296493512351), (1253, 0.01619159078494045), (1563, 0.01618470700033027), (1282, 0.01618067932402744), (3921, 0.01616694106721827), (1790, 0.016161837652853058), (2915, 0.01614860489549297), (3664, 0.016144591945166903), (949, 0.016131787349263838), (4523, 0.01612461858305718), (1222, 0.016120784612331122), (467, 0.016117925147402686), (1596, 0.016116174233244473), (2768, 0.016113257563152024), (4746, 0.016109267552354985), (1138, 0.016101843524775318), (1145, 0.016101514038365027), (1824, 0.016096016616769404), (3008, 0.01608528939312849), (3725, 0.016083153579910622), (2602, 0.016078692056793506), (4113, 0.01607255069726347), (3900, 0.016071379462690074), (4514, 0.01605033294503839), (2754, 0.016040281595191795), (425, 0.01603802167604157), (2556, 0.016013385634880018), (1409, 0.0160062951447513), (1607, 0.015992719925389826), (3024, 0.01599141196305459), (2033, 0.01598782393498955), (3410, 0.01597299089708379), (2036, 0.01596882996826103), (4072, 0.01596859827030682), (549, 0.015968389381691143), (3267, 0.015961822730489586), (2293, 0.01595163368156327), (2429, 0.01595110738901308), (206, 0.01594215539732581), (4214, 0.015924954770307014), (61, 0.015915455462596317), (4293, 0.015905861290152368), (2255, 0.01589496024017578), (1478, 0.015885928015969372), (649, 0.015848730747396563), (937, 0.01583510888958224), (3700, 0.01583012302106479), (982, 0.01582469458637691), (239, 0.015817912123291283), (1027, 0.015811903936561688), (140, 0.015794519777328625), (2750, 0.015792825110689242), (2628, 0.015792126287074642), (2596, 0.015775033751382107), (1834, 0.0157686151616899), (643, 0.01575943562403992), (1325, 0.015746916755492196), (4217, 0.015745345664815724), (3796, 0.01568750431679011), (1911, 0.01566516125788705), (1378, 0.0156645909642973), (2428, 0.015663090676176772), (1347, 0.015659249555745762), (2511, 0.015657783735805515), (3266, 0.015639283355634886), (795, 0.015629020928736487), (3042, 0.015620086173434482), (565, 0.015608276280181025), (4179, 0.015597941908371795), (993, 0.015594184971744654), (4620, 0.015576170259878095), (3680, 0.015573842856442865), (1620, 0.015560981975710065), (1171, 0.015554209304682012), (2995, 0.01554633378931297), (1869, 0.01553301168477797), (690, 0.015529170407133409), (4012, 0.015510055147007706), (886, 0.015506584369304036), (113, 0.015491907488098196), (2686, 0.015488503791690119), (2199, 0.015486790202532014), (1517, 0.01547899690568419), (4691, 0.015477156049590688), (3830, 0.015476969363021587), (2917, 0.015467713433701843), (2613, 0.015431808898640533), (315, 0.015404388088978305), (3916, 0.015388367004981607), (2608, 0.01538697213064135), (3302, 0.015381847654620138), (4276, 0.015372362339426623), (371, 0.015369111002875229), (3742, 0.015356456966503168), (4643, 0.015352443386166151), (2593, 0.015345617176958197), (4428, 0.015343395811688585), (4653, 0.015319972667512297), (1664, 0.015316164259197518), (4563, 0.015302036046552923), (4066, 0.0152922665190284), (899, 0.015290923783806204), (2, 0.015288731297729528), (1520, 0.015282781798457178), (42, 0.01526780481251331), (2982, 0.01523909023419594), (3708, 0.015226025909401912), (4191, 0.015224671750243291), (3820, 0.015223567174888552), (1376, 0.015217912358464111), (4528, 0.015208786181281575), (3811, 0.01519208219655489), (1166, 0.01519029626825407), (2605, 0.015189827180404385), (3866, 0.015179830230884369), (4372, 0.015172453730524846), (3366, 0.01517218506583383), (4557, 0.015159271438747622), (3548, 0.015128267864181378), (2266, 0.015124767511850766), (2853, 0.015111239553364462), (3375, 0.015078910561034446), (4238, 0.01506125710726884), (3440, 0.015061166084372834), (1820, 0.015050384150306998), (184, 0.015047900177647037), (4708, 0.015034247189532328), (2831, 0.015024494462650249), (4492, 0.015010890493686277), (244, 0.01499001160296518), (2434, 0.014988548441149517), (3690, 0.014981233440144497), (4205, 0.014968118069479317), (2821, 0.014955441605882015), (3144, 0.014950185655274208), (3128, 0.014950184046218147), (1360, 0.014937718128071263), (1326, 0.014931569318006831), (1888, 0.014900942004001468), (2379, 0.014900763400346365), (2468, 0.014892646886457783), (789, 0.014883373844732045), (1062, 0.014881809233519647), (2519, 0.014872416459887374), (1263, 0.01485896627361783), (469, 0.014858664256658433), (4497, 0.01485791432594396), (3521, 0.014847529147830388), (3333, 0.014821454725459057), (4267, 0.014817518859072742), (1839, 0.014804281818820104), (470, 0.014799953480881547), (3515, 0.014795285794852429), (2854, 0.014789492983958), (2168, 0.014761344396422117), (3596, 0.014757989859092262), (2354, 0.014751723688333497), (4459, 0.014749863983805296), (1814, 0.014746309267271855), (794, 0.014733604217596851), (1609, 0.014703963828638731), (1537, 0.014699011108268713), (1658, 0.014698288739939695), (2586, 0.014685738913483182), (3662, 0.014683372247867544), (801, 0.014680012128521894), (2056, 0.014678920095076268), (3601, 0.014659814372979068), (1191, 0.014657665126351162), (3009, 0.014653663000154412), (4730, 0.014648773663772577), (666, 0.014632406533050386), (610, 0.014630056312655671), (4129, 0.014617501832548016), (127, 0.014597750465852755), (1672, 0.01457781113746251), (499, 0.014573998272600055), (298, 0.014554582742852889), (3599, 0.014538777461676923), (3805, 0.014533484491667952), (2714, 0.014482659411056155), (4316, 0.014475760387670384), (621, 0.014465949978256908), (3566, 0.01445901633297118), (3902, 0.01445723137768951), (1649, 0.014440068658547599), (3482, 0.014439018776134769), (969, 0.01442647045746676), (920, 0.014424191953461452), (574, 0.01441686301554091), (1477, 0.014406166095165429), (4280, 0.014402497446239585), (1342, 0.014399052859770268), (4481, 0.014398741905844233), (1800, 0.014391307544905266), (791, 0.014380861969235863), (1108, 0.014357021443953198), (2439, 0.014350143484644876), (2087, 0.014324898550139575), (2980, 0.014312111666839721), (463, 0.014305884257050806), (2685, 0.014286608827863879), (4337, 0.014275787046394888), (4304, 0.01427471592964337), (36, 0.014274139287379875), (4505, 0.01425505165298295), (3538, 0.014245754287867151), (444, 0.014242119858196192), (3352, 0.01424109790127963), (3485, 0.014227049707458512), (2188, 0.014192798977495515), (2682, 0.014171906843544396), (2145, 0.014169296166892293), (671, 0.014167650144546576), (1504, 0.014163708374881996), (3707, 0.014145305635160626), (2303, 0.014140885062103103), (3256, 0.014124367768464987), (1899, 0.014123583368003696), (1016, 0.01411876613739058), (4506, 0.01411469090900596), (3896, 0.014083381659034996), (933, 0.01407289699316201), (4161, 0.014060927289588535), (630, 0.014059403152872515), (3887, 0.014046574660263107), (3691, 0.01404487842423715), (1643, 0.014043533391839839), (3869, 0.014041685299583771), (4739, 0.014011805175973918), (3783, 0.01401090180096513), (323, 0.013991627808977987), (1823, 0.01397562265785394), (4, 0.013965824927781008), (3192, 0.013961236996764298), (4623, 0.013957100265318476), (3540, 0.013913090482332214), (4215, 0.01391038019401495), (1211, 0.013906986366947184), (1476, 0.013903831152123028), (4132, 0.013897718939458941), (3641, 0.013894691860379255), (3510, 0.013890821665492525), (1603, 0.013881593025262186), (190, 0.013869670208488337), (1330, 0.013869241106844368), (3859, 0.013856557016184197), (3435, 0.013843063540239666), (3845, 0.013838346998268676), (4508, 0.013807744364984104), (571, 0.013799198041777514), (1654, 0.01379704830331991), (2349, 0.013794207818207938), (2085, 0.013792841461972183), (4697, 0.013789553055555626), (556, 0.013761429235818341), (2612, 0.013758828781229096), (2800, 0.013746623785946573), (2151, 0.013730825327181239), (1256, 0.01372611702710327), (419, 0.01372115634948396), (1497, 0.01371818550303081), (2311, 0.013703020305720221), (3307, 0.013689119327163157), (4199, 0.013685005481429889), (3132, 0.013643890693052853), (4631, 0.013631124152013173), (848, 0.013629730683813839), (1340, 0.013622003642362525), (4228, 0.013614645615527405), (1793, 0.01361184232902568), (4040, 0.01358286773215045), (1786, 0.0135828658953985), (3454, 0.013567993707148573), (890, 0.013561020723022761), (580, 0.013521512607485252), (772, 0.01351611324236605), (4063, 0.013514327415282766), (3910, 0.013486747656794027), (2333, 0.013453979209192892), (3984, 0.013446245305805085), (4344, 0.013433405990746711), (3200, 0.013432914387856435), (3689, 0.013432669054874606), (2423, 0.01340746251512019), (4213, 0.01340665629205639), (1683, 0.013365651619408076), (950, 0.01333575990009367), (3815, 0.013318699814032713), (3714, 0.013314509116031664), (4026, 0.013263063266396018), (4417, 0.013261548705822511), (3951, 0.013251354711400189), (1460, 0.013239331575942322), (4661, 0.013238547768061049), (3791, 0.013222681814100317), (4567, 0.01321880952854881), (2675, 0.013215101842423596), (2857, 0.0132114808933059), (1561, 0.013208172875620205), (1406, 0.013205389737840245), (1141, 0.013182377356653315), (1315, 0.01316750579015445), (53, 0.013166962779621883), (1655, 0.013163076699530579), (3472, 0.013162696000625052), (2425, 0.013132547085711623), (1452, 0.013129936967975098), (2342, 0.013086225597287287), (1470, 0.013083460689472571), (2651, 0.013079060426872905), (2283, 0.013064490862096118), (1917, 0.013062414567288091), (331, 0.013055454370789045), (4324, 0.013053657350986098), (4468, 0.013042661126176745), (2058, 0.013027212046431633), (3589, 0.01302235395219123), (3245, 0.013007759917580892), (3678, 0.012995074997446718), (1720, 0.012989648171776912), (850, 0.012987588431510821), (3505, 0.012973935277179969), (1486, 0.012972007519083874), (391, 0.01296855682599879), (3799, 0.012963898544695197), (3905, 0.01294970731569364), (4323, 0.012921176875518667), (490, 0.012912002303065762), (631, 0.012888141624564795), (3685, 0.012883169770004314), (3223, 0.012870648664244762), (2858, 0.012870199162677166), (1373, 0.012867161742029624), (1064, 0.012855183726779464), (3948, 0.012851500610960312), (4076, 0.012842380181719367), (1013, 0.012836926889778416), (2537, 0.012822861136910214), (2812, 0.012805167930783868), (4507, 0.012791993352708732), (4109, 0.012777052948231879), (81, 0.012765372662644704), (1007, 0.01273325317717879), (1574, 0.012722552943481708), (751, 0.01270858053492123), (2244, 0.012705227492125113), (2446, 0.012704906861191159), (3713, 0.012687263450898406), (4243, 0.012669492786169013), (117, 0.012666729239426446), (3039, 0.012645081071641123), (4404, 0.012640174061700352), (2332, 0.012625152498959987), (2895, 0.012618460885864064), (1590, 0.012618346151486064), (4368, 0.01261165237287187), (2674, 0.012602032023016265), (1123, 0.012600822659304761), (2334, 0.012579708012691983), (3738, 0.012567727649160282), (1167, 0.012565932910079824), (2986, 0.012557748390670496), (4256, 0.012555221164458326), (1712, 0.012541383601063587), (3687, 0.012536348939897447), (4154, 0.012521522681183608), (4408, 0.012511555713252222), (1288, 0.012509965905086202), (2108, 0.012506840333678514), (3992, 0.012502741515513253), (655, 0.012481593268063224), (2709, 0.012476640599335011), (466, 0.012467962688829184), (1165, 0.012465015187606197), (2265, 0.012453564361981358), (2523, 0.012444042510835834), (887, 0.012440574875264052), (3404, 0.012395489145453258), (2946, 0.012386465371113913), (3034, 0.012349468421288172), (1914, 0.01233915385443922), (2125, 0.012318831410041918), (2704, 0.012312344893907893), (4322, 0.012303429231207835), (3864, 0.012291460605728914), (1418, 0.012282567573347367), (776, 0.012268806328609546), (4099, 0.012264587378280501), (2866, 0.012246713858042806), (3615, 0.012213136845331062), (1642, 0.012210674581653699), (1669, 0.012209079706584365), (4683, 0.012185218039565515), (1889, 0.012176973833806906), (4634, 0.012174518636508237), (596, 0.012151309358202198), (1581, 0.012141925290156043), (4367, 0.012137511428799489), (4111, 0.01213625898925492), (1989, 0.012118516955769074), (1018, 0.012008470443274574), (3611, 0.012006445460117329), (3837, 0.011988584527826363), (2339, 0.01198517669803265), (4121, 0.011972660033284732), (3248, 0.01194926228509573), (3798, 0.011947903312472995), (4247, 0.011934936540124924), (133, 0.01190564323506783), (3617, 0.011902584905246344), (197, 0.011895997966219393), (3609, 0.011884902835079415), (837, 0.011873898928659213), (3640, 0.011846575072608065), (1892, 0.011835783472656014), (1106, 0.011832309347928813), (2871, 0.011826931396375464), (23, 0.011817328716716596), (1699, 0.011806480339693188), (293, 0.011797536525814471), (4181, 0.011796067596872899), (3473, 0.011779412973918681), (2508, 0.011773143233529966), (4255, 0.011767767710724335), (4024, 0.011750173359655192), (393, 0.011741324835953464), (4627, 0.011720884451039793), (4184, 0.011703587191282687), (3310, 0.011703301991064119), (2565, 0.011680235479312644), (4400, 0.011674286161446723), (3323, 0.011673496875843641), (4579, 0.011672681746663778), (2420, 0.011595494276046975), (1238, 0.011581946653846544), (164, 0.011581324536552756), (4271, 0.011580446331035025), (3755, 0.011572080243014263), (3987, 0.011562068677933027), (1812, 0.011553786153210227), (4080, 0.011552350727305963), (1075, 0.01154316785366406), (3557, 0.011517288438048182), (4358, 0.01150885696223639), (1067, 0.011502071520646827), (4349, 0.011499585504864969), (4156, 0.01149624199824393), (3985, 0.011485621684902223), (2328, 0.011477054112401382), (4581, 0.011476374666698088), (712, 0.011475504486402678), (3996, 0.011472984479290033), (4251, 0.011459022994573922), (3332, 0.011458051454059651), (3471, 0.011457219245390532), (2715, 0.011444435781281695), (1049, 0.011385851092045679), (759, 0.011371782732442416), (4733, 0.011347739006195165), (3451, 0.01132107964279908), (1792, 0.011307873975738923), (619, 0.011295985733174748), (3145, 0.01128690676369582), (1988, 0.011284615375112052), (484, 0.011268074655825456), (1835, 0.011253228194866785), (3962, 0.011225336192101537), (3190, 0.011222177574422305), (2455, 0.011211613445992339), (344, 0.011196590483206235), (711, 0.011160189302586814), (2503, 0.011121242483030926), (4453, 0.011113200492573883), (3950, 0.011108848940729485), (3002, 0.011108418061399842), (1803, 0.011074909525118162), (2452, 0.010988324430672023), (4336, 0.01096211144510097), (1429, 0.010957190672020011), (1954, 0.010948420371856105), (132, 0.010929357734491961), (296, 0.010917121650947319), (4633, 0.010871435023113874), (4600, 0.010869347360043266), (3712, 0.010851757112910011), (1352, 0.010836447896411142), (4008, 0.010820584904858916), (3604, 0.01079516196918448), (4571, 0.010780654752648465), (3842, 0.010766231093254267), (4105, 0.010760854237942609), (1960, 0.01075673167605513), (4401, 0.010717465972386774), (4520, 0.010709086361177261), (3577, 0.010702378273048655), (4074, 0.010687615192124708), (2179, 0.010672648326615113), (1986, 0.01066561355786415), (4190, 0.010663152771166372), (3224, 0.010657926433176569), (3743, 0.010637168277652228), (959, 0.010634446869040672), (2256, 0.010610754436800554), (2458, 0.010610653599820427), (2533, 0.010604332613497417), (3422, 0.010556251909957274), (3881, 0.010554603512138983), (2658, 0.010493315063273778), (1444, 0.010463258686917873), (1881, 0.010459245865545997), (3816, 0.010418460242141084), (2448, 0.010414381331192102), (746, 0.010401885270763222), (2031, 0.01039938277235871), (793, 0.010396655963462172), (998, 0.010378693146464134), (4427, 0.010375106383831222), (1144, 0.01036936455011923), (2936, 0.010346626837719168), (4526, 0.010330149987338002), (4279, 0.010316221357334706), (4315, 0.010308154284124942), (4687, 0.010279626853946806), (1532, 0.010274882685806232), (3283, 0.010272627462690073), (2897, 0.010252846944210824), (667, 0.010247096162725074), (1036, 0.010225392008336989), (2967, 0.010216792977001963), (2845, 0.01020689695916928), (1516, 0.010206177818198728), (1751, 0.010130015719100865), (2947, 0.010122274546542395), (205, 0.010085721145089278), (382, 0.010084771979145462), (4130, 0.010047194188486819), (4530, 0.010033245950633618), (79, 0.00999123750503201), (1626, 0.009978189155466157), (3634, 0.00991163795736243), (2886, 0.009877540737261985), (1297, 0.00985715658081511), (2346, 0.009844956949356042), (4547, 0.009835171081284691), (2441, 0.009821072215026323), (3199, 0.009800401316459898), (134, 0.00978981760619879), (3494, 0.00977790364888884), (1072, 0.009773635969406313), (826, 0.00975810902838595), (1286, 0.009756285044882233), (3943, 0.009752513839200661), (4406, 0.009744071985600712), (961, 0.009702819332260491), (4720, 0.009687079824130498), (1708, 0.009684890836531184), (681, 0.009673853952688632), (3551, 0.00964835246668468), (2131, 0.009622346167383503), (4112, 0.009612814058030123), (3998, 0.009556714772361181), (960, 0.009548919306535078), (1955, 0.009471899697742274), (1198, 0.009460696943041478), (4151, 0.009453727615239636), (2496, 0.009427947301986307), (3892, 0.009378320253571208), (4250, 0.009337390064920046), (3119, 0.009285651675662901), (2620, 0.009270854009125933), (2083, 0.009266962440035406), (2462, 0.009211912888866648), (4108, 0.009188234789521358), (1212, 0.00918774313275549), (1732, 0.009122409511080787), (4688, 0.00912012225996219), (1589, 0.009084364604867756), (3818, 0.009074547631492045), (1038, 0.009057768728147458), (2594, 0.009050882949805774), (1965, 0.008997503697655361), (2657, 0.008986888930214211), (3954, 0.008913175633837311), (4710, 0.008905959971402963), (1767, 0.008879527776567524), (2059, 0.008875013843528698), (4091, 0.008850205027846156), (4239, 0.008847773853296003), (2307, 0.008785887051132348), (1103, 0.008774924615009021), (1293, 0.008760670319159721), (1399, 0.00874758291206083), (2204, 0.008735299369988472), (4599, 0.00873392609826674), (1916, 0.008706034021397656), (3989, 0.008695298838537069), (503, 0.008659632921071674), (2856, 0.008647002741567733), (505, 0.008628807510494652), (3545, 0.008604446012230585), (3821, 0.008584078723271578), (1811, 0.00857708107416012), (2153, 0.008543176017040563), (2373, 0.008524715722676057), (3062, 0.008524565620394161), (1570, 0.008493138750525263), (3855, 0.008381390084970342), (3056, 0.008375851203266612), (3898, 0.00836981533686218), (2060, 0.008327313281240142), (2005, 0.008262763948394272), (1691, 0.008215597074981597), (3967, 0.008167415961668378), (17, 0.008152100117772135), (3848, 0.008146933852252226), (2300, 0.008090489085990632), (4680, 0.008064183661031458), (914, 0.008050773987402098), (4333, 0.00804362820189221), (1685, 0.007948863076386103), (2526, 0.0078826350315619), (4369, 0.0078490950205507), (4726, 0.007796718042611347), (3988, 0.007780608605043787), (4728, 0.007774832831653076), (2941, 0.00772565295891679), (3563, 0.007655094155104618), (397, 0.007654737358727076), (2289, 0.007520629112183108), (2064, 0.0074856464684079), (1663, 0.0074225750269608735), (3808, 0.007342117912409614), (535, 0.007338825920873145), (4044, 0.007330267519391833), (2472, 0.007287791687066621), (4711, 0.007263237650325479), (4098, 0.007224160383178821), (1921, 0.007095310138478411), (2923, 0.007095028090469427), (2471, 0.007035098162011508), (4083, 0.007010503320030056), (1327, 0.00698358285374458), (3329, 0.006959071168217858), (709, 0.006938353701090107), (4446, 0.006905845394128937), (2345, 0.006905071107139145), (1298, 0.006874376980866196), (4542, 0.006864904390222001), (487, 0.0067921289944907984), (4131, 0.006781988736954285), (1514, 0.006695226982627965), (1813, 0.006689907799131707), (3241, 0.006677146087329057), (4036, 0.0066295560638208306), (4300, 0.0065524234885262), (71, 0.006521473681445185), (797, 0.006495113501516284), (3936, 0.006427091655824837), (2676, 0.0063600180076149055), (1154, 0.006344587391013944), (3495, 0.006286971189651982), (2025, 0.006229905355635178), (431, 0.0061956688130947995), (3595, 0.006192019664873236), (3197, 0.006189247443458076), (3669, 0.006184362935169184), (4700, 0.0060839359200927845), (4690, 0.006056586955107885), (4125, 0.00598278698700637), (2500, 0.0059098079980520165), (4476, 0.005860629171682968), (4069, 0.0057593695705729035), (1745, 0.005717824580053165), (4539, 0.00568914710164872), (3889, 0.005680694891100133), (4185, 0.0056754793085357965), (3041, 0.005634398346794741), (4041, 0.0056124605990915625), (4484, 0.005590308854247623), (4291, 0.005575793409205278), (3762, 0.005515783928955111), (4254, 0.005485331572169457), (2987, 0.00547393416289111), (972, 0.005441757505345689), (361, 0.0054128954365998475), (4561, 0.005294639772263711), (2875, 0.005285757146712949), (4671, 0.00527858180171973), (4058, 0.005262137572111207), (4686, 0.005259459409631174), (230, 0.005136869876535359), (1851, 0.00498512418139165), (2325, 0.004981479897139677), (4253, 0.004931671810777229), (4434, 0.004852697326984852), (3863, 0.004846977842334276), (2253, 0.004651193919290541), (2282, 0.004545475638446289), (2445, 0.004357394126235198), (2659, 0.004274648725000881), (2002, 0.0040560030429824066), (3025, 0.004046982650371543), (4301, 0.0039756453668185286), (1353, 0.003973668451633978), (3072, 0.0038941762735593658), (2787, 0.0038315196820386615), (1051, 0.003718617132192536), (1628, 0.0036495508382122974), (4359, 0.0034537390295746), (3971, 0.003074996776408657), (3836, 0.002928412694103541), (2249, 0.0025839850723892053), (4729, 0.0023635940019406327), (1227, 0.0021903909442481436), (1938, 0.00212586058650928), (2806, 0.0021179482352160057), (4702, 0.001833923807674428), (3676, 0.0), (4759, 0.0)]\n"
          ]
        }
      ]
    },
    {
      "cell_type": "code",
      "source": [
        "# print the name of similar movies based on the index\n",
        "\n",
        "print(\"Top 30 Movies suggested for you: \\n\")\n",
        "\n",
        "i = 1\n",
        "\n",
        "for movie in Sorted_similar_movie:\n",
        "  index = movie[0]\n",
        "  title_from_index = movie_df[movie_df.index == index]['Movie_Title'].values[0]\n",
        "  if (i<31):\n",
        "    print(i, '.', title_from_index)\n",
        "    i+=1"
      ],
      "metadata": {
        "colab": {
          "base_uri": "https://localhost:8080/"
        },
        "id": "HI9uxFcySjKF",
        "outputId": "c9582840-1f39-462f-a991-93de5bc11496"
      },
      "execution_count": 40,
      "outputs": [
        {
          "output_type": "stream",
          "name": "stdout",
          "text": [
            "Top 30 Movies suggested for you: \n",
            "\n",
            "1 . Niagara\n",
            "2 . The Ballad of Jack and Rose\n",
            "3 . The Greatest\n",
            "4 . The Rose\n",
            "5 . Silent Hill\n",
            "6 . Sky Captain and the World of Tomorrow\n",
            "7 . My Week with Marilyn\n",
            "8 . Among Giants\n",
            "9 . Blow\n",
            "10 . Shopgirl\n",
            "11 . Novocaine\n",
            "12 . Dead Like Me: Life After Death\n",
            "13 . Titanic\n",
            "14 . It's a Wonderful Life\n",
            "15 . Wicker Park\n",
            "16 . Insidious\n",
            "17 . If I Stay\n",
            "18 . Knowing\n",
            "19 . Teeth\n",
            "20 . Enough\n",
            "21 . The Phantom of the Opera\n",
            "22 . Bang\n",
            "23 . H.\n",
            "24 . Two Evil Eyes\n",
            "25 . The Net\n",
            "26 . Birth\n",
            "27 . George of the Jungle\n",
            "28 . Random Hearts\n",
            "29 . Darling Lili\n",
            "30 . Real Women Have Curves\n"
          ]
        }
      ]
    },
    {
      "cell_type": "code",
      "source": [],
      "metadata": {
        "id": "B2ZWNABcY562"
      },
      "execution_count": null,
      "outputs": []
    },
    {
      "cell_type": "markdown",
      "source": [
        "## **Prediction**"
      ],
      "metadata": {
        "id": "8AzwG7oLjiQI"
      }
    },
    {
      "cell_type": "markdown",
      "source": [
        "**Top 10 Movie Recommendation System**"
      ],
      "metadata": {
        "id": "3IWhT2iMYyEQ"
      }
    },
    {
      "cell_type": "code",
      "source": [
        "Movie_Name = input('Enter your favourite movie name: ')\n",
        "\n",
        "list_of_all_titles = movie_df['Movie_Title'].tolist()\n",
        "\n",
        "find_close_match = difflib.get_close_matches(Movie_Name, list_of_all_titles)\n",
        "\n",
        "close_match = find_close_match[0]\n",
        "\n",
        "index_of_movie = movie_df[movie_df.Movie_Title == close_match]['Movie_ID'].values[0]\n",
        "\n",
        "Recommendation_Score = list(enumerate(Similarity_Score[index_of_movie]))\n",
        "\n",
        "sorted_similar_movies = sorted(Recommendation_Score, key = lambda x:x[1], reverse = True)\n",
        "\n",
        "print(\"Top 10 Movies suggested for you: \\n\")\n",
        "\n",
        "i=1\n",
        "\n",
        "for movie in sorted_similar_movies:\n",
        "  index = movie[0]\n",
        "  title_from_index = movie_df[movie_df.index == index]['Movie_Title'].values[0]\n",
        "  if (i<11):\n",
        "    print(i, '.', title_from_index)\n",
        "    i+=1"
      ],
      "metadata": {
        "colab": {
          "base_uri": "https://localhost:8080/"
        },
        "id": "8roj7tk6Y59o",
        "outputId": "50e83ca7-3db7-4b4c-9ffd-7d1b49480898"
      },
      "execution_count": 42,
      "outputs": [
        {
          "output_type": "stream",
          "name": "stdout",
          "text": [
            "Enter your favourite movie name: the matrix\n",
            "Top 10 Movies suggested for you: \n",
            "\n",
            "1 . The Matrix Reloaded\n",
            "2 . The Matrix Revolutions\n",
            "3 . The Matrix\n",
            "4 . Commando\n",
            "5 . The Work and the Glory II: American Zion\n",
            "6 . Ultraviolet\n",
            "7 . Akira\n",
            "8 . Men in Black 3\n",
            "9 . Terminator Salvation\n",
            "10 . Hercules\n"
          ]
        }
      ]
    },
    {
      "cell_type": "markdown",
      "source": [
        "## **Explaination**"
      ],
      "metadata": {
        "id": "SBo38CJZjlEX"
      }
    },
    {
      "cell_type": "markdown",
      "source": [
        "The code in this notebook constructs a simple movie recommendation system using collaborative filtering. Here's a breakdown:\n",
        "\n",
        "1. Data Loading and Preprocessing:\n",
        "\n",
        "      Imports movie data from a CSV file hosted on GitHub.\n",
        "      Handles missing values by filling them with empty strings.\n",
        "      Combines relevant movie features (genre, keywords, tagline, cast, director, overview, spoken language, vote, vote count) into a single text feature.\n",
        "2. Feature Engineering:\n",
        "\n",
        "      Uses TF-IDF vectorization to convert the combined text feature into numerical representations. This gives weightage to important words and reduces the impact of common words.\n",
        "3. Similarity Calculation:\n",
        "\n",
        "    Computes cosine similarity between all movie pairs based on their TF-IDF vectors. This measures how similar two movies are in terms of their features.  \n",
        "          \n",
        "4. User Input and Movie Matching:\n",
        "\n",
        "      Takes a movie name as input from the user.\n",
        "      Uses difflib to find the closest matching movie title from the dataset, handling potential typos.\n",
        "5. Recommendation Generation:\n",
        "\n",
        "      Retrieves the similarity scores of all movies with respect to the user's chosen movie.\n",
        "      Sorts the movies based on their similarity scores in descending order.\n",
        "      Prints the top 10 (or 30 in one instance) most similar movies as recommendations.\n",
        "\n",
        "In essence, the code creates a system that suggests movies similar to the user's favorite movie by analyzing the textual descriptions and metadata associated with each movie."
      ],
      "metadata": {
        "id": "Ybi8FR9Kjv00"
      }
    },
    {
      "cell_type": "markdown",
      "source": [
        "Another simpler explaination of this program\n",
        "\n",
        "Gather Movie Info: It collects details about movies - their genre, keywords, who's in them, etc.\n",
        "\n",
        "Find the Important Words: It figures out which words are most important in describing each movie (like \"action\" for an action movie).\n",
        "\n",
        "Calculate Movie Similarities: It compares those important words to see how similar different movies are.\n",
        "\n",
        "You Pick a Movie: You tell it your favorite movie.\n",
        "\n",
        "It Suggests Similar Ones: Based on the similarities it calculated, it suggests movies that are most like your favorite.\n",
        "\n",
        "So, if you like \"The Matrix,\" it might suggest other sci-fi action movies with similar themes and actors."
      ],
      "metadata": {
        "id": "jYXeV6o63Ys0"
      }
    }
  ]
}