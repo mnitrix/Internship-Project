{
  "nbformat": 4,
  "nbformat_minor": 0,
  "metadata": {
    "colab": {
      "provenance": [],
      "toc_visible": true
    },
    "kernelspec": {
      "name": "python3",
      "display_name": "Python 3"
    },
    "language_info": {
      "name": "python"
    }
  },
  "cells": [
    {
      "cell_type": "markdown",
      "source": [
        "# **BitCoin Price Prediction**"
      ],
      "metadata": {
        "id": "dqZ-nhxiganh"
      }
    },
    {
      "cell_type": "markdown",
      "source": [
        "-------------"
      ],
      "metadata": {
        "id": "gScHkw6jjrLo"
      }
    },
    {
      "cell_type": "markdown",
      "source": [
        "## **Objective**"
      ],
      "metadata": {
        "id": "Xns_rCdhh-vZ"
      }
    },
    {
      "cell_type": "markdown",
      "source": [
        "The objective of this project is to predict the price of Bitcoin using a Decision Tree Regression model. We will leverage historical Bitcoin price data to train our model and evaluate its performance in forecasting future price trends."
      ],
      "metadata": {
        "id": "9sPvnFM1iI9l"
      }
    },
    {
      "cell_type": "markdown",
      "source": [
        "## **Data Source**"
      ],
      "metadata": {
        "id": "-Vbnt9CciKJP"
      }
    },
    {
      "cell_type": "markdown",
      "source": [
        "https://github.com/YBI-Foundation/Dataset/raw/main/BitcoinPricePrediction.csv"
      ],
      "metadata": {
        "id": "sGcv5WqQiNyl"
      }
    },
    {
      "cell_type": "markdown",
      "source": [
        "## **Import Library**"
      ],
      "metadata": {
        "id": "r7GrZzX0iTlV"
      }
    },
    {
      "cell_type": "code",
      "source": [
        "import pandas as pd"
      ],
      "metadata": {
        "id": "UkK6NH9DiW-X"
      },
      "execution_count": 20,
      "outputs": []
    },
    {
      "cell_type": "code",
      "source": [
        "import numpy as np\n",
        "import matplotlib.pyplot as plt\n",
        "import seaborn as sns"
      ],
      "metadata": {
        "id": "G5Oc_P9BKHPv"
      },
      "execution_count": 46,
      "outputs": []
    },
    {
      "cell_type": "markdown",
      "source": [
        "## **Import Data**"
      ],
      "metadata": {
        "id": "9lHPQj1XiOUc"
      }
    },
    {
      "cell_type": "code",
      "source": [
        "bitCoin_price = pd.read_csv(\"https://github.com/YBI-Foundation/Dataset/raw/main/BitcoinPricePrediction.csv\")"
      ],
      "metadata": {
        "id": "zcU1fdnGho6M"
      },
      "execution_count": 28,
      "outputs": []
    },
    {
      "cell_type": "markdown",
      "source": [
        "## **Describe Data**"
      ],
      "metadata": {
        "id": "7PUnimBoiX-x"
      }
    },
    {
      "cell_type": "code",
      "source": [
        "bitCoin_price.describe()"
      ],
      "metadata": {
        "id": "kG15arusiZ8Z",
        "colab": {
          "base_uri": "https://localhost:8080/",
          "height": 349
        },
        "outputId": "fe1e3f5a-2227-4298-9b1f-caf6e8df7b38"
      },
      "execution_count": 29,
      "outputs": [
        {
          "output_type": "execute_result",
          "data": {
            "text/plain": [
              "       opening_price  highest_price  lowest_price  closing_price  \\\n",
              "count    3093.000000    3093.000000   3093.000000    3093.000000   \n",
              "mean     7478.787423    7704.451859   7228.984028    7494.347559   \n",
              "std     12404.192142   12790.358177  11965.543777   12425.151723   \n",
              "min        68.400000      75.000000     50.000000      68.400000   \n",
              "25%       427.100000     435.300000    417.100000     427.300000   \n",
              "50%      2541.600000    2617.500000   2472.400000    2545.400000   \n",
              "75%      8820.100000    9040.300000   8610.800000    8821.600000   \n",
              "max     63544.200000   64778.000000  62067.500000   63540.900000   \n",
              "\n",
              "       transactions_in_blockchain  avg_block_size  sent_by_adress  \\\n",
              "count                 3093.000000     3093.000000     3093.000000   \n",
              "mean                212004.408018   644307.604591   315140.438733   \n",
              "std                 102204.862259   273438.916788   152655.587696   \n",
              "min                  30170.000000    76067.000000    30829.000000   \n",
              "25%                 106160.000000   410596.000000   173768.000000   \n",
              "50%                 229295.000000   730092.000000   335962.000000   \n",
              "75%                 296817.000000   880952.000000   428831.000000   \n",
              "max                 490459.000000   998092.000000   730199.000000   \n",
              "\n",
              "       avg_mining_difficulty  avg_hashrate  mining_profitability  ...  \\\n",
              "count           3.093000e+03  3.093000e+03           3093.000000  ...   \n",
              "mean            5.416214e+12  3.923394e+19            211.641951  ...   \n",
              "std             7.181598e+12  5.172006e+19           1003.429879  ...   \n",
              "min             6.695826e+06  5.181545e+13              0.063700  ...   \n",
              "25%             4.764340e+10  3.506746e+17              0.241000  ...   \n",
              "50%             7.086595e+11  5.168519e+18              0.776000  ...   \n",
              "75%             9.985348e+12  7.263994e+19              2.719000  ...   \n",
              "max             2.504649e+13  1.976095e+20          13352.000000  ...   \n",
              "\n",
              "       avg_transaction_value  median_transaction_value         tweets  \\\n",
              "count           3.093000e+03               3093.000000    3093.000000   \n",
              "mean            5.289076e+04                350.846155   35889.309787   \n",
              "std             1.223717e+05                459.933644   30663.425155   \n",
              "min             8.893450e+02                  0.091700    7300.000000   \n",
              "25%             4.389000e+03                110.480000   18727.000000   \n",
              "50%             1.559100e+04                206.481000   25897.000000   \n",
              "75%             3.674800e+04                453.410000   39572.772727   \n",
              "max             1.932378e+06               5417.000000  363566.000000   \n",
              "\n",
              "       google_trends  active_addresses  top100_to_total_percentage  \\\n",
              "count    3093.000000      3.093000e+03                 3093.000000   \n",
              "mean       44.134386      4.917852e+05                   17.890455   \n",
              "std        56.718282      2.617263e+05                    2.384311   \n",
              "min         3.821000      4.840200e+04                   13.144000   \n",
              "25%         8.707000      2.362800e+05                   15.458000   \n",
              "50%        29.850000      5.161620e+05                   18.639000   \n",
              "75%        49.354000      6.728410e+05                   19.834000   \n",
              "max       616.867000      1.196069e+06                   22.081000   \n",
              "\n",
              "       avg_fee_to_reward  number_of_coins_in_circulation  miner_revenue  \\\n",
              "count        3093.000000                    3.093000e+03   3.093000e+03   \n",
              "mean            4.084758                    1.591747e+07   1.054620e+07   \n",
              "std             5.462011                    2.255772e+06   1.320106e+07   \n",
              "min             0.183000                    1.097528e+07   3.099004e+05   \n",
              "25%             0.718000                    1.416458e+07   1.458738e+06   \n",
              "50%             1.447000                    1.640969e+07   5.461151e+06   \n",
              "75%             5.547000                    1.786376e+07   1.478203e+07   \n",
              "max            43.580000                    1.881966e+07   8.017224e+07   \n",
              "\n",
              "       next_day_closing_price  \n",
              "count             3093.000000  \n",
              "mean              7509.615584  \n",
              "std              12445.065991  \n",
              "min                 68.400000  \n",
              "25%                427.600000  \n",
              "50%               2558.400000  \n",
              "75%               8829.200000  \n",
              "max              63540.900000  \n",
              "\n",
              "[8 rows x 24 columns]"
            ],
            "text/html": [
              "\n",
              "  <div id=\"df-0f1046fa-f63e-4180-8e09-5357e9b0ed95\" class=\"colab-df-container\">\n",
              "    <div>\n",
              "<style scoped>\n",
              "    .dataframe tbody tr th:only-of-type {\n",
              "        vertical-align: middle;\n",
              "    }\n",
              "\n",
              "    .dataframe tbody tr th {\n",
              "        vertical-align: top;\n",
              "    }\n",
              "\n",
              "    .dataframe thead th {\n",
              "        text-align: right;\n",
              "    }\n",
              "</style>\n",
              "<table border=\"1\" class=\"dataframe\">\n",
              "  <thead>\n",
              "    <tr style=\"text-align: right;\">\n",
              "      <th></th>\n",
              "      <th>opening_price</th>\n",
              "      <th>highest_price</th>\n",
              "      <th>lowest_price</th>\n",
              "      <th>closing_price</th>\n",
              "      <th>transactions_in_blockchain</th>\n",
              "      <th>avg_block_size</th>\n",
              "      <th>sent_by_adress</th>\n",
              "      <th>avg_mining_difficulty</th>\n",
              "      <th>avg_hashrate</th>\n",
              "      <th>mining_profitability</th>\n",
              "      <th>...</th>\n",
              "      <th>avg_transaction_value</th>\n",
              "      <th>median_transaction_value</th>\n",
              "      <th>tweets</th>\n",
              "      <th>google_trends</th>\n",
              "      <th>active_addresses</th>\n",
              "      <th>top100_to_total_percentage</th>\n",
              "      <th>avg_fee_to_reward</th>\n",
              "      <th>number_of_coins_in_circulation</th>\n",
              "      <th>miner_revenue</th>\n",
              "      <th>next_day_closing_price</th>\n",
              "    </tr>\n",
              "  </thead>\n",
              "  <tbody>\n",
              "    <tr>\n",
              "      <th>count</th>\n",
              "      <td>3093.000000</td>\n",
              "      <td>3093.000000</td>\n",
              "      <td>3093.000000</td>\n",
              "      <td>3093.000000</td>\n",
              "      <td>3093.000000</td>\n",
              "      <td>3093.000000</td>\n",
              "      <td>3093.000000</td>\n",
              "      <td>3.093000e+03</td>\n",
              "      <td>3.093000e+03</td>\n",
              "      <td>3093.000000</td>\n",
              "      <td>...</td>\n",
              "      <td>3.093000e+03</td>\n",
              "      <td>3093.000000</td>\n",
              "      <td>3093.000000</td>\n",
              "      <td>3093.000000</td>\n",
              "      <td>3.093000e+03</td>\n",
              "      <td>3093.000000</td>\n",
              "      <td>3093.000000</td>\n",
              "      <td>3.093000e+03</td>\n",
              "      <td>3.093000e+03</td>\n",
              "      <td>3093.000000</td>\n",
              "    </tr>\n",
              "    <tr>\n",
              "      <th>mean</th>\n",
              "      <td>7478.787423</td>\n",
              "      <td>7704.451859</td>\n",
              "      <td>7228.984028</td>\n",
              "      <td>7494.347559</td>\n",
              "      <td>212004.408018</td>\n",
              "      <td>644307.604591</td>\n",
              "      <td>315140.438733</td>\n",
              "      <td>5.416214e+12</td>\n",
              "      <td>3.923394e+19</td>\n",
              "      <td>211.641951</td>\n",
              "      <td>...</td>\n",
              "      <td>5.289076e+04</td>\n",
              "      <td>350.846155</td>\n",
              "      <td>35889.309787</td>\n",
              "      <td>44.134386</td>\n",
              "      <td>4.917852e+05</td>\n",
              "      <td>17.890455</td>\n",
              "      <td>4.084758</td>\n",
              "      <td>1.591747e+07</td>\n",
              "      <td>1.054620e+07</td>\n",
              "      <td>7509.615584</td>\n",
              "    </tr>\n",
              "    <tr>\n",
              "      <th>std</th>\n",
              "      <td>12404.192142</td>\n",
              "      <td>12790.358177</td>\n",
              "      <td>11965.543777</td>\n",
              "      <td>12425.151723</td>\n",
              "      <td>102204.862259</td>\n",
              "      <td>273438.916788</td>\n",
              "      <td>152655.587696</td>\n",
              "      <td>7.181598e+12</td>\n",
              "      <td>5.172006e+19</td>\n",
              "      <td>1003.429879</td>\n",
              "      <td>...</td>\n",
              "      <td>1.223717e+05</td>\n",
              "      <td>459.933644</td>\n",
              "      <td>30663.425155</td>\n",
              "      <td>56.718282</td>\n",
              "      <td>2.617263e+05</td>\n",
              "      <td>2.384311</td>\n",
              "      <td>5.462011</td>\n",
              "      <td>2.255772e+06</td>\n",
              "      <td>1.320106e+07</td>\n",
              "      <td>12445.065991</td>\n",
              "    </tr>\n",
              "    <tr>\n",
              "      <th>min</th>\n",
              "      <td>68.400000</td>\n",
              "      <td>75.000000</td>\n",
              "      <td>50.000000</td>\n",
              "      <td>68.400000</td>\n",
              "      <td>30170.000000</td>\n",
              "      <td>76067.000000</td>\n",
              "      <td>30829.000000</td>\n",
              "      <td>6.695826e+06</td>\n",
              "      <td>5.181545e+13</td>\n",
              "      <td>0.063700</td>\n",
              "      <td>...</td>\n",
              "      <td>8.893450e+02</td>\n",
              "      <td>0.091700</td>\n",
              "      <td>7300.000000</td>\n",
              "      <td>3.821000</td>\n",
              "      <td>4.840200e+04</td>\n",
              "      <td>13.144000</td>\n",
              "      <td>0.183000</td>\n",
              "      <td>1.097528e+07</td>\n",
              "      <td>3.099004e+05</td>\n",
              "      <td>68.400000</td>\n",
              "    </tr>\n",
              "    <tr>\n",
              "      <th>25%</th>\n",
              "      <td>427.100000</td>\n",
              "      <td>435.300000</td>\n",
              "      <td>417.100000</td>\n",
              "      <td>427.300000</td>\n",
              "      <td>106160.000000</td>\n",
              "      <td>410596.000000</td>\n",
              "      <td>173768.000000</td>\n",
              "      <td>4.764340e+10</td>\n",
              "      <td>3.506746e+17</td>\n",
              "      <td>0.241000</td>\n",
              "      <td>...</td>\n",
              "      <td>4.389000e+03</td>\n",
              "      <td>110.480000</td>\n",
              "      <td>18727.000000</td>\n",
              "      <td>8.707000</td>\n",
              "      <td>2.362800e+05</td>\n",
              "      <td>15.458000</td>\n",
              "      <td>0.718000</td>\n",
              "      <td>1.416458e+07</td>\n",
              "      <td>1.458738e+06</td>\n",
              "      <td>427.600000</td>\n",
              "    </tr>\n",
              "    <tr>\n",
              "      <th>50%</th>\n",
              "      <td>2541.600000</td>\n",
              "      <td>2617.500000</td>\n",
              "      <td>2472.400000</td>\n",
              "      <td>2545.400000</td>\n",
              "      <td>229295.000000</td>\n",
              "      <td>730092.000000</td>\n",
              "      <td>335962.000000</td>\n",
              "      <td>7.086595e+11</td>\n",
              "      <td>5.168519e+18</td>\n",
              "      <td>0.776000</td>\n",
              "      <td>...</td>\n",
              "      <td>1.559100e+04</td>\n",
              "      <td>206.481000</td>\n",
              "      <td>25897.000000</td>\n",
              "      <td>29.850000</td>\n",
              "      <td>5.161620e+05</td>\n",
              "      <td>18.639000</td>\n",
              "      <td>1.447000</td>\n",
              "      <td>1.640969e+07</td>\n",
              "      <td>5.461151e+06</td>\n",
              "      <td>2558.400000</td>\n",
              "    </tr>\n",
              "    <tr>\n",
              "      <th>75%</th>\n",
              "      <td>8820.100000</td>\n",
              "      <td>9040.300000</td>\n",
              "      <td>8610.800000</td>\n",
              "      <td>8821.600000</td>\n",
              "      <td>296817.000000</td>\n",
              "      <td>880952.000000</td>\n",
              "      <td>428831.000000</td>\n",
              "      <td>9.985348e+12</td>\n",
              "      <td>7.263994e+19</td>\n",
              "      <td>2.719000</td>\n",
              "      <td>...</td>\n",
              "      <td>3.674800e+04</td>\n",
              "      <td>453.410000</td>\n",
              "      <td>39572.772727</td>\n",
              "      <td>49.354000</td>\n",
              "      <td>6.728410e+05</td>\n",
              "      <td>19.834000</td>\n",
              "      <td>5.547000</td>\n",
              "      <td>1.786376e+07</td>\n",
              "      <td>1.478203e+07</td>\n",
              "      <td>8829.200000</td>\n",
              "    </tr>\n",
              "    <tr>\n",
              "      <th>max</th>\n",
              "      <td>63544.200000</td>\n",
              "      <td>64778.000000</td>\n",
              "      <td>62067.500000</td>\n",
              "      <td>63540.900000</td>\n",
              "      <td>490459.000000</td>\n",
              "      <td>998092.000000</td>\n",
              "      <td>730199.000000</td>\n",
              "      <td>2.504649e+13</td>\n",
              "      <td>1.976095e+20</td>\n",
              "      <td>13352.000000</td>\n",
              "      <td>...</td>\n",
              "      <td>1.932378e+06</td>\n",
              "      <td>5417.000000</td>\n",
              "      <td>363566.000000</td>\n",
              "      <td>616.867000</td>\n",
              "      <td>1.196069e+06</td>\n",
              "      <td>22.081000</td>\n",
              "      <td>43.580000</td>\n",
              "      <td>1.881966e+07</td>\n",
              "      <td>8.017224e+07</td>\n",
              "      <td>63540.900000</td>\n",
              "    </tr>\n",
              "  </tbody>\n",
              "</table>\n",
              "<p>8 rows × 24 columns</p>\n",
              "</div>\n",
              "    <div class=\"colab-df-buttons\">\n",
              "\n",
              "  <div class=\"colab-df-container\">\n",
              "    <button class=\"colab-df-convert\" onclick=\"convertToInteractive('df-0f1046fa-f63e-4180-8e09-5357e9b0ed95')\"\n",
              "            title=\"Convert this dataframe to an interactive table.\"\n",
              "            style=\"display:none;\">\n",
              "\n",
              "  <svg xmlns=\"http://www.w3.org/2000/svg\" height=\"24px\" viewBox=\"0 -960 960 960\">\n",
              "    <path d=\"M120-120v-720h720v720H120Zm60-500h600v-160H180v160Zm220 220h160v-160H400v160Zm0 220h160v-160H400v160ZM180-400h160v-160H180v160Zm440 0h160v-160H620v160ZM180-180h160v-160H180v160Zm440 0h160v-160H620v160Z\"/>\n",
              "  </svg>\n",
              "    </button>\n",
              "\n",
              "  <style>\n",
              "    .colab-df-container {\n",
              "      display:flex;\n",
              "      gap: 12px;\n",
              "    }\n",
              "\n",
              "    .colab-df-convert {\n",
              "      background-color: #E8F0FE;\n",
              "      border: none;\n",
              "      border-radius: 50%;\n",
              "      cursor: pointer;\n",
              "      display: none;\n",
              "      fill: #1967D2;\n",
              "      height: 32px;\n",
              "      padding: 0 0 0 0;\n",
              "      width: 32px;\n",
              "    }\n",
              "\n",
              "    .colab-df-convert:hover {\n",
              "      background-color: #E2EBFA;\n",
              "      box-shadow: 0px 1px 2px rgba(60, 64, 67, 0.3), 0px 1px 3px 1px rgba(60, 64, 67, 0.15);\n",
              "      fill: #174EA6;\n",
              "    }\n",
              "\n",
              "    .colab-df-buttons div {\n",
              "      margin-bottom: 4px;\n",
              "    }\n",
              "\n",
              "    [theme=dark] .colab-df-convert {\n",
              "      background-color: #3B4455;\n",
              "      fill: #D2E3FC;\n",
              "    }\n",
              "\n",
              "    [theme=dark] .colab-df-convert:hover {\n",
              "      background-color: #434B5C;\n",
              "      box-shadow: 0px 1px 3px 1px rgba(0, 0, 0, 0.15);\n",
              "      filter: drop-shadow(0px 1px 2px rgba(0, 0, 0, 0.3));\n",
              "      fill: #FFFFFF;\n",
              "    }\n",
              "  </style>\n",
              "\n",
              "    <script>\n",
              "      const buttonEl =\n",
              "        document.querySelector('#df-0f1046fa-f63e-4180-8e09-5357e9b0ed95 button.colab-df-convert');\n",
              "      buttonEl.style.display =\n",
              "        google.colab.kernel.accessAllowed ? 'block' : 'none';\n",
              "\n",
              "      async function convertToInteractive(key) {\n",
              "        const element = document.querySelector('#df-0f1046fa-f63e-4180-8e09-5357e9b0ed95');\n",
              "        const dataTable =\n",
              "          await google.colab.kernel.invokeFunction('convertToInteractive',\n",
              "                                                    [key], {});\n",
              "        if (!dataTable) return;\n",
              "\n",
              "        const docLinkHtml = 'Like what you see? Visit the ' +\n",
              "          '<a target=\"_blank\" href=https://colab.research.google.com/notebooks/data_table.ipynb>data table notebook</a>'\n",
              "          + ' to learn more about interactive tables.';\n",
              "        element.innerHTML = '';\n",
              "        dataTable['output_type'] = 'display_data';\n",
              "        await google.colab.output.renderOutput(dataTable, element);\n",
              "        const docLink = document.createElement('div');\n",
              "        docLink.innerHTML = docLinkHtml;\n",
              "        element.appendChild(docLink);\n",
              "      }\n",
              "    </script>\n",
              "  </div>\n",
              "\n",
              "\n",
              "<div id=\"df-e61b1fcf-701c-48aa-b3f5-2cbac0230ec8\">\n",
              "  <button class=\"colab-df-quickchart\" onclick=\"quickchart('df-e61b1fcf-701c-48aa-b3f5-2cbac0230ec8')\"\n",
              "            title=\"Suggest charts\"\n",
              "            style=\"display:none;\">\n",
              "\n",
              "<svg xmlns=\"http://www.w3.org/2000/svg\" height=\"24px\"viewBox=\"0 0 24 24\"\n",
              "     width=\"24px\">\n",
              "    <g>\n",
              "        <path d=\"M19 3H5c-1.1 0-2 .9-2 2v14c0 1.1.9 2 2 2h14c1.1 0 2-.9 2-2V5c0-1.1-.9-2-2-2zM9 17H7v-7h2v7zm4 0h-2V7h2v10zm4 0h-2v-4h2v4z\"/>\n",
              "    </g>\n",
              "</svg>\n",
              "  </button>\n",
              "\n",
              "<style>\n",
              "  .colab-df-quickchart {\n",
              "      --bg-color: #E8F0FE;\n",
              "      --fill-color: #1967D2;\n",
              "      --hover-bg-color: #E2EBFA;\n",
              "      --hover-fill-color: #174EA6;\n",
              "      --disabled-fill-color: #AAA;\n",
              "      --disabled-bg-color: #DDD;\n",
              "  }\n",
              "\n",
              "  [theme=dark] .colab-df-quickchart {\n",
              "      --bg-color: #3B4455;\n",
              "      --fill-color: #D2E3FC;\n",
              "      --hover-bg-color: #434B5C;\n",
              "      --hover-fill-color: #FFFFFF;\n",
              "      --disabled-bg-color: #3B4455;\n",
              "      --disabled-fill-color: #666;\n",
              "  }\n",
              "\n",
              "  .colab-df-quickchart {\n",
              "    background-color: var(--bg-color);\n",
              "    border: none;\n",
              "    border-radius: 50%;\n",
              "    cursor: pointer;\n",
              "    display: none;\n",
              "    fill: var(--fill-color);\n",
              "    height: 32px;\n",
              "    padding: 0;\n",
              "    width: 32px;\n",
              "  }\n",
              "\n",
              "  .colab-df-quickchart:hover {\n",
              "    background-color: var(--hover-bg-color);\n",
              "    box-shadow: 0 1px 2px rgba(60, 64, 67, 0.3), 0 1px 3px 1px rgba(60, 64, 67, 0.15);\n",
              "    fill: var(--button-hover-fill-color);\n",
              "  }\n",
              "\n",
              "  .colab-df-quickchart-complete:disabled,\n",
              "  .colab-df-quickchart-complete:disabled:hover {\n",
              "    background-color: var(--disabled-bg-color);\n",
              "    fill: var(--disabled-fill-color);\n",
              "    box-shadow: none;\n",
              "  }\n",
              "\n",
              "  .colab-df-spinner {\n",
              "    border: 2px solid var(--fill-color);\n",
              "    border-color: transparent;\n",
              "    border-bottom-color: var(--fill-color);\n",
              "    animation:\n",
              "      spin 1s steps(1) infinite;\n",
              "  }\n",
              "\n",
              "  @keyframes spin {\n",
              "    0% {\n",
              "      border-color: transparent;\n",
              "      border-bottom-color: var(--fill-color);\n",
              "      border-left-color: var(--fill-color);\n",
              "    }\n",
              "    20% {\n",
              "      border-color: transparent;\n",
              "      border-left-color: var(--fill-color);\n",
              "      border-top-color: var(--fill-color);\n",
              "    }\n",
              "    30% {\n",
              "      border-color: transparent;\n",
              "      border-left-color: var(--fill-color);\n",
              "      border-top-color: var(--fill-color);\n",
              "      border-right-color: var(--fill-color);\n",
              "    }\n",
              "    40% {\n",
              "      border-color: transparent;\n",
              "      border-right-color: var(--fill-color);\n",
              "      border-top-color: var(--fill-color);\n",
              "    }\n",
              "    60% {\n",
              "      border-color: transparent;\n",
              "      border-right-color: var(--fill-color);\n",
              "    }\n",
              "    80% {\n",
              "      border-color: transparent;\n",
              "      border-right-color: var(--fill-color);\n",
              "      border-bottom-color: var(--fill-color);\n",
              "    }\n",
              "    90% {\n",
              "      border-color: transparent;\n",
              "      border-bottom-color: var(--fill-color);\n",
              "    }\n",
              "  }\n",
              "</style>\n",
              "\n",
              "  <script>\n",
              "    async function quickchart(key) {\n",
              "      const quickchartButtonEl =\n",
              "        document.querySelector('#' + key + ' button');\n",
              "      quickchartButtonEl.disabled = true;  // To prevent multiple clicks.\n",
              "      quickchartButtonEl.classList.add('colab-df-spinner');\n",
              "      try {\n",
              "        const charts = await google.colab.kernel.invokeFunction(\n",
              "            'suggestCharts', [key], {});\n",
              "      } catch (error) {\n",
              "        console.error('Error during call to suggestCharts:', error);\n",
              "      }\n",
              "      quickchartButtonEl.classList.remove('colab-df-spinner');\n",
              "      quickchartButtonEl.classList.add('colab-df-quickchart-complete');\n",
              "    }\n",
              "    (() => {\n",
              "      let quickchartButtonEl =\n",
              "        document.querySelector('#df-e61b1fcf-701c-48aa-b3f5-2cbac0230ec8 button');\n",
              "      quickchartButtonEl.style.display =\n",
              "        google.colab.kernel.accessAllowed ? 'block' : 'none';\n",
              "    })();\n",
              "  </script>\n",
              "</div>\n",
              "\n",
              "    </div>\n",
              "  </div>\n"
            ],
            "application/vnd.google.colaboratory.intrinsic+json": {
              "type": "dataframe"
            }
          },
          "metadata": {},
          "execution_count": 29
        }
      ]
    },
    {
      "cell_type": "markdown",
      "source": [
        "## **Data Visualization**"
      ],
      "metadata": {
        "id": "oBGX4Ekniriz"
      }
    },
    {
      "cell_type": "code",
      "source": [
        "bitCoin_price['highest_price'].hist()"
      ],
      "metadata": {
        "colab": {
          "base_uri": "https://localhost:8080/",
          "height": 450
        },
        "id": "35eruf5gKZDX",
        "outputId": "5e96ccc0-53b9-478f-ec8d-f6b4633fdf58"
      },
      "execution_count": 47,
      "outputs": [
        {
          "output_type": "execute_result",
          "data": {
            "text/plain": [
              "<Axes: >"
            ]
          },
          "metadata": {},
          "execution_count": 47
        },
        {
          "output_type": "display_data",
          "data": {
            "text/plain": [
              "<Figure size 640x480 with 1 Axes>"
            ],
            "image/png": "[encoded data removed]"
          },
          "metadata": {}
        }
      ]
    },
    {
      "cell_type": "code",
      "source": [
        "bitCoin_price['opening_price'].hist()"
      ],
      "metadata": {
        "colab": {
          "base_uri": "https://localhost:8080/",
          "height": 450
        },
        "id": "qb1wLCUIKrEz",
        "outputId": "75f9367d-1ed5-490f-b3df-e9f9ff3c37fb"
      },
      "execution_count": 48,
      "outputs": [
        {
          "output_type": "execute_result",
          "data": {
            "text/plain": [
              "<Axes: >"
            ]
          },
          "metadata": {},
          "execution_count": 48
        },
        {
          "output_type": "display_data",
          "data": {
            "text/plain": [
              "<Figure size 640x480 with 1 Axes>"
            ],
            "image/png": "[encoded data removed]"
          },
          "metadata": {}
        }
      ]
    },
    {
      "cell_type": "code",
      "source": [
        "bitCoin_price['transactions_in_blockchain'].hist()"
      ],
      "metadata": {
        "colab": {
          "base_uri": "https://localhost:8080/",
          "height": 447
        },
        "id": "81VKylL8KzD8",
        "outputId": "f631ee9a-20df-427c-9c5e-dbce0e8216df"
      },
      "execution_count": 49,
      "outputs": [
        {
          "output_type": "execute_result",
          "data": {
            "text/plain": [
              "<Axes: >"
            ]
          },
          "metadata": {},
          "execution_count": 49
        },
        {
          "output_type": "display_data",
          "data": {
            "text/plain": [
              "<Figure size 640x480 with 1 Axes>"
            ],
            "image/png": "[encoded data removed]"
          },
          "metadata": {}
        }
      ]
    },
    {
      "cell_type": "code",
      "source": [
        "bitCoin_price['avg_block_size'].hist()"
      ],
      "metadata": {
        "colab": {
          "base_uri": "https://localhost:8080/",
          "height": 465
        },
        "id": "IOjQbC6xLCgf",
        "outputId": "9ccb3427-e454-47ce-d5e8-a8bd5242cbcb"
      },
      "execution_count": 50,
      "outputs": [
        {
          "output_type": "execute_result",
          "data": {
            "text/plain": [
              "<Axes: >"
            ]
          },
          "metadata": {},
          "execution_count": 50
        },
        {
          "output_type": "display_data",
          "data": {
            "text/plain": [
              "<Figure size 640x480 with 1 Axes>"
            ],
            "image/png": "[encoded data removed]"
          },
          "metadata": {}
        }
      ]
    },
    {
      "cell_type": "code",
      "source": [
        "bitCoin_price['next_day_closing_price'].hist()"
      ],
      "metadata": {
        "colab": {
          "base_uri": "https://localhost:8080/",
          "height": 450
        },
        "id": "38yiee7CLFzs",
        "outputId": "1199f016-d69d-4d3c-f7e7-13d392bca2a4"
      },
      "execution_count": 51,
      "outputs": [
        {
          "output_type": "execute_result",
          "data": {
            "text/plain": [
              "<Axes: >"
            ]
          },
          "metadata": {},
          "execution_count": 51
        },
        {
          "output_type": "display_data",
          "data": {
            "text/plain": [
              "<Figure size 640x480 with 1 Axes>"
            ],
            "image/png": "[encoded data removed]"
          },
          "metadata": {}
        }
      ]
    },
    {
      "cell_type": "code",
      "source": [
        "bitCoin_price.head()"
      ],
      "metadata": {
        "id": "lW-OIRK0iuzO",
        "colab": {
          "base_uri": "https://localhost:8080/",
          "height": 342
        },
        "outputId": "53494d84-14fc-476d-f9dd-1c8678690f4c"
      },
      "execution_count": 30,
      "outputs": [
        {
          "output_type": "execute_result",
          "data": {
            "text/plain": [
              "         Date  opening_price  highest_price  lowest_price  closing_price  \\\n",
              "0  2013-04-01           93.0          106.0          92.2          104.0   \n",
              "1  2013-04-02          104.0          118.4          99.0          118.0   \n",
              "2  2013-04-03          118.0          147.0         110.0          135.0   \n",
              "3  2013-04-04          135.0          142.1         116.4          132.1   \n",
              "4  2013-04-05          132.1          144.9         130.2          142.3   \n",
              "\n",
              "   transactions_in_blockchain  avg_block_size  sent_by_adress  \\\n",
              "0                       52572          139256           48809   \n",
              "1                       63095          175443           62276   \n",
              "2                       63766          184209           69174   \n",
              "3                       66738          221568           71753   \n",
              "4                       61215          190067           69310   \n",
              "\n",
              "   avg_mining_difficulty  avg_hashrate  ...  avg_transaction_value  \\\n",
              "0                6695826  6.550211e+13  ...                 2592.0   \n",
              "1                6695826  6.184560e+13  ...                 4400.0   \n",
              "2                6695826  6.027037e+13  ...                 4478.0   \n",
              "3                6695826  5.527246e+13  ...                 4249.0   \n",
              "4                7005058  5.181545e+13  ...                 4348.0   \n",
              "\n",
              "   median_transaction_value  tweets  google_trends  active_addresses  \\\n",
              "0                    64.987  8193.0         15.248           75756.0   \n",
              "1                    94.955  8193.0         17.192           91875.0   \n",
              "2                   102.533  8193.0         26.608          107142.0   \n",
              "3                   123.314  8193.0         24.681          108890.0   \n",
              "4                   125.183  8193.0         20.514          100034.0   \n",
              "\n",
              "   top100_to_total_percentage  avg_fee_to_reward  \\\n",
              "0                      19.962              0.867   \n",
              "1                      20.024              1.338   \n",
              "2                      19.987              1.596   \n",
              "3                      19.990              1.948   \n",
              "4                      19.833              1.432   \n",
              "\n",
              "   number_of_coins_in_circulation  miner_revenue  next_day_closing_price  \n",
              "0                      10975275.0  481891.360000                   118.0  \n",
              "1                      10988125.0  531299.503749                   135.0  \n",
              "2                      10986575.0  538423.880210                   132.1  \n",
              "3                      10995725.0  525157.600000                   142.3  \n",
              "4                      10999925.0  606454.781556                   142.6  \n",
              "\n",
              "[5 rows x 25 columns]"
            ],
            "text/html": [
              "\n",
              "  <div id=\"df-bde2f904-fce2-4d89-860c-b63ba71d9935\" class=\"colab-df-container\">\n",
              "    <div>\n",
              "<style scoped>\n",
              "    .dataframe tbody tr th:only-of-type {\n",
              "        vertical-align: middle;\n",
              "    }\n",
              "\n",
              "    .dataframe tbody tr th {\n",
              "        vertical-align: top;\n",
              "    }\n",
              "\n",
              "    .dataframe thead th {\n",
              "        text-align: right;\n",
              "    }\n",
              "</style>\n",
              "<table border=\"1\" class=\"dataframe\">\n",
              "  <thead>\n",
              "    <tr style=\"text-align: right;\">\n",
              "      <th></th>\n",
              "      <th>Date</th>\n",
              "      <th>opening_price</th>\n",
              "      <th>highest_price</th>\n",
              "      <th>lowest_price</th>\n",
              "      <th>closing_price</th>\n",
              "      <th>transactions_in_blockchain</th>\n",
              "      <th>avg_block_size</th>\n",
              "      <th>sent_by_adress</th>\n",
              "      <th>avg_mining_difficulty</th>\n",
              "      <th>avg_hashrate</th>\n",
              "      <th>...</th>\n",
              "      <th>avg_transaction_value</th>\n",
              "      <th>median_transaction_value</th>\n",
              "      <th>tweets</th>\n",
              "      <th>google_trends</th>\n",
              "      <th>active_addresses</th>\n",
              "      <th>top100_to_total_percentage</th>\n",
              "      <th>avg_fee_to_reward</th>\n",
              "      <th>number_of_coins_in_circulation</th>\n",
              "      <th>miner_revenue</th>\n",
              "      <th>next_day_closing_price</th>\n",
              "    </tr>\n",
              "  </thead>\n",
              "  <tbody>\n",
              "    <tr>\n",
              "      <th>0</th>\n",
              "      <td>2013-04-01</td>\n",
              "      <td>93.0</td>\n",
              "      <td>106.0</td>\n",
              "      <td>92.2</td>\n",
              "      <td>104.0</td>\n",
              "      <td>52572</td>\n",
              "      <td>139256</td>\n",
              "      <td>48809</td>\n",
              "      <td>6695826</td>\n",
              "      <td>6.550211e+13</td>\n",
              "      <td>...</td>\n",
              "      <td>2592.0</td>\n",
              "      <td>64.987</td>\n",
              "      <td>8193.0</td>\n",
              "      <td>15.248</td>\n",
              "      <td>75756.0</td>\n",
              "      <td>19.962</td>\n",
              "      <td>0.867</td>\n",
              "      <td>10975275.0</td>\n",
              "      <td>481891.360000</td>\n",
              "      <td>118.0</td>\n",
              "    </tr>\n",
              "    <tr>\n",
              "      <th>1</th>\n",
              "      <td>2013-04-02</td>\n",
              "      <td>104.0</td>\n",
              "      <td>118.4</td>\n",
              "      <td>99.0</td>\n",
              "      <td>118.0</td>\n",
              "      <td>63095</td>\n",
              "      <td>175443</td>\n",
              "      <td>62276</td>\n",
              "      <td>6695826</td>\n",
              "      <td>6.184560e+13</td>\n",
              "      <td>...</td>\n",
              "      <td>4400.0</td>\n",
              "      <td>94.955</td>\n",
              "      <td>8193.0</td>\n",
              "      <td>17.192</td>\n",
              "      <td>91875.0</td>\n",
              "      <td>20.024</td>\n",
              "      <td>1.338</td>\n",
              "      <td>10988125.0</td>\n",
              "      <td>531299.503749</td>\n",
              "      <td>135.0</td>\n",
              "    </tr>\n",
              "    <tr>\n",
              "      <th>2</th>\n",
              "      <td>2013-04-03</td>\n",
              "      <td>118.0</td>\n",
              "      <td>147.0</td>\n",
              "      <td>110.0</td>\n",
              "      <td>135.0</td>\n",
              "      <td>63766</td>\n",
              "      <td>184209</td>\n",
              "      <td>69174</td>\n",
              "      <td>6695826</td>\n",
              "      <td>6.027037e+13</td>\n",
              "      <td>...</td>\n",
              "      <td>4478.0</td>\n",
              "      <td>102.533</td>\n",
              "      <td>8193.0</td>\n",
              "      <td>26.608</td>\n",
              "      <td>107142.0</td>\n",
              "      <td>19.987</td>\n",
              "      <td>1.596</td>\n",
              "      <td>10986575.0</td>\n",
              "      <td>538423.880210</td>\n",
              "      <td>132.1</td>\n",
              "    </tr>\n",
              "    <tr>\n",
              "      <th>3</th>\n",
              "      <td>2013-04-04</td>\n",
              "      <td>135.0</td>\n",
              "      <td>142.1</td>\n",
              "      <td>116.4</td>\n",
              "      <td>132.1</td>\n",
              "      <td>66738</td>\n",
              "      <td>221568</td>\n",
              "      <td>71753</td>\n",
              "      <td>6695826</td>\n",
              "      <td>5.527246e+13</td>\n",
              "      <td>...</td>\n",
              "      <td>4249.0</td>\n",
              "      <td>123.314</td>\n",
              "      <td>8193.0</td>\n",
              "      <td>24.681</td>\n",
              "      <td>108890.0</td>\n",
              "      <td>19.990</td>\n",
              "      <td>1.948</td>\n",
              "      <td>10995725.0</td>\n",
              "      <td>525157.600000</td>\n",
              "      <td>142.3</td>\n",
              "    </tr>\n",
              "    <tr>\n",
              "      <th>4</th>\n",
              "      <td>2013-04-05</td>\n",
              "      <td>132.1</td>\n",
              "      <td>144.9</td>\n",
              "      <td>130.2</td>\n",
              "      <td>142.3</td>\n",
              "      <td>61215</td>\n",
              "      <td>190067</td>\n",
              "      <td>69310</td>\n",
              "      <td>7005058</td>\n",
              "      <td>5.181545e+13</td>\n",
              "      <td>...</td>\n",
              "      <td>4348.0</td>\n",
              "      <td>125.183</td>\n",
              "      <td>8193.0</td>\n",
              "      <td>20.514</td>\n",
              "      <td>100034.0</td>\n",
              "      <td>19.833</td>\n",
              "      <td>1.432</td>\n",
              "      <td>10999925.0</td>\n",
              "      <td>606454.781556</td>\n",
              "      <td>142.6</td>\n",
              "    </tr>\n",
              "  </tbody>\n",
              "</table>\n",
              "<p>5 rows × 25 columns</p>\n",
              "</div>\n",
              "    <div class=\"colab-df-buttons\">\n",
              "\n",
              "  <div class=\"colab-df-container\">\n",
              "    <button class=\"colab-df-convert\" onclick=\"convertToInteractive('df-bde2f904-fce2-4d89-860c-b63ba71d9935')\"\n",
              "            title=\"Convert this dataframe to an interactive table.\"\n",
              "            style=\"display:none;\">\n",
              "\n",
              "  <svg xmlns=\"http://www.w3.org/2000/svg\" height=\"24px\" viewBox=\"0 -960 960 960\">\n",
              "    <path d=\"M120-120v-720h720v720H120Zm60-500h600v-160H180v160Zm220 220h160v-160H400v160Zm0 220h160v-160H400v160ZM180-400h160v-160H180v160Zm440 0h160v-160H620v160ZM180-180h160v-160H180v160Zm440 0h160v-160H620v160Z\"/>\n",
              "  </svg>\n",
              "    </button>\n",
              "\n",
              "  <style>\n",
              "    .colab-df-container {\n",
              "      display:flex;\n",
              "      gap: 12px;\n",
              "    }\n",
              "\n",
              "    .colab-df-convert {\n",
              "      background-color: #E8F0FE;\n",
              "      border: none;\n",
              "      border-radius: 50%;\n",
              "      cursor: pointer;\n",
              "      display: none;\n",
              "      fill: #1967D2;\n",
              "      height: 32px;\n",
              "      padding: 0 0 0 0;\n",
              "      width: 32px;\n",
              "    }\n",
              "\n",
              "    .colab-df-convert:hover {\n",
              "      background-color: #E2EBFA;\n",
              "      box-shadow: 0px 1px 2px rgba(60, 64, 67, 0.3), 0px 1px 3px 1px rgba(60, 64, 67, 0.15);\n",
              "      fill: #174EA6;\n",
              "    }\n",
              "\n",
              "    .colab-df-buttons div {\n",
              "      margin-bottom: 4px;\n",
              "    }\n",
              "\n",
              "    [theme=dark] .colab-df-convert {\n",
              "      background-color: #3B4455;\n",
              "      fill: #D2E3FC;\n",
              "    }\n",
              "\n",
              "    [theme=dark] .colab-df-convert:hover {\n",
              "      background-color: #434B5C;\n",
              "      box-shadow: 0px 1px 3px 1px rgba(0, 0, 0, 0.15);\n",
              "      filter: drop-shadow(0px 1px 2px rgba(0, 0, 0, 0.3));\n",
              "      fill: #FFFFFF;\n",
              "    }\n",
              "  </style>\n",
              "\n",
              "    <script>\n",
              "      const buttonEl =\n",
              "        document.querySelector('#df-bde2f904-fce2-4d89-860c-b63ba71d9935 button.colab-df-convert');\n",
              "      buttonEl.style.display =\n",
              "        google.colab.kernel.accessAllowed ? 'block' : 'none';\n",
              "\n",
              "      async function convertToInteractive(key) {\n",
              "        const element = document.querySelector('#df-bde2f904-fce2-4d89-860c-b63ba71d9935');\n",
              "        const dataTable =\n",
              "          await google.colab.kernel.invokeFunction('convertToInteractive',\n",
              "                                                    [key], {});\n",
              "        if (!dataTable) return;\n",
              "\n",
              "        const docLinkHtml = 'Like what you see? Visit the ' +\n",
              "          '<a target=\"_blank\" href=https://colab.research.google.com/notebooks/data_table.ipynb>data table notebook</a>'\n",
              "          + ' to learn more about interactive tables.';\n",
              "        element.innerHTML = '';\n",
              "        dataTable['output_type'] = 'display_data';\n",
              "        await google.colab.output.renderOutput(dataTable, element);\n",
              "        const docLink = document.createElement('div');\n",
              "        docLink.innerHTML = docLinkHtml;\n",
              "        element.appendChild(docLink);\n",
              "      }\n",
              "    </script>\n",
              "  </div>\n",
              "\n",
              "\n",
              "<div id=\"df-f4b05951-d995-4ce8-8354-fb839ef0a73e\">\n",
              "  <button class=\"colab-df-quickchart\" onclick=\"quickchart('df-f4b05951-d995-4ce8-8354-fb839ef0a73e')\"\n",
              "            title=\"Suggest charts\"\n",
              "            style=\"display:none;\">\n",
              "\n",
              "<svg xmlns=\"http://www.w3.org/2000/svg\" height=\"24px\"viewBox=\"0 0 24 24\"\n",
              "     width=\"24px\">\n",
              "    <g>\n",
              "        <path d=\"M19 3H5c-1.1 0-2 .9-2 2v14c0 1.1.9 2 2 2h14c1.1 0 2-.9 2-2V5c0-1.1-.9-2-2-2zM9 17H7v-7h2v7zm4 0h-2V7h2v10zm4 0h-2v-4h2v4z\"/>\n",
              "    </g>\n",
              "</svg>\n",
              "  </button>\n",
              "\n",
              "<style>\n",
              "  .colab-df-quickchart {\n",
              "      --bg-color: #E8F0FE;\n",
              "      --fill-color: #1967D2;\n",
              "      --hover-bg-color: #E2EBFA;\n",
              "      --hover-fill-color: #174EA6;\n",
              "      --disabled-fill-color: #AAA;\n",
              "      --disabled-bg-color: #DDD;\n",
              "  }\n",
              "\n",
              "  [theme=dark] .colab-df-quickchart {\n",
              "      --bg-color: #3B4455;\n",
              "      --fill-color: #D2E3FC;\n",
              "      --hover-bg-color: #434B5C;\n",
              "      --hover-fill-color: #FFFFFF;\n",
              "      --disabled-bg-color: #3B4455;\n",
              "      --disabled-fill-color: #666;\n",
              "  }\n",
              "\n",
              "  .colab-df-quickchart {\n",
              "    background-color: var(--bg-color);\n",
              "    border: none;\n",
              "    border-radius: 50%;\n",
              "    cursor: pointer;\n",
              "    display: none;\n",
              "    fill: var(--fill-color);\n",
              "    height: 32px;\n",
              "    padding: 0;\n",
              "    width: 32px;\n",
              "  }\n",
              "\n",
              "  .colab-df-quickchart:hover {\n",
              "    background-color: var(--hover-bg-color);\n",
              "    box-shadow: 0 1px 2px rgba(60, 64, 67, 0.3), 0 1px 3px 1px rgba(60, 64, 67, 0.15);\n",
              "    fill: var(--button-hover-fill-color);\n",
              "  }\n",
              "\n",
              "  .colab-df-quickchart-complete:disabled,\n",
              "  .colab-df-quickchart-complete:disabled:hover {\n",
              "    background-color: var(--disabled-bg-color);\n",
              "    fill: var(--disabled-fill-color);\n",
              "    box-shadow: none;\n",
              "  }\n",
              "\n",
              "  .colab-df-spinner {\n",
              "    border: 2px solid var(--fill-color);\n",
              "    border-color: transparent;\n",
              "    border-bottom-color: var(--fill-color);\n",
              "    animation:\n",
              "      spin 1s steps(1) infinite;\n",
              "  }\n",
              "\n",
              "  @keyframes spin {\n",
              "    0% {\n",
              "      border-color: transparent;\n",
              "      border-bottom-color: var(--fill-color);\n",
              "      border-left-color: var(--fill-color);\n",
              "    }\n",
              "    20% {\n",
              "      border-color: transparent;\n",
              "      border-left-color: var(--fill-color);\n",
              "      border-top-color: var(--fill-color);\n",
              "    }\n",
              "    30% {\n",
              "      border-color: transparent;\n",
              "      border-left-color: var(--fill-color);\n",
              "      border-top-color: var(--fill-color);\n",
              "      border-right-color: var(--fill-color);\n",
              "    }\n",
              "    40% {\n",
              "      border-color: transparent;\n",
              "      border-right-color: var(--fill-color);\n",
              "      border-top-color: var(--fill-color);\n",
              "    }\n",
              "    60% {\n",
              "      border-color: transparent;\n",
              "      border-right-color: var(--fill-color);\n",
              "    }\n",
              "    80% {\n",
              "      border-color: transparent;\n",
              "      border-right-color: var(--fill-color);\n",
              "      border-bottom-color: var(--fill-color);\n",
              "    }\n",
              "    90% {\n",
              "      border-color: transparent;\n",
              "      border-bottom-color: var(--fill-color);\n",
              "    }\n",
              "  }\n",
              "</style>\n",
              "\n",
              "  <script>\n",
              "    async function quickchart(key) {\n",
              "      const quickchartButtonEl =\n",
              "        document.querySelector('#' + key + ' button');\n",
              "      quickchartButtonEl.disabled = true;  // To prevent multiple clicks.\n",
              "      quickchartButtonEl.classList.add('colab-df-spinner');\n",
              "      try {\n",
              "        const charts = await google.colab.kernel.invokeFunction(\n",
              "            'suggestCharts', [key], {});\n",
              "      } catch (error) {\n",
              "        console.error('Error during call to suggestCharts:', error);\n",
              "      }\n",
              "      quickchartButtonEl.classList.remove('colab-df-spinner');\n",
              "      quickchartButtonEl.classList.add('colab-df-quickchart-complete');\n",
              "    }\n",
              "    (() => {\n",
              "      let quickchartButtonEl =\n",
              "        document.querySelector('#df-f4b05951-d995-4ce8-8354-fb839ef0a73e button');\n",
              "      quickchartButtonEl.style.display =\n",
              "        google.colab.kernel.accessAllowed ? 'block' : 'none';\n",
              "    })();\n",
              "  </script>\n",
              "</div>\n",
              "\n",
              "    </div>\n",
              "  </div>\n"
            ],
            "application/vnd.google.colaboratory.intrinsic+json": {
              "type": "dataframe",
              "variable_name": "bitCoin_price"
            }
          },
          "metadata": {},
          "execution_count": 30
        }
      ]
    },
    {
      "cell_type": "code",
      "source": [
        "bitCoin_price.info()"
      ],
      "metadata": {
        "colab": {
          "base_uri": "https://localhost:8080/"
        },
        "id": "3wbue_9Z9JWX",
        "outputId": "ed9fc578-209f-4904-c1ae-fd320f95257b"
      },
      "execution_count": 31,
      "outputs": [
        {
          "output_type": "stream",
          "name": "stdout",
          "text": [
            "<class 'pandas.core.frame.DataFrame'>\n",
            "RangeIndex: 3093 entries, 0 to 3092\n",
            "Data columns (total 25 columns):\n",
            " #   Column                          Non-Null Count  Dtype  \n",
            "---  ------                          --------------  -----  \n",
            " 0   Date                            3093 non-null   object \n",
            " 1   opening_price                   3093 non-null   float64\n",
            " 2   highest_price                   3093 non-null   float64\n",
            " 3   lowest_price                    3093 non-null   float64\n",
            " 4   closing_price                   3093 non-null   float64\n",
            " 5   transactions_in_blockchain      3093 non-null   int64  \n",
            " 6   avg_block_size                  3093 non-null   int64  \n",
            " 7   sent_by_adress                  3093 non-null   int64  \n",
            " 8   avg_mining_difficulty           3093 non-null   int64  \n",
            " 9   avg_hashrate                    3093 non-null   float64\n",
            " 10  mining_profitability            3093 non-null   float64\n",
            " 11  sent_coins_in_usd               3093 non-null   int64  \n",
            " 12  avg_transaction_fees            3093 non-null   float64\n",
            " 13  median_transaction_fees         3093 non-null   float64\n",
            " 14  avg_block_time                  3093 non-null   float64\n",
            " 15  avg_transaction_value           3093 non-null   float64\n",
            " 16  median_transaction_value        3093 non-null   float64\n",
            " 17  tweets                          3093 non-null   float64\n",
            " 18  google_trends                   3093 non-null   float64\n",
            " 19  active_addresses                3093 non-null   float64\n",
            " 20  top100_to_total_percentage      3093 non-null   float64\n",
            " 21  avg_fee_to_reward               3093 non-null   float64\n",
            " 22  number_of_coins_in_circulation  3093 non-null   float64\n",
            " 23  miner_revenue                   3093 non-null   float64\n",
            " 24  next_day_closing_price          3093 non-null   float64\n",
            "dtypes: float64(19), int64(5), object(1)\n",
            "memory usage: 604.2+ KB\n"
          ]
        }
      ]
    },
    {
      "cell_type": "code",
      "source": [
        "bitCoin_price.shape"
      ],
      "metadata": {
        "colab": {
          "base_uri": "https://localhost:8080/"
        },
        "id": "dFzJ3Hpl9vak",
        "outputId": "2046061d-0c96-480c-a359-cebe54e5efeb"
      },
      "execution_count": 32,
      "outputs": [
        {
          "output_type": "execute_result",
          "data": {
            "text/plain": [
              "(3093, 25)"
            ]
          },
          "metadata": {},
          "execution_count": 32
        }
      ]
    },
    {
      "cell_type": "markdown",
      "source": [
        "## **Data Preprocessing**"
      ],
      "metadata": {
        "id": "UqfyPOCYiiww"
      }
    },
    {
      "cell_type": "code",
      "source": [
        "bitCoin_price.drop(['Date', 'avg_transaction_fees', 'median_transaction_fees', 'top100_to_total_percentage', 'avg_fee_to_reward'],axis=1,inplace=True)"
      ],
      "metadata": {
        "id": "HA8Vg11FGgLS"
      },
      "execution_count": 33,
      "outputs": []
    },
    {
      "cell_type": "markdown",
      "source": [
        "## **Define Target Variable (y) and Feature Variables (X)**"
      ],
      "metadata": {
        "id": "2jXJpdAuiwYW"
      }
    },
    {
      "cell_type": "code",
      "source": [
        "bitCoin_price.columns"
      ],
      "metadata": {
        "colab": {
          "base_uri": "https://localhost:8080/"
        },
        "id": "8VtT6FnCG8bY",
        "outputId": "ada17ebe-e62a-457b-86bf-4aca9498516e"
      },
      "execution_count": 34,
      "outputs": [
        {
          "output_type": "execute_result",
          "data": {
            "text/plain": [
              "Index(['opening_price', 'highest_price', 'lowest_price', 'closing_price',\n",
              "       'transactions_in_blockchain', 'avg_block_size', 'sent_by_adress',\n",
              "       'avg_mining_difficulty', 'avg_hashrate', 'mining_profitability',\n",
              "       'sent_coins_in_usd', 'avg_block_time', 'avg_transaction_value',\n",
              "       'median_transaction_value', 'tweets', 'google_trends',\n",
              "       'active_addresses', 'number_of_coins_in_circulation', 'miner_revenue',\n",
              "       'next_day_closing_price'],\n",
              "      dtype='object')"
            ]
          },
          "metadata": {},
          "execution_count": 34
        }
      ]
    },
    {
      "cell_type": "code",
      "source": [
        "y = bitCoin_price['highest_price']\n",
        "x = bitCoin_price[['opening_price', 'lowest_price', 'closing_price',\n",
        "       'transactions_in_blockchain', 'avg_block_size', 'sent_by_adress',\n",
        "       'avg_mining_difficulty', 'avg_hashrate', 'mining_profitability',\n",
        "       'sent_coins_in_usd', 'avg_block_time', 'avg_transaction_value',\n",
        "       'median_transaction_value', 'tweets', 'google_trends',\n",
        "       'active_addresses', 'number_of_coins_in_circulation', 'miner_revenue',\n",
        "       'next_day_closing_price']]"
      ],
      "metadata": {
        "id": "QBCakTuli57t"
      },
      "execution_count": 35,
      "outputs": []
    },
    {
      "cell_type": "markdown",
      "source": [
        "## **Train Test Split**"
      ],
      "metadata": {
        "id": "90_0q_Pbi658"
      }
    },
    {
      "cell_type": "code",
      "source": [
        "from sklearn.model_selection import train_test_split\n",
        "x_train,x_test,y_train,y_test = train_test_split(x,y,test_size=0.7,random_state=2529)"
      ],
      "metadata": {
        "id": "u60YYaOFi-Dw"
      },
      "execution_count": 36,
      "outputs": []
    },
    {
      "cell_type": "code",
      "source": [
        "x_train.shape,x_test.shape,y_train.shape,y_test.shape"
      ],
      "metadata": {
        "colab": {
          "base_uri": "https://localhost:8080/"
        },
        "id": "H6yhGgLz9-kq",
        "outputId": "d989d192-9cbf-42b7-8a8c-ee601eb14d6d"
      },
      "execution_count": 37,
      "outputs": [
        {
          "output_type": "execute_result",
          "data": {
            "text/plain": [
              "((927, 19), (2166, 19), (927,), (2166,))"
            ]
          },
          "metadata": {},
          "execution_count": 37
        }
      ]
    },
    {
      "cell_type": "markdown",
      "source": [
        "## **Modeling**"
      ],
      "metadata": {
        "id": "cIhyseNria7W"
      }
    },
    {
      "cell_type": "code",
      "source": [
        "from sklearn.tree import DecisionTreeRegressor\n",
        "model = DecisionTreeRegressor()"
      ],
      "metadata": {
        "id": "Toq58wpkjCw7"
      },
      "execution_count": 38,
      "outputs": []
    },
    {
      "cell_type": "markdown",
      "source": [
        "## **Model Evaluation**"
      ],
      "metadata": {
        "id": "vhAwWfG0jFun"
      }
    },
    {
      "cell_type": "code",
      "source": [
        "model.fit(x_train,y_train)"
      ],
      "metadata": {
        "colab": {
          "base_uri": "https://localhost:8080/",
          "height": 74
        },
        "id": "Tp59LQcz-bMn",
        "outputId": "cb78a7e5-0a43-4f2f-dede-ec73d1361a59"
      },
      "execution_count": 39,
      "outputs": [
        {
          "output_type": "execute_result",
          "data": {
            "text/plain": [
              "DecisionTreeRegressor()"
            ],
            "text/html": [
              "<style>#sk-container-id-1 {color: black;}#sk-container-id-1 pre{padding: 0;}#sk-container-id-1 div.sk-toggleable {background-color: white;}#sk-container-id-1 label.sk-toggleable__label {cursor: pointer;display: block;width: 100%;margin-bottom: 0;padding: 0.3em;box-sizing: border-box;text-align: center;}#sk-container-id-1 label.sk-toggleable__label-arrow:before {content: \"▸\";float: left;margin-right: 0.25em;color: #696969;}#sk-container-id-1 label.sk-toggleable__label-arrow:hover:before {color: black;}#sk-container-id-1 div.sk-estimator:hover label.sk-toggleable__label-arrow:before {color: black;}#sk-container-id-1 div.sk-toggleable__content {max-height: 0;max-width: 0;overflow: hidden;text-align: left;background-color: #f0f8ff;}#sk-container-id-1 div.sk-toggleable__content pre {margin: 0.2em;color: black;border-radius: 0.25em;background-color: #f0f8ff;}#sk-container-id-1 input.sk-toggleable__control:checked~div.sk-toggleable__content {max-height: 200px;max-width: 100%;overflow: auto;}#sk-container-id-1 input.sk-toggleable__control:checked~label.sk-toggleable__label-arrow:before {content: \"▾\";}#sk-container-id-1 div.sk-estimator input.sk-toggleable__control:checked~label.sk-toggleable__label {background-color: #d4ebff;}#sk-container-id-1 div.sk-label input.sk-toggleable__control:checked~label.sk-toggleable__label {background-color: #d4ebff;}#sk-container-id-1 input.sk-hidden--visually {border: 0;clip: rect(1px 1px 1px 1px);clip: rect(1px, 1px, 1px, 1px);height: 1px;margin: -1px;overflow: hidden;padding: 0;position: absolute;width: 1px;}#sk-container-id-1 div.sk-estimator {font-family: monospace;background-color: #f0f8ff;border: 1px dotted black;border-radius: 0.25em;box-sizing: border-box;margin-bottom: 0.5em;}#sk-container-id-1 div.sk-estimator:hover {background-color: #d4ebff;}#sk-container-id-1 div.sk-parallel-item::after {content: \"\";width: 100%;border-bottom: 1px solid gray;flex-grow: 1;}#sk-container-id-1 div.sk-label:hover label.sk-toggleable__label {background-color: #d4ebff;}#sk-container-id-1 div.sk-serial::before {content: \"\";position: absolute;border-left: 1px solid gray;box-sizing: border-box;top: 0;bottom: 0;left: 50%;z-index: 0;}#sk-container-id-1 div.sk-serial {display: flex;flex-direction: column;align-items: center;background-color: white;padding-right: 0.2em;padding-left: 0.2em;position: relative;}#sk-container-id-1 div.sk-item {position: relative;z-index: 1;}#sk-container-id-1 div.sk-parallel {display: flex;align-items: stretch;justify-content: center;background-color: white;position: relative;}#sk-container-id-1 div.sk-item::before, #sk-container-id-1 div.sk-parallel-item::before {content: \"\";position: absolute;border-left: 1px solid gray;box-sizing: border-box;top: 0;bottom: 0;left: 50%;z-index: -1;}#sk-container-id-1 div.sk-parallel-item {display: flex;flex-direction: column;z-index: 1;position: relative;background-color: white;}#sk-container-id-1 div.sk-parallel-item:first-child::after {align-self: flex-end;width: 50%;}#sk-container-id-1 div.sk-parallel-item:last-child::after {align-self: flex-start;width: 50%;}#sk-container-id-1 div.sk-parallel-item:only-child::after {width: 0;}#sk-container-id-1 div.sk-dashed-wrapped {border: 1px dashed gray;margin: 0 0.4em 0.5em 0.4em;box-sizing: border-box;padding-bottom: 0.4em;background-color: white;}#sk-container-id-1 div.sk-label label {font-family: monospace;font-weight: bold;display: inline-block;line-height: 1.2em;}#sk-container-id-1 div.sk-label-container {text-align: center;}#sk-container-id-1 div.sk-container {/* jupyter's `normalize.less` sets `[hidden] { display: none; }` but bootstrap.min.css set `[hidden] { display: none !important; }` so we also need the `!important` here to be able to override the default hidden behavior on the sphinx rendered scikit-learn.org. See: https://github.com/scikit-learn/scikit-learn/issues/21755 */display: inline-block !important;position: relative;}#sk-container-id-1 div.sk-text-repr-fallback {display: none;}</style><div id=\"sk-container-id-1\" class=\"sk-top-container\"><div class=\"sk-text-repr-fallback\"><pre>DecisionTreeRegressor()</pre><b>In a Jupyter environment, please rerun this cell to show the HTML representation or trust the notebook. <br />On GitHub, the HTML representation is unable to render, please try loading this page with nbviewer.org.</b></div><div class=\"sk-container\" hidden><div class=\"sk-item\"><div class=\"sk-estimator sk-toggleable\"><input class=\"sk-toggleable__control sk-hidden--visually\" id=\"sk-estimator-id-1\" type=\"checkbox\" checked><label for=\"sk-estimator-id-1\" class=\"sk-toggleable__label sk-toggleable__label-arrow\">DecisionTreeRegressor</label><div class=\"sk-toggleable__content\"><pre>DecisionTreeRegressor()</pre></div></div></div></div></div>"
            ]
          },
          "metadata": {},
          "execution_count": 39
        }
      ]
    },
    {
      "cell_type": "markdown",
      "source": [
        "## **Prediction**"
      ],
      "metadata": {
        "id": "8AzwG7oLjiQI"
      }
    },
    {
      "cell_type": "code",
      "source": [
        "y_pred = model.predict(x_test)"
      ],
      "metadata": {
        "id": "JLebGzDJjknA"
      },
      "execution_count": 40,
      "outputs": []
    },
    {
      "cell_type": "code",
      "source": [
        "y_pred"
      ],
      "metadata": {
        "colab": {
          "base_uri": "https://localhost:8080/"
        },
        "id": "z3OF8y7K-pzT",
        "outputId": "1feed2b2-edc4-4044-d44c-31349c92c61a"
      },
      "execution_count": 41,
      "outputs": [
        {
          "output_type": "execute_result",
          "data": {
            "text/plain": [
              "array([ 7400.3,   273.1,   235.3, ...,  9274.8, 49191.8,  2676. ])"
            ]
          },
          "metadata": {},
          "execution_count": 41
        }
      ]
    },
    {
      "cell_type": "code",
      "source": [
        "# finding accuracy of this model using mean absolute percentange error\n",
        "from sklearn.metrics import mean_absolute_percentage_error\n",
        "error_percent = mean_absolute_percentage_error(y_test,y_pred)\n",
        "accuracy = 1 - error_percent\n",
        "print(accuracy*100)\n"
      ],
      "metadata": {
        "colab": {
          "base_uri": "https://localhost:8080/"
        },
        "id": "aY9WdANw-wqo",
        "outputId": "2868e5f9-a2c8-443a-99c1-18dc99ba994c"
      },
      "execution_count": 42,
      "outputs": [
        {
          "output_type": "stream",
          "name": "stdout",
          "text": [
            "97.23004235791213\n"
          ]
        }
      ]
    },
    {
      "cell_type": "markdown",
      "source": [
        "## **Explaination**"
      ],
      "metadata": {
        "id": "SBo38CJZjlEX"
      }
    },
    {
      "cell_type": "markdown",
      "source": [
        "This program aims to predict Bitcoin prices using a Decision Tree Regression model. Here's a breakdown:\n",
        "\n",
        "1. **Data**:\n",
        "\n",
        "    The dataset is loaded from a CSV file hosted on GitHub.\n",
        "    It contains various features like opening price, closing price, transaction volume, etc.\n",
        "\n",
        "2. **Exploration**:\n",
        "\n",
        "    The data is explored using functions like describe(), head(), tail(), and info() to understand its structure and characteristics.\n",
        "\n",
        "3. **Preprocessing**:\n",
        "\n",
        "    Missing values are checked using isnull().sum().\n",
        "    The dataset is split into target variable (y - highest price) and feature variables (x - all other columns).\n",
        "\n",
        "4. **Model Training**:\n",
        "\n",
        "    The data is split into training and testing sets using train_test_split().\n",
        "    A Decision Tree Regression model is created and trained on the training data.\n",
        "\n",
        "5. **Prediction and Evaluation**:\n",
        "\n",
        "    Predictions are made on the test data.\n",
        "    The model's accuracy is evaluated using mean absolute percentage error.\n",
        "\n",
        "In essence, the notebook demonstrates machine learning workflow for predicting Bitcoin prices using historical data."
      ],
      "metadata": {
        "id": "Ybi8FR9Kjv00"
      }
    }
  ]
}